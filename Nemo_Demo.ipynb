{
  "cells": [
    {
      "cell_type": "markdown",
      "metadata": {
        "id": "view-in-github",
        "colab_type": "text"
      },
      "source": [
        "<a href=\"https://colab.research.google.com/github/edwin-19/nemo_example/blob/master/Nemo_Demo.ipynb\" target=\"_parent\"><img src=\"https://colab.research.google.com/assets/colab-badge.svg\" alt=\"Open In Colab\"/></a>"
      ]
    },
    {
      "cell_type": "code",
      "execution_count": 1,
      "metadata": {
        "colab": {
          "base_uri": "https://localhost:8080/"
        },
        "id": "l4wH5f5mubD0",
        "outputId": "76f68b08-bf1a-4542-eca7-d0de30013b89"
      },
      "outputs": [
        {
          "output_type": "stream",
          "name": "stdout",
          "text": [
            "Hit:1 http://archive.ubuntu.com/ubuntu jammy InRelease\n",
            "Get:2 http://archive.ubuntu.com/ubuntu jammy-updates InRelease [119 kB]\n",
            "Get:3 http://security.ubuntu.com/ubuntu jammy-security InRelease [110 kB]\n",
            "Hit:4 https://developer.download.nvidia.com/compute/cuda/repos/ubuntu2204/x86_64  InRelease\n",
            "Get:5 http://archive.ubuntu.com/ubuntu jammy-backports InRelease [108 kB]\n",
            "Hit:6 https://ppa.launchpadcontent.net/deadsnakes/ppa/ubuntu jammy InRelease\n",
            "Hit:7 https://ppa.launchpadcontent.net/graphics-drivers/ppa/ubuntu jammy InRelease\n",
            "Hit:8 https://ppa.launchpadcontent.net/ubuntugis/ppa/ubuntu jammy InRelease\n",
            "Get:9 http://security.ubuntu.com/ubuntu jammy-security/universe amd64 Packages [954 kB]\n",
            "Get:10 http://security.ubuntu.com/ubuntu jammy-security/restricted amd64 Packages [734 kB]\n",
            "Get:11 http://security.ubuntu.com/ubuntu jammy-security/main amd64 Packages [731 kB]\n",
            "Fetched 2,756 kB in 2s (1,296 kB/s)\n",
            "Reading package lists... Done\n",
            "Reading package lists... Done\n",
            "Building dependency tree... Done\n",
            "Reading state information... Done\n",
            "libsndfile1 is already the newest version (1.0.31-2build1).\n",
            "ffmpeg is already the newest version (7:4.4.2-0ubuntu0.22.04.1).\n",
            "0 upgraded, 0 newly installed, 0 to remove and 8 not upgraded.\n",
            "Requirement already satisfied: Cython in /usr/local/lib/python3.10/dist-packages (0.29.36)\n",
            "Collecting datasets\n",
            "  Downloading datasets-2.13.1-py3-none-any.whl (486 kB)\n",
            "\u001b[2K     \u001b[90m━━━━━━━━━━━━━━━━━━━━━━━━━━━━━━━━━━━━━━━\u001b[0m \u001b[32m486.2/486.2 kB\u001b[0m \u001b[31m5.0 MB/s\u001b[0m eta \u001b[36m0:00:00\u001b[0m\n",
            "\u001b[?25hRequirement already satisfied: numpy>=1.17 in /usr/local/lib/python3.10/dist-packages (from datasets) (1.22.4)\n",
            "Requirement already satisfied: pyarrow>=8.0.0 in /usr/local/lib/python3.10/dist-packages (from datasets) (9.0.0)\n",
            "Collecting dill<0.3.7,>=0.3.0 (from datasets)\n",
            "  Downloading dill-0.3.6-py3-none-any.whl (110 kB)\n",
            "\u001b[2K     \u001b[90m━━━━━━━━━━━━━━━━━━━━━━━━━━━━━━━━━━━━━━━\u001b[0m \u001b[32m110.5/110.5 kB\u001b[0m \u001b[31m6.1 MB/s\u001b[0m eta \u001b[36m0:00:00\u001b[0m\n",
            "\u001b[?25hRequirement already satisfied: pandas in /usr/local/lib/python3.10/dist-packages (from datasets) (1.5.3)\n",
            "Requirement already satisfied: requests>=2.19.0 in /usr/local/lib/python3.10/dist-packages (from datasets) (2.27.1)\n",
            "Requirement already satisfied: tqdm>=4.62.1 in /usr/local/lib/python3.10/dist-packages (from datasets) (4.65.0)\n",
            "Collecting xxhash (from datasets)\n",
            "  Downloading xxhash-3.2.0-cp310-cp310-manylinux_2_17_x86_64.manylinux2014_x86_64.whl (212 kB)\n",
            "\u001b[2K     \u001b[90m━━━━━━━━━━━━━━━━━━━━━━━━━━━━━━━━━━━━━━━\u001b[0m \u001b[32m212.5/212.5 kB\u001b[0m \u001b[31m8.0 MB/s\u001b[0m eta \u001b[36m0:00:00\u001b[0m\n",
            "\u001b[?25hCollecting multiprocess (from datasets)\n",
            "  Downloading multiprocess-0.70.15-py310-none-any.whl (134 kB)\n",
            "\u001b[2K     \u001b[90m━━━━━━━━━━━━━━━━━━━━━━━━━━━━━━━━━━━━━━━\u001b[0m \u001b[32m134.8/134.8 kB\u001b[0m \u001b[31m5.9 MB/s\u001b[0m eta \u001b[36m0:00:00\u001b[0m\n",
            "\u001b[?25hRequirement already satisfied: fsspec[http]>=2021.11.1 in /usr/local/lib/python3.10/dist-packages (from datasets) (2023.6.0)\n",
            "Requirement already satisfied: aiohttp in /usr/local/lib/python3.10/dist-packages (from datasets) (3.8.4)\n",
            "Collecting huggingface-hub<1.0.0,>=0.11.0 (from datasets)\n",
            "  Downloading huggingface_hub-0.16.4-py3-none-any.whl (268 kB)\n",
            "\u001b[2K     \u001b[90m━━━━━━━━━━━━━━━━━━━━━━━━━━━━━━━━━━━━━━━\u001b[0m \u001b[32m268.8/268.8 kB\u001b[0m \u001b[31m8.1 MB/s\u001b[0m eta \u001b[36m0:00:00\u001b[0m\n",
            "\u001b[?25hRequirement already satisfied: packaging in /usr/local/lib/python3.10/dist-packages (from datasets) (23.1)\n",
            "Requirement already satisfied: pyyaml>=5.1 in /usr/local/lib/python3.10/dist-packages (from datasets) (6.0.1)\n",
            "Requirement already satisfied: attrs>=17.3.0 in /usr/local/lib/python3.10/dist-packages (from aiohttp->datasets) (23.1.0)\n",
            "Requirement already satisfied: charset-normalizer<4.0,>=2.0 in /usr/local/lib/python3.10/dist-packages (from aiohttp->datasets) (2.0.12)\n",
            "Requirement already satisfied: multidict<7.0,>=4.5 in /usr/local/lib/python3.10/dist-packages (from aiohttp->datasets) (6.0.4)\n",
            "Requirement already satisfied: async-timeout<5.0,>=4.0.0a3 in /usr/local/lib/python3.10/dist-packages (from aiohttp->datasets) (4.0.2)\n",
            "Requirement already satisfied: yarl<2.0,>=1.0 in /usr/local/lib/python3.10/dist-packages (from aiohttp->datasets) (1.9.2)\n",
            "Requirement already satisfied: frozenlist>=1.1.1 in /usr/local/lib/python3.10/dist-packages (from aiohttp->datasets) (1.4.0)\n",
            "Requirement already satisfied: aiosignal>=1.1.2 in /usr/local/lib/python3.10/dist-packages (from aiohttp->datasets) (1.3.1)\n",
            "Requirement already satisfied: filelock in /usr/local/lib/python3.10/dist-packages (from huggingface-hub<1.0.0,>=0.11.0->datasets) (3.12.2)\n",
            "Requirement already satisfied: typing-extensions>=3.7.4.3 in /usr/local/lib/python3.10/dist-packages (from huggingface-hub<1.0.0,>=0.11.0->datasets) (4.7.1)\n",
            "Requirement already satisfied: urllib3<1.27,>=1.21.1 in /usr/local/lib/python3.10/dist-packages (from requests>=2.19.0->datasets) (1.26.16)\n",
            "Requirement already satisfied: certifi>=2017.4.17 in /usr/local/lib/python3.10/dist-packages (from requests>=2.19.0->datasets) (2023.5.7)\n",
            "Requirement already satisfied: idna<4,>=2.5 in /usr/local/lib/python3.10/dist-packages (from requests>=2.19.0->datasets) (3.4)\n",
            "INFO: pip is looking at multiple versions of multiprocess to determine which version is compatible with other requirements. This could take a while.\n",
            "Collecting multiprocess (from datasets)\n",
            "  Downloading multiprocess-0.70.14-py310-none-any.whl (134 kB)\n",
            "\u001b[2K     \u001b[90m━━━━━━━━━━━━━━━━━━━━━━━━━━━━━━━━━━━━━━━\u001b[0m \u001b[32m134.3/134.3 kB\u001b[0m \u001b[31m7.8 MB/s\u001b[0m eta \u001b[36m0:00:00\u001b[0m\n",
            "\u001b[?25hRequirement already satisfied: python-dateutil>=2.8.1 in /usr/local/lib/python3.10/dist-packages (from pandas->datasets) (2.8.2)\n",
            "Requirement already satisfied: pytz>=2020.1 in /usr/local/lib/python3.10/dist-packages (from pandas->datasets) (2022.7.1)\n",
            "Requirement already satisfied: six>=1.5 in /usr/local/lib/python3.10/dist-packages (from python-dateutil>=2.8.1->pandas->datasets) (1.16.0)\n",
            "Installing collected packages: xxhash, dill, multiprocess, huggingface-hub, datasets\n",
            "Successfully installed datasets-2.13.1 dill-0.3.6 huggingface-hub-0.16.4 multiprocess-0.70.14 xxhash-3.2.0\n",
            "Collecting jiwer\n",
            "  Downloading jiwer-3.0.2-py3-none-any.whl (21 kB)\n",
            "Requirement already satisfied: click<9.0.0,>=8.1.3 in /usr/local/lib/python3.10/dist-packages (from jiwer) (8.1.6)\n",
            "Collecting rapidfuzz==2.13.7 (from jiwer)\n",
            "  Downloading rapidfuzz-2.13.7-cp310-cp310-manylinux_2_17_x86_64.manylinux2014_x86_64.whl (2.2 MB)\n",
            "\u001b[2K     \u001b[90m━━━━━━━━━━━━━━━━━━━━━━━━━━━━━━━━━━━━━━━━\u001b[0m \u001b[32m2.2/2.2 MB\u001b[0m \u001b[31m22.7 MB/s\u001b[0m eta \u001b[36m0:00:00\u001b[0m\n",
            "\u001b[?25hInstalling collected packages: rapidfuzz, jiwer\n",
            "Successfully installed jiwer-3.0.2 rapidfuzz-2.13.7\n"
          ]
        }
      ],
      "source": [
        "!apt-get update && apt-get install -y libsndfile1 ffmpeg\n",
        "!pip install Cython\n",
        "!pip install datasets\n",
        "!pip install jiwer"
      ]
    },
    {
      "cell_type": "code",
      "execution_count": 2,
      "metadata": {
        "colab": {
          "base_uri": "https://localhost:8080/"
        },
        "id": "R5GSSs5z5ynz",
        "outputId": "02e14c9b-b493-48cc-b358-ea1a9b698c93"
      },
      "outputs": [
        {
          "output_type": "stream",
          "name": "stdout",
          "text": [
            "\u001b[33mDEPRECATION: git+https://github.com/NVIDIA/NeMo.git@main#egg=nemo_toolkit[all] contains an egg fragment with a non-PEP 508 name pip 25.0 will enforce this behaviour change. A possible replacement is to use the req @ url syntax, and remove the egg fragment. Discussion can be found at https://github.com/pypa/pip/issues/11617\u001b[0m\u001b[33m\n",
            "\u001b[0mCollecting nemo_toolkit[all]\n",
            "  Cloning https://github.com/NVIDIA/NeMo.git (to revision main) to /tmp/pip-install-rwcyeuj4/nemo-toolkit_05ddddaa89ad4020b3203e54b4de094b\n",
            "  Running command git clone --filter=blob:none --quiet https://github.com/NVIDIA/NeMo.git /tmp/pip-install-rwcyeuj4/nemo-toolkit_05ddddaa89ad4020b3203e54b4de094b\n",
            "  Resolved https://github.com/NVIDIA/NeMo.git to commit 00eeb29dd9e1cf7a0b1bbc0d64bd14143453eabe\n",
            "  Installing build dependencies ... \u001b[?25l\u001b[?25hdone\n",
            "  Getting requirements to build wheel ... \u001b[?25l\u001b[?25hdone\n",
            "  Preparing metadata (pyproject.toml) ... \u001b[?25l\u001b[?25hdone\n",
            "Requirement already satisfied: huggingface-hub in /usr/local/lib/python3.10/dist-packages (from nemo_toolkit[all]) (0.16.4)\n",
            "Requirement already satisfied: numba in /usr/local/lib/python3.10/dist-packages (from nemo_toolkit[all]) (0.56.4)\n",
            "Requirement already satisfied: numpy<1.24,>=1.22 in /usr/local/lib/python3.10/dist-packages (from nemo_toolkit[all]) (1.22.4)\n",
            "Collecting onnx>=1.7.0 (from nemo_toolkit[all])\n",
            "  Downloading onnx-1.14.0-cp310-cp310-manylinux_2_17_x86_64.manylinux2014_x86_64.whl (14.6 MB)\n",
            "\u001b[2K     \u001b[90m━━━━━━━━━━━━━━━━━━━━━━━━━━━━━━━━━━━━━━━━\u001b[0m \u001b[32m14.6/14.6 MB\u001b[0m \u001b[31m61.3 MB/s\u001b[0m eta \u001b[36m0:00:00\u001b[0m\n",
            "\u001b[?25hRequirement already satisfied: python-dateutil in /usr/local/lib/python3.10/dist-packages (from nemo_toolkit[all]) (2.8.2)\n",
            "Collecting ruamel.yaml (from nemo_toolkit[all])\n",
            "  Downloading ruamel.yaml-0.17.32-py3-none-any.whl (112 kB)\n",
            "\u001b[2K     \u001b[90m━━━━━━━━━━━━━━━━━━━━━━━━━━━━━━━━━━━━━━━\u001b[0m \u001b[32m112.2/112.2 kB\u001b[0m \u001b[31m8.6 MB/s\u001b[0m eta \u001b[36m0:00:00\u001b[0m\n",
            "\u001b[?25hRequirement already satisfied: scikit-learn in /usr/local/lib/python3.10/dist-packages (from nemo_toolkit[all]) (1.2.2)\n",
            "Collecting setuptools==65.5.1 (from nemo_toolkit[all])\n",
            "  Downloading setuptools-65.5.1-py3-none-any.whl (1.2 MB)\n",
            "\u001b[2K     \u001b[90m━━━━━━━━━━━━━━━━━━━━━━━━━━━━━━━━━━━━━━━━\u001b[0m \u001b[32m1.2/1.2 MB\u001b[0m \u001b[31m54.3 MB/s\u001b[0m eta \u001b[36m0:00:00\u001b[0m\n",
            "\u001b[?25hRequirement already satisfied: tensorboard in /usr/local/lib/python3.10/dist-packages (from nemo_toolkit[all]) (2.12.3)\n",
            "Requirement already satisfied: text-unidecode in /usr/local/lib/python3.10/dist-packages (from nemo_toolkit[all]) (1.3)\n",
            "Requirement already satisfied: torch in /usr/local/lib/python3.10/dist-packages (from nemo_toolkit[all]) (2.0.1+cu118)\n",
            "Requirement already satisfied: tqdm>=4.41.0 in /usr/local/lib/python3.10/dist-packages (from nemo_toolkit[all]) (4.65.0)\n",
            "Collecting wget (from nemo_toolkit[all])\n",
            "  Downloading wget-3.2.zip (10 kB)\n",
            "  Preparing metadata (setup.py) ... \u001b[?25l\u001b[?25hdone\n",
            "Requirement already satisfied: wrapt in /usr/local/lib/python3.10/dist-packages (from nemo_toolkit[all]) (1.14.1)\n",
            "Collecting black==19.10b0 (from nemo_toolkit[all])\n",
            "  Downloading black-19.10b0-py36-none-any.whl (97 kB)\n",
            "\u001b[2K     \u001b[90m━━━━━━━━━━━━━━━━━━━━━━━━━━━━━━━━━━━━━━━━\u001b[0m \u001b[32m97.5/97.5 kB\u001b[0m \u001b[31m9.3 MB/s\u001b[0m eta \u001b[36m0:00:00\u001b[0m\n",
            "\u001b[?25hCollecting click==8.0.2 (from nemo_toolkit[all])\n",
            "  Downloading click-8.0.2-py3-none-any.whl (97 kB)\n",
            "\u001b[2K     \u001b[90m━━━━━━━━━━━━━━━━━━━━━━━━━━━━━━━━━━━━━━━━\u001b[0m \u001b[32m97.6/97.6 kB\u001b[0m \u001b[31m8.2 MB/s\u001b[0m eta \u001b[36m0:00:00\u001b[0m\n",
            "\u001b[?25hCollecting isort<6.0.0,>5.1.0 (from nemo_toolkit[all])\n",
            "  Downloading isort-5.12.0-py3-none-any.whl (91 kB)\n",
            "\u001b[2K     \u001b[90m━━━━━━━━━━━━━━━━━━━━━━━━━━━━━━━━━━━━━━━━\u001b[0m \u001b[32m91.2/91.2 kB\u001b[0m \u001b[31m7.8 MB/s\u001b[0m eta \u001b[36m0:00:00\u001b[0m\n",
            "\u001b[?25hCollecting parameterized (from nemo_toolkit[all])\n",
            "  Downloading parameterized-0.9.0-py2.py3-none-any.whl (20 kB)\n",
            "Requirement already satisfied: pytest in /usr/local/lib/python3.10/dist-packages (from nemo_toolkit[all]) (7.2.2)\n",
            "Collecting pytest-runner (from nemo_toolkit[all])\n",
            "  Downloading pytest_runner-6.0.0-py3-none-any.whl (7.2 kB)\n",
            "Requirement already satisfied: sphinx in /usr/local/lib/python3.10/dist-packages (from nemo_toolkit[all]) (3.5.4)\n",
            "Collecting sphinxcontrib-bibtex (from nemo_toolkit[all])\n",
            "  Downloading sphinxcontrib_bibtex-2.5.0-py3-none-any.whl (39 kB)\n",
            "Collecting wandb (from nemo_toolkit[all])\n",
            "  Downloading wandb-0.15.5-py3-none-any.whl (2.1 MB)\n",
            "\u001b[2K     \u001b[90m━━━━━━━━━━━━━━━━━━━━━━━━━━━━━━━━━━━━━━━━\u001b[0m \u001b[32m2.1/2.1 MB\u001b[0m \u001b[31m60.7 MB/s\u001b[0m eta \u001b[36m0:00:00\u001b[0m\n",
            "\u001b[?25hCollecting hydra-core<1.3,>=1.2.0 (from nemo_toolkit[all])\n",
            "  Downloading hydra_core-1.2.0-py3-none-any.whl (151 kB)\n",
            "\u001b[2K     \u001b[90m━━━━━━━━━━━━━━━━━━━━━━━━━━━━━━━━━━━━━━\u001b[0m \u001b[32m151.1/151.1 kB\u001b[0m \u001b[31m12.2 MB/s\u001b[0m eta \u001b[36m0:00:00\u001b[0m\n",
            "\u001b[?25hCollecting omegaconf<2.3,>=2.2 (from nemo_toolkit[all])\n",
            "  Downloading omegaconf-2.2.3-py3-none-any.whl (79 kB)\n",
            "\u001b[2K     \u001b[90m━━━━━━━━━━━━━━━━━━━━━━━━━━━━━━━━━━━━━━━━\u001b[0m \u001b[32m79.3/79.3 kB\u001b[0m \u001b[31m8.1 MB/s\u001b[0m eta \u001b[36m0:00:00\u001b[0m\n",
            "\u001b[?25hCollecting pytorch-lightning<=1.9.4,>=1.9.0 (from nemo_toolkit[all])\n",
            "  Downloading pytorch_lightning-1.9.4-py3-none-any.whl (827 kB)\n",
            "\u001b[2K     \u001b[90m━━━━━━━━━━━━━━━━━━━━━━━━━━━━━━━━━━━━━━\u001b[0m \u001b[32m827.8/827.8 kB\u001b[0m \u001b[31m46.7 MB/s\u001b[0m eta \u001b[36m0:00:00\u001b[0m\n",
            "\u001b[?25hCollecting torchmetrics>=0.11.0 (from nemo_toolkit[all])\n",
            "  Downloading torchmetrics-1.0.1-py3-none-any.whl (729 kB)\n",
            "\u001b[2K     \u001b[90m━━━━━━━━━━━━━━━━━━━━━━━━━━━━━━━━━━━━━━\u001b[0m \u001b[32m729.2/729.2 kB\u001b[0m \u001b[31m44.7 MB/s\u001b[0m eta \u001b[36m0:00:00\u001b[0m\n",
            "\u001b[?25hCollecting transformers>=4.0.1 (from nemo_toolkit[all])\n",
            "  Downloading transformers-4.31.0-py3-none-any.whl (7.4 MB)\n",
            "\u001b[2K     \u001b[90m━━━━━━━━━━━━━━━━━━━━━━━━━━━━━━━━━━━━━━━━\u001b[0m \u001b[32m7.4/7.4 MB\u001b[0m \u001b[31m76.1 MB/s\u001b[0m eta \u001b[36m0:00:00\u001b[0m\n",
            "\u001b[?25hCollecting webdataset<=0.1.62,>=0.1.48 (from nemo_toolkit[all])\n",
            "  Downloading webdataset-0.1.62-py3-none-any.whl (32 kB)\n",
            "Requirement already satisfied: inflect in /usr/local/lib/python3.10/dist-packages (from nemo_toolkit[all]) (6.0.5)\n",
            "Requirement already satisfied: pandas in /usr/local/lib/python3.10/dist-packages (from nemo_toolkit[all]) (1.5.3)\n",
            "Requirement already satisfied: pydantic<2 in /usr/local/lib/python3.10/dist-packages (from nemo_toolkit[all]) (1.10.11)\n",
            "Collecting sacremoses>=0.0.43 (from nemo_toolkit[all])\n",
            "  Downloading sacremoses-0.0.53.tar.gz (880 kB)\n",
            "\u001b[2K     \u001b[90m━━━━━━━━━━━━━━━━━━━━━━━━━━━━━━━━━━━━━━\u001b[0m \u001b[32m880.6/880.6 kB\u001b[0m \u001b[31m51.4 MB/s\u001b[0m eta \u001b[36m0:00:00\u001b[0m\n",
            "\u001b[?25h  Preparing metadata (setup.py) ... \u001b[?25l\u001b[?25hdone\n",
            "Collecting sentencepiece<1.0.0 (from nemo_toolkit[all])\n",
            "  Downloading sentencepiece-0.1.99-cp310-cp310-manylinux_2_17_x86_64.manylinux2014_x86_64.whl (1.3 MB)\n",
            "\u001b[2K     \u001b[90m━━━━━━━━━━━━━━━━━━━━━━━━━━━━━━━━━━━━━━━━\u001b[0m \u001b[32m1.3/1.3 MB\u001b[0m \u001b[31m54.4 MB/s\u001b[0m eta \u001b[36m0:00:00\u001b[0m\n",
            "\u001b[?25hCollecting youtokentome>=1.0.5 (from nemo_toolkit[all])\n",
            "  Downloading youtokentome-1.0.6.tar.gz (86 kB)\n",
            "\u001b[2K     \u001b[90m━━━━━━━━━━━━━━━━━━━━━━━━━━━━━━━━━━━━━━━━\u001b[0m \u001b[32m86.7/86.7 kB\u001b[0m \u001b[31m7.5 MB/s\u001b[0m eta \u001b[36m0:00:00\u001b[0m\n",
            "\u001b[?25h  Preparing metadata (setup.py) ... \u001b[?25l\u001b[?25hdone\n",
            "Collecting braceexpand (from nemo_toolkit[all])\n",
            "  Downloading braceexpand-0.1.7-py2.py3-none-any.whl (5.9 kB)\n",
            "Requirement already satisfied: editdistance in /usr/local/lib/python3.10/dist-packages (from nemo_toolkit[all]) (0.6.2)\n",
            "Collecting g2p-en (from nemo_toolkit[all])\n",
            "  Downloading g2p_en-2.1.0-py3-none-any.whl (3.1 MB)\n",
            "\u001b[2K     \u001b[90m━━━━━━━━━━━━━━━━━━━━━━━━━━━━━━━━━━━━━━━━\u001b[0m \u001b[32m3.1/3.1 MB\u001b[0m \u001b[31m64.7 MB/s\u001b[0m eta \u001b[36m0:00:00\u001b[0m\n",
            "\u001b[?25hRequirement already satisfied: ipywidgets in /usr/local/lib/python3.10/dist-packages (from nemo_toolkit[all]) (7.7.1)\n",
            "Requirement already satisfied: jiwer in /usr/local/lib/python3.10/dist-packages (from nemo_toolkit[all]) (3.0.2)\n",
            "Collecting kaldi-python-io (from nemo_toolkit[all])\n",
            "  Downloading kaldi-python-io-1.2.2.tar.gz (8.8 kB)\n",
            "  Preparing metadata (setup.py) ... \u001b[?25l\u001b[?25hdone\n",
            "Collecting kaldiio (from nemo_toolkit[all])\n",
            "  Downloading kaldiio-2.18.0-py3-none-any.whl (28 kB)\n",
            "Requirement already satisfied: librosa>=0.9.0 in /usr/local/lib/python3.10/dist-packages (from nemo_toolkit[all]) (0.10.0.post2)\n",
            "Collecting marshmallow (from nemo_toolkit[all])\n",
            "  Downloading marshmallow-3.20.1-py3-none-any.whl (49 kB)\n",
            "\u001b[2K     \u001b[90m━━━━━━━━━━━━━━━━━━━━━━━━━━━━━━━━━━━━━━━━\u001b[0m \u001b[32m49.4/49.4 kB\u001b[0m \u001b[31m4.3 MB/s\u001b[0m eta \u001b[36m0:00:00\u001b[0m\n",
            "\u001b[?25hRequirement already satisfied: matplotlib in /usr/local/lib/python3.10/dist-packages (from nemo_toolkit[all]) (3.7.1)\n",
            "Requirement already satisfied: packaging in /usr/local/lib/python3.10/dist-packages (from nemo_toolkit[all]) (23.1)\n",
            "Collecting pyannote.core (from nemo_toolkit[all])\n",
            "  Downloading pyannote.core-5.0.0-py3-none-any.whl (58 kB)\n",
            "\u001b[2K     \u001b[90m━━━━━━━━━━━━━━━━━━━━━━━━━━━━━━━━━━━━━━━━\u001b[0m \u001b[32m58.5/58.5 kB\u001b[0m \u001b[31m5.3 MB/s\u001b[0m eta \u001b[36m0:00:00\u001b[0m\n",
            "\u001b[?25hCollecting pyannote.metrics (from nemo_toolkit[all])\n",
            "  Downloading pyannote.metrics-3.2.1-py3-none-any.whl (51 kB)\n",
            "\u001b[2K     \u001b[90m━━━━━━━━━━━━━━━━━━━━━━━━━━━━━━━━━━━━━━━━\u001b[0m \u001b[32m51.4/51.4 kB\u001b[0m \u001b[31m3.6 MB/s\u001b[0m eta \u001b[36m0:00:00\u001b[0m\n",
            "\u001b[?25hCollecting pydub (from nemo_toolkit[all])\n",
            "  Downloading pydub-0.25.1-py2.py3-none-any.whl (32 kB)\n",
            "Requirement already satisfied: scipy>=0.14 in /usr/local/lib/python3.10/dist-packages (from nemo_toolkit[all]) (1.10.1)\n",
            "Requirement already satisfied: soundfile in /usr/local/lib/python3.10/dist-packages (from nemo_toolkit[all]) (0.12.1)\n",
            "Collecting sox (from nemo_toolkit[all])\n",
            "  Downloading sox-1.4.1-py2.py3-none-any.whl (39 kB)\n",
            "Collecting texterrors (from nemo_toolkit[all])\n",
            "  Downloading texterrors-0.4.4-cp310-cp310-manylinux_2_17_x86_64.manylinux2014_x86_64.whl (1.1 MB)\n",
            "\u001b[2K     \u001b[90m━━━━━━━━━━━━━━━━━━━━━━━━━━━━━━━━━━━━━━━━\u001b[0m \u001b[32m1.1/1.1 MB\u001b[0m \u001b[31m44.7 MB/s\u001b[0m eta \u001b[36m0:00:00\u001b[0m\n",
            "\u001b[?25hCollecting boto3 (from nemo_toolkit[all])\n",
            "  Downloading boto3-1.28.9-py3-none-any.whl (135 kB)\n",
            "\u001b[2K     \u001b[90m━━━━━━━━━━━━━━━━━━━━━━━━━━━━━━━━━━━━━━\u001b[0m \u001b[32m135.7/135.7 kB\u001b[0m \u001b[31m10.8 MB/s\u001b[0m eta \u001b[36m0:00:00\u001b[0m\n",
            "\u001b[?25hCollecting einops (from nemo_toolkit[all])\n",
            "  Downloading einops-0.6.1-py3-none-any.whl (42 kB)\n",
            "\u001b[2K     \u001b[90m━━━━━━━━━━━━━━━━━━━━━━━━━━━━━━━━━━━━━━━━\u001b[0m \u001b[32m42.2/42.2 kB\u001b[0m \u001b[31m2.9 MB/s\u001b[0m eta \u001b[36m0:00:00\u001b[0m\n",
            "\u001b[?25hCollecting faiss-cpu (from nemo_toolkit[all])\n",
            "  Downloading faiss_cpu-1.7.4-cp310-cp310-manylinux_2_17_x86_64.manylinux2014_x86_64.whl (17.6 MB)\n",
            "\u001b[2K     \u001b[90m━━━━━━━━━━━━━━━━━━━━━━━━━━━━━━━━━━━━━━━━\u001b[0m \u001b[32m17.6/17.6 MB\u001b[0m \u001b[31m62.9 MB/s\u001b[0m eta \u001b[36m0:00:00\u001b[0m\n",
            "\u001b[?25hCollecting fasttext (from nemo_toolkit[all])\n",
            "  Downloading fasttext-0.9.2.tar.gz (68 kB)\n",
            "\u001b[2K     \u001b[90m━━━━━━━━━━━━━━━━━━━━━━━━━━━━━━━━━━━━━━━━\u001b[0m \u001b[32m68.8/68.8 kB\u001b[0m \u001b[31m6.6 MB/s\u001b[0m eta \u001b[36m0:00:00\u001b[0m\n",
            "\u001b[?25h  Preparing metadata (setup.py) ... \u001b[?25l\u001b[?25hdone\n",
            "Collecting flask-restful (from nemo_toolkit[all])\n",
            "  Downloading Flask_RESTful-0.3.10-py2.py3-none-any.whl (26 kB)\n",
            "Collecting ftfy (from nemo_toolkit[all])\n",
            "  Downloading ftfy-6.1.1-py3-none-any.whl (53 kB)\n",
            "\u001b[2K     \u001b[90m━━━━━━━━━━━━━━━━━━━━━━━━━━━━━━━━━━━━━━━━\u001b[0m \u001b[32m53.1/53.1 kB\u001b[0m \u001b[31m4.9 MB/s\u001b[0m eta \u001b[36m0:00:00\u001b[0m\n",
            "\u001b[?25hRequirement already satisfied: gdown in /usr/local/lib/python3.10/dist-packages (from nemo_toolkit[all]) (4.6.6)\n",
            "Requirement already satisfied: h5py in /usr/local/lib/python3.10/dist-packages (from nemo_toolkit[all]) (3.8.0)\n",
            "Collecting ijson (from nemo_toolkit[all])\n",
            "  Downloading ijson-3.2.3-cp310-cp310-manylinux_2_17_x86_64.manylinux2014_x86_64.whl (111 kB)\n",
            "\u001b[2K     \u001b[90m━━━━━━━━━━━━━━━━━━━━━━━━━━━━━━━━━━━━━━━\u001b[0m \u001b[32m111.8/111.8 kB\u001b[0m \u001b[31m2.8 MB/s\u001b[0m eta \u001b[36m0:00:00\u001b[0m\n",
            "\u001b[?25hRequirement already satisfied: jieba in /usr/local/lib/python3.10/dist-packages (from nemo_toolkit[all]) (0.42.1)\n",
            "Collecting markdown2 (from nemo_toolkit[all])\n",
            "  Downloading markdown2-2.4.9-py2.py3-none-any.whl (39 kB)\n",
            "Collecting megatron-core==0.2.0 (from nemo_toolkit[all])\n",
            "  Downloading megatron_core-0.2.0-py3-none-any.whl (46 kB)\n",
            "\u001b[2K     \u001b[90m━━━━━━━━━━━━━━━━━━━━━━━━━━━━━━━━━━━━━━━━\u001b[0m \u001b[32m46.0/46.0 kB\u001b[0m \u001b[31m4.7 MB/s\u001b[0m eta \u001b[36m0:00:00\u001b[0m\n",
            "\u001b[?25hRequirement already satisfied: nltk>=3.6.5 in /usr/local/lib/python3.10/dist-packages (from nemo_toolkit[all]) (3.8.1)\n",
            "Collecting opencc (from nemo_toolkit[all])\n",
            "  Downloading OpenCC-1.1.6-cp310-cp310-manylinux1_x86_64.whl (778 kB)\n",
            "\u001b[2K     \u001b[90m━━━━━━━━━━━━━━━━━━━━━━━━━━━━━━━━━━━━━━\u001b[0m \u001b[32m778.3/778.3 kB\u001b[0m \u001b[31m48.5 MB/s\u001b[0m eta \u001b[36m0:00:00\u001b[0m\n",
            "\u001b[?25hCollecting pangu (from nemo_toolkit[all])\n",
            "  Downloading pangu-4.0.6.1-py3-none-any.whl (6.4 kB)\n",
            "Requirement already satisfied: rapidfuzz in /usr/local/lib/python3.10/dist-packages (from nemo_toolkit[all]) (2.13.7)\n",
            "Collecting rouge-score (from nemo_toolkit[all])\n",
            "  Downloading rouge_score-0.1.2.tar.gz (17 kB)\n",
            "  Preparing metadata (setup.py) ... \u001b[?25l\u001b[?25hdone\n",
            "Collecting sacrebleu[ja] (from nemo_toolkit[all])\n",
            "  Downloading sacrebleu-2.3.1-py3-none-any.whl (118 kB)\n",
            "\u001b[2K     \u001b[90m━━━━━━━━━━━━━━━━━━━━━━━━━━━━━━━━━━━━━━\u001b[0m \u001b[32m118.9/118.9 kB\u001b[0m \u001b[31m11.3 MB/s\u001b[0m eta \u001b[36m0:00:00\u001b[0m\n",
            "\u001b[?25hCollecting sentence-transformers (from nemo_toolkit[all])\n",
            "  Downloading sentence-transformers-2.2.2.tar.gz (85 kB)\n",
            "\u001b[2K     \u001b[90m━━━━━━━━━━━━━━━━━━━━━━━━━━━━━━━━━━━━━━━━\u001b[0m \u001b[32m86.0/86.0 kB\u001b[0m \u001b[31m8.3 MB/s\u001b[0m eta \u001b[36m0:00:00\u001b[0m\n",
            "\u001b[?25h  Preparing metadata (setup.py) ... \u001b[?25l\u001b[?25hdone\n",
            "Collecting attrdict (from nemo_toolkit[all])\n",
            "  Downloading attrdict-2.0.1-py2.py3-none-any.whl (9.9 kB)\n",
            "Collecting kornia (from nemo_toolkit[all])\n",
            "  Downloading kornia-0.6.12-py2.py3-none-any.whl (653 kB)\n",
            "\u001b[2K     \u001b[90m━━━━━━━━━━━━━━━━━━━━━━━━━━━━━━━━━━━━━━\u001b[0m \u001b[32m653.4/653.4 kB\u001b[0m \u001b[31m40.3 MB/s\u001b[0m eta \u001b[36m0:00:00\u001b[0m\n",
            "\u001b[?25hCollecting nemo-text-processing (from nemo_toolkit[all])\n",
            "  Downloading nemo_text_processing-0.1.8rc0-py3-none-any.whl (2.3 MB)\n",
            "\u001b[2K     \u001b[90m━━━━━━━━━━━━━━━━━━━━━━━━━━━━━━━━━━━━━━━━\u001b[0m \u001b[32m2.3/2.3 MB\u001b[0m \u001b[31m78.8 MB/s\u001b[0m eta \u001b[36m0:00:00\u001b[0m\n",
            "\u001b[?25hCollecting pypinyin (from nemo_toolkit[all])\n",
            "  Downloading pypinyin-0.49.0-py2.py3-none-any.whl (1.4 MB)\n",
            "\u001b[2K     \u001b[90m━━━━━━━━━━━━━━━━━━━━━━━━━━━━━━━━━━━━━━━━\u001b[0m \u001b[32m1.4/1.4 MB\u001b[0m \u001b[31m66.4 MB/s\u001b[0m eta \u001b[36m0:00:00\u001b[0m\n",
            "\u001b[?25hCollecting pypinyin-dict (from nemo_toolkit[all])\n",
            "  Downloading pypinyin_dict-0.6.0-py2.py3-none-any.whl (9.5 MB)\n",
            "\u001b[2K     \u001b[90m━━━━━━━━━━━━━━━━━━━━━━━━━━━━━━━━━━━━━━━━\u001b[0m \u001b[32m9.5/9.5 MB\u001b[0m \u001b[31m71.2 MB/s\u001b[0m eta \u001b[36m0:00:00\u001b[0m\n",
            "\u001b[?25hCollecting progress>=1.5 (from nemo_toolkit[all])\n",
            "  Downloading progress-1.6.tar.gz (7.8 kB)\n",
            "  Preparing metadata (setup.py) ... \u001b[?25l\u001b[?25hdone\n",
            "Requirement already satisfied: tabulate>=0.8.7 in /usr/local/lib/python3.10/dist-packages (from nemo_toolkit[all]) (0.9.0)\n",
            "Collecting textdistance>=4.1.5 (from nemo_toolkit[all])\n",
            "  Downloading textdistance-4.5.0-py3-none-any.whl (31 kB)\n",
            "Requirement already satisfied: attrs>=18.1.0 in /usr/local/lib/python3.10/dist-packages (from black==19.10b0->nemo_toolkit[all]) (23.1.0)\n",
            "Requirement already satisfied: appdirs in /usr/local/lib/python3.10/dist-packages (from black==19.10b0->nemo_toolkit[all]) (1.4.4)\n",
            "Requirement already satisfied: toml>=0.9.4 in /usr/local/lib/python3.10/dist-packages (from black==19.10b0->nemo_toolkit[all]) (0.10.2)\n",
            "Collecting typed-ast>=1.4.0 (from black==19.10b0->nemo_toolkit[all])\n",
            "  Downloading typed_ast-1.5.5-cp310-cp310-manylinux_2_17_x86_64.manylinux2014_x86_64.whl (824 kB)\n",
            "\u001b[2K     \u001b[90m━━━━━━━━━━━━━━━━━━━━━━━━━━━━━━━━━━━━━━\u001b[0m \u001b[32m824.7/824.7 kB\u001b[0m \u001b[31m41.3 MB/s\u001b[0m eta \u001b[36m0:00:00\u001b[0m\n",
            "\u001b[?25hRequirement already satisfied: regex in /usr/local/lib/python3.10/dist-packages (from black==19.10b0->nemo_toolkit[all]) (2022.10.31)\n",
            "Collecting pathspec<1,>=0.6 (from black==19.10b0->nemo_toolkit[all])\n",
            "  Downloading pathspec-0.11.1-py3-none-any.whl (29 kB)\n",
            "Collecting antlr4-python3-runtime==4.9.* (from hydra-core<1.3,>=1.2.0->nemo_toolkit[all])\n",
            "  Downloading antlr4-python3-runtime-4.9.3.tar.gz (117 kB)\n",
            "\u001b[2K     \u001b[90m━━━━━━━━━━━━━━━━━━━━━━━━━━━━━━━━━━━━━━\u001b[0m \u001b[32m117.0/117.0 kB\u001b[0m \u001b[31m10.6 MB/s\u001b[0m eta \u001b[36m0:00:00\u001b[0m\n",
            "\u001b[?25h  Preparing metadata (setup.py) ... \u001b[?25l\u001b[?25hdone\n",
            "INFO: pip is looking at multiple versions of jiwer to determine which version is compatible with other requirements. This could take a while.\n",
            "Collecting jiwer (from nemo_toolkit[all])\n",
            "  Downloading jiwer-3.0.1-py3-none-any.whl (21 kB)\n",
            "  Downloading jiwer-3.0.0-py3-none-any.whl (21 kB)\n",
            "  Downloading jiwer-2.6.0-py3-none-any.whl (20 kB)\n",
            "  Downloading jiwer-2.5.2-py3-none-any.whl (15 kB)\n",
            "Requirement already satisfied: audioread>=2.1.9 in /usr/local/lib/python3.10/dist-packages (from librosa>=0.9.0->nemo_toolkit[all]) (3.0.0)\n",
            "Requirement already satisfied: joblib>=0.14 in /usr/local/lib/python3.10/dist-packages (from librosa>=0.9.0->nemo_toolkit[all]) (1.3.1)\n",
            "Requirement already satisfied: decorator>=4.3.0 in /usr/local/lib/python3.10/dist-packages (from librosa>=0.9.0->nemo_toolkit[all]) (4.4.2)\n",
            "Requirement already satisfied: pooch<1.7,>=1.0 in /usr/local/lib/python3.10/dist-packages (from librosa>=0.9.0->nemo_toolkit[all]) (1.6.0)\n",
            "Requirement already satisfied: soxr>=0.3.2 in /usr/local/lib/python3.10/dist-packages (from librosa>=0.9.0->nemo_toolkit[all]) (0.3.5)\n",
            "Requirement already satisfied: typing-extensions>=4.1.1 in /usr/local/lib/python3.10/dist-packages (from librosa>=0.9.0->nemo_toolkit[all]) (4.7.1)\n",
            "Requirement already satisfied: lazy-loader>=0.1 in /usr/local/lib/python3.10/dist-packages (from librosa>=0.9.0->nemo_toolkit[all]) (0.3)\n",
            "Requirement already satisfied: msgpack>=1.0 in /usr/local/lib/python3.10/dist-packages (from librosa>=0.9.0->nemo_toolkit[all]) (1.0.5)\n",
            "Requirement already satisfied: contourpy>=1.0.1 in /usr/local/lib/python3.10/dist-packages (from matplotlib->nemo_toolkit[all]) (1.1.0)\n",
            "Requirement already satisfied: cycler>=0.10 in /usr/local/lib/python3.10/dist-packages (from matplotlib->nemo_toolkit[all]) (0.11.0)\n",
            "Requirement already satisfied: fonttools>=4.22.0 in /usr/local/lib/python3.10/dist-packages (from matplotlib->nemo_toolkit[all]) (4.41.0)\n",
            "Requirement already satisfied: kiwisolver>=1.0.1 in /usr/local/lib/python3.10/dist-packages (from matplotlib->nemo_toolkit[all]) (1.4.4)\n",
            "Requirement already satisfied: pillow>=6.2.0 in /usr/local/lib/python3.10/dist-packages (from matplotlib->nemo_toolkit[all]) (8.4.0)\n",
            "Requirement already satisfied: pyparsing>=2.3.1 in /usr/local/lib/python3.10/dist-packages (from matplotlib->nemo_toolkit[all]) (3.1.0)\n",
            "Requirement already satisfied: llvmlite<0.40,>=0.39.0dev0 in /usr/local/lib/python3.10/dist-packages (from numba->nemo_toolkit[all]) (0.39.1)\n",
            "Requirement already satisfied: PyYAML>=5.1.0 in /usr/local/lib/python3.10/dist-packages (from omegaconf<2.3,>=2.2->nemo_toolkit[all]) (6.0.1)\n",
            "Requirement already satisfied: protobuf>=3.20.2 in /usr/local/lib/python3.10/dist-packages (from onnx>=1.7.0->nemo_toolkit[all]) (3.20.3)\n",
            "Requirement already satisfied: six>=1.5 in /usr/local/lib/python3.10/dist-packages (from python-dateutil->nemo_toolkit[all]) (1.16.0)\n",
            "Requirement already satisfied: fsspec[http]>2021.06.0 in /usr/local/lib/python3.10/dist-packages (from pytorch-lightning<=1.9.4,>=1.9.0->nemo_toolkit[all]) (2023.6.0)\n",
            "Collecting lightning-utilities>=0.6.0.post0 (from pytorch-lightning<=1.9.4,>=1.9.0->nemo_toolkit[all])\n",
            "  Downloading lightning_utilities-0.9.0-py3-none-any.whl (23 kB)\n",
            "Requirement already satisfied: threadpoolctl>=2.0.0 in /usr/local/lib/python3.10/dist-packages (from scikit-learn->nemo_toolkit[all]) (3.2.0)\n",
            "Requirement already satisfied: cffi>=1.0 in /usr/local/lib/python3.10/dist-packages (from soundfile->nemo_toolkit[all]) (1.15.1)\n",
            "Requirement already satisfied: filelock in /usr/local/lib/python3.10/dist-packages (from torch->nemo_toolkit[all]) (3.12.2)\n",
            "Requirement already satisfied: sympy in /usr/local/lib/python3.10/dist-packages (from torch->nemo_toolkit[all]) (1.11.1)\n",
            "Requirement already satisfied: networkx in /usr/local/lib/python3.10/dist-packages (from torch->nemo_toolkit[all]) (3.1)\n",
            "Requirement already satisfied: jinja2 in /usr/local/lib/python3.10/dist-packages (from torch->nemo_toolkit[all]) (3.1.2)\n",
            "Requirement already satisfied: triton==2.0.0 in /usr/local/lib/python3.10/dist-packages (from torch->nemo_toolkit[all]) (2.0.0)\n",
            "Requirement already satisfied: cmake in /usr/local/lib/python3.10/dist-packages (from triton==2.0.0->torch->nemo_toolkit[all]) (3.25.2)\n",
            "Requirement already satisfied: lit in /usr/local/lib/python3.10/dist-packages (from triton==2.0.0->torch->nemo_toolkit[all]) (16.0.6)\n",
            "Requirement already satisfied: requests in /usr/local/lib/python3.10/dist-packages (from transformers>=4.0.1->nemo_toolkit[all]) (2.27.1)\n",
            "Collecting tokenizers!=0.11.3,<0.14,>=0.11.1 (from transformers>=4.0.1->nemo_toolkit[all])\n",
            "  Downloading tokenizers-0.13.3-cp310-cp310-manylinux_2_17_x86_64.manylinux2014_x86_64.whl (7.8 MB)\n",
            "\u001b[2K     \u001b[90m━━━━━━━━━━━━━━━━━━━━━━━━━━━━━━━━━━━━━━━━\u001b[0m \u001b[32m7.8/7.8 MB\u001b[0m \u001b[31m56.6 MB/s\u001b[0m eta \u001b[36m0:00:00\u001b[0m\n",
            "\u001b[?25hCollecting safetensors>=0.3.1 (from transformers>=4.0.1->nemo_toolkit[all])\n",
            "  Downloading safetensors-0.3.1-cp310-cp310-manylinux_2_17_x86_64.manylinux2014_x86_64.whl (1.3 MB)\n",
            "\u001b[2K     \u001b[90m━━━━━━━━━━━━━━━━━━━━━━━━━━━━━━━━━━━━━━━━\u001b[0m \u001b[32m1.3/1.3 MB\u001b[0m \u001b[31m44.7 MB/s\u001b[0m eta \u001b[36m0:00:00\u001b[0m\n",
            "\u001b[?25hCollecting botocore<1.32.0,>=1.31.9 (from boto3->nemo_toolkit[all])\n",
            "  Downloading botocore-1.31.9-py3-none-any.whl (11.0 MB)\n",
            "\u001b[2K     \u001b[90m━━━━━━━━━━━━━━━━━━━━━━━━━━━━━━━━━━━━━━━━\u001b[0m \u001b[32m11.0/11.0 MB\u001b[0m \u001b[31m77.9 MB/s\u001b[0m eta \u001b[36m0:00:00\u001b[0m\n",
            "\u001b[?25hCollecting jmespath<2.0.0,>=0.7.1 (from boto3->nemo_toolkit[all])\n",
            "  Downloading jmespath-1.0.1-py3-none-any.whl (20 kB)\n",
            "Collecting s3transfer<0.7.0,>=0.6.0 (from boto3->nemo_toolkit[all])\n",
            "  Downloading s3transfer-0.6.1-py3-none-any.whl (79 kB)\n",
            "\u001b[2K     \u001b[90m━━━━━━━━━━━━━━━━━━━━━━━━━━━━━━━━━━━━━━━━\u001b[0m \u001b[32m79.8/79.8 kB\u001b[0m \u001b[31m7.5 MB/s\u001b[0m eta \u001b[36m0:00:00\u001b[0m\n",
            "\u001b[?25hCollecting pybind11>=2.2 (from fasttext->nemo_toolkit[all])\n",
            "  Using cached pybind11-2.11.1-py3-none-any.whl (227 kB)\n",
            "Collecting aniso8601>=0.82 (from flask-restful->nemo_toolkit[all])\n",
            "  Downloading aniso8601-9.0.1-py2.py3-none-any.whl (52 kB)\n",
            "\u001b[2K     \u001b[90m━━━━━━━━━━━━━━━━━━━━━━━━━━━━━━━━━━━━━━━━\u001b[0m \u001b[32m52.8/52.8 kB\u001b[0m \u001b[31m4.7 MB/s\u001b[0m eta \u001b[36m0:00:00\u001b[0m\n",
            "\u001b[?25hRequirement already satisfied: Flask>=0.8 in /usr/local/lib/python3.10/dist-packages (from flask-restful->nemo_toolkit[all]) (2.2.5)\n",
            "Requirement already satisfied: pytz in /usr/local/lib/python3.10/dist-packages (from flask-restful->nemo_toolkit[all]) (2022.7.1)\n",
            "Requirement already satisfied: wcwidth>=0.2.5 in /usr/local/lib/python3.10/dist-packages (from ftfy->nemo_toolkit[all]) (0.2.6)\n",
            "Collecting distance>=0.1.3 (from g2p-en->nemo_toolkit[all])\n",
            "  Downloading Distance-0.1.3.tar.gz (180 kB)\n",
            "\u001b[2K     \u001b[90m━━━━━━━━━━━━━━━━━━━━━━━━━━━━━━━━━━━━━━\u001b[0m \u001b[32m180.3/180.3 kB\u001b[0m \u001b[31m15.8 MB/s\u001b[0m eta \u001b[36m0:00:00\u001b[0m\n",
            "\u001b[?25h  Preparing metadata (setup.py) ... \u001b[?25l\u001b[?25hdone\n",
            "Requirement already satisfied: beautifulsoup4 in /usr/local/lib/python3.10/dist-packages (from gdown->nemo_toolkit[all]) (4.11.2)\n",
            "Requirement already satisfied: ipykernel>=4.5.1 in /usr/local/lib/python3.10/dist-packages (from ipywidgets->nemo_toolkit[all]) (5.5.6)\n",
            "Requirement already satisfied: ipython-genutils~=0.2.0 in /usr/local/lib/python3.10/dist-packages (from ipywidgets->nemo_toolkit[all]) (0.2.0)\n",
            "Requirement already satisfied: traitlets>=4.3.1 in /usr/local/lib/python3.10/dist-packages (from ipywidgets->nemo_toolkit[all]) (5.7.1)\n",
            "Requirement already satisfied: widgetsnbextension~=3.6.0 in /usr/local/lib/python3.10/dist-packages (from ipywidgets->nemo_toolkit[all]) (3.6.4)\n",
            "Requirement already satisfied: ipython>=4.0.0 in /usr/local/lib/python3.10/dist-packages (from ipywidgets->nemo_toolkit[all]) (7.34.0)\n",
            "Requirement already satisfied: jupyterlab-widgets>=1.0.0 in /usr/local/lib/python3.10/dist-packages (from ipywidgets->nemo_toolkit[all]) (3.0.8)\n",
            "Collecting cdifflib (from nemo-text-processing->nemo_toolkit[all])\n",
            "  Downloading cdifflib-1.2.6.tar.gz (11 kB)\n",
            "  Installing build dependencies ... \u001b[?25l\u001b[?25hdone\n",
            "  Getting requirements to build wheel ... \u001b[?25l\u001b[?25hdone\n",
            "  Installing backend dependencies ... \u001b[?25l\u001b[?25hdone\n",
            "  Preparing metadata (pyproject.toml) ... \u001b[?25l\u001b[?25hdone\n",
            "Collecting pynini==2.1.5 (from nemo-text-processing->nemo_toolkit[all])\n",
            "  Downloading pynini-2.1.5-cp310-cp310-manylinux_2_17_x86_64.manylinux2014_x86_64.whl (161.3 MB)\n",
            "\u001b[2K     \u001b[90m━━━━━━━━━━━━━━━━━━━━━━━━━━━━━━━━━━━━━━━\u001b[0m \u001b[32m161.3/161.3 MB\u001b[0m \u001b[31m6.9 MB/s\u001b[0m eta \u001b[36m0:00:00\u001b[0m\n",
            "\u001b[?25hRequirement already satisfied: Cython>=0.29 in /usr/local/lib/python3.10/dist-packages (from pynini==2.1.5->nemo-text-processing->nemo_toolkit[all]) (0.29.36)\n",
            "Requirement already satisfied: sortedcontainers>=2.0.4 in /usr/local/lib/python3.10/dist-packages (from pyannote.core->nemo_toolkit[all]) (2.4.0)\n",
            "Collecting pyannote.database>=4.0.1 (from pyannote.metrics->nemo_toolkit[all])\n",
            "  Downloading pyannote.database-5.0.1-py3-none-any.whl (48 kB)\n",
            "\u001b[2K     \u001b[90m━━━━━━━━━━━━━━━━━━━━━━━━━━━━━━━━━━━━━━━━\u001b[0m \u001b[32m48.1/48.1 kB\u001b[0m \u001b[31m5.0 MB/s\u001b[0m eta \u001b[36m0:00:00\u001b[0m\n",
            "\u001b[?25hCollecting docopt>=0.6.2 (from pyannote.metrics->nemo_toolkit[all])\n",
            "  Downloading docopt-0.6.2.tar.gz (25 kB)\n",
            "  Preparing metadata (setup.py) ... \u001b[?25l\u001b[?25hdone\n",
            "Requirement already satisfied: iniconfig in /usr/local/lib/python3.10/dist-packages (from pytest->nemo_toolkit[all]) (2.0.0)\n",
            "Requirement already satisfied: pluggy<2.0,>=0.12 in /usr/local/lib/python3.10/dist-packages (from pytest->nemo_toolkit[all]) (1.2.0)\n",
            "Requirement already satisfied: exceptiongroup>=1.0.0rc8 in /usr/local/lib/python3.10/dist-packages (from pytest->nemo_toolkit[all]) (1.1.2)\n",
            "Requirement already satisfied: tomli>=1.0.0 in /usr/local/lib/python3.10/dist-packages (from pytest->nemo_toolkit[all]) (2.0.1)\n",
            "Requirement already satisfied: absl-py in /usr/local/lib/python3.10/dist-packages (from rouge-score->nemo_toolkit[all]) (1.4.0)\n",
            "Collecting ruamel.yaml.clib>=0.2.7 (from ruamel.yaml->nemo_toolkit[all])\n",
            "  Downloading ruamel.yaml.clib-0.2.7-cp310-cp310-manylinux_2_17_x86_64.manylinux2014_x86_64.manylinux_2_24_x86_64.whl (485 kB)\n",
            "\u001b[2K     \u001b[90m━━━━━━━━━━━━━━━━━━━━━━━━━━━━━━━━━━━━━━\u001b[0m \u001b[32m485.6/485.6 kB\u001b[0m \u001b[31m36.3 MB/s\u001b[0m eta \u001b[36m0:00:00\u001b[0m\n",
            "\u001b[?25hCollecting portalocker (from sacrebleu[ja]->nemo_toolkit[all])\n",
            "  Downloading portalocker-2.7.0-py2.py3-none-any.whl (15 kB)\n",
            "Collecting colorama (from sacrebleu[ja]->nemo_toolkit[all])\n",
            "  Downloading colorama-0.4.6-py2.py3-none-any.whl (25 kB)\n",
            "Requirement already satisfied: lxml in /usr/local/lib/python3.10/dist-packages (from sacrebleu[ja]->nemo_toolkit[all]) (4.9.3)\n",
            "Collecting mecab-python3==1.0.5 (from sacrebleu[ja]->nemo_toolkit[all])\n",
            "  Downloading mecab_python3-1.0.5-cp310-cp310-manylinux_2_17_x86_64.manylinux2014_x86_64.whl (581 kB)\n",
            "\u001b[2K     \u001b[90m━━━━━━━━━━━━━━━━━━━━━━━━━━━━━━━━━━━━━━\u001b[0m \u001b[32m581.1/581.1 kB\u001b[0m \u001b[31m41.2 MB/s\u001b[0m eta \u001b[36m0:00:00\u001b[0m\n",
            "\u001b[?25hCollecting ipadic<2.0,>=1.0 (from sacrebleu[ja]->nemo_toolkit[all])\n",
            "  Downloading ipadic-1.0.0.tar.gz (13.4 MB)\n",
            "\u001b[2K     \u001b[90m━━━━━━━━━━━━━━━━━━━━━━━━━━━━━━━━━━━━━━━━\u001b[0m \u001b[32m13.4/13.4 MB\u001b[0m \u001b[31m73.1 MB/s\u001b[0m eta \u001b[36m0:00:00\u001b[0m\n",
            "\u001b[?25h  Preparing metadata (setup.py) ... \u001b[?25l\u001b[?25hdone\n",
            "Requirement already satisfied: torchvision in /usr/local/lib/python3.10/dist-packages (from sentence-transformers->nemo_toolkit[all]) (0.15.2+cu118)\n",
            "Requirement already satisfied: sphinxcontrib-applehelp in /usr/local/lib/python3.10/dist-packages (from sphinx->nemo_toolkit[all]) (1.0.4)\n",
            "Requirement already satisfied: sphinxcontrib-devhelp in /usr/local/lib/python3.10/dist-packages (from sphinx->nemo_toolkit[all]) (1.0.2)\n",
            "Requirement already satisfied: sphinxcontrib-jsmath in /usr/local/lib/python3.10/dist-packages (from sphinx->nemo_toolkit[all]) (1.0.1)\n",
            "Requirement already satisfied: sphinxcontrib-htmlhelp in /usr/local/lib/python3.10/dist-packages (from sphinx->nemo_toolkit[all]) (2.0.1)\n",
            "Requirement already satisfied: sphinxcontrib-serializinghtml in /usr/local/lib/python3.10/dist-packages (from sphinx->nemo_toolkit[all]) (1.1.5)\n",
            "Requirement already satisfied: sphinxcontrib-qthelp in /usr/local/lib/python3.10/dist-packages (from sphinx->nemo_toolkit[all]) (1.0.3)\n",
            "Requirement already satisfied: Pygments>=2.0 in /usr/local/lib/python3.10/dist-packages (from sphinx->nemo_toolkit[all]) (2.14.0)\n",
            "Requirement already satisfied: docutils<0.17,>=0.12 in /usr/local/lib/python3.10/dist-packages (from sphinx->nemo_toolkit[all]) (0.16)\n",
            "Requirement already satisfied: snowballstemmer>=1.1 in /usr/local/lib/python3.10/dist-packages (from sphinx->nemo_toolkit[all]) (2.2.0)\n",
            "Requirement already satisfied: babel>=1.3 in /usr/local/lib/python3.10/dist-packages (from sphinx->nemo_toolkit[all]) (2.12.1)\n",
            "Requirement already satisfied: alabaster<0.8,>=0.7 in /usr/local/lib/python3.10/dist-packages (from sphinx->nemo_toolkit[all]) (0.7.13)\n",
            "Requirement already satisfied: imagesize in /usr/local/lib/python3.10/dist-packages (from sphinx->nemo_toolkit[all]) (1.4.1)\n",
            "Collecting pybtex>=0.24 (from sphinxcontrib-bibtex->nemo_toolkit[all])\n",
            "  Downloading pybtex-0.24.0-py2.py3-none-any.whl (561 kB)\n",
            "\u001b[2K     \u001b[90m━━━━━━━━━━━━━━━━━━━━━━━━━━━━━━━━━━━━━━\u001b[0m \u001b[32m561.4/561.4 kB\u001b[0m \u001b[31m39.9 MB/s\u001b[0m eta \u001b[36m0:00:00\u001b[0m\n",
            "\u001b[?25hCollecting pybtex-docutils>=1.0.0 (from sphinxcontrib-bibtex->nemo_toolkit[all])\n",
            "  Downloading pybtex_docutils-1.0.2-py3-none-any.whl (6.3 kB)\n",
            "Requirement already satisfied: grpcio>=1.48.2 in /usr/local/lib/python3.10/dist-packages (from tensorboard->nemo_toolkit[all]) (1.56.0)\n",
            "Requirement already satisfied: google-auth<3,>=1.6.3 in /usr/local/lib/python3.10/dist-packages (from tensorboard->nemo_toolkit[all]) (2.17.3)\n",
            "Requirement already satisfied: google-auth-oauthlib<1.1,>=0.5 in /usr/local/lib/python3.10/dist-packages (from tensorboard->nemo_toolkit[all]) (1.0.0)\n",
            "Requirement already satisfied: markdown>=2.6.8 in /usr/local/lib/python3.10/dist-packages (from tensorboard->nemo_toolkit[all]) (3.4.3)\n",
            "Requirement already satisfied: tensorboard-data-server<0.8.0,>=0.7.0 in /usr/local/lib/python3.10/dist-packages (from tensorboard->nemo_toolkit[all]) (0.7.1)\n",
            "Requirement already satisfied: werkzeug>=1.0.1 in /usr/local/lib/python3.10/dist-packages (from tensorboard->nemo_toolkit[all]) (2.3.6)\n",
            "Requirement already satisfied: wheel>=0.26 in /usr/local/lib/python3.10/dist-packages (from tensorboard->nemo_toolkit[all]) (0.40.0)\n",
            "Collecting plac (from texterrors->nemo_toolkit[all])\n",
            "  Downloading plac-1.3.5-py2.py3-none-any.whl (22 kB)\n",
            "Collecting loguru (from texterrors->nemo_toolkit[all])\n",
            "  Downloading loguru-0.7.0-py3-none-any.whl (59 kB)\n",
            "\u001b[2K     \u001b[90m━━━━━━━━━━━━━━━━━━━━━━━━━━━━━━━━━━━━━━━━\u001b[0m \u001b[32m60.0/60.0 kB\u001b[0m \u001b[31m6.2 MB/s\u001b[0m eta \u001b[36m0:00:00\u001b[0m\n",
            "\u001b[?25hRequirement already satisfied: termcolor in /usr/local/lib/python3.10/dist-packages (from texterrors->nemo_toolkit[all]) (2.3.0)\n",
            "Collecting Levenshtein (from texterrors->nemo_toolkit[all])\n",
            "  Downloading Levenshtein-0.21.1-cp310-cp310-manylinux_2_17_x86_64.manylinux2014_x86_64.whl (172 kB)\n",
            "\u001b[2K     \u001b[90m━━━━━━━━━━━━━━━━━━━━━━━━━━━━━━━━━━━━━━━\u001b[0m \u001b[32m172.5/172.5 kB\u001b[0m \u001b[31m1.3 MB/s\u001b[0m eta \u001b[36m0:00:00\u001b[0m\n",
            "\u001b[?25hCollecting GitPython!=3.1.29,>=1.0.0 (from wandb->nemo_toolkit[all])\n",
            "  Downloading GitPython-3.1.32-py3-none-any.whl (188 kB)\n",
            "\u001b[2K     \u001b[90m━━━━━━━━━━━━━━━━━━━━━━━━━━━━━━━━━━━━━━\u001b[0m \u001b[32m188.5/188.5 kB\u001b[0m \u001b[31m14.3 MB/s\u001b[0m eta \u001b[36m0:00:00\u001b[0m\n",
            "\u001b[?25hRequirement already satisfied: psutil>=5.0.0 in /usr/local/lib/python3.10/dist-packages (from wandb->nemo_toolkit[all]) (5.9.5)\n",
            "Collecting sentry-sdk>=1.0.0 (from wandb->nemo_toolkit[all])\n",
            "  Downloading sentry_sdk-1.28.1-py2.py3-none-any.whl (214 kB)\n",
            "\u001b[2K     \u001b[90m━━━━━━━━━━━━━━━━━━━━━━━━━━━━━━━━━━━━━━\u001b[0m \u001b[32m214.7/214.7 kB\u001b[0m \u001b[31m17.6 MB/s\u001b[0m eta \u001b[36m0:00:00\u001b[0m\n",
            "\u001b[?25hCollecting docker-pycreds>=0.4.0 (from wandb->nemo_toolkit[all])\n",
            "  Downloading docker_pycreds-0.4.0-py2.py3-none-any.whl (9.0 kB)\n",
            "Collecting pathtools (from wandb->nemo_toolkit[all])\n",
            "  Downloading pathtools-0.1.2.tar.gz (11 kB)\n",
            "  Preparing metadata (setup.py) ... \u001b[?25l\u001b[?25hdone\n",
            "Collecting setproctitle (from wandb->nemo_toolkit[all])\n",
            "  Downloading setproctitle-1.3.2-cp310-cp310-manylinux_2_5_x86_64.manylinux1_x86_64.manylinux_2_17_x86_64.manylinux2014_x86_64.whl (30 kB)\n",
            "Requirement already satisfied: urllib3<1.27,>=1.25.4 in /usr/local/lib/python3.10/dist-packages (from botocore<1.32.0,>=1.31.9->boto3->nemo_toolkit[all]) (1.26.16)\n",
            "Requirement already satisfied: pycparser in /usr/local/lib/python3.10/dist-packages (from cffi>=1.0->soundfile->nemo_toolkit[all]) (2.21)\n",
            "Requirement already satisfied: itsdangerous>=2.0 in /usr/local/lib/python3.10/dist-packages (from Flask>=0.8->flask-restful->nemo_toolkit[all]) (2.1.2)\n",
            "Requirement already satisfied: aiohttp!=4.0.0a0,!=4.0.0a1 in /usr/local/lib/python3.10/dist-packages (from fsspec[http]>2021.06.0->pytorch-lightning<=1.9.4,>=1.9.0->nemo_toolkit[all]) (3.8.4)\n",
            "Collecting gitdb<5,>=4.0.1 (from GitPython!=3.1.29,>=1.0.0->wandb->nemo_toolkit[all])\n",
            "  Downloading gitdb-4.0.10-py3-none-any.whl (62 kB)\n",
            "\u001b[2K     \u001b[90m━━━━━━━━━━━━━━━━━━━━━━━━━━━━━━━━━━━━━━━━\u001b[0m \u001b[32m62.7/62.7 kB\u001b[0m \u001b[31m5.7 MB/s\u001b[0m eta \u001b[36m0:00:00\u001b[0m\n",
            "\u001b[?25hRequirement already satisfied: cachetools<6.0,>=2.0.0 in /usr/local/lib/python3.10/dist-packages (from google-auth<3,>=1.6.3->tensorboard->nemo_toolkit[all]) (5.3.1)\n",
            "Requirement already satisfied: pyasn1-modules>=0.2.1 in /usr/local/lib/python3.10/dist-packages (from google-auth<3,>=1.6.3->tensorboard->nemo_toolkit[all]) (0.3.0)\n",
            "Requirement already satisfied: rsa<5,>=3.1.4 in /usr/local/lib/python3.10/dist-packages (from google-auth<3,>=1.6.3->tensorboard->nemo_toolkit[all]) (4.9)\n",
            "Requirement already satisfied: requests-oauthlib>=0.7.0 in /usr/local/lib/python3.10/dist-packages (from google-auth-oauthlib<1.1,>=0.5->tensorboard->nemo_toolkit[all]) (1.3.1)\n",
            "Requirement already satisfied: jupyter-client in /usr/local/lib/python3.10/dist-packages (from ipykernel>=4.5.1->ipywidgets->nemo_toolkit[all]) (6.1.12)\n",
            "Requirement already satisfied: tornado>=4.2 in /usr/local/lib/python3.10/dist-packages (from ipykernel>=4.5.1->ipywidgets->nemo_toolkit[all]) (6.3.1)\n",
            "Collecting jedi>=0.16 (from ipython>=4.0.0->ipywidgets->nemo_toolkit[all])\n",
            "  Downloading jedi-0.18.2-py2.py3-none-any.whl (1.6 MB)\n",
            "\u001b[2K     \u001b[90m━━━━━━━━━━━━━━━━━━━━━━━━━━━━━━━━━━━━━━━━\u001b[0m \u001b[32m1.6/1.6 MB\u001b[0m \u001b[31m53.5 MB/s\u001b[0m eta \u001b[36m0:00:00\u001b[0m\n",
            "\u001b[?25hRequirement already satisfied: pickleshare in /usr/local/lib/python3.10/dist-packages (from ipython>=4.0.0->ipywidgets->nemo_toolkit[all]) (0.7.5)\n",
            "Requirement already satisfied: prompt-toolkit!=3.0.0,!=3.0.1,<3.1.0,>=2.0.0 in /usr/local/lib/python3.10/dist-packages (from ipython>=4.0.0->ipywidgets->nemo_toolkit[all]) (3.0.39)\n",
            "Requirement already satisfied: backcall in /usr/local/lib/python3.10/dist-packages (from ipython>=4.0.0->ipywidgets->nemo_toolkit[all]) (0.2.0)\n",
            "Requirement already satisfied: matplotlib-inline in /usr/local/lib/python3.10/dist-packages (from ipython>=4.0.0->ipywidgets->nemo_toolkit[all]) (0.1.6)\n",
            "Requirement already satisfied: pexpect>4.3 in /usr/local/lib/python3.10/dist-packages (from ipython>=4.0.0->ipywidgets->nemo_toolkit[all]) (4.8.0)\n",
            "Requirement already satisfied: MarkupSafe>=2.0 in /usr/local/lib/python3.10/dist-packages (from jinja2->torch->nemo_toolkit[all]) (2.1.3)\n",
            "Requirement already satisfied: typer[all]>=0.2.1 in /usr/local/lib/python3.10/dist-packages (from pyannote.database>=4.0.1->pyannote.metrics->nemo_toolkit[all]) (0.9.0)\n",
            "Collecting latexcodec>=1.0.4 (from pybtex>=0.24->sphinxcontrib-bibtex->nemo_toolkit[all])\n",
            "  Downloading latexcodec-2.0.1-py2.py3-none-any.whl (18 kB)\n",
            "Requirement already satisfied: certifi>=2017.4.17 in /usr/local/lib/python3.10/dist-packages (from requests->transformers>=4.0.1->nemo_toolkit[all]) (2023.5.7)\n",
            "Requirement already satisfied: charset-normalizer~=2.0.0 in /usr/local/lib/python3.10/dist-packages (from requests->transformers>=4.0.1->nemo_toolkit[all]) (2.0.12)\n",
            "Requirement already satisfied: idna<4,>=2.5 in /usr/local/lib/python3.10/dist-packages (from requests->transformers>=4.0.1->nemo_toolkit[all]) (3.4)\n",
            "Requirement already satisfied: mpmath>=0.19 in /usr/local/lib/python3.10/dist-packages (from sympy->torch->nemo_toolkit[all]) (1.3.0)\n",
            "Requirement already satisfied: notebook>=4.4.1 in /usr/local/lib/python3.10/dist-packages (from widgetsnbextension~=3.6.0->ipywidgets->nemo_toolkit[all]) (6.4.8)\n",
            "Requirement already satisfied: soupsieve>1.2 in /usr/local/lib/python3.10/dist-packages (from beautifulsoup4->gdown->nemo_toolkit[all]) (2.4.1)\n",
            "Requirement already satisfied: PySocks!=1.5.7,>=1.5.6 in /usr/local/lib/python3.10/dist-packages (from requests->transformers>=4.0.1->nemo_toolkit[all]) (1.7.1)\n",
            "Requirement already satisfied: multidict<7.0,>=4.5 in /usr/local/lib/python3.10/dist-packages (from aiohttp!=4.0.0a0,!=4.0.0a1->fsspec[http]>2021.06.0->pytorch-lightning<=1.9.4,>=1.9.0->nemo_toolkit[all]) (6.0.4)\n",
            "Requirement already satisfied: async-timeout<5.0,>=4.0.0a3 in /usr/local/lib/python3.10/dist-packages (from aiohttp!=4.0.0a0,!=4.0.0a1->fsspec[http]>2021.06.0->pytorch-lightning<=1.9.4,>=1.9.0->nemo_toolkit[all]) (4.0.2)\n",
            "Requirement already satisfied: yarl<2.0,>=1.0 in /usr/local/lib/python3.10/dist-packages (from aiohttp!=4.0.0a0,!=4.0.0a1->fsspec[http]>2021.06.0->pytorch-lightning<=1.9.4,>=1.9.0->nemo_toolkit[all]) (1.9.2)\n",
            "Requirement already satisfied: frozenlist>=1.1.1 in /usr/local/lib/python3.10/dist-packages (from aiohttp!=4.0.0a0,!=4.0.0a1->fsspec[http]>2021.06.0->pytorch-lightning<=1.9.4,>=1.9.0->nemo_toolkit[all]) (1.4.0)\n",
            "Requirement already satisfied: aiosignal>=1.1.2 in /usr/local/lib/python3.10/dist-packages (from aiohttp!=4.0.0a0,!=4.0.0a1->fsspec[http]>2021.06.0->pytorch-lightning<=1.9.4,>=1.9.0->nemo_toolkit[all]) (1.3.1)\n",
            "Collecting smmap<6,>=3.0.1 (from gitdb<5,>=4.0.1->GitPython!=3.1.29,>=1.0.0->wandb->nemo_toolkit[all])\n",
            "  Downloading smmap-5.0.0-py3-none-any.whl (24 kB)\n",
            "Requirement already satisfied: parso<0.9.0,>=0.8.0 in /usr/local/lib/python3.10/dist-packages (from jedi>=0.16->ipython>=4.0.0->ipywidgets->nemo_toolkit[all]) (0.8.3)\n",
            "Requirement already satisfied: pyzmq>=17 in /usr/local/lib/python3.10/dist-packages (from notebook>=4.4.1->widgetsnbextension~=3.6.0->ipywidgets->nemo_toolkit[all]) (23.2.1)\n",
            "Requirement already satisfied: argon2-cffi in /usr/local/lib/python3.10/dist-packages (from notebook>=4.4.1->widgetsnbextension~=3.6.0->ipywidgets->nemo_toolkit[all]) (21.3.0)\n",
            "Requirement already satisfied: jupyter-core>=4.6.1 in /usr/local/lib/python3.10/dist-packages (from notebook>=4.4.1->widgetsnbextension~=3.6.0->ipywidgets->nemo_toolkit[all]) (5.3.1)\n",
            "Requirement already satisfied: nbformat in /usr/local/lib/python3.10/dist-packages (from notebook>=4.4.1->widgetsnbextension~=3.6.0->ipywidgets->nemo_toolkit[all]) (5.9.1)\n",
            "Requirement already satisfied: nbconvert in /usr/local/lib/python3.10/dist-packages (from notebook>=4.4.1->widgetsnbextension~=3.6.0->ipywidgets->nemo_toolkit[all]) (6.5.4)\n",
            "Requirement already satisfied: nest-asyncio>=1.5 in /usr/local/lib/python3.10/dist-packages (from notebook>=4.4.1->widgetsnbextension~=3.6.0->ipywidgets->nemo_toolkit[all]) (1.5.6)\n",
            "Requirement already satisfied: Send2Trash>=1.8.0 in /usr/local/lib/python3.10/dist-packages (from notebook>=4.4.1->widgetsnbextension~=3.6.0->ipywidgets->nemo_toolkit[all]) (1.8.2)\n",
            "Requirement already satisfied: terminado>=0.8.3 in /usr/local/lib/python3.10/dist-packages (from notebook>=4.4.1->widgetsnbextension~=3.6.0->ipywidgets->nemo_toolkit[all]) (0.17.1)\n",
            "Requirement already satisfied: prometheus-client in /usr/local/lib/python3.10/dist-packages (from notebook>=4.4.1->widgetsnbextension~=3.6.0->ipywidgets->nemo_toolkit[all]) (0.17.1)\n",
            "Requirement already satisfied: ptyprocess>=0.5 in /usr/local/lib/python3.10/dist-packages (from pexpect>4.3->ipython>=4.0.0->ipywidgets->nemo_toolkit[all]) (0.7.0)\n",
            "Requirement already satisfied: pyasn1<0.6.0,>=0.4.6 in /usr/local/lib/python3.10/dist-packages (from pyasn1-modules>=0.2.1->google-auth<3,>=1.6.3->tensorboard->nemo_toolkit[all]) (0.5.0)\n",
            "Requirement already satisfied: oauthlib>=3.0.0 in /usr/local/lib/python3.10/dist-packages (from requests-oauthlib>=0.7.0->google-auth-oauthlib<1.1,>=0.5->tensorboard->nemo_toolkit[all]) (3.2.2)\n",
            "Collecting shellingham<2.0.0,>=1.3.0 (from typer[all]>=0.2.1->pyannote.database>=4.0.1->pyannote.metrics->nemo_toolkit[all])\n",
            "  Downloading shellingham-1.5.0.post1-py2.py3-none-any.whl (9.4 kB)\n",
            "Requirement already satisfied: rich<14.0.0,>=10.11.0 in /usr/local/lib/python3.10/dist-packages (from typer[all]>=0.2.1->pyannote.database>=4.0.1->pyannote.metrics->nemo_toolkit[all]) (13.4.2)\n",
            "Requirement already satisfied: platformdirs>=2.5 in /usr/local/lib/python3.10/dist-packages (from jupyter-core>=4.6.1->notebook>=4.4.1->widgetsnbextension~=3.6.0->ipywidgets->nemo_toolkit[all]) (3.9.1)\n",
            "Requirement already satisfied: markdown-it-py>=2.2.0 in /usr/local/lib/python3.10/dist-packages (from rich<14.0.0,>=10.11.0->typer[all]>=0.2.1->pyannote.database>=4.0.1->pyannote.metrics->nemo_toolkit[all]) (3.0.0)\n",
            "Requirement already satisfied: argon2-cffi-bindings in /usr/local/lib/python3.10/dist-packages (from argon2-cffi->notebook>=4.4.1->widgetsnbextension~=3.6.0->ipywidgets->nemo_toolkit[all]) (21.2.0)\n",
            "Requirement already satisfied: bleach in /usr/local/lib/python3.10/dist-packages (from nbconvert->notebook>=4.4.1->widgetsnbextension~=3.6.0->ipywidgets->nemo_toolkit[all]) (6.0.0)\n",
            "Requirement already satisfied: defusedxml in /usr/local/lib/python3.10/dist-packages (from nbconvert->notebook>=4.4.1->widgetsnbextension~=3.6.0->ipywidgets->nemo_toolkit[all]) (0.7.1)\n",
            "Requirement already satisfied: entrypoints>=0.2.2 in /usr/local/lib/python3.10/dist-packages (from nbconvert->notebook>=4.4.1->widgetsnbextension~=3.6.0->ipywidgets->nemo_toolkit[all]) (0.4)\n",
            "Requirement already satisfied: jupyterlab-pygments in /usr/local/lib/python3.10/dist-packages (from nbconvert->notebook>=4.4.1->widgetsnbextension~=3.6.0->ipywidgets->nemo_toolkit[all]) (0.2.2)\n",
            "Requirement already satisfied: mistune<2,>=0.8.1 in /usr/local/lib/python3.10/dist-packages (from nbconvert->notebook>=4.4.1->widgetsnbextension~=3.6.0->ipywidgets->nemo_toolkit[all]) (0.8.4)\n",
            "Requirement already satisfied: nbclient>=0.5.0 in /usr/local/lib/python3.10/dist-packages (from nbconvert->notebook>=4.4.1->widgetsnbextension~=3.6.0->ipywidgets->nemo_toolkit[all]) (0.8.0)\n",
            "Requirement already satisfied: pandocfilters>=1.4.1 in /usr/local/lib/python3.10/dist-packages (from nbconvert->notebook>=4.4.1->widgetsnbextension~=3.6.0->ipywidgets->nemo_toolkit[all]) (1.5.0)\n",
            "Requirement already satisfied: tinycss2 in /usr/local/lib/python3.10/dist-packages (from nbconvert->notebook>=4.4.1->widgetsnbextension~=3.6.0->ipywidgets->nemo_toolkit[all]) (1.2.1)\n",
            "Requirement already satisfied: fastjsonschema in /usr/local/lib/python3.10/dist-packages (from nbformat->notebook>=4.4.1->widgetsnbextension~=3.6.0->ipywidgets->nemo_toolkit[all]) (2.17.1)\n",
            "Requirement already satisfied: jsonschema>=2.6 in /usr/local/lib/python3.10/dist-packages (from nbformat->notebook>=4.4.1->widgetsnbextension~=3.6.0->ipywidgets->nemo_toolkit[all]) (4.3.3)\n",
            "Requirement already satisfied: pyrsistent!=0.17.0,!=0.17.1,!=0.17.2,>=0.14.0 in /usr/local/lib/python3.10/dist-packages (from jsonschema>=2.6->nbformat->notebook>=4.4.1->widgetsnbextension~=3.6.0->ipywidgets->nemo_toolkit[all]) (0.19.3)\n",
            "Requirement already satisfied: mdurl~=0.1 in /usr/local/lib/python3.10/dist-packages (from markdown-it-py>=2.2.0->rich<14.0.0,>=10.11.0->typer[all]>=0.2.1->pyannote.database>=4.0.1->pyannote.metrics->nemo_toolkit[all]) (0.1.2)\n",
            "Requirement already satisfied: webencodings in /usr/local/lib/python3.10/dist-packages (from bleach->nbconvert->notebook>=4.4.1->widgetsnbextension~=3.6.0->ipywidgets->nemo_toolkit[all]) (0.5.1)\n",
            "Building wheels for collected packages: antlr4-python3-runtime, progress, sacremoses, youtokentome, fasttext, kaldi-python-io, nemo_toolkit, rouge-score, sentence-transformers, wget, distance, docopt, ipadic, cdifflib, pathtools\n",
            "  Building wheel for antlr4-python3-runtime (setup.py) ... \u001b[?25l\u001b[?25hdone\n",
            "  Created wheel for antlr4-python3-runtime: filename=antlr4_python3_runtime-4.9.3-py3-none-any.whl size=144554 sha256=d87d5cee0f39bd7f2c84d9e9daffb038e93a0cf069dfec4e215c47d25590f13f\n",
            "  Stored in directory: /root/.cache/pip/wheels/12/93/dd/1f6a127edc45659556564c5730f6d4e300888f4bca2d4c5a88\n",
            "  Building wheel for progress (setup.py) ... \u001b[?25l\u001b[?25hdone\n",
            "  Created wheel for progress: filename=progress-1.6-py3-none-any.whl size=9611 sha256=5a032b3f01b038db6c049e9512c68778ea6f3924a0785983d78768391853ee64\n",
            "  Stored in directory: /root/.cache/pip/wheels/a2/68/5f/c339b20a41659d856c93ccdce6a33095493eb82c3964aac5a1\n",
            "  Building wheel for sacremoses (setup.py) ... \u001b[?25l\u001b[?25hdone\n",
            "  Created wheel for sacremoses: filename=sacremoses-0.0.53-py3-none-any.whl size=895241 sha256=6f5eeb99365b1b7a6b0d8512f875b1c199f07ded2da747d1b17bbd1e323786e6\n",
            "  Stored in directory: /root/.cache/pip/wheels/00/24/97/a2ea5324f36bc626e1ea0267f33db6aa80d157ee977e9e42fb\n",
            "  Building wheel for youtokentome (setup.py) ... \u001b[?25l\u001b[?25hdone\n",
            "  Created wheel for youtokentome: filename=youtokentome-1.0.6-cp310-cp310-linux_x86_64.whl size=1883215 sha256=f51a86c63f2051f98274eafc0bc5d6e6b166b708ad0b93cc69171d625b895f36\n",
            "  Stored in directory: /root/.cache/pip/wheels/df/85/f8/301d2ba45f43f30bed2fe413efa760bc726b8b660ed9c2900c\n",
            "  Building wheel for fasttext (setup.py) ... \u001b[?25l\u001b[?25hdone\n",
            "  Created wheel for fasttext: filename=fasttext-0.9.2-cp310-cp310-linux_x86_64.whl size=4199674 sha256=72d8736bdb3103c95f3beb743cfd498f7b0124127f2e12f41b73b162e16ec0f6\n",
            "  Stored in directory: /root/.cache/pip/wheels/a5/13/75/f811c84a8ab36eedbaef977a6a58a98990e8e0f1967f98f394\n",
            "  Building wheel for kaldi-python-io (setup.py) ... \u001b[?25l\u001b[?25hdone\n",
            "  Created wheel for kaldi-python-io: filename=kaldi_python_io-1.2.2-py3-none-any.whl size=8951 sha256=32ff0c8492cacf4b4e8603b5204c3f6499dbf5988e8b38611b553e31f8ed2c35\n",
            "  Stored in directory: /root/.cache/pip/wheels/b7/23/5f/49d3a826be576faf61d84e8028e1914bb36a5586ee2613b087\n",
            "  Building wheel for nemo_toolkit (pyproject.toml) ... \u001b[?25l\u001b[?25hdone\n",
            "  Created wheel for nemo_toolkit: filename=nemo_toolkit-1.20.0rc0-py3-none-any.whl size=2481970 sha256=f2b8267427d5428a5ef8ed72e5a17f761556bb2cb2ebcdd058dbd0634a6d7bab\n",
            "  Stored in directory: /tmp/pip-ephem-wheel-cache-_jx_uzb0/wheels/6c/d2/4f/1572b895b6a4dbd9fdf534c882d9bc6e94e700a6db5bb20423\n",
            "  Building wheel for rouge-score (setup.py) ... \u001b[?25l\u001b[?25hdone\n",
            "  Created wheel for rouge-score: filename=rouge_score-0.1.2-py3-none-any.whl size=24934 sha256=916307d10e2b96f297ebc12dfdd112d3a6ceae3fdd94fa5ec216533b7172d56e\n",
            "  Stored in directory: /root/.cache/pip/wheels/5f/dd/89/461065a73be61a532ff8599a28e9beef17985c9e9c31e541b4\n",
            "  Building wheel for sentence-transformers (setup.py) ... \u001b[?25l\u001b[?25hdone\n",
            "  Created wheel for sentence-transformers: filename=sentence_transformers-2.2.2-py3-none-any.whl size=125926 sha256=2761d98cec69a05c3c4b64d0f9566438fd55c9f3393fe4a78e030b166a704e48\n",
            "  Stored in directory: /root/.cache/pip/wheels/62/f2/10/1e606fd5f02395388f74e7462910fe851042f97238cbbd902f\n",
            "  Building wheel for wget (setup.py) ... \u001b[?25l\u001b[?25hdone\n",
            "  Created wheel for wget: filename=wget-3.2-py3-none-any.whl size=9657 sha256=0f695ed96c732137162b5f67a527b4d1a4ef45ad068abf025e144e21fea941bc\n",
            "  Stored in directory: /root/.cache/pip/wheels/8b/f1/7f/5c94f0a7a505ca1c81cd1d9208ae2064675d97582078e6c769\n",
            "  Building wheel for distance (setup.py) ... \u001b[?25l\u001b[?25hdone\n",
            "  Created wheel for distance: filename=Distance-0.1.3-py3-none-any.whl size=16258 sha256=a27fff26d90f0ad9b3b17ed43f766d5e82dcf889aede7c2752a789ed3e0dba97\n",
            "  Stored in directory: /root/.cache/pip/wheels/e8/bb/de/f71bf63559ea9a921059a5405806f7ff6ed612a9231c4a9309\n",
            "  Building wheel for docopt (setup.py) ... \u001b[?25l\u001b[?25hdone\n",
            "  Created wheel for docopt: filename=docopt-0.6.2-py2.py3-none-any.whl size=13707 sha256=9d9828c9398b642a9bbaf6e8cc174895397f62da85fc32c783b138bffc76b60d\n",
            "  Stored in directory: /root/.cache/pip/wheels/fc/ab/d4/5da2067ac95b36618c629a5f93f809425700506f72c9732fac\n",
            "  Building wheel for ipadic (setup.py) ... \u001b[?25l\u001b[?25hdone\n",
            "  Created wheel for ipadic: filename=ipadic-1.0.0-py3-none-any.whl size=13556703 sha256=3385c8590be7dc00a832fadd2412c3bd2c7133b086920578bb79db61448e160f\n",
            "  Stored in directory: /root/.cache/pip/wheels/5b/ea/e3/2f6e0860a327daba3b030853fce4483ed37468bbf1101c59c3\n",
            "  Building wheel for cdifflib (pyproject.toml) ... \u001b[?25l\u001b[?25hdone\n",
            "  Created wheel for cdifflib: filename=cdifflib-1.2.6-cp310-cp310-linux_x86_64.whl size=27682 sha256=073f7f7e360ab67e1af557b8586fd59dd0090f70d3fc5eec114f00e4683faaa9\n",
            "  Stored in directory: /root/.cache/pip/wheels/87/a7/fd/8061e24ed08689045cb6d1ca303768dc463b20a5a338174841\n",
            "  Building wheel for pathtools (setup.py) ... \u001b[?25l\u001b[?25hdone\n",
            "  Created wheel for pathtools: filename=pathtools-0.1.2-py3-none-any.whl size=8791 sha256=3676dc6c30fc23a81bcdfb2123e52a8ab746a97f4c3bddb5447128655745d720\n",
            "  Stored in directory: /root/.cache/pip/wheels/e7/f3/22/152153d6eb222ee7a56ff8617d80ee5207207a8c00a7aab794\n",
            "Successfully built antlr4-python3-runtime progress sacremoses youtokentome fasttext kaldi-python-io nemo_toolkit rouge-score sentence-transformers wget distance docopt ipadic cdifflib pathtools\n",
            "Installing collected packages: wget, tokenizers, sentencepiece, safetensors, pydub, progress, plac, pathtools, pangu, opencc, mecab-python3, ipadic, ijson, faiss-cpu, docopt, distance, braceexpand, antlr4-python3-runtime, aniso8601, webdataset, typed-ast, textdistance, sox, smmap, shellingham, setuptools, setproctitle, sentry-sdk, ruamel.yaml.clib, pytest-runner, pypinyin, pynini, pybind11, portalocker, pathspec, parameterized, onnx, omegaconf, marshmallow, markdown2, loguru, lightning-utilities, Levenshtein, latexcodec, kaldiio, kaldi-python-io, jmespath, jiwer, jedi, isort, ftfy, einops, docker-pycreds, colorama, click, cdifflib, attrdict, youtokentome, texterrors, sacremoses, sacrebleu, ruamel.yaml, pypinyin-dict, pybtex, pyannote.core, hydra-core, gitdb, fasttext, botocore, black, transformers, s3transfer, rouge-score, pybtex-docutils, GitPython, g2p-en, flask-restful, wandb, sphinxcontrib-bibtex, pyannote.database, nemo-text-processing, boto3, pyannote.metrics, torchmetrics, sentence-transformers, pytorch-lightning, nemo_toolkit, megatron-core, kornia\n",
            "  Attempting uninstall: setuptools\n",
            "    Found existing installation: setuptools 67.7.2\n",
            "    Uninstalling setuptools-67.7.2:\n",
            "      Successfully uninstalled setuptools-67.7.2\n",
            "  Attempting uninstall: jiwer\n",
            "    Found existing installation: jiwer 3.0.2\n",
            "    Uninstalling jiwer-3.0.2:\n",
            "      Successfully uninstalled jiwer-3.0.2\n",
            "  Attempting uninstall: click\n",
            "    Found existing installation: click 8.1.6\n",
            "    Uninstalling click-8.1.6:\n",
            "      Successfully uninstalled click-8.1.6\n",
            "\u001b[31mERROR: pip's dependency resolver does not currently take into account all the packages that are installed. This behaviour is the source of the following dependency conflicts.\n",
            "cvxpy 1.3.2 requires setuptools>65.5.1, but you have setuptools 65.5.1 which is incompatible.\u001b[0m\u001b[31m\n",
            "\u001b[0mSuccessfully installed GitPython-3.1.32 Levenshtein-0.21.1 aniso8601-9.0.1 antlr4-python3-runtime-4.9.3 attrdict-2.0.1 black-19.10b0 boto3-1.28.9 botocore-1.31.9 braceexpand-0.1.7 cdifflib-1.2.6 click-8.0.2 colorama-0.4.6 distance-0.1.3 docker-pycreds-0.4.0 docopt-0.6.2 einops-0.6.1 faiss-cpu-1.7.4 fasttext-0.9.2 flask-restful-0.3.10 ftfy-6.1.1 g2p-en-2.1.0 gitdb-4.0.10 hydra-core-1.2.0 ijson-3.2.3 ipadic-1.0.0 isort-5.12.0 jedi-0.18.2 jiwer-2.5.2 jmespath-1.0.1 kaldi-python-io-1.2.2 kaldiio-2.18.0 kornia-0.6.12 latexcodec-2.0.1 lightning-utilities-0.9.0 loguru-0.7.0 markdown2-2.4.9 marshmallow-3.20.1 mecab-python3-1.0.5 megatron-core-0.2.0 nemo-text-processing-0.1.8rc0 nemo_toolkit-1.20.0rc0 omegaconf-2.2.3 onnx-1.14.0 opencc-1.1.6 pangu-4.0.6.1 parameterized-0.9.0 pathspec-0.11.1 pathtools-0.1.2 plac-1.3.5 portalocker-2.7.0 progress-1.6 pyannote.core-5.0.0 pyannote.database-5.0.1 pyannote.metrics-3.2.1 pybind11-2.11.1 pybtex-0.24.0 pybtex-docutils-1.0.2 pydub-0.25.1 pynini-2.1.5 pypinyin-0.49.0 pypinyin-dict-0.6.0 pytest-runner-6.0.0 pytorch-lightning-1.9.4 rouge-score-0.1.2 ruamel.yaml-0.17.32 ruamel.yaml.clib-0.2.7 s3transfer-0.6.1 sacrebleu-2.3.1 sacremoses-0.0.53 safetensors-0.3.1 sentence-transformers-2.2.2 sentencepiece-0.1.99 sentry-sdk-1.28.1 setproctitle-1.3.2 setuptools-65.5.1 shellingham-1.5.0.post1 smmap-5.0.0 sox-1.4.1 sphinxcontrib-bibtex-2.5.0 textdistance-4.5.0 texterrors-0.4.4 tokenizers-0.13.3 torchmetrics-1.0.1 transformers-4.31.0 typed-ast-1.5.5 wandb-0.15.5 webdataset-0.1.62 wget-3.2 youtokentome-1.0.6\n"
          ]
        }
      ],
      "source": [
        "## Install NeMo\n",
        "BRANCH = 'main'\n",
        "!python -m pip install git+https://github.com/NVIDIA/NeMo.git@$BRANCH#egg=nemo_toolkit[all]"
      ]
    },
    {
      "cell_type": "code",
      "execution_count": 4,
      "metadata": {
        "id": "dmGS_HUEgWEl",
        "colab": {
          "base_uri": "https://localhost:8080/"
        },
        "outputId": "19d9c7f9-1c1d-46ad-a588-c13317984f8d"
      },
      "outputs": [
        {
          "output_type": "stream",
          "name": "stdout",
          "text": [
            "--2023-07-24 15:49:29--  https://dldata-public.s3.us-east-2.amazonaws.com/an4_sphere.tar.gz\n",
            "Resolving dldata-public.s3.us-east-2.amazonaws.com (dldata-public.s3.us-east-2.amazonaws.com)... 3.5.131.158\n",
            "Connecting to dldata-public.s3.us-east-2.amazonaws.com (dldata-public.s3.us-east-2.amazonaws.com)|3.5.131.158|:443... connected.\n",
            "HTTP request sent, awaiting response... 200 OK\n",
            "Length: 64327561 (61M) [application/x-gzip]\n",
            "Saving to: ‘an4_sphere.tar.gz’\n",
            "\n",
            "an4_sphere.tar.gz   100%[===================>]  61.35M  44.0MB/s    in 1.4s    \n",
            "\n",
            "2023-07-24 15:49:30 (44.0 MB/s) - ‘an4_sphere.tar.gz’ saved [64327561/64327561]\n",
            "\n"
          ]
        }
      ],
      "source": [
        "!wget https://dldata-public.s3.us-east-2.amazonaws.com/an4_sphere.tar.gz\n",
        "!tar -xzvf an4_sphere.tar.gz"
      ]
    },
    {
      "cell_type": "markdown",
      "source": [
        "# Lets Start with ASR (Speech to Text)\n",
        "- We import our modules\n",
        "- Convert our sph to wav files\n",
        "- Use quartznet provided by nemo to run our asr module"
      ],
      "metadata": {
        "id": "r9Nj_MudpQT9"
      }
    },
    {
      "cell_type": "code",
      "execution_count": 20,
      "metadata": {
        "id": "d-6VPaW058_t"
      },
      "outputs": [],
      "source": [
        "import nemo.collections.asr as nemo_asr\n",
        "import jiwer\n",
        "from pathlib import Path\n",
        "from pydub import AudioSegment\n",
        "from tqdm import tqdm\n",
        "from IPython.display import Audio"
      ]
    },
    {
      "cell_type": "code",
      "source": [
        "# Lets convert the files into wavs\n",
        "audio_list = list(Path('an4/').rglob('**/*.sph'))\n",
        "for aud_path in tqdm(audio_list):\n",
        "  audio = AudioSegment.from_file(aud_path)\n",
        "  audio.export(str(aud_path).replace('.sph', '.wav'), format='wav')"
      ],
      "metadata": {
        "colab": {
          "base_uri": "https://localhost:8080/",
          "height": 364
        },
        "id": "XyTWktZJok-y",
        "outputId": "0abc932a-0a03-43b9-e19a-943d0dc84188"
      },
      "execution_count": 13,
      "outputs": [
        {
          "output_type": "error",
          "ename": "KeyboardInterrupt",
          "evalue": "ignored",
          "traceback": [
            "\u001b[0;31m---------------------------------------------------------------------------\u001b[0m",
            "\u001b[0;31mKeyboardInterrupt\u001b[0m                         Traceback (most recent call last)",
            "\u001b[0;32m<ipython-input-13-dc0607152e8e>\u001b[0m in \u001b[0;36m<cell line: 3>\u001b[0;34m()\u001b[0m\n\u001b[1;32m      2\u001b[0m \u001b[0maudio_list\u001b[0m \u001b[0;34m=\u001b[0m \u001b[0mlist\u001b[0m\u001b[0;34m(\u001b[0m\u001b[0mPath\u001b[0m\u001b[0;34m(\u001b[0m\u001b[0;34m'an4/'\u001b[0m\u001b[0;34m)\u001b[0m\u001b[0;34m.\u001b[0m\u001b[0mrglob\u001b[0m\u001b[0;34m(\u001b[0m\u001b[0;34m'**/*.sph'\u001b[0m\u001b[0;34m)\u001b[0m\u001b[0;34m)\u001b[0m\u001b[0;34m\u001b[0m\u001b[0;34m\u001b[0m\u001b[0m\n\u001b[1;32m      3\u001b[0m \u001b[0;32mfor\u001b[0m \u001b[0maud_path\u001b[0m \u001b[0;32min\u001b[0m \u001b[0maudio_list\u001b[0m\u001b[0;34m:\u001b[0m\u001b[0;34m\u001b[0m\u001b[0;34m\u001b[0m\u001b[0m\n\u001b[0;32m----> 4\u001b[0;31m   \u001b[0maudio\u001b[0m \u001b[0;34m=\u001b[0m \u001b[0mAudioSegment\u001b[0m\u001b[0;34m.\u001b[0m\u001b[0mfrom_file\u001b[0m\u001b[0;34m(\u001b[0m\u001b[0maud_path\u001b[0m\u001b[0;34m)\u001b[0m\u001b[0;34m\u001b[0m\u001b[0;34m\u001b[0m\u001b[0m\n\u001b[0m\u001b[1;32m      5\u001b[0m   \u001b[0maudio\u001b[0m\u001b[0;34m.\u001b[0m\u001b[0mexport\u001b[0m\u001b[0;34m(\u001b[0m\u001b[0mstr\u001b[0m\u001b[0;34m(\u001b[0m\u001b[0maud_path\u001b[0m\u001b[0;34m)\u001b[0m\u001b[0;34m.\u001b[0m\u001b[0mreplace\u001b[0m\u001b[0;34m(\u001b[0m\u001b[0;34m'.sph'\u001b[0m\u001b[0;34m,\u001b[0m \u001b[0;34m'.wav'\u001b[0m\u001b[0;34m)\u001b[0m\u001b[0;34m,\u001b[0m \u001b[0mformat\u001b[0m\u001b[0;34m=\u001b[0m\u001b[0;34m'wav'\u001b[0m\u001b[0;34m)\u001b[0m\u001b[0;34m\u001b[0m\u001b[0;34m\u001b[0m\u001b[0m\n",
            "\u001b[0;32m/usr/local/lib/python3.10/dist-packages/pydub/audio_segment.py\u001b[0m in \u001b[0;36mfrom_file\u001b[0;34m(cls, file, format, codec, parameters, start_second, duration, **kwargs)\u001b[0m\n\u001b[1;32m    726\u001b[0m             \u001b[0minfo\u001b[0m \u001b[0;34m=\u001b[0m \u001b[0;32mNone\u001b[0m\u001b[0;34m\u001b[0m\u001b[0;34m\u001b[0m\u001b[0m\n\u001b[1;32m    727\u001b[0m         \u001b[0;32melse\u001b[0m\u001b[0;34m:\u001b[0m\u001b[0;34m\u001b[0m\u001b[0;34m\u001b[0m\u001b[0m\n\u001b[0;32m--> 728\u001b[0;31m             \u001b[0minfo\u001b[0m \u001b[0;34m=\u001b[0m \u001b[0mmediainfo_json\u001b[0m\u001b[0;34m(\u001b[0m\u001b[0morig_file\u001b[0m\u001b[0;34m,\u001b[0m \u001b[0mread_ahead_limit\u001b[0m\u001b[0;34m=\u001b[0m\u001b[0mread_ahead_limit\u001b[0m\u001b[0;34m)\u001b[0m\u001b[0;34m\u001b[0m\u001b[0;34m\u001b[0m\u001b[0m\n\u001b[0m\u001b[1;32m    729\u001b[0m         \u001b[0;32mif\u001b[0m \u001b[0minfo\u001b[0m\u001b[0;34m:\u001b[0m\u001b[0;34m\u001b[0m\u001b[0;34m\u001b[0m\u001b[0m\n\u001b[1;32m    730\u001b[0m             audio_streams = [x for x in info['streams']\n",
            "\u001b[0;32m/usr/local/lib/python3.10/dist-packages/pydub/utils.py\u001b[0m in \u001b[0;36mmediainfo_json\u001b[0;34m(filepath, read_ahead_limit)\u001b[0m\n\u001b[1;32m    273\u001b[0m     \u001b[0mcommand\u001b[0m \u001b[0;34m=\u001b[0m \u001b[0;34m[\u001b[0m\u001b[0mprober\u001b[0m\u001b[0;34m,\u001b[0m \u001b[0;34m'-of'\u001b[0m\u001b[0;34m,\u001b[0m \u001b[0;34m'json'\u001b[0m\u001b[0;34m]\u001b[0m \u001b[0;34m+\u001b[0m \u001b[0mcommand_args\u001b[0m\u001b[0;34m\u001b[0m\u001b[0;34m\u001b[0m\u001b[0m\n\u001b[1;32m    274\u001b[0m     \u001b[0mres\u001b[0m \u001b[0;34m=\u001b[0m \u001b[0mPopen\u001b[0m\u001b[0;34m(\u001b[0m\u001b[0mcommand\u001b[0m\u001b[0;34m,\u001b[0m \u001b[0mstdin\u001b[0m\u001b[0;34m=\u001b[0m\u001b[0mstdin_parameter\u001b[0m\u001b[0;34m,\u001b[0m \u001b[0mstdout\u001b[0m\u001b[0;34m=\u001b[0m\u001b[0mPIPE\u001b[0m\u001b[0;34m,\u001b[0m \u001b[0mstderr\u001b[0m\u001b[0;34m=\u001b[0m\u001b[0mPIPE\u001b[0m\u001b[0;34m)\u001b[0m\u001b[0;34m\u001b[0m\u001b[0;34m\u001b[0m\u001b[0m\n\u001b[0;32m--> 275\u001b[0;31m     \u001b[0moutput\u001b[0m\u001b[0;34m,\u001b[0m \u001b[0mstderr\u001b[0m \u001b[0;34m=\u001b[0m \u001b[0mres\u001b[0m\u001b[0;34m.\u001b[0m\u001b[0mcommunicate\u001b[0m\u001b[0;34m(\u001b[0m\u001b[0minput\u001b[0m\u001b[0;34m=\u001b[0m\u001b[0mstdin_data\u001b[0m\u001b[0;34m)\u001b[0m\u001b[0;34m\u001b[0m\u001b[0;34m\u001b[0m\u001b[0m\n\u001b[0m\u001b[1;32m    276\u001b[0m     \u001b[0moutput\u001b[0m \u001b[0;34m=\u001b[0m \u001b[0moutput\u001b[0m\u001b[0;34m.\u001b[0m\u001b[0mdecode\u001b[0m\u001b[0;34m(\u001b[0m\u001b[0;34m\"utf-8\"\u001b[0m\u001b[0;34m,\u001b[0m \u001b[0;34m'ignore'\u001b[0m\u001b[0;34m)\u001b[0m\u001b[0;34m\u001b[0m\u001b[0;34m\u001b[0m\u001b[0m\n\u001b[1;32m    277\u001b[0m     \u001b[0mstderr\u001b[0m \u001b[0;34m=\u001b[0m \u001b[0mstderr\u001b[0m\u001b[0;34m.\u001b[0m\u001b[0mdecode\u001b[0m\u001b[0;34m(\u001b[0m\u001b[0;34m\"utf-8\"\u001b[0m\u001b[0;34m,\u001b[0m \u001b[0;34m'ignore'\u001b[0m\u001b[0;34m)\u001b[0m\u001b[0;34m\u001b[0m\u001b[0;34m\u001b[0m\u001b[0m\n",
            "\u001b[0;32m/usr/lib/python3.10/subprocess.py\u001b[0m in \u001b[0;36mcommunicate\u001b[0;34m(self, input, timeout)\u001b[0m\n\u001b[1;32m   1150\u001b[0m \u001b[0;34m\u001b[0m\u001b[0m\n\u001b[1;32m   1151\u001b[0m             \u001b[0;32mtry\u001b[0m\u001b[0;34m:\u001b[0m\u001b[0;34m\u001b[0m\u001b[0;34m\u001b[0m\u001b[0m\n\u001b[0;32m-> 1152\u001b[0;31m                 \u001b[0mstdout\u001b[0m\u001b[0;34m,\u001b[0m \u001b[0mstderr\u001b[0m \u001b[0;34m=\u001b[0m \u001b[0mself\u001b[0m\u001b[0;34m.\u001b[0m\u001b[0m_communicate\u001b[0m\u001b[0;34m(\u001b[0m\u001b[0minput\u001b[0m\u001b[0;34m,\u001b[0m \u001b[0mendtime\u001b[0m\u001b[0;34m,\u001b[0m \u001b[0mtimeout\u001b[0m\u001b[0;34m)\u001b[0m\u001b[0;34m\u001b[0m\u001b[0;34m\u001b[0m\u001b[0m\n\u001b[0m\u001b[1;32m   1153\u001b[0m             \u001b[0;32mexcept\u001b[0m \u001b[0mKeyboardInterrupt\u001b[0m\u001b[0;34m:\u001b[0m\u001b[0;34m\u001b[0m\u001b[0;34m\u001b[0m\u001b[0m\n\u001b[1;32m   1154\u001b[0m                 \u001b[0;31m# https://bugs.python.org/issue25942\u001b[0m\u001b[0;34m\u001b[0m\u001b[0;34m\u001b[0m\u001b[0m\n",
            "\u001b[0;32m/usr/lib/python3.10/subprocess.py\u001b[0m in \u001b[0;36m_communicate\u001b[0;34m(self, input, endtime, orig_timeout)\u001b[0m\n\u001b[1;32m   2001\u001b[0m                             'failed to raise TimeoutExpired.')\n\u001b[1;32m   2002\u001b[0m \u001b[0;34m\u001b[0m\u001b[0m\n\u001b[0;32m-> 2003\u001b[0;31m                     \u001b[0mready\u001b[0m \u001b[0;34m=\u001b[0m \u001b[0mselector\u001b[0m\u001b[0;34m.\u001b[0m\u001b[0mselect\u001b[0m\u001b[0;34m(\u001b[0m\u001b[0mtimeout\u001b[0m\u001b[0;34m)\u001b[0m\u001b[0;34m\u001b[0m\u001b[0;34m\u001b[0m\u001b[0m\n\u001b[0m\u001b[1;32m   2004\u001b[0m                     \u001b[0mself\u001b[0m\u001b[0;34m.\u001b[0m\u001b[0m_check_timeout\u001b[0m\u001b[0;34m(\u001b[0m\u001b[0mendtime\u001b[0m\u001b[0;34m,\u001b[0m \u001b[0morig_timeout\u001b[0m\u001b[0;34m,\u001b[0m \u001b[0mstdout\u001b[0m\u001b[0;34m,\u001b[0m \u001b[0mstderr\u001b[0m\u001b[0;34m)\u001b[0m\u001b[0;34m\u001b[0m\u001b[0;34m\u001b[0m\u001b[0m\n\u001b[1;32m   2005\u001b[0m \u001b[0;34m\u001b[0m\u001b[0m\n",
            "\u001b[0;32m/usr/lib/python3.10/selectors.py\u001b[0m in \u001b[0;36mselect\u001b[0;34m(self, timeout)\u001b[0m\n\u001b[1;32m    414\u001b[0m         \u001b[0mready\u001b[0m \u001b[0;34m=\u001b[0m \u001b[0;34m[\u001b[0m\u001b[0;34m]\u001b[0m\u001b[0;34m\u001b[0m\u001b[0;34m\u001b[0m\u001b[0m\n\u001b[1;32m    415\u001b[0m         \u001b[0;32mtry\u001b[0m\u001b[0;34m:\u001b[0m\u001b[0;34m\u001b[0m\u001b[0;34m\u001b[0m\u001b[0m\n\u001b[0;32m--> 416\u001b[0;31m             \u001b[0mfd_event_list\u001b[0m \u001b[0;34m=\u001b[0m \u001b[0mself\u001b[0m\u001b[0;34m.\u001b[0m\u001b[0m_selector\u001b[0m\u001b[0;34m.\u001b[0m\u001b[0mpoll\u001b[0m\u001b[0;34m(\u001b[0m\u001b[0mtimeout\u001b[0m\u001b[0;34m)\u001b[0m\u001b[0;34m\u001b[0m\u001b[0;34m\u001b[0m\u001b[0m\n\u001b[0m\u001b[1;32m    417\u001b[0m         \u001b[0;32mexcept\u001b[0m \u001b[0mInterruptedError\u001b[0m\u001b[0;34m:\u001b[0m\u001b[0;34m\u001b[0m\u001b[0;34m\u001b[0m\u001b[0m\n\u001b[1;32m    418\u001b[0m             \u001b[0;32mreturn\u001b[0m \u001b[0mready\u001b[0m\u001b[0;34m\u001b[0m\u001b[0;34m\u001b[0m\u001b[0m\n",
            "\u001b[0;31mKeyboardInterrupt\u001b[0m: "
          ]
        }
      ]
    },
    {
      "cell_type": "code",
      "source": [
        "wavs_list = list(Path('an4/').rglob('**/*.wav'))\n",
        "wavs_list = [str(wav) for wav in wavs_list]"
      ],
      "metadata": {
        "id": "Vsei1N4sqGo3"
      },
      "execution_count": 17,
      "outputs": []
    },
    {
      "cell_type": "code",
      "source": [
        "quartznet = nemo_asr.models.EncDecCTCModel.from_pretrained(model_name=\"QuartzNet15x5Base-En\")"
      ],
      "metadata": {
        "colab": {
          "base_uri": "https://localhost:8080/"
        },
        "id": "bv3moh2Ah3p5",
        "outputId": "4586cef5-89f4-4cd8-9682-dc13bad64abb"
      },
      "execution_count": 8,
      "outputs": [
        {
          "output_type": "stream",
          "name": "stdout",
          "text": [
            "[NeMo I 2023-07-24 15:59:47 cloud:68] Downloading from: https://api.ngc.nvidia.com/v2/models/nvidia/nemospeechmodels/versions/1.0.0a5/files/QuartzNet15x5Base-En.nemo to /root/.cache/torch/NeMo/NeMo_1.20.0rc0/QuartzNet15x5Base-En/2b066be39e9294d7100fb176ec817722/QuartzNet15x5Base-En.nemo\n",
            "[NeMo I 2023-07-24 15:59:51 common:913] Instantiating model from pre-trained checkpoint\n",
            "[NeMo I 2023-07-24 15:59:52 features:289] PADDING: 16\n",
            "[NeMo I 2023-07-24 15:59:53 save_restore_connector:249] Model EncDecCTCModel was successfully restored from /root/.cache/torch/NeMo/NeMo_1.20.0rc0/QuartzNet15x5Base-En/2b066be39e9294d7100fb176ec817722/QuartzNet15x5Base-En.nemo.\n"
          ]
        }
      ]
    },
    {
      "cell_type": "code",
      "source": [
        "transribe_text = quartznet.transcribe(wavs_list[:10])"
      ],
      "metadata": {
        "colab": {
          "base_uri": "https://localhost:8080/",
          "height": 49,
          "referenced_widgets": [
            "ca9e475d529d42aca4fad2a9a879d361",
            "d12e626e9c674654aaa37ae7ca9acadc",
            "213e78491e704ea187347dc91c80e1c0",
            "e64263378d434cf5a12ace890e165a6d",
            "6bf9afc4eb39465bb7a05cf75f3a1e99",
            "35707c4d69d34362bc958ec7c5c54235",
            "d9851a2c54a546a2809c2c81aa5a84da",
            "849fccca0b354ad4bdc117fd7d5db132",
            "9859dee10a884ea18e0c24178dc1cfd3",
            "3eae495e262a40e5b805649bb4396085",
            "6355821c49f24b458e35d612801df42b"
          ]
        },
        "id": "3zWjjukLoM2m",
        "outputId": "3adc41e7-0b00-45e2-b349-3a60849d0055"
      },
      "execution_count": 18,
      "outputs": [
        {
          "output_type": "display_data",
          "data": {
            "text/plain": [
              "Transcribing:   0%|          | 0/3 [00:00<?, ?it/s]"
            ],
            "application/vnd.jupyter.widget-view+json": {
              "version_major": 2,
              "version_minor": 0,
              "model_id": "ca9e475d529d42aca4fad2a9a879d361"
            }
          },
          "metadata": {}
        }
      ]
    },
    {
      "cell_type": "code",
      "source": [
        "print(transribe_text[0])\n",
        "Audio(wavs_list[0])"
      ],
      "metadata": {
        "colab": {
          "base_uri": "https://localhost:8080/",
          "height": 93
        },
        "id": "UFJjkeM7qefY",
        "outputId": "44ca8a65-5094-4991-9fc1-ef24dc5d8cac"
      },
      "execution_count": 23,
      "outputs": [
        {
          "output_type": "stream",
          "name": "stdout",
          "text": [
            "enter seventy eight\n"
          ]
        },
        {
          "output_type": "execute_result",
          "data": {
            "text/plain": [
              "<IPython.lib.display.Audio object>"
            ],
            "text/html": [
              "\n",
              "                <audio  controls=\"controls\" >\n",
              "                    <source src=\"data:audio/x-wav;base64,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\" type=\"audio/x-wav\" />\n",
              "                    Your browser does not support the audio element.\n",
              "                </audio>\n",
              "              "
            ]
          },
          "metadata": {},
          "execution_count": 23
        }
      ]
    },
    {
      "cell_type": "markdown",
      "source": [
        "# Lets try tts models next\n",
        "- For TTS we need a mel spec generator\n",
        "- Vocoder (to convert our mel spec to a wav)\n",
        "- The process it as follows:\n",
        "  - Convert text to ids -> convert ids to mel spec -> convert msl spec to a wav format\n"
      ],
      "metadata": {
        "id": "APvJ58Geq5mU"
      }
    },
    {
      "cell_type": "code",
      "source": [
        "from nemo.collections.tts.models import Tacotron2Model\n",
        "from nemo.collections.tts.models import HifiGanModel\n",
        "import torch\n",
        "import numpy as np\n",
        "import soundfile as sf\n",
        "from matplotlib import pyplot as plt\n",
        "import librosa"
      ],
      "metadata": {
        "id": "kAsuvXGHrxG5"
      },
      "execution_count": 47,
      "outputs": []
    },
    {
      "cell_type": "code",
      "source": [
        "# Load models\n",
        "vocoder = HifiGanModel.from_pretrained(model_name=\"tts_en_hifigan\")\n",
        "spec_generator = Tacotron2Model.from_pretrained(\"tts_en_tacotron2\")"
      ],
      "metadata": {
        "colab": {
          "base_uri": "https://localhost:8080/"
        },
        "id": "en8ZUsDIr6Wz",
        "outputId": "bc1ca6d6-8957-4be3-9051-f65876efa1b5"
      },
      "execution_count": 30,
      "outputs": [
        {
          "output_type": "stream",
          "name": "stdout",
          "text": [
            "[NeMo I 2023-07-24 16:17:47 cloud:68] Downloading from: https://api.ngc.nvidia.com/v2/models/nvidia/nemo/tts_hifigan/versions/1.0.0rc1/files/tts_hifigan.nemo to /root/.cache/torch/NeMo/NeMo_1.20.0rc0/tts_hifigan/e6da322f0f7e7dcf3f1900a9229a7e69/tts_hifigan.nemo\n",
            "[NeMo I 2023-07-24 16:18:03 common:913] Instantiating model from pre-trained checkpoint\n"
          ]
        },
        {
          "output_type": "stream",
          "name": "stderr",
          "text": [
            "[NeMo W 2023-07-24 16:18:09 modelPT:161] If you intend to do training or fine-tuning, please call the ModelPT.setup_training_data() method and provide a valid configuration file to setup the train data loader.\n",
            "    Train config : \n",
            "    dataset:\n",
            "      _target_: nemo.collections.tts.data.datalayers.MelAudioDataset\n",
            "      manifest_filepath: /home/fkreuk/data/train_finetune.txt\n",
            "      min_duration: 0.75\n",
            "      n_segments: 8192\n",
            "    dataloader_params:\n",
            "      drop_last: false\n",
            "      shuffle: true\n",
            "      batch_size: 64\n",
            "      num_workers: 4\n",
            "    \n",
            "[NeMo W 2023-07-24 16:18:09 modelPT:168] If you intend to do validation, please call the ModelPT.setup_validation_data() or ModelPT.setup_multiple_validation_data() method and provide a valid configuration file to setup the validation data loader(s). \n",
            "    Validation config : \n",
            "    dataset:\n",
            "      _target_: nemo.collections.tts.data.datalayers.MelAudioDataset\n",
            "      manifest_filepath: /home/fkreuk/data/val_finetune.txt\n",
            "      min_duration: 3\n",
            "      n_segments: 66150\n",
            "    dataloader_params:\n",
            "      drop_last: false\n",
            "      shuffle: false\n",
            "      batch_size: 5\n",
            "      num_workers: 4\n",
            "    \n",
            "[NeMo W 2023-07-24 16:18:09 features:266] Using torch_stft is deprecated and has been removed. The values have been forcibly set to False for FilterbankFeatures and AudioToMelSpectrogramPreprocessor. Please set exact_pad to True as needed.\n"
          ]
        },
        {
          "output_type": "stream",
          "name": "stdout",
          "text": [
            "[NeMo I 2023-07-24 16:18:09 features:289] PADDING: 0\n"
          ]
        },
        {
          "output_type": "stream",
          "name": "stderr",
          "text": [
            "[NeMo W 2023-07-24 16:18:09 features:266] Using torch_stft is deprecated and has been removed. The values have been forcibly set to False for FilterbankFeatures and AudioToMelSpectrogramPreprocessor. Please set exact_pad to True as needed.\n"
          ]
        },
        {
          "output_type": "stream",
          "name": "stdout",
          "text": [
            "[NeMo I 2023-07-24 16:18:09 features:289] PADDING: 0\n",
            "[NeMo I 2023-07-24 16:18:13 save_restore_connector:249] Model HifiGanModel was successfully restored from /root/.cache/torch/NeMo/NeMo_1.20.0rc0/tts_hifigan/e6da322f0f7e7dcf3f1900a9229a7e69/tts_hifigan.nemo.\n",
            "[NeMo I 2023-07-24 16:18:13 cloud:68] Downloading from: https://api.ngc.nvidia.com/v2/models/nvidia/nemo/tts_en_tacotron2/versions/1.10.0/files/tts_en_tacotron2.nemo to /root/.cache/torch/NeMo/NeMo_1.20.0rc0/tts_en_tacotron2/319a832e78fac50399d90aee0f083927/tts_en_tacotron2.nemo\n",
            "[NeMo I 2023-07-24 16:18:20 common:913] Instantiating model from pre-trained checkpoint\n"
          ]
        },
        {
          "output_type": "stream",
          "name": "stderr",
          "text": [
            "[NeMo W 2023-07-24 16:19:22 en_us_arpabet:66] apply_to_oov_word=None, This means that some of words will remain unchanged if they are not handled by any of the rules in self.parse_one_word(). This may be intended if phonemes and chars are both valid inputs, otherwise, you may see unexpected deletions in your input.\n",
            "[NeMo W 2023-07-24 16:19:22 modelPT:161] If you intend to do training or fine-tuning, please call the ModelPT.setup_training_data() method and provide a valid configuration file to setup the train data loader.\n",
            "    Train config : \n",
            "    dataset:\n",
            "      _target_: nemo.collections.tts.torch.data.TTSDataset\n",
            "      manifest_filepath: /raid/datasets/tts_data/train_manifest.json\n",
            "      sample_rate: 22050\n",
            "      sup_data_path: null\n",
            "      sup_data_types: null\n",
            "      n_fft: 1024\n",
            "      win_length: 1024\n",
            "      hop_length: 256\n",
            "      window: hann\n",
            "      n_mels: 80\n",
            "      lowfreq: 0\n",
            "      highfreq: 8000\n",
            "      max_duration: null\n",
            "      min_duration: 0.1\n",
            "      ignore_file: null\n",
            "      trim: false\n",
            "      pitch_fmin: 65.40639132514966\n",
            "      pitch_fmax: 2093.004522404789\n",
            "    dataloader_params:\n",
            "      drop_last: false\n",
            "      shuffle: true\n",
            "      batch_size: 48\n",
            "      num_workers: 4\n",
            "      pin_memory: false\n",
            "    \n",
            "[NeMo W 2023-07-24 16:19:22 modelPT:168] If you intend to do validation, please call the ModelPT.setup_validation_data() or ModelPT.setup_multiple_validation_data() method and provide a valid configuration file to setup the validation data loader(s). \n",
            "    Validation config : \n",
            "    dataset:\n",
            "      _target_: nemo.collections.tts.torch.data.TTSDataset\n",
            "      manifest_filepath: /raid/datasets/tts_data/train_manifest.json\n",
            "      sample_rate: 22050\n",
            "      sup_data_path: null\n",
            "      sup_data_types: null\n",
            "      n_fft: 1024\n",
            "      win_length: 1024\n",
            "      hop_length: 256\n",
            "      window: hann\n",
            "      n_mels: 80\n",
            "      lowfreq: 0\n",
            "      highfreq: 8000\n",
            "      max_duration: null\n",
            "      min_duration: 0.1\n",
            "      ignore_file: null\n",
            "      trim: false\n",
            "      pitch_fmin: 65.40639132514966\n",
            "      pitch_fmax: 2093.004522404789\n",
            "    dataloader_params:\n",
            "      drop_last: false\n",
            "      shuffle: false\n",
            "      batch_size: 24\n",
            "      num_workers: 8\n",
            "      pin_memory: false\n",
            "    \n"
          ]
        },
        {
          "output_type": "stream",
          "name": "stdout",
          "text": [
            "[NeMo I 2023-07-24 16:19:22 features:289] PADDING: 16\n",
            "[NeMo I 2023-07-24 16:19:22 features:297] STFT using exact pad\n",
            "[NeMo I 2023-07-24 16:19:23 save_restore_connector:249] Model Tacotron2Model was successfully restored from /root/.cache/torch/NeMo/NeMo_1.20.0rc0/tts_en_tacotron2/319a832e78fac50399d90aee0f083927/tts_en_tacotron2.nemo.\n"
          ]
        }
      ]
    },
    {
      "cell_type": "code",
      "source": [
        "# Generate wav\n",
        "sent = \"Hello can you tell me your name, my name is edwin by the way\"\n",
        "with torch.no_grad():\n",
        "  parsed = spec_generator.parse(sent)\n",
        "  spectrogram = spec_generator.generate_spectrogram(tokens=parsed)\n",
        "  audio = vocoder.convert_spectrogram_to_audio(spec=spectrogram)\n",
        "\n",
        "if isinstance(audio, torch.Tensor):\n",
        "  audio = audio.to('cpu').numpy()"
      ],
      "metadata": {
        "id": "L9ss0AL8r-Ed"
      },
      "execution_count": 36,
      "outputs": []
    },
    {
      "cell_type": "code",
      "source": [
        "# lets save the wav for later use\n",
        "sf.write('test.wav', audio[0], 22050, \"PCM_16\")\n",
        "\n",
        "# Display wav\n",
        "Audio(audio, rate=22050)"
      ],
      "metadata": {
        "colab": {
          "base_uri": "https://localhost:8080/",
          "height": 75
        },
        "id": "2T8H3fWItDi2",
        "outputId": "6db8d15d-1599-4bfc-ec42-8aa392bc7297"
      },
      "execution_count": 41,
      "outputs": [
        {
          "output_type": "execute_result",
          "data": {
            "text/plain": [
              "<IPython.lib.display.Audio object>"
            ],
            "text/html": [
              "\n",
              "                <audio  controls=\"controls\" >\n",
              "                    <source src=\"data:audio/wav;base64,UklGRiScAgBXQVZFZm10IBAAAAABAAEAIlYAAESsAAACABAAZGF0YQCcAgDlAM8AUwCP/zD/xP4A/43/uf/z/8P/gP84/+n+I/+5//b/5P+t/7v/FwCEAIsAeQClAAMBEQG5ABYAJ//K/h7/wf/RAF4B8gBRAAAAT/+w/tb9wv16/08BHQLNAU4AfP5A/Yf9+P78AAYC6QEJAVcAaP+n/v/+PQC0AWwCmQHt//T+zv41/04AQQFQAXIAEP9a/j7+MP+bAHIBawETAHz+zv0H/9QAiQE8Ad7/1/7p/mD/UAAnAVkBcwBe/6v+HP9UAFgBygHyAKz/p/7F/sb/AQGPAfYA0v/6/vD+6P4F/+X/mQDgAF4ARf8w/6z/kADlAI8As/9G/wgAUgEkAkcBzf8V/3P/mgDvAJkASgADAOz/cgDeAG0Awv8z/93+WP/9/yUAVQB6AM3//f5l/t3+nwDEAYgABv/X/gIA6AG+AXz/i/3u/en/mQGpAd8AYAB5ABEAk/59/bb9YgBHA98DBQJ//2L+Lf/C/3z/3/89ASgCPgFC/9P9zP2o/oP/wP+m/2P/Gf91/1EAWgCI/yr/cf9CAHYBwQHbAEEAwv8uAP8AMQFuAIv/F/+0/+sAQAF9ALT/0/8wAAcAmP+p/3wAGQHLAH3/tP4j//P/QADp/5v/mv/o/88A2wDl//j+nv7z/tj/sQDtAPMAnwBKAF//0/7Y/rf+2/+WAagC5gJcAd7+0v3b/g0ACQHGAc4BUQJBAgYBz/+V//f/PwE0AjEBqf9c/sf99f4JAOr/M//2/TP9p/1r/Vf9JP5a/on+lf7V/rT/+wAhAu4BHAFoADMAZAA3Ab8BIQFPARoBRQDz/5H/Pf+V/8T/S/8v/yH/s/6C/64AUQHiABkAqf+m/2MANgBw/7P+vv6B/94ADAFy/33+tv1G/oP/GwC7AJ8B1QGzAJoAuAAZAT8C2wLVAj8CLgI7AvMBdQGuAIkA0ABIATQBGAAb/3z+R/44/iD+af4Y/yH/DP5m/Rz9yv3A/qD+u/7j/SX9l/xI/Ff8I/35/eb9Dv6L/Zv9Lf///7P/ov4e/iMAPgKpAyYE0wKLAfEAiQBiAdsCngOCAxYDvQO6BH4E5wP/A78EhQZUCF8JZwkWChwLCAu5CeEIIAgqCFUI9gZrBfcDPAJTADH/lf0e/bX88Po0+QT3kvTQ8grxkvBE8TbxvPCs7yfvRPA68SLxAfKo8ajysvMZ9OP0GPWU9qH47fnX+q/67vku+Sf5/PkU/Ez8n/1T/fj/ag01GM8fliGVGrUaMyLhI8Yo4yvcKr0wgi6YJv8jzh5gGxwa1A9yB67/IPhf9eLyE+yz5jziwt6m3QTcGdtj3D7gTeIf5HzlJehe69bu8+9W8tH0Q/eC+vn6ePoy+eb4N/nw+a75w/kc+RP5vfeQ9f/ygvNO8qfyvPCr8ULzd/YH967y1ACyE+AjPCyaIugY3iHLJvItxDU4NG86Vz7xNdYxnClvHQscARKnCtoByvfg9Cb0ie5w5+vdjtmk1/DVItgv2WjgB+fF5growemG6TjxQvaw+p0BRgRMCGULywlxCZAGHgNfAhIAMP4BALf9j/x2+272jfWl8VDv+Oxo6/Dpl+sU6+3qrOcu5mjnF+rj68Hl5OeE+3oT1ic5KpsYYxrAHvMmVjKxMTo4d0RWRPpCeDyVLA4q7SHoF1oOL/56+I755/cb8+zmXN422qXV/tJM0MLS6NoP3+vij+Tv5NDqvfCq9iz8gf4aArMJQA15DzgNtQjhBnQIEQerBGsCMv4u/T/8MPte94/zie/n74LqLeo75+nor+ig51jm/OdY557mKOZH6DAPwyXhMkMuWxcBFywr2DB1OlU+/zcYQ01BLzhENaQskCKEH4MI/vdF6iTmNO8U8szqCd2CzqPJN8eIxxnOTtBn2C3b99s65KXsB/WkAAQEuwWhCAcLuhUsI6Um6ybCHzkWhhJ4DgUMmg00C+cC/Psy9Anws+8c7RTogeZr3dvacdpp3Lnf6uFq3nzd3tr63l/kied/8c3sfAjYIb4y6ze4KAIgvjFOOqw/F0QVPORD1UjnQtA40i4ZHEoT9wX1+JzrleJw41LjauFs1xrJXsZexDPDhcYMx/fSqN2Q4+7q4e/f9JD+WgZ+DaEUPhgtHZcmTyxYL2QtliYjJa4hxhnYEekJdwVuA1b/kfe67ujnBOQf4TTaFdSrz07SJdbZ1yLYjtjI21rgb+S95irnnu4D8w/5n/kv/6EcOTbPSLJEYzV+LwM8KkHFQlE/fDniQbVASzhHLGYeFw99ByvyQeHw1mjOGdc929LVU86Nwoy+i8KJxdfJpdBF2Qbl7vH3+mwEAwxxEIMYxB5UIxwq7i94No47BzukMjYpNx8/GJ4QtAbI/TP2Ye9V6RDjS9v71vrR/MyuyLzG/sbqy1bRkNXx15XYIdmg3Uzkw+2t8tD76P8RAl4NaRhTO11PolWeSuQ7sToAR1FM0kdkRYk6eDhkMZQntxy+E68Ab/Ey3UfMIcZxxqfLgs7cyyrC572Zv0XGf9B62B3cyuT+6xH5EQqTFuQh9iX8JwAt9S6RNDA73zvnOEAyQyfNIT4aLBEgCFr4Peoh30/YRNWd1CfQKs03yhjGe8L+wdnFys0O1FnXZ9wP4pHpDPLs+Ij++/+tBBQH4w3sFPMOpxy4MzBLR1rcUYw8bD75QD1AyzyCLA4tnTBxMcIoiR/rDvUEi/Qy4jTSwMO1wuzFgs0Jz4bKG8mxy+PNGs84zmLPsNhs5/PzigQuEnAc+iYaK74tjy3VLNAwVTSfNzI43TMxLioqUx73ERUBYe9j4o7YMNVT0XXOKsqgyqbLccuvyhzJY8pX0G/UMtt64HzozvGt+bb+SgJFANMDGgZRCN8OFgduIAo45U6gWWNHmTiYPWM+NzrvMmQkIyljKronSh3+FEoMtAZG+QvpnNG8v8u8hcBGysbM3MyZ0IbXPtm62vzb0t+d5kXtoPAZ/RcLbBgZKi41yjlkNn4uLi6tMzc18jGsKcUhmBz0FHgO9gVC+mzrcNxx0QfJSsWuxOvIBsuJynXIR8lC0NrZGuCo4zblVejr7d/1GP/HBOoJzAupDGoP1QzUCrIIugbkHMgxs0JYRYw51TTyPCU7yjTqKI4Y7xqOF9oZEhkIF6YQVQvr+ibpKNUoxDnGL8b3yeXJxct91frg7OXG6p3pquUA5Tbo5fGY/q4I8RQRKIoy2DlJOtU2lzj8NvUu/yRaG38U+RJRDqIKSQE69fnnXNrq0dbJoMNmwLfCScURyvHOWNbx3n3lBegX6L7nPuo37mz0Bvt0AOkCIgmEDrQQXRDrBmkKkhouN3BDm0Z2OE02gkSZRXs/7i1+IVgeth+nFt0TVgyOC4cFHfko6H/UGcloxnzGOcTQwWDAAcyj2mHkEuqo7Bfq++7a8nr4WwNqC9EXjiPeLbczHzjTPlhGXUUBOdsr4B/aGMsUkQ2kBE78J+8J5sHh4tn30a/Gs8BYwFDBV8JRxxHPB9oA4p3mCOop7RTwXPOE9Bj1w/c5+24BeAm7DLgLxgqyAqIJkyBQOV5E80LPMQo3A0bmQ3o8tii/HVoc4hprEvgRlA30DtkE6PK430PNVcgnygvIHMEgvm6/k8/R3kvmOu0C8Yrya/e8+Bf+kwclD3EcnCaqLqAzzDleQ+xL2kgNOoEq3B0WFQwNEQb1/eP4bO0Y5ODdXdan0XrJnMOSvw++xL1AxAfMS9UN3FXh0ujS8IjzGfaK9V72Lfnx+gb8Uv+fAuIElAfxA2AKKx0FPWFKsUrZPF81+0SkTPJDdTPnJPgd6CB/GP8TlQ7lDCsIE/6i6rPVTscKxI3DAMCougy1+b+q0V3iQezm8S3y1vcD/gkAYASQB/gOsh0/Lkc3HEDTRuJN51BIR785GCv4HTcTXwW49fnsX+Ql4ObdgNdx0XrIPMHZvke/IL8owKTCGcvr00vdrega9Nv89gODBBICKgK1ARgCMQAFALsBGQHaAjID4AQ0HH41w0XjRZ86RjPvPPlC+jthLAsbgRV4FQscRBqMGukVCRCJA/zxjN60zdTI7cU1v+S4wbpVxujbTeqP783vVfHf91z80P4r//b/uQd4FlMhdy23NX89sUWwRYs/KTeoL1olbxcuBAz1nOo95Ube+9cj0yLPUc0ryvrIS8i1yd3IDMuxyw3Qqdfr4vHvYPr8/jQDkgYZCjsMZQhNA1X9ufwm/U3/X/5yAckT9DThRwBNskCUN4tDyUoBQrIuhRkwEBcVRRVeFgQTQxLhDvkIZPz26OTZYdPPynnASLQOrbm6mcwc29fiPedb7g766QOVBscFFgKTAaUIYRI2GbgjmDDcQEZNYEt7RAE8HjN0J2IT3fxd7Z/hpdlz04DPvc9v0c3S0tKG0iLRR9Fd0VXTydKA1H/a+uXi8tf8DQJqBzoMYA9zEIoLIgZFAFsALAFoART/Zv3XD98uxUC6RDo4BDI+QrVMzUE4LH8UogtWEmcTNRILDBgKWgrpCMEAw/CJ4g3aONBwxT+5vLFCvBTMU9bI3DHhl+mi+EYF9wbcAxQBwAJjDKcW9xiTHGAkjDGnQL1F50OCPgg18CgQFwUDLPSH5+rcYdKAydbGEMpQ0FLWwNmk2PjYONrO30fjCeNe5Ino7+5Z+HP9CgGHBWsJtQ2WDakKlAeYAwIATP76+AT91BCLKRoz3DDDKYAv6kWxTk9BlCpMFzgTARfjEjULBAGE/cP/awH+ADH4Ue2K6k3gJdQxxRK5/b5syOHOotKV1nTin/WXBU8N6AzLCMEJoxIOHEwduBlsGrAkDDMOOrM4ADSbL9YrjCIxFEoGjfiq6lPdkdD5yK3Hh8ti0W7UAtXL1prcq+Ug6iroUeQR53DvtPaw+eD6mvtv/2gFnAYOBcMDMQSGBs8HeQKh9V/6YhEzI4Mr5CRTHvsxTEm/SWM9xiYyGcge+B+sGNQLUQHR/br/8gHd+WnuZekt44zdxtRmySrHxc0M0b/PLc+r1IrjMfQa/Vr/XQDBBS4RERutHCMcxxtDIhQwgjeNN/I0KTHHLQ4pCR/lEvYHmPxh72zi/tbEzqvL7sthzPXM5s/G1VffyeYN6UfoHumO7QDyDvN+80H0S/dP/D3/LgAk/6j/KAHOACQA1fnY+awMmB4sKm4p1R8UKVdAP0sERxA0UiJmJMIqkyiOGyoM5wI9AtEEwf9M833ru+UP4pjbDdF5yX/KIdDlz6jM48uP0Q7gdu3Y8c/zKfjgAsIRiRsRHzYfriMqL9w5tT3iOboz5zFqMmgwTivyHxoRrwN/9ZXotN5D1XfMvsaCwvPAY8TKy3zTFtla29repucZ8f7zCPLn7pfuv/Lm9Tv2Y/Wo9s36pAHHB5sHFwIUAi0SFiYYMEYu9CV9L+5FT1BWSGQ0tiTJKOMxQC2PHnAKuAB0ATgBRvq/6RDfU99E2/DXJ9HAyezNm9A8zRTL/crZ0h/dA+MV6RfwBvwBDBEYNh8SINchySk7NZU/pD8XOI01uzjrO/86/i04G2MMwgCi9l3r8dwfzXTBZbvPudK6MsB6xojMS9Fm1Azak+Pn6jXu6u538QD4M/1K/l38AfrC+Kr9WAQrCOAIGwQ+CL4dnDK3Oww1HCsnM2pGXEvLPwwsrh4AIzMmOSFuEVgG4gBLANj+evQk6E/iKODl3jLZt9CqztnSS9iu13PT2tML2Vji/uhk6+7yWf3YCfoW7BttIBMmCy6VODw91jqcNr40czgMO+MzDCjIGbMMrwIi9pjnvdnDzJHDPL5Cu8C7O7w5wG3EpcjRz5XYKeEz6ZHtVPAl9sP8wf+0/c38gvtb/FEBNQUPCF8J8wj7EgQk6zNPN68uKij6MXZDrUf4PDIs2CUtKwgxQyX9ETYCzfyw/NL4hu9l5Hbg5OUq54rkouDH2/vcvd1D2ezUJtN519jc7N9d5KXqtPU6A4QL4RCRE+4YxiJYLN8zGzTcL1cv4zA9Me0tsiQdG8EScwvaAcf18+kw4B/YNNHyyqXEPsSpxRHICsq1zQPVHN9N5hzpBes17lnzGvaX9czzdvRz9hr72QClA2sDzwEDB88YqyXKKesjYyBWMUhHz1HgSns+qDlrPhxAfTfDIoMQKAlCBDABR/mM68DlluSe5znolOMq34LbuNkJ2ALUCNKg0gPVGdg+2bTcU+P96ir0zfmO/4wI1xSIIoEqMy4dMMUwHDVYOOo0NzBYKu0j8h2uFJoHAvr67aLkn9y/1NvO2sneyEXKhctGzZPQHdUq2yTe9t2Y3xbkAOo47hjvs+7J8vD4NwArBJUCff5h/JwGBBamIWojGyIZLVlDkVj1W+9RwEdkR11MTkZ6NxYjHhcaFI8PFwa8+NfuAew36YTkjtsG1OnSaNJezprK4Md6yVbMNs1lzfPNUtTY26fhTuhc7i748QZBFv8isSsaMc82+z/xR3lLeUgNQYA5bTNrLKggSBHEAfjzSele3/vSScmJwv+/+8Dbwh3FVshkyyvNn84x0/7Z09/j4+3liumg7iL19Pk4/OX7lfms+ssDGBRCIb8mFCm2MrpFOVnvYedZYlBmUKVUw1XcSKw0RSObG3gZihFTAnTztOgN5fnjs92/1KjN08dcxZXEa8NewuHC78LpwrbEq8fkzV/U89n24ADqPvfcBZMSAR0IJoEw3jzaR/9OklFkTx5MTkibQRg3pigbGdwLBgCP87zm2NlJ0LHJ0cSXwTm/XL5owN7BxsMmxy3MONO+2uzfoOFO5LjnLO1U8tjzKPKN8Lj2SAVQFzIj5yZKLJk6lE41XXhe5lSRUvpYnV2LXLlMVjoJLyMolSIkFpECu/HU5hbim96j1p7MecYdxHHFzsVnxNTCE8KowuLDSsVmyKLPvdUR29rgWuUX7zP97ghIE4wczSbrNG1DCEzOTd1L9EkoSf1FPj1iL64hBhdBDSkCQ/VE57Pc9tRhzp7ILsThwDnBosLQxC3IJsxB0aXVidnX2i7bJN3f39Dj4+bd5tTpofQZBi8VuB08IJUn2Tk+TalYmVesU9FXs2GlZ0NjdlNBRI06ezNlLGEdFQl++EXqhuSR3+/V88tQxNjCxMXmxtPFVcNSwYXD2sXtyD3MUM650J7UQdnr4G3qdPRE/0oJ+hMFIYUvmzy6RXVJW0pWS1xLzEeUQI81fyo1IIAUTwek+bHsTeLL2RDSSsu/xbXCbcP1xIXHK8qrzPLP0tJ81MLUdNVe1/nbdeDH4pPkeuYc8U4Cgg7iFCoZ0yK8N4FMr1S4VEtUPVzGaa9t7mbRWO9LdkezQD8z4R+5CN74YPH36Wnhc9Y0y9jGBsW4wwDCfr4LvYe+OsGpw1PENcWPydPPq9aM3GXhDOn185b+kgcjEDIawidsNX4+fEMfRilJ50u3SGJA/jQ4KqUiHhrYDYz/GvFU55ngUdms0XLKPMb/xmnI2clOyi3Kksyiz4XSWtSC1U7YqN3R4b/jX+Tf537zDABSCCIOtBR8I903SUUdShVMSFEqXVBmEGYQXxpTQEyBSXRAjDM4IBUMWwJ8+x/zkeiR2g7Sh9CCziLMAcfgwvnDBMURxiPHgsa+yerO1dKI2Ifc5OBC6NXuYvap/hsGSRFzHdcmci4TM4U3gT1hQDI9ADZYLWIn6iIiHKQRbwWL+7f1cvAv6oji09ry1tDVwtOh0ZnNBMuMzZ3QEdOH0/XS4dUy23DeRt+Z3+Tkc/GQ/PAEiAyLFfwlvjWSPc1CKkenTulZ1V2WWoNU/EuCSMZFujxxMasghxF5CtcCn/tb8Snj/dpM1gHSBtDlyWbFk8WHxZLI1MrSyjzOjdBO007YUNpo3nLkR+mt8AL4Hf/BCaITeBwXJDMo9yt6L04xUDETL/YqsCc6JEsgzhpIEv8JbQOl/fL30O9T5gDfPNsR2TTXYNP90NnR+dIk1PvSpNCN0aPU+NbM2LzbBOOt7tz4+wAQCLAR8SD9LrE3uzzUQH9IQlKVVj5VS1BgSsxHgEWrP4M28ChEHG8T7Av1A9f4mOsx4cva19XC0svNIsqNyQLJdcqqyzTLTczLzLHNPtFa1AjZEt9U5GjrhPPz+/kFdA6AFAAaSR59I8QosyumLJgs2yu1KzcqmiZ4ISgaEROPDMIEr/1D9sLuL+mf5NDfpNvp1/fU0NNE0nDQms7jzDLO6tCa0y7W2tkF4gft3vh7AccHmBCpHVUs/jaKPLs/QEVmTW1Tm1OrT51KaEZlQ5w+njZ5LGMhIRcwDiMFM/sk8M3k7tzP19rTa9C6zBfKmsm3ykLLocueyxfMnM1m0KrUEdml3R3jSukc8Q761QG9CHkOxRNGGTYfZCSKKLYq8SuiLA8tSizFKGsjRh3HFq0QpAmeAYP5EvK56wXn+eHg3JLYGtS80TLQXM13y+zK0cxo0pbXGNuC3hrjQOxB+NYBlgjgDS4WwSMxMNY4YT3kPlREYExLUVFSCk4dSIZFVEIPPW002CfxHPcTzQnC/7XzwOfp3/DYI9SHz+/JfcZ+xSTG2sjcypPKtcszzRnQWdUh2SvdEeLu5mPuifY4/UMERApDEJ8XUR3cIVcmLSleLGUu4i39K30oKCRVHwsZCRN8DHMFCv9190/vTOlv41rdFNgb003QEM+tzcHMXMwAzuzRnNUE2nXfL+XC7K30+PsxBcMOrBhrIiEq2jJVPFxE3Er9Ta5OmU9JTwFN3khnQpQ74DPFKlAh8xb8C4QBSfa164rixtnQ0nDMAMjPxSbFRMZ7x/3HC8hYybLLRc500aPU6dg032DmOe3F8zD60gGcCagQIRfQHIAi+CcpLIwvwzBdMAYvKCyKKGUkxB7/F2YQ0ggxAYX5tvFD6uniRdzj1tPRW85ZzBDL4cpxypvLl80K0fjWEdzc4EznTO9/+HMD8AwWFTkf8ygLM+48OUSlS4pQ8FK6U3dRWU/ZTExHAECcNn8stCNfGvcPmgSK+HvumuWO3AzVY83gx1bFuMN/wgnBN8AhwVvE3seIyq/Mm88U1RXcO+QM7EfzgftaBJMNIRZBHSwjeShyLVoxIjR9NLozxzERL3ArFSaLH2kYRBAtCJH/y/bP7T/m/N4l2BbTc85Dy3HIFcV7w4TEescFy4fMxc+21c7foetz9Jn7pATcEL0dlSm/MW05LkHBSV9RYlVBVk5VylOCUNFLu0WWPMUzjyvGIsQZPA8EBFL42u3X5DzcldOyyzbFasEUwJ2+vb0vvYq8lL0CwLzDZskY0MXWa97w5lLwz/nCATkKABLZGHQgfCa6KskufDH6MjgzWTI9MFQsDSgeI0scfBXaDVgGtv279SruFOff4G3b39Ux0EbM2cgCxirCLb7WvV7A68YEzRnSZNpP5W717QKADiEZRCPdMcc9M0dJT19UeVkgXPdaV1i6VMxPRklhQKU1VSyUI7gZJA96AxH57vB66CTgRteZzu7IqMNcvx68SrgGtwu3Sblrva3BBMcKzRXV2N6H6M/y4fzxBkARlBrDIfQnty0eMiQ1JzZNNY0yZC77KhsnrCL7HW0XyQ9+CAYBA/r88cPq8+Lu27DWHtNiz7jLPsh8xFTCrcAdv369V8BNyZ7SoN135pvvrQGyFKwm2DFxOctEkVFzXxtmdGXDYaxfa19NW2xT/ERLNQ8qSSBdF6sKF/4Z8zHpl+E62pDSG8vwwrm8zrjktlK2J7QPs+mzFLedvSHFrs4i2ZfjTfDZ/PsKWRkuJVIvFTe4PQ1DekYTRihDBT4eOO8y/CsiIykZgQ6qBHj72fIL6rHhttn6007Pfcx9ygXJo8dXxvLEp8MAxdHGdMfZyA/L789C1XjZMeBf7LL/GBFuGtwiSTM/TOFkRHDOcLBwVHaff/9/R3R3XypNYEEFNjQobRHN+ILnJdo10VbFtrjTr6mr+qpGq7isOa56sAezyLaYumHA9MYLz5fYn+Kz7Xb6xQrXHOUspTn0RLhRf15OaPFr4mZ/YB9b3VKpRSM0CR/7Cun79+zR29rKebvasXutyquTqpuqIa0Ms0a78sE8x5TMSNI82b7faOMy5hTq4e639CX81gFlBT0ICgyzF/kpDjvjQsZEI0z6XSRya3mqcQlkQ17fX2pbTEsfMHgWOQeE+57u2dsexjO3gLHTsEevD60/q6+tqLRRu2rA+MXFy4DS0tne3wbnZfBA/IQIoRLFG/ckmjGlQLRMaFNyVTlXuFrHXDZZ/07OP+MuIh/cDrD8H+nI1ErDjLcFsOmq8KVVpAynSK0htfC9hcWtzifZeOFe6dDx/fcm/CsA2QHbA+4GLghVCEwJxgoDC/sKaA4QGSMqsTMXMxswkjbPShVbnFplTL89zTt0QGU9cS7RFF7/x/Vg8v3txeEsz5/DZsFrxdrHY8btw3LEecpT0J7V6tl93XbiL+iy7Ovyc/nwAq8OGhegHSAkEy1POdRDPEj6RnZFw0YmR4hCvjZzJfgUTwce+l/soNvRyiG/77lrt1i1KrPjs0q5i8HlyXXRFNo74yXrUPJM+A/9CAEhBbUHyQaDBFYDrwNpBRII/gYNBAoBhf8JC4cdOilNKfMhPCd7PnRT/1WbRnw16TRRPXc+eDIvGe4DFvxN+or5Pe612sHO0sz70XjV7tGty4bKts4l0y3WTdga2QTd4uMy6UjvZPaf/+sL0xbbHdUhXik+Nv1BNke8RHdAPD+uP4o8BTILIeMOjv8x9MTqy91jzeW/yrn/uP25CbnKuAe90MT0zcbWR99B5z3uy/Tr+hsA4wLtBAUHCQc5BcEDmQIYAykH9QcsBRwCxP6uB/0aDSidKbgjkCQaNz1NF1KRRcQ0Ai5XM8M3xi9bGtIEl/hV9gr4yPCC4E3TNM/v07HYGtefz33Mg88A0/PW4teu1mTbKOLv6HHxqfbx/rEL7RanIEwl/imzM6M95ENeQp498DlyNng0AS7gH14QawCO8zzsaOIX1FnGJb5DvIu9Gb58viXBwMcU0CTYVuB/51PubfX++vf+xwBZAiYFmwZbBK4BnAAyACME3AbYBIcB/fvOAaoVLCcPLH8kmyABMXlI3VFYSDw0ximZLc0yDjAIH20JV/sn+MP8lvlu64LcqdTL2LjdaNs91ALPhs+x0+/W99cm2PDbcOJs6abwP/Ww+4YH7BN6HbMhjSQhK5U0ozyvPKI48zRoMYswqi0aJGYWtAVm+CLyIet035nRccYwwszClcJ8wvrER8ovz0/VjNwT5G3sSfQp+dD7ff3h/igBiAO3AvL/4v0O/Pz9hAHcAREB7/s0/YQPtiI8La0pgCADKQI/YE+fTxlATDFNLiAyAzXCK0oZnQYI+rv5pPsn9MXmath+1B/Xatlr1+rRps+Tz8HR09Oi1HPXytv+4afqou879Fb9twlZF3QfMCKNJXQtbzgpPhQ+UjrBMy0xCTCtKj4hShEkAFb2TO8q5jvbfs9Tx8zEy8LwwefDu8eOy/jQ2tdi3tXlmO0T8zf3a/kE+mT8/ADkASj/zv0N/Jv9/AKlA2MDsQHB+4ICZhZnJ9IulCkWI3wx+0hfU/RNgzzEL/0wszXvM4QnCROGAdH5iPoY+pDvK+Hn157U1tdP1w3UCdFUzfTNGdA10qzVNtfX2tjjaOsv8ez24wAHEIAbYyEuIyoo3DPyPARAnj0SOOY0/zLvLwMqGh3UDJz+qvPk6vvgodSGyXDDhL9xvp3A78QjyQDOHdSd2k/i4enp76z1MvlE+Rb6lv0dAH4ATP74++786/5QAuwE1wXIA2L+aQUJGOsoCDDWKHkk5jPSR71PKEqbOJotkS9aMJkuNyR7ERgDSP15/SX7A/II5EDaXdq12r7YjtQ8zxLNZ875zqbPitHc1ITamOLZ6f7urvcfBO8Q/xyuIbYk5SvRM3k88kDSP708aTd6MgMvwyfGGxcL8vrk78DmKdy50MjHhcIEwMm+KMGpxaTLrdCh1OXauOKG6ZTvCvTE9XD2dfjw+qL+Sv81/Iz8If5AATkGXwggCfEGqAPdC0Ueii3aMX4q0iVlNB9Hvk7mRgw1liqLKrQtXCw1Ib4P5AER+9z6Svvb8ormCt9k2oXa69lz1trRi85zzqvOcdAe05HUt9oi5ADpBe8n9+gAKg+oGCsd1yEVKGgwSTgRPUY86TfCMtwuxSypJ9cbGA0q/6n0x+vF4gza09GUy87GCsUsxnDJT8z6zpTSYNdN3Yrkbut17wHxlvJL9T76J/0d/Nn6t/s6/nMAJQWwB2UH4gWCAT8KmB7VLCYw8CkzJ1o0fUetTaNHLjqTLkcraSwXLNYjLxaBBuX8ZP2p/M73Oe8R5b3g7N6V3crZDNbO0lPQndDsz0jOQNG22P7f9OX76HXtPPl+BxkR0RVqGugeBialLlcztTbXNlwyGi81LsYrbSUcGiwMRAA790vu/eVY3lTWw84zylPJGMvCzjvQQ9EM0z3Xp9z948HpY+vL69TtJvH89XX4nvfc+FT6Mfvb/hMDIQYjBl8CiAa3F+ItADhoNJcsfzCIQ0pR3VCHRIoz9yo/K14qPSc4HMIL5wBi/c/8Yfun9APs2+TL4Y7c+dal053O68wSzSnLqsjHyXHOutkf5vvqqOy588T/7Q1VGXccrB9SJjssxTJQOBk6jDrZN5EyKC3XJuse1xRBCYH7l+wD4CPYR9Se0JPKM8MNwZLEnsp+0EfTRdX+2D3ekuT86bPsSe2/7+/y7Pbe+Zb65fx7/88DIgleDSEPswssCHUOVyCeMA82CS90JwgxvkFXS0FHETmeKwAoZCmPKMckFBogDWcF7gGYAF/8dfWN7RbnY+Fa2bfSB85pzLrM2cz8y/HK3c161gXiSetq7jzv8vXfAswNjxQZF8kZxiClKIEueDOpNp42SDSdMDIrFCSkG3oR/gYn+rTrwOCF2tzXh9VD0HjKSMpBzcfR/tYN2bzYhtoh3qLiluaG6LHo+esS8YX08fbM+cL9MgH+BrIKPQwaDccHlAh4Ft8lGTD8LmgmUirjOk1EAkfPP0MzDDAoLs8qsSm9JKMaXBKxDHQHfwKW+oXywu3V6N/fzNN2zaTLx8x0zsjLY8lFyjXPr9gy4s7mm+hO7Pb0RAGJCaoN8hFtF9EfaSjTLZMyojXpNec02jHMKnsi/RqVEh4Jj/z/7o/m7OM34Q3cFNau0FzP39DS0j3U29TX06jUTdiU3T3hJ+TJ5ujqu+8a8xr3OftZ/xkCnQUVCFUJPwn6BLIKjRs7KWoyqi8qKjI0TUOnSJJHPD15MtAx0SxyKTwnqiFiGhkTrAzZB5cCZvue9EPvpedY3FDQrMrYyRLLrcrNxjzFsccQzzjZwOB343nlwelg8mv9bARuCrESMRo0In8p0S3kM6U4Ejn2NgQycSkBId0a3xPrCsn90O8/5zjk9+Fc3IPVEdAhza/MIM6czzHRbtKk02XX0dzQ4GnlqerW76LzoPVO+Nn7cQDnAwMHHgmxCWsINQeKE3wkOTHYNj8wiC+kPAtImknVRSg5rDCTMNUprCd0JwYhuBprFZoOZwlKBev8JfZM8XTmB9rG0J/Ld8ptzIPKxcaRxvTHus0u15jctt6c4fjks+y89uP9sgXaDuwVhR3tJD0qUzAfNPozqzEVLbUlhh7dGQsVOQ8vBin8xvPu7uPqjuWd4Bfa4tNJz7LNEM8K0+XUUda92FrbcN/f5GPoiusm7qfv0vH984r3EfvI/gUBNgCrAtETmiP0L6U0cC37MYc+p0RaRp5CrTcJNcwyTywzLFAqeCaVJQUh4xoHFSkNMQV7AD357e7B4RLWpM+czXPOI8y3yMTGEMfxyq7QgtSv1lDXttnM3lvmiO9O+NkAQwp1Et0Xgh4vJOQpUC7CLdkotyTyIRAgkh5WGbwRzApIBLb+Fvk48qHqteOZ3XHZA9ea1Y/Wl9ip2nzcK9183iXhYuS15uXmoOcL6LXpIu5i9Hb4d/pb+w/7rwk1G9Imri7QK8gr7DYpQHVB/kFWOqo2QDktNZw0eTWCM08yXi7xJkMf4hbfDa4Fkv3e8yPno9oP1B3RBtLN0a/NbcqjyajKQ80Fz/nO8c+u0hHYL9815u/t0PcOAQcKAxHeEy4YohwXIF4ijiFYHoIc1xxOHf8clBnqE8wNIQj8ARX72vSE7l7pjOXq4Xff/N+Q4XrjOuS34pbg/N8l4TziCeO34xzleuaN65LwX/Vi+gz6ufyUCI4WiCE8JlwijyW7Mec4gztsOTc0QTb1OYY42Tg+OG81/DNqMKwq5COqGc8PkghfAcP5k+1Y4/Hecd1Y3Tjb0NU60pPQm8/BzxPOgsw/zPDOmNQJ2zPgmeec7x34JQA2A10FyghzDYcRJhQPFNYTkhWWGFAb5huQGlwXphJHDisJawOn/pv54fSe8bLuIuz36hfqvekz6QLn9OTw4kziW+MJ4//jwuSH5X3oOu0D8DbyHvS99HD/5QvWE08ZrxmFG7Ym0C9GMT8z6zE7Mks4+DehNm85lTjyNrY0ui2uJrEhJBruEt0MBwPF+Rfyy+xU6i7oPeNT3cjYI9UP05/Rkc9szujO98+g0l7WINsD4rLpde8D8/D00PaU+ysBhwVNCIEJGQuhD1oVHBmwGkYZZhbRE6wQ3gvJBtMCKv+V/Mb5C/aM88zzhvPP8pnwLOzk6BboGecF5ibmneRK5F3mguhj6nbtke3M7Yn01f5OCLUQ4BE4ESgaryJFKW8tvSoaKtovdzKVM1g1yTNlNJ01EjE8LFknfSEfHHEXJxCVCWoD/PxH+GX1UvKn7Jrn++HC3Qjctdkm1sLU/dP91DfYiNuZ3j7iEeU758nq2Owv7x3yXvXO+Nb8mABDBf8Krg9jEpETnxN/El4Q3AxuCI0EggFf/sn71vmu+Hr4L/kJ+cP3ivWi87zyifLW8bzvzO3a7bfuFPA48Rrx//GH83D0jfRK9i755f9eB+4Lkg85EmEWPxxnIDkhhSLdIusjyiWjJFkk+yW/JeQlOCTnHzgdHht8FxoUpxCFCvQG8wIM/rL6e/fO87/wue236QTn3uSS4tXhr+JP4wjkk+Wj5jzoqOry6wrteu9X8WXzL/eL+j390QC0AywG0QhpCKQF2wN1AtcAFP8Q/Gn6nfqt+nL69vk5+qz8b/6t/iz+Jfz6+kr80vzw/PP8yvtZ/C7/kP8E/yD/7f5eAe8CDAHv/2EBXAQuB3QHwwbUB8kJyQrTCcoJbgo/CuII7QVlBMcF1gZHBsAFdQWKBlIIqAhHCDoHHAa/BDsD3gFXAI//NwBnAMb/tf8T/9r/3AEYAioC7gEBAaMBbgJ8AjQDngLKAbIC4gILA3gDmQIUAsIBEwCa/hf+OvyS+g759vZq9t71rvQV9KvzYPMJ9Cj1x/U29jD2JPZ19yD52/nw+Q76s/op/K/9GP7B/qT/uADqAScDNQSFBa0GBQfSBz4I7gh5Cc4IkAewBo8F4QT3AysCsADc/4v/RP/+/pr+B/55/Y79Ev6s/lj+9Py/+4/7KfzF/AH9Jv2q/cv+5f/VAO8BCAMUBOEEbgVSBSsFcgWVBs0HugdDB/YG4gd5CfgJPwnQB+kGxwarBp0FiQMHAf/+2P3B/Cj7I/kW9/71y/WY9Rv1rfSA9AT1QPaG9tv2XffX97z4yvl1+lX7dfws/SP+y/7B/+UAVQLdA+IEwgVPBnAH3AiKCXYJHgnKCNkIZgi/BiUF6QP3Am0CMgGo//r+Xf71/aP9a/wx+7f6RfoL+n75NPjg95H4dPmD+oD6Pfrn+vP7Tf2E/pD+Zv7D/oX/NQFuAg4DzgOKBKIF7AZFB6oHYgiICG8I8we+Bk0GFQYjBVMEpwLgAK7/qv7N/Qb9dfvk+eP4OPhf+KX40fj6+A/5DfkW+VX5L/oS+7r7Kfwq/L/87P3E/rD/5ADHATEDcgRlBfQGXwhGCbYJMgngCCQJ4Qi5CPIHrgbnBRkFhgSOBPsDIwMNAjcAC/86/kL9a/yO+9z68foM+776Z/pg+p/6APsP+8T6+fpY+9b7C/wW/Er8sfwr/Qv+lP8mAYYClAOXBKIFYgbCBpgGGQZ8Bb8EzAMDA5ECDgJ7AW0AY/+V/h7+zP1f/cr8xPtH+2372vsy/BH8uPub+637sfux+1P7svoS+rz5DPoZ+0L8Wv1r/mT/ugC5ArwEGwZhBsgFkwVXBnAHMwgcCEMH6wYeB6MH1AcHB+EFqARRA+UBVABP/sn85vtL+3b7VPs/+8P7gfxa/Y39DP1C/AD8DPwU/LL72/pQ+nf6Uftl/J/9Ev/iAJkC/wNSBYgGgAfEB0oHTQZ8BfYEVQTwA3IDfQJOAU0A0v+m/wz/kv0Z/Cz7wvq5+rL61vot+1b7Rvt3+w/8Zfws/Jr7Evve+hn7dPsX/Lr8qf3x/msALAKHA7UEmQVVBswGpAYYBscF3wXvBdIFiwVXBWsFfAV9BUcFrgS5A2cCHQHC/3/+g/3g/E380vt0+2L7uPtA/Or8Qf1I/dz8g/yp/ET9zP1j/Xj8MPx2/Xj/5gBjAbkBtgJdBO0FWwbXBScFvARpBDYEuwP7AkcC1QG2AXoBkwAO/3v9Pfxm+4L6kvnh+N74Pfn6+XX65fqD+w38nfwG/Rj9Gv0w/W79R/5Y/4cA0gEOAz8EfQU/BuIGYwdYB58GaQVTBMkDrgNhA/ECaQIdAt0BiQEsAQIB0wA5AEf/Qv61/bP9s/10/Qj9mvyI/NH8gP1W/v/+RP9r/57/EADDACEB3gAvALL/u/89AMcA+wAHAW4BLQJIA2sEzgRoBJ0DywJBArsBDwEcAAL/BP5J/dz8TPx6+2b6kvkG+a/4ivhY+Kv4qfkG+0T8+fxk/Sn+M/8JAGkARQAHAB0AjQBsAWEC4gJCA+cDxQSkBRIGtwUnBXkE8gNjA60C8gElAY4AYAByAGIA3f/K/i3++f0J/lP+Sf4v/lb+g/7X/hX/6v67/v3+uv9GAJwAwAAtAU8CfgMTBP0DoQNYA2MDhANfAygDJQMhAxoDVQOUA6YDbgODAoUBigC0/1H/5P5C/or9nvz9++D71Ptq+6L68Pns+TD6N/r7+Qj6qfq8+538IP39/f3+UQBBAa4BHwJLAn0CeAI4AiwCbQLNAiQDXANBAy0DLgPkAkUCNgHv//T+If6z/Yf9I/3E/H38l/wR/aL91/3L/Q3+zv75/7YAAQE7AWgB+AF5Ao8CjALPAjgDxANhBLcE5QQTBSIFFQWuBOUDOQOqAgICRwGAABQA2v+9/zT/aP6//WX9b/0C/Tf8d/sT+0b7iPu2+3L7K/uE+zT89/yE/cj9Df7r/gYAAwGyAQECOQJqArcC8wIzA44DgwM7A98CkwJWAk4CPALMATUBqQDCAPQA1wDd/5z+n/36/EH8/vqf+aT4TfhV+JD42fhb+T76WPut/AT+9/7y/84A7QEVA64DHQR0BA0FqgXuBQQGTwa2BiAHOgcgByMHLQcqB3oGTwX5A70C7gE5AVkA9v6g/Wn83ft7+/76QPpV+Rr5WvnD+dn5rfnA+Uz6Nfs0/PH8if0C/p7+qP/EAKsBbwIQA38D/gMtBHEE0wQYBSMFtgQoBNsDbgPHAuwBEAGrAGUAKQDI/z7/6f6y/l7+5v1U/Y78ivvA+lv6Lvoi+if6efo3+0z8Kv32/bT+qP/YAKgBEAKZAk8DMQTRBPAEFgWoBWoGugaaBggGtwXjBQ4GzgXhBN4DBQNkAq4BvQCN/0f+Jf1O/KD7N/un+i/6GPoY+gb6F/o++oj6BftW+2L7qft9/Lr9BP+q//3/agBeAW0CGQNaAxQDBwNRA9gDbwShBIQEFwSLAz0DAQONArsByADj/5X/cP8W/9n+jP5M/tv9OP1+/OP7a/u7+vD5b/md+Q/6mPpS+zn8D/0D/vj+3P+sAEMB4wG5Au8D9QSdBe4FGgbNBpsHEwjyBzoHqAaNBnUG/gUUBQwEGgM0AiMBEwDz/ir+d/2n/PT70fv1+/37wftL+yj7WPvW+y/8LPwF/Br8tPzL/dr+X/9n/2b/sP85AL8ADgE6AXQBrAH5AWgCygL+AuACiAIsAtUBfwFKAQcBpgAkALT/fP9y/4T/Xf+5/sL94vxh/C381vv8+sX5n/hi+K/4Pfnr+Zn6lvul/Lb9x/7a/88AjgFFAvQCcQPwA6QEhQVaBtMGEwd0B8wHmAcABzgGkgUYBX0EugPWAhIClAEWAW4Akf/b/mH+Cv5m/az8CfzD+737wfvS+6/7e/ue+w/8y/yR/QX+X/6h/jj/3P9iAM8ASAHvAZECBgM1A24DWQNjA0IDzwJjAigCLQIbAgwCygGFAYYBlAFtAdgACgAg/0v+zv2I/VH91/wQ/Dj7cPpI+m363vpw+/b7gvwY/fX9If9hADoBZgFNAVIByAF6AhIDYQOtAyYEvQR4Bb4FyQWfBTkF2ARvBN4DIAONAuwBmwFBAZwA4v89/5b++/1T/Zz8NfxJ/GX8efyD/Hv8gPyg/NH8Av1b/bb96P0b/ln+2f5q//L/pwBBAbAB+QE+An8CwAKaAiQCoQEUASsB1gEzAtIBGAGbAJAAjwBXAML//f4g/mz9NP0k/e38j/wv/P779vsH/Dj8lPze/GT9BP6H/hb/0/+CAP8AcQG5Ae8BUgLkAlEDngPbAwMEKAQqBE0EfQRuBCkEsAPBAvsBWAGQADkA8//y/yUAXgBQALL/Cv9N/sX9iP1Q/Vf9Tv0Z/dX8NP23/Rr+3P38/Wr+yv7//tH+0P43/1wAbgBoAFIAfAAYAZ0A1wAtAFAAOQBGAO8AZQAYAcQA9gAgAfD/xv+O/20AOgAeABMANAAaALf/B/4H/g79Rv3v/Rb/Tf+5/7//SgBCAJYBZQELAuwBDALtAicC4wFFAbYCCQJUAM0BJf6eAYv7hAPyFsIHZPpm8p31wQEq/vj7jfzyAl4IuvwS+pD/Cf9jAXL7svkiAFMBTv6S/LT9VP8zAWAARQHw/3r/eQDw/XL//wC4AVMC8QGvAZoB3QDhAi8CnAJhAQECgAGVAscBSwAMAA0AqwFqAGL/k/+u/9AAbwHZ/70AYP8iAUIARQCTAJT/4ABLAN3/fv5F/tr+SADg/qj9wf1r/m7+Pv4y/JT8+P2H/4YA2v6D/h3+3v4PAakDPgFnAAAAJP5JAJ8AZgHTAjMCRf+S/of/dP9DAOb+Mf94/yv/Gv8M/Vr96v9tAMT+3/5GAEEAnP9q//L/VwE4AfgB5wCQA5wClwN7Ai0Crf5qA+MNbwaqAr/8Ov6/B6AEeQLeAbv9cQIa/5b/bQKn/lL+5Pxm/RD9BP5I+mf60/nD+G36Vfx5/QD+Sf5J/iT8NfhnAP4HpwQZ+I30WvcQ/78Fw/ydAasAif6ZB4MGeQtBDRUBIAJ9ABoMcA7hBh4IYAAWBhUCQwNpAaT48fo3/Cb7K/719uz28PiZ9Qf96Pqg9fP3gfmlAQUDe/vG92b4xAQY/yb/DAHGAekEqv3cBPUMxgmq/2D6UQpCCHgFIghQ/o0F2f6n+Q4FjP/uAO4AEfkgATgHbgE0+o/9UAKI/TIDYwIa+/T/w/56/bf/xACtACwAmAFl+rD9o/35+7UCYf6w/Kr+qv17/h4C2QHqAi8E9vyA/h4GeQKmALkDXwNgCVIJ6QCg/gMGgAVVBEcFgAH8ApgCNgDGAC4Ap/4z/rb7afoh+WH7c/2g+0z46/c3+fD8N/xr/Or8AfiT/CwAgf8HAO79xPxRATEAugCYAkz/fAFNA8UCwwY/BO8EGQR0AQ0HRgFAAboASQLcB2ADE/8a/l4A0QHg/NT88AHO/j79P/0dArEAuvpY+Nb9Df9f/GsCbwSTAIf9bPkJ/MIF6wE5/2j71P07/Gn/tAIRA4sBsf2AAZ3+ev2U/ZQBVgLNA97/G/k3/5YCnACaArb9F/u/AuQAgf1dAJkB2/zh/RoH4wCM//sBXAFIBVECM/1r/2cGowLzAmf/LP6LAeoBFQIu/6IAZP5L+O//iQOd/Y/+P/nA/hgA3P6aAaf8QP2KAFIC4AIRA6T5+P9nAncAhQRY/AD+3gT+A4z/u/4gA6UDaAHuAg4DCwVNAfgBzgSc/7P8pv6uAP7+4f1q/McBYQTR90H4nQSRBPoA7Pex9tAAcgBt+uf9fwI3A/cDdP1D+7r/IAC0/2f/8QKgAksAGwO4/ZMBugE6AHIFmgCw/6f8xwEFBvABRv4MAkoHagCO+1v+JwEZAnEBW/yL/Ov8xv7LAYkBK/8D/fj8Gfrn/qICJP5HARD9MP4pAt0CHAS7/hT+2vcT/jYH6wWcAd38pv/UBVoB7ACiC7oLGAmOAeL+VAEmAU0CLgOm/2H8L/Zm/NH+Xvly/uL5mvcN+jj9V/ZF9kH9mfxj+m76Mf2DAUcBif1oAYAEsQNQABkDEAXzB9EHIwTHB58I1AKYA4kFfAQqBlYDF/+p/hkBav6E/sH8avzHAfz+qv7f/SP1XPqgALD6P/uA+3H7Bvwb/rABpAEyAD3/xvsw/c4DbQXpAlQA4/7AA/gF5AWrBkz+AP//BWEHCwG9AbsCEwDAAiT/ef6XALX/C/38+138Iv0O/Qz85Po/+Sz66/7j/1b9jvnS+0X/7fyf+0n+0f5hA+8DKAB/BEr/uf0GAwEHfAmRBTMBNALXBsMHagTOAq0CcAPFA8//Gv+fAEwCWQCg+iv6yf4UAsH81Pex+If7mPsM+139tf3c+if49vlD/CL8Y/9SAd4D6gWHABkAJwG+A/QEPwRuA98GLQjSAVgBDAVnBTABYAT0AbYAmQHs//4BwgI3AkL7DP/X/779fvye+7sA0QKrAIj5rPnd+or+Ev5d/X0ARgAW/i37hPt0/YICmgAEANwBdAJXAm4D8wKEARoD9gXTA4gASP4jAVIHWQEX/XD/wwDn/xkCVv1Q/5UA9/yR/iv8fv+e/7j+UwAuArv/0v0iAOH9Rv1N/xwAOfyy/An/6fwn/p//GgAHASj/k/vh/OAAswEdA7EBM/5L/s7//gCuAT8DMgN6AdsBowG1AYcC7QAGAPj/7AK7A14D5ABR/vT/GwB4/2T+pwIXBQkAwP3x+7P5Sfzr+y/9Q//l/F7+Pv1q/ksA3P7NAFMC8AGJAMD/DgFiAzIFq/98/xQCLgG/AtIBHwMjAU0AIgGQAd4ANgA2ApYEkQF6/Hf8NwDFAFv8XPpi+zkAAwFm/z77zfiQ+1v8tfxG/8j9Sf66/vn+4gF4AmcAkPuR/n0CbgSPAtwArgSRAysE3AT5As8EiAPQAhoBx/8BAesDCQZhA/ABY/4h/pkASwHc/ob/D//n/UAAhgL6Acj8KfkE+XL+D/+N/A39Mf2v+9r8m/xo/Zn/n/15ABUCIgGDALcDTAS+AFP/8f5AAiQE6gEyARgBZwN/BmYE8AJBBLwAjQErBOoAGwL8BeUD9gBr//f99//f/6T8DPlr+tf7CP5C++D3EPiL97j7R/sh/C7/bQBi/yP94fsZ/M3+eQFhBJgEaQDyAJADiQHnAF8CNgPjAu4CPwFYAWAEDQPk//X/+gBe/0b+2/7uAC0AlPw6/Mv8S//Z/2b8q/tq/QH8zfv9/Wv/F//T/qr/XgB7AHX/fwFzAgUE1wQGBJkFpAZIBLADYgNWBGkJLQmdCBsIJATaAhMElga+CQ0K2QW5AqQEIQULBBECSwHsAmgDKQAn/p7+Mf0C/Q78yvlY+mn4OfSg9ab32fgD+HX14vJI8x/zg/NR+I37Zvmp9fHznfWb+SX7Kfxr/Zr9nfuV/Bj++v7j/9YAQQKUAz8ATvxx/rgA+wHtAn8CKADzABYAlwEbA8v/ywD1ANkBnP/K/W//HASkBTIDRAPPAcsDPQY4B3gKgAv1CCEIjgk7DcMRWhOlFE0SWxGIE78QbRBjEVoRvhEuD+8MlQlYBsAGLAZPBN4Bkf7s/Or7YPmg9WT0XPFY8MPwFPDw8QryNe976wXpiee56fbs9u7x7uvvMfAP8dHx+PDi8R/z+/ae+ar7K/vC+j/9q/8zAm0Bff8FAaEDHAZEBYMEbgMlAyQEBgLGAQECdgAhADz/iP0B/+39ivqm+l/8Yf0T/Pz7hPzBABED1AFyAOcCXApIDs8R7RPhFmka4x1cIOsi0iFVHjEgniH4IewifSClHFYZ/hIkDXoIygUqA0z/WvpV93fzI/DW7jjrDOll59fk1+TR49LjtOR94y/jWuN/48jjqOVK5jvqeezH7KXuVO6H8BvyAPPP9n36dP48APIAnwEIAWEBOQSSBmAGjganBUAFHQZjBJMCDQNOA54CiAJGAFT91/sO+wL8evtp/Er8ZPwa/r394f9HACcEggsPDhUNLhA0FBgfLCdeJcYkcCZkKVksbC4jLnAt3inwJH0evRnzFQMPPQhBBZ3+lvje9HXuNuw+6iXmsOO+4oPi6OB+3yDgzuLt44Xk7uS2443jIeOj4prkzufk6fPpwel765jtivFn9Df2FfhB+jn8EP6k/yUBggNHBcEFbwVoA3UDCgXcBGsEcQAB/hwA3gDMAIv/kf3X/Ub7bvtq/SQAQQTE/Tv6ZAEpCZYSyBNYD3wWQRmIH7siUSA7KOgvejX+N4U0TC84LEApPCf2I1Ue5RihEwoOxAfC/SP0iO6U69bowuXj4tPh6N/g20DYptfk2QTcot0y4DLiYOO74+Xil+Oi5MTkEeek653wVfN88rDyH/Oa9U36pf2J/xwAFv+7ANICwgIaAyoC/AFQAwADnQJhAan+/P20/I39M/x2/Tj9xPys+Xn51/cE+Qr8X/mzBV8M7hRDHCAYsxM8FUIWGSTqL4U0tjnCNkU2Cjj+M6MrYyebI7AoUSpiJCgZoQxIA+z8EvgD9Yfwl+qn52/keOF82zLVgtN11cfYW9pd2s3b+92u3sbfY+Ly42Dl5ub36EHssu687+3x8PS09vf35vnR/Lz/sAELAmUAbAE0Az0EOQXVA38CGwOQArH/f/xV+S75PPuZ+uH3u/Vv85n2tfb292H0wfK69ez2VwOsD5wbjCLiHMAWxBpMHs4oFjFWNkc+aT+CPEo59zQNMEkuESaNIa8fhB2WGcQTVgeD/hL1fO5d7GPqGuja45zgvdx51+fS4NBc0g7Y49xQ37vf5N+04G/iDOXQ6I3skPBe8/71Z/jK+Jj4Lvjv+LH7WP/KAQYDkQH7/2v/Cv1S/hQA4QBaAWD/Hv0+++H56vil+HH4EPcD9UbyDfDs8gHzA/ci9er0c/HY7vbwN/MCCDIZHifXKCAcpRPsF7Ei1THgPEhA4UIxRC5ALzsnNUssoykxJREjix+7GscU8g73BQz8CO9H557liegQ7WfrsuTR2pnS3c7A0AHWd9w44JDhK+EH4fTgNeOy5j/qMO4k8rT12fvs/7IAsQAH/uf8Uv4CAKwDTAYOBkkEP//0+1f7Xvxs/+b+Ff0Q+Wr1mvMH8zbzyfNR9LvzcfGP7enqKOkv7bztlvEP7yjxavF58xH1WevS9iQMmSYXOM0rWRRZEMca3S8YPvxCcUcWTWZNIUErN+4s4CsOLEQtsychIAIWCg0SCa0C3fYB6cLi1eLP6SPpoeOF3ALWctFx0KHRYNcl3RrijeX35UfliOMW5tPtpPNd98j2fPhY/lkDOASWAfQBigTQBtoHbQbrA9UCNwLC//f8Xv31+on5Wvp/9lH0KfFC71Pv9u6/7Pfp7OkX7KTsherw5u/n8+jU6wnv3e4W9G3xvvQ89aX2zfOB7e4J3CmtQn49HhX8BE4cRzntTHxIoENnTelTOkxrOUs0sDWlOckz8yfVG9ITNhA5DM0HRPyb53jahtvG4E/lHN370p3NscrXxxrIK82g2Y7i8uNq4rjfOeGb5/7uWvdE/Kv80/0uBgsN/RATD6UJnguuDVcNtAlqCRYLfg5XC+QCWf0H+vP71vvl99TynfDZ7bvs6+sv6QzoWec/5ovkc+Sx5OTl5+cL6/zqduo65wHrE+0Y9L3yi/FK82vzRvXp6XsDxSC7Oj88ehOg/QkRmTFnR3ZGLj8aSjVYPVP6O2Yz8jQEQz5CMTSnJxAhxyH1GxoUBga59NTnyeU36FjtkOQv2M3Ns8f3w1K/tr9gycTWfNxg2Q/Sc9B02FniSuuc8FPxVfiEAqIJPA/pCz0HYQvzD+wRJBE5EuMUTxrFFa8LHAQLA4EItgmSBw8BLPxz+Xf2GvXg8/rwwu847ajrruqq54DlNeaU6iLrTuvH5iXmXeeE7Lvq/+lp5pfnjeo97b/t3eZ66OT04BuXKZIm0wlk8T8LdS3OQDI/bD0xSEtbOVXPOk0t1jwATPVPGT3AK/QrAjBNLI8d2Q7F/zz44fJt85L0bvH15GHZu84DxXXBFr81xUzO+9Ii0EXKLMruzJrSbdTS1VvfXuwN+Wb9dPpZ+7oCBgv0D8QNMg3LE0EeUCNMIB0aPBamGPAa2RhmFRoTxxOoEtUOHAe3/yz9Nvpc+P30PvBS7fHr4+lA5sniId+o3lDfe+AN4EjfQeAX49/kXeVQ40Lk1ufG7MjqRuTA7+8G+RrHH3oGuPFSAEUb8jAnMbwmFy9VQnZHVzi4KY0um0DjSgQ9tC0nLL82eDtkLRYa+A0MDr4MxggoAeL7svm88fvjGtg60SXOn88m0cjR9tEzzwPKYsknzBPPlND/0Rfa/ugn9Fb3ifWh9F/7NAKKBA0ImA8/Ge4eRBuUFPITTRgTGz0Z+xV7FeUV2hNTDD4GXQTYAzMCTP2++HH39PZT9FXwIu3Q6uTq2Oh85wfnf+c/5zbmYuZU54nnOeXm4y7oge0f8bvqXONQ8I0GLRetEvf54+9YBJcdVyhTH/4VAiZbO4883io2G5QhPDdfP5cwKCN+JNgy7jqdK1YWnA2JEc0V4BAOBZEC/AZqBQ77/urz4ODiO+fH5TXihN8s4Lfg8dxm1hjU29ZK2y/gquKn5cDpGu307kDvBe6A7jTyGvn/ACMFnAQFA98CRAWKBkUGswfnC5UQhxArDLoJ0wtVD2AP9wjOA6kEIgYVB2YDOv+K/If61/nE9jP1EfZf9TD1ofIr7wTuYO+/7xrvs+4Z8Ejy9O+H8K31MALhCa8ECfmi9OkA+g9sEiYOwAzrFZ0iayA2FtwRJhhFIjYjzBiCE8YY/yFMJHIc5xP/EzcWPRNtC/4ETgbYCcsIsgBu+q35lPlZ9x7xh+yg7aTu/e2l6hrqMOxw7aTrgueF6AfsNfDG8tPwavJn9fj2Lfhy9qD3IfmJ+6D86/wGAPUBbQPpAggC8wLcAmwCugErAiAFuwY8BgkEPwJtAq0CGwEOAGMAkwHuAb/+n/vw+h39eP7g/CT6Tfrx+6j8evyE+2z7SPz0+8D5jflw+mj6V/t1+gz6//gI+PX31fjz+2n72fpo+Zf7Vf8CAPv/q/27/9kDCwdwCbgINwv1DtMQNxI0EY4SxRV9GHwYBRdZFiIWZxcfFnMVPhWNFIUSRg+ZC8MJdgiNBQUDQgEoAU0ADf4N+8P5v/lG+Ub3b/WM9HX1Q/Yp9fDzSfPi89bzNvPM8QnxLPKO82Tz6vMC9Mf0gPZR9xz41/hE+dv5v/p4/Hb9/PxR/On79vye/Wv9f/vt+X/6R/zW/W398PpK+rf8O/7S/qD9l/xR/q7/6v5r/Qb9Uf1R/k796/rx+XX62vtp/Br8d/r6+oD7L/0g/7v+U/8//+cAzAKBA7EEIgVsCG4LMw2uDh0NhQ6iEHoRSBLpELgQdxK5FCcVNBNuEe0PFw/dDnYMqAssCz4K5Qn2BgUESwH6/00AvAHIArwBigCH/lX9GP32+gr5jPiO+az8mP7N/cn63fbh9an2SPeu96v3WPl2+6n7XPnr9ZT0TPXE9p/3A/dC91b3bfck9jr0fPNU8+/0M/aM9u72rPYu9qf2bfeI+Jv5X/qo+gf8jf34/Wn9aPwT/an+U/9f/hH95v0TAOkA2//0/UT+MQDcAesA7v8IACABGgOyAikBrQCwAZIDHQa8BXwEkAQhBsAI8goSClAI7gg2C+0NfQ5oDRcN5A6xEIQQYw4+Da8NMg/8Dg8N5wplCcYJ9wl6Ca8Ijge4BZEEswOAApkC3QJBA3wC8/8I/Tz74fvs/Hb98/tC+rn4Qfc19sj1SPWD9Xn18fQk9g/3wvfh9ur02fI38mvzPPUI97v3jPcr9sb0APR99Gr2zviI+eX5l/mP+X36FPsM/Fj9LP5n/gz/Wf/GAIMBlAA9/7z9VP3u/swAtwGZASL/Lf10/Uv+JP+u/+P+B//x/0L/Gf/5/3IApQHXARUBVAI/BIAF5Ab7B4AImgmRCW0IMQkQC80MKA4cDp4Nww2NDjYOGg47DqwNDQ4gDfMLswqkCq8LDA0SDaUJ6gUxA3cDSwR4BJID+QHuAOn+fvwL+oP4U/hk+RH6dPnh9/j1i/QW9d/0nvS49Ob0APaK9gr2wfRS9MP0X/UZ9hn2evao9035CvqI+Qz5kvjW+Xj7cfx4/Uj+b/9Y/7r+l/2S/FL9tf7i/+7/tf79/Pj74/te+x77tPrr+ij8Gf1E/RH8Avux+n77C/wP/Gj8LP23/mz/kf5b/er8kP2M/3wBWQObBGEFygXtBeYFmgXGBiEJOgwADyUQaBBdEYQSaBNFE94SExMZFOcUFBRzEs4QnxBQEKQOiww0CmEJ3QgCBlACYv4Q/W/9P/0V/Kj6BPrS+BX3C/X58uvy+fOJ9cv2A/c/9jH1YfXX9YD2J/dF+Af6ZPve+yr7YvpT+vr6bvvZ+4784vxc/Wv9LPwR+3T6kvrY+7H8IPxQ+3X6u/nt+Br4TPeI93r4fvkZ+sT5JPk++OP3DvjP+GL51vmZ+qn7hvwv/Fz7xPpg+0v9F/9vADEBwQGwAiYDLgPzAjoDbwS0BYIG0wZmByMJqQoKDAQN9gzRDSsOWg/9EGgSuxMDE/QRGBCOD68QixFtEhERqA7fDFoLdQr1CHkICQiyB5cGuwOqAVcA2v+w/4X+yfxX+2T6Kvpo+hr67fiN93j2F/Zq9qH2P/d099D3r/el9gn22fXv9UT23fUe9Ub03POi88Pz5fPa85nzIfMw89Lzh/Xm9vX3Bviw9yH3Z/eW+Nj5Y/sC/PL7WPzR/I794f3X/Ur+0v5Z/5n/vf8KAFMALQAhAPX/pP99/6L/mwDYASICWQF4/+P9xv3w/Tz/SACrAGgB0AGGA4YFlgZTB1II2gpbDSsPQxCfECATIxViFoEXRRdhGOsYEhk5GHsWDBboFBgUtxLDEKAPxA2dC6QIrAVpA/wA7v7E/Ij7hfsJ+6r5Nvdo9Ojy9/FH8Ujx+vHP8jDzX/Lv8PvvCfCg8Cnx4PGI8sTy1vJ08s7yx/Mq9Xn29PZv9x/4zfgA+cv4IfkO+s77W/33/WX+R/4r/uj9m/09/Y79Sf7m/u7+9f2h/Hn7T/uF+6v7H/tF+nv6QPtI/G/8efuR+t35yPr1+6/8h/0x/oL/xv8jAOf/WADKAYQCNAQfBmAImwp0CxYMUw2SDg0QehDAEYITbBXsFh8WXhWHFGsU/BT2FG8VPRX0FIsTkRACDjwL0QljCYwIgQf6BVAEGAL3/tz7Wfmb+Of4Xvh59/z1o/XW9Yb1hvRZ8+bzjPWB93z4H/iV9/z29vbH9kj2ufY4+Kr54fkT+Nz1nvSn9Fv18PWK9ub2NfcQ99T2FfYG9Tz0M/Sg9dj2W/eM99L3vvip+I33UPZt9mr4CfoE+yr7OvuA+0n7iPsq/IH96v5FAD8BhAFBASMAmv+RABMCLAPtAqgCawM2BGUEqQMTBAMGawhxCmYKrwrWC34MeA2jDRoPgxGKE0EVLRWeFOMTChNqEykURBViFSgUoBI+EXoQpw4+DFkKGQmqCC8HxQRbAmcAYf90/of9d/xT+3r6T/nQ+G34a/jF+Kv4qfg/+AL4xvfp9xX4zfdv92b2lvUy9fX0ufRt9Cn0a/OB8sDxRvFp8Xfxn/G48cXxYvKj8gnzX/O/82H04/TO9b/2IPib+Tb6vPrf+m77Evyi/Iz9cf6p/3gApABiAAkAVwC9APkAKQHmABcBUAEmASYBggDY/0n/uP/VAIsBfwIhAjUCUgM6BMMFcgalB00J0wqqDPMMGw5rD6QQBRKeEr8ToBSXFTIWuRVxFcQUdRSrFDIUQBNQEXwPTQ4zDdsLUgnMBjMFZQSoAxgCNQDz/pn+Rf4R/RP7a/nw+Bn5Gflq+Nr3hfdK97z2PPXg85PzkvMk89LxiPAI8IDwwvDo76PuYu2e7enume/Z733vne+88MjxZPKF8hbzmvQj9tP2+vZ098T4ZPqG+3L7v/u9/Nb9mv5s/lL+z/7s/9gAEQExASYBAwFfAf4AEwH+AMUBvgLGAucBOQCmAMQB1AO0BLoDhgNkBMcGkQiBCPUHHQjBCdYMiw6mD2IQwxHsE0IUyhMkE6EUEReNGLMYOxeaFmsWgBXYE0oRLxDwDwYQUg+ADHUIMgSQATgA2v8c/x39Dvtm+fz3g/aa9OjyRPK98iHzBvOo8jPy0fH18M/vzu4N78DwfvI1857yQvHj73zvo+9A8CbxL/IP80rzNvNA80PzbPNq883zcfVP98b4IvlH+QX5P/ki+vb6E/wm/dv9Vv4I/53/4v/H/wYAlQAHATIB0AH7AhoEbwS8A2wDmgM8BGMEywPHA+0E8QYPCKQHdQUyBE0G4QlFDKQLRAq9C1MQTxPwECMNhQ16E5kZdhncFFMSRhX/GOkXbRP3ENATvhcEFhgPOgpGCqoLKApeBSABjwBKAVj/lPsY+Wf4yPcB9rXzcfLV8nfyKPEl8Qjz8/Pe8Zzuku2P8Eb0q/Og7+XtqPAd9D/0x/C87jHx5vTK9KDxNfAs8gr1sPW280bzcvba+bP5uPaO9MD2Wfsr/Wj7Dvm9+nL/SwEY/yz7G/tKAKMDoAFw/pX9KQHKBCQEZgG+/20BNwMSA3ECGgLIAioC2P/T/7IDHwhyB3cBsPya/zII/w0iC0oFWAVEDIgT5xJEDbsLnhCmF0UZURbgFBYYcxtjGt8W2hTGFrIYNheVEzARFxGFEGwNhwjlBOUCAAIIARz/Yfyq+Cz1h/NL9Kv0TPLF7gHtru6P8czxDe8L7ePtuu9/8K/vpO7G7y3ynPI18bPvIO+r8AbzBfQF9KXz3vP080X0OPVk9Zv2P/gC+RD6hvpg+hb6ZfpC/Lv9nP5H/47/9f/3/9z+RP7o/1ICTwSIA5sBTAA0ACMC/wJJAdL/TwGaAy4E+QHF+3b6RALoCFcILgFO+NX6Oge+DnUNAwZ5AnQJ9BFtFHYQiQw4EdEYJh2gHGAX/BRHGKUaHhxhHPsZpxiIF8AV9hMEEWoOfAx0CxsLeQiNA6H/J/14/Cn8e/lj9oH0FPO18cDvs+0o7art1u3/7P3rD+t/6m3qrOpv61Dsh+w37EfsgOxk7IXsJO4B8NfxIPMd8rjx5vJW9Mb17fZm+Nz5sfuX/Nz7z/tZ/br+kAByAcYA7ACcAIwAbwBhAZACEQP7AhAC/f++/0H+uP7c/9MAUQGaAI39ffvR+nb5PwKOBvEJqAbd+oT4mgCvCngS6Q3EBTAK1RDFFicVTQ5HDgEWRxv6HLYZDRgsGWMYJRl6GLoYOhqIGI4TZxTZEmkPiwwwCT0JqAsECcoBaPxM+w/9bP1o++n36PTv89HyifA18fPxq/Cf8K3v7eyH7Ojr2uqv7IHufO7X7R7sdeoJ68Xrq+wL7qTvivGG8Rbxe/D771Ty7PNX9c73Ovl4+pL64Pmb+ef6B/7Y/qAB5QE6AY4BgwDTAaUCTgOFA+ICOQOzAp8BIgAfAAwBFALdA30ASP09+k74y/+UBoAG2wNn+Rn3TgKPCJoNZwt0BHcKZhADEmETjw/zEucbLR5bHqsc8hkHHjYfnR7nHyMffh+5HaMZlRhAFuMS2xCwDiIPGA84CBMA0Puj+kD9S/1V+OfzsfD17fvrmemM6HToJui36GDnfeUX5FTip+LN5eLno+d358zmgeYw6hrrkuwo8EvxnPI58+zylfLa9Hn4+/mj/E3+Vv34/Zz9Rv2k/h8AGwLnAX8DfwPDAaIB/v96AMQBJwPbAuD/mv+B/hv+cv8c/yb+JAB4AHb8/PrY9yT6JgXtB8UFkP8Q9/L9KglfDE0Q7gv9CSQU3ROnEtEU8hOyGw8jTiGTHwUeURyyHmgfQSBUIlwf6R2rG5gXXBdJE/QNEA2YDLsL7wn8AlX8FPpu+Ab4Wvaj8gDwJu6x627qseca5gnnE+f556/mAOSy4krjO+ZE6Fvoeef/5uboXumv69Drm+zI8NHxjPOP8wXzGPQF9qf4lPrD/Pz9oP3S/ef9U/9YAMwAUAPyAnUEJwWsASECLwK8Aj4FLgR7A7oATgEBAW8BgwHFABwBOwBr/on7rvh9/50IVAZLCGn6lPbTAt4HixChEAYL1A3qEA8RFxMtEsEXAh9xIv4gsh5oGWEagB86H14lZSJQHTwbVRddF0gWYxLJD20OkA0lC0YEcv1d+vb5dfpZ+JDzCvAn7U/qC+nX5BDkvuQN5bXmwuXq4VfeJd5w4Lrj1ua15cvjd+VK5fHnZuj16W3tDPAe9HvzPPNv8/X0gPmb/A8BhwBLAZIB6AG0BHsFqQUmB8EHFgmKCdIGAQabBMQFHwbXBgIEYANoABQB8f+M/gf++/3q/NP6PPtu8Vf+MgPBBsIIHvuI8s/6uQPNCpkRvwtwDisRnxMUEBEQvxMfHRojNCMxIucYbRtLHS4fRCUYJUUgTRwcF7cV9BQUFfARdQ7+DbkJVAXA/uP6L/gM+Pr3m/Qp8mTuZeoJ6Enko+Q85Lzk9+ao5m7k/OAa3r7dxOGU58Xo5OiB6LvlM+hW6KHq9e3i8Vv27fZ99sb0dPTO9xb8TwBkApcCDgNsASUCvALkAlwF2wbDB+UIxgdEBaIDCgKcA9gD/QWNA04CbwDN/8j9NP5S/gX/gP0W+2f2+PPLAgoBeQilAkj0o/pT/zIHZA7SDWwN/hLdEvERYg7xEm8apyQfJ0YkfR1cGU0euh3GI5EmMyPdH6QcWxYWFBMTtw+XD9UP7gzHBn7/wvlm96v38vZ180vwRe7O6lHnaOP64f3hVONd5s3kLuME4ejenN+K4hbmH+bL5hDpEem37FjsZ+s17ZTwZvb09w353PfL9sn5oPwm/+sA6QJkA/MCKARdAp4BbAT1BJ8G7AhjBjgEwgLcANMBpgIqAwwBlADU/2j+7fzb/KT8b/17/BX6hfQ49wID9AJ/CsIBpfRs/FgAqwfxEDQPqw9sFVwVFBLbD/oTfRmfJIwoHyXOHu8aURyZHI0koyXPIeIf4RqWFRwUURKyDb4O4w5JCtAFtf7i9032Xvco9iHzOPBu687nZ+fg44viq+MS5JPkSuQ+4kfe/96k4YTjVufa5qvl+edv6YrsOewF7VTvJfGr9lj4tPiu+RX68vtQ/TcAsQHuAtwEdwSVBGIEXgQVBZAF/gZ8B/QFiwXNAv4AsQHYALsBlv9xAF3+Cf7c/Df7SPtB+qb57/Xf9En7pwPQA6oHkPn59Xb+cwCBDBYRJxGiExIWeBG+EM8RqBi+IKkoGCn1IiYe9BrqGwEf1yaiJDcjch+qGCwVgRFNDm8MVA5ODugJqwLz+rj1WvUD90701vBZ7h7qs+fs5Vzid+J843fkVuQR4jfgl9784GnkO+aE5x/mHuUL6DDq8O0E75HwLvNZ9I33DPdH+LH62vxuALkBnwLGAVwDaASKBX4HAgahBXoG2gXpBpgFHwPGA1QC2gOYAMf/gPwy/CH91/2g+wz6XPl79uj34/Qm9XP2TgT5A3gGQwGS8yH7oAA1COIOTBJOEWQYBhhYEwkSvxM3GiUjlSdUJDAi6h0LHogd0SD0IhsgVB+GGtIVABQ3EJINSw1ZDLUJvwNr/XH3bvbR9jD2OvMA70nsBegF5iDl9+L25E3mA+aR5Wri5+BA4EPjk+YC6EXq8Oln6qDsLewC7mXvb/HS9cv37fi8+Kj58vo//UAA+v+6AEgB8AD3ApgEIgRZBIwDOQLxAkUDuwKGApoBPAF4/2/+Sfsn+2n7tP3r+yP9Gfti+ZP49PSr8jnzQwEHAUEJ+gTL+L/9q/6AA9ALqRDEEugamxpVFgwTMhaoGQojeynTJsIlGyGwIOwfOCN8JCMiryDxHVcZYBcpFIQP9w64Dc0JHAV0/4X6bfnq+SP3h/PL7kbpl+Z+5U7kl+TF5i7mBuQG4XfdAdxn37XjvubE6Q7oH+bg5p/noOsf707xN/NG9Ez2/vby+L762/x+/3j/RwAKAGkAKALtAykFMgWIBKsCRQH7AJkBLwLuAhwBEf8T/QT7Qfs++fr72voF+3z7T/n090H1W/WO8C/3MgDvAiQIHgQI+eb9PQFbBBsOmBDLE80aBRzTFrYX1hb6GzUkKyY1J7gjPyKgIn4jSiNOJNYfgB0EHLYXLxbSE5kP9g1gDDIHeAGb+8v25fbt98b2e/Ip7T3o6uRl47zhVeID5FblFOWp4pPflN6b3xHjh+aG51PoWOh66dbsZ+6o8AnyhvI39Vj3AvmS+q/8hP4bAPMBhwCiAFoBqgGSBIIFJgW4BJQDrALzAhgCHAEaABX/TP7m/Mj8LPpS++T62fsJ+iv5J/hb9v/20vSl81351gKPA7oJlAE0+40CogP2ClcPyBJaFlAd5B59GnAanxs+H4Il9CfbJOgk6yTVJBUlQSXRIaEedBzHGJMVSRRHEsgOtA31CS0Dhf2W97Lzu/S79Vby5u5U6jbl7uKz4BLe1d564KnhseFX4Ejeqt3S39bhkOPQ5Wjmbufz6ZDsle+a8Vbz0/R+9sL4X/q1/Dv/ewGIA9cD5wMDBDUFGwe3BzIHRgYdBscFXwbGBQ8E5wKFAX3/iv63+/36LfrQ+Wj5kvk290X3Z/Zd8/vyvu5c8pT3aQIqBdAEvAFC+v3/XwOdB+QNpxIGGPAe9R/GG4EZXRsjH24lmifFJVwlOiZYJmkmOCZ0JC0iOh73GM4UQhN0EpARMg/aC9EGu/+1+NvyVfEJ8k/y5O9U6wDnaeMY4O/dK91C3Z7ept/t3nPe396j30ThP+OS49zk/ubv6OjrJO8P8j/0KPZG94P4RfoB/I3+ygDTAv8EbgUCBlsGjgUwBn0GiwUCBp0GsQUHBoIF0AP4AhwBsP39+yv7LvuR/Gv8QPxK+p35Bfn998P2RPWV8zbzGPsnAfsFXwnhAvX/bgPRBH4IZw7ZEAEXnSBmH30czhyrGwUgqyUvI8cghSJuIy8m7ScfJWYi8B1fGFsTuQ/cD2kREBDkDN0HsQAa/J73q/GE8BLwpu0B7PnoPOVg5Ibi797d3ErbENtJ3QffWuDE4Zbi3uLv4i7jSuUY6Kzqxe6x8RP0+PZh99n3Yvpm/MX+6wGcAiQDWAW1BU8GjweKBtwGsgfuBmUG/AUDBYUFiQUjBNUCDwGY/lP9Zvw7/GL9W/wt/NT6SvkF+kD6zviQ98n1ufQQ+7IBYwXpBw4EigAGBB8HfgmmDbcPEhTRG7ocKRvsGwoc5h7oIoIgCx67H6EgKCOfJT8jgyC2HbIYcBMSEcUPyw5jDhcMcgjoA+v+1fj/8xrzmPGN7yXt++iX5QflfuNG4W7gSd+e3rjeZN3Z3M/edOHZ44jlmOUT5nHnTukz7J/uC/Gw8wz2J/hS+nL8cv5TAD0B6AHOAvYDpwUcB6cIvQmaCSUI4wXjBKkFLQd2B9IGjQTXAqcBtP/4/Vv9Rf1A/an8bPv4+B768PmF+Gb4HPWu9Pn35f8UAxMGzgTI/osCVgVFByYLDg3BD9oWohuaGmoalhrmGSIeJx8tHg0fTh/iHzEhPiEJIMIdmxkQFf0RrxDkD+gNFAscCMYE4AFb/cv3zfSt8rPwg+7R6uTnPeef5mPlQ+PP4O3ebt523ivfbeB24kLkG+Ub5mjnZuiO6qrs9e3u8LXzmvWz+F77Sv13AOIB/QB3AbECGQRZBxkJgQjDCNUIAwh0B4IGkQUcBqIGxgUlBPYCrQH+ACYATv4F/Vv8wPuL+1T7zvop+xv7kvrb+Xf4KveV9+/6r/+/BIEGJwRzAlICzgQZCYsMVw4fEY0UBBfFGUca2RmcGn0afBrbGy8dWB7NH6sfNh5wHLUYnhT/EJcPExD2DwgOUAkoBMIAA/4b+//3wvQM8qDwu+7U64bpr+fN5WnkfOLH4A3hLuIe4y7kuOSg5CTlDuYA51fpnOwk72vxZPJD8zb13fde+qz8jv75/yMBqAEJArcCKQRQBrgHxQcvBykGhwXTBVIGoAYFB98G8gVxBCIDIgLrAbcCfQJJAaMAnf9Z/vH+W//m/h7/MP5x/O/8cf1x/U3+hf1p/fr/0QFIAmgC6gCnABEDUgUCCAEJEwiuCLEKMA0fEFYRShGpEXARVhH5EQ8SQRPKFSMXTRfyFFYRQQ7GDA4N1g3yDMAKFwgJBVICSQA6/gP8RfoX+Oz1K/Re8hHw9u537gDuCu4s7TDr/elp6jHrluwJ7qjuCfCs8fPxvPHY8cnyfPWq+Eb6Pftk+1T7lvxS/q7+Gf8EAGwAvwJcBNQDAgOzAvECgASNBVwEHAOUAqsDVgVABagDSALeAWQCgALPAYAAuv/HANUByQCl/4r+p/1F/nr/xv9z/6D+PP2K/af+W/+o/5L/GP9y/xMACgAQAOH/vgBxAmQD/wJKAgsCQgJpA2UE0QTgBCwFSgV1BdQF0QXrBUkG1gbjBisHvgZkBscGAwftBr4GWAb4BTwGogZ9BswFLQVDBLsDQgN/AjQCEgIKAmkBmwAM/wD+VP3w/Bj9nPx+/AX8M/z3+yX7mPoC+s/5P/qV+gj6Jvo0+jf6pfqY+oD6kvo1+j/6bvqB+sj67vok+637rPtX+1D7Efst+5z7bPu++9/8Pf1c/Rb9T/xz/Av9ov1y/hT/RP+V/7X/ev/n/2oANQGWAWwBYgFNAXEBlQH9AegB5gGdAUwBMwFlAZcBcAE6AYgAQwDDAFoBrwFQAaoAWQB7AAIBbQHpASkCrALGAssCkwKgAg8DlwMTBC4E0QT4BP8EFgTKA7YDVwT1BN4E9QSiBJ0EJgSyAwkD6AILA0MDLgPUAn0CVgL9ATgBCwG/AHgAfwATAGf/aP8i/yL/jv9m/7T+N/5o/Q39Yv2f/c/9Df4e/t79sP0L/aD8dPzK/CP9Zf26/bv9gP0P/cj8nvzk/Gj9uv0q/hH+lP15/Vz9lP0Z/n/+v/7h/gn/0P7X/r/+nv7s/nz/t//L/+j/gv+m/43/pP+i/7b/9P9yAK0ATAADAGL/p/89AI4A9gAEAcQAggBOAAUAQwDXACoByAHXAZUBYwEfAfcA9QBNAWkB0AEGAuYBlAElAegArADQACcBowGZAT8B5QDbAOMACgHvAFwAPgAuAJAA3wAdARgB7wDgAKIAkgBaABcARwDZAEABOQHcAEkA7//X/+H/vv99/2v/Vf9z/3j/Rf8X/wP/z/6U/mz+H/5I/s/+R/+R/3P/D/+s/mH+jf4Y/4P/z//c/57/Kv/X/tX+5v4X/0n/av8//73+H/7F/Qr+l/7t/tH+XP7l/cn9vv23/Q7+g/4g/2D/Ov/c/p7+4P5U/+r/bQChAPEAKgH9AMEA6QBgAeQBaQJuAloCaAKzArgCnAKuAmoCkwKhAmgCSwJMAk4CWAIoApwBWQEkAS4BWQE5AU0BTgESAcQAYQAQANv/6f8RAEAAhQCgAJQAXwAeANX/wv+8/9D/DgAmAF0AqwDnAAgB3ABFALX/cf+Q/ycAswDgAK0AMwDN/3H/Hv82/3D/i/9o///+Zv4a/i3+Z/58/mb+Fv6g/Wr9Tf1X/X79oP3Q/Qv+4f1Y/RT9Mv3C/X7+0f7A/pb+bv6a/tj+9f4h/4v/LwCSAIgAWwBLAD4AVwCUANsAOwGCAYABXgFKAe0A5ADtAOUAOgF/Aa0BsgF2ASsBXwFXAXUBkQFuAXABbAFoAVkBpQG9AbYBfwEOAZ0AiwDGAAABLgEWAegA0AC/ALwAtwA9ANT/nf+Q/xQAgwCcAHwAHQCd/zD/C/8d/2v/yf/U/9r/4v/A/5j/Zv8V/yf/gv+a/7D/i/+N/9H/2f+Z/yn/4v4S/4P/rv+B/w3/v/7N/v7+9f7J/qr+kv68/tH+qv6p/qn+pf6C/i3+7f3a/Un+Bv+F/8j/ov8X/4z+Z/6Y/iL//P+UADMBSwESAacALQAmAD0AwgBBAa0BrAFHAd4AnwDAAO8A9wDcALIAkgCTAJEAwQD3AEkBGwGIADAAHAB9AAsBJgH3AOEA3ADKAMUAswCfAOwAJgFxAWsBPQEPAQIBAgHvABABCAEqAWcBXwFbAWkBBAETASEB1wAHAQYBzACiAKAAiwCaAIAAIQD1/8f/lP+T/6H/l/9h/wP/zv61/q7+sf6C/jv+7f0F/nD+t/7e/rL+Uv4n/i/+GP7Y/Qf+jP5I//T/+P94/8b+Wf5W/uz+cP8AAIgAuwC6AFYAx////pj+5/5x/93////u/8L/sv+g/0b/5v5z/kX+nf4E/1v/pf+1/5H/Uf8S/9j+3P4z/6j/hwAFASUByQBuAIUAAAGxAQcCCwLoAR0CNgKCAqkCpwKeAnQCXwJCAksCmAIKAxAD3wJ5AgICuwGUAbQB6AEAAs8BcwH4ALkAkwBrADIA8P/j/+f/2f+q/2b/Sf9+/4P/Mv/q/n7+kv7f/h3/Gf/x/ub+1/60/pj+fv6C/gX/c/+z/8z/cP8P//n+9v4m/33/mv/R/9r/yv+H/0j/N/8R/yz/A//2/vf+BP88/zT/+v6j/mP+Hv5E/nX+Zf4k/uz91/0e/p3+m/5l/hT+1/0U/p3+0P6x/qP+3/4y/27/iv9x/5T/AABoAKMAsAC4AOYAPgGTAc8BwwGlAb0BGALDAv4C7gK6AkcCRgKTAvUCSwNaAxgDuQJsAhYC6AHmAQoCFwISAt0BTAHEAJsA3AAJARIB9gCWAFwAHgDZ/7H/wv/S/+//9v+6/3H/Ov9S/2v/cP+R/3X/bP9s/2X/ff92/3b/Wv8k/xX/Dv8c/x//LP8P/83+e/5W/mD+hf7D/tv+5f7I/nv+Hf7c/QP+cf7K/vv+1f5+/kf+Wv6F/qz+Ev9e/0//7P6B/lv+jf4T/3j/v//k/+D/uv+B/37/oP/Y/zMAbACFAKQArAC0ANIA+wAWAR8BJQE3AVwBrwEIAjkCWAJdAjwC9QG5AZ4B9wFhAo0CgAIKApYBXAFGAVQBVgFGAUMBNQEgAdEAigBMACUAGAAaABAA/f8AAAUAAwDw/8H/j/9I/1P/fv+j/8r/5v8ZAAoAv/9e/0f/Zf+c/9j/8f/e/6T/e/9R/1L/Sv9S/2n/Zf9D/yr/E//T/rX+q/68/rv+d/4q/uP9+P1S/pr+yf6z/ln+A/7Q/dz9S/7g/mf/nP+c/3r/Tf9E/1j/if/V/0EAmwDZAOoA1AC3AI8AggBvAG8A4ABRAYUBnAF3AWQBQwH+AOIAAQE1AY0BowGEAW8BOQEHAcYAlwCaANMA+QAQARoB7ACfAHEAbwCGALAA0gDhAL0AiABmAGYAewCLAJUAdgBvAD0ALgA/ADkAPQBfAFcAKAD1/83/6f85AHYAawBZAEYAMAAcABkAKAA7AGAAbABNAB0ABQDm/87/r/+X/4T/hf+K/23/Sf8T//7+/P7y/vb+sv5x/if+GP50/sn+zv64/pb+I/4E/jP+hf73/jz/Sf8b/+r+C/9j/8D/AAAAANX/4P8qAJ4AFgEyARYB5QDNANwAAgFRAZEBtgHrARMC4wF8ATsBPQFWAW8BagFVAWsBWwEnAc4AcgA5ABgADwAMAO7/2f/L/5r/V/8M/6X+cv6G/s3+MP9u/2j/Lf/T/r3+5/75/iD/gf/g/yQAdABuACQAEAAaAPD/2v8dAFQAhwCpAJIATgAKAPz/7//O/5b/ev+k/7v/2f/Y/6D/Ov/0/tT+sf6x/iz/Xv/5/sH+1v4k/0v/Tv8Y/73+Pv+s/w8A/v84AKEA1AAnAW4ARgBmAF0BegHUAaoBxAEhAsYBnQEJAYYBLwEbAfwAIwEIAf8AuQB1ADgAzv8BALL/FQAZAGH/0/5Q/8f+xf8O/wT/YP8n/yEA1v9OAB0Ao//O/wMAaAAdAMr/3P9ZAIH/bf9Q/lsJqRmNDyL4juz99fwHEBL4AcfvrPJYAvENwQZC9CPvP/s+BBEBpP3y9cX1KQI9AMgChvk07WwAuwfuBnL6l/stBDj4aQKxDnIBiu8U+IoUsxEU///2ofuwEP8Gnf3kBp74TwGzDM4JPQiE/w33hgVECoP/IQeu+STy0wcpB1UMdfYL9XMHUv63Aqn7Pfti70b4/BoSAR7g0/LrEnEHgfak9ATvtgD0CMH8x/G0/mwKaPps8K4C0hFd+eL80PinBhQO8fmgBVz78gNh/579mgi/AdYL+v+b6sgJMRvb8ubyFAotAJ8IGwat71v9oQk/CUH/CumH/J4PmP5LAFj3+fZLCDgP3/325Pj3gCVM/r3fZRcQBCbyChbu/xzrlRQx+a76oRGp8rAQ5ANw/hAMW/uX/bf3OQgvG9P73OO0AEcZXQo180/tcvtcE2ULYP0V8e/iiwbFI5MEs+Xu82P/7AhLCo7yu/AUEjkDofWEC4Tr8f49FGb0ufioEGP+Uu8FB58Kkw+t+n/iJAGXJ9r6O90tD/wOEvTqDqz4ZuqeC4cHOQQA9XL1aAjKCzX1LfOBAqwErgba7/r6GQTJ+7UEPQ1F79/g+iOeAKLwnRAe/uz0HPp5C4b5Bwjh+UfukBsUAYP4eQaw9Hr5FQjuDW/5hvZU9awOGBdr9C3zwQQu/rD7sBWt/sLoSwswBQ0JSgi830IJxAitAkUIRPVX+gAHgQGyCpj+susyBb4DhQ7yAEHzPvXe/3oaTggh7AL1J/g3ECcHHPHq/9P8UARFDe/8j/g17pj4ByZjBtXe4fpUDSABfP93Daf5TuwcDQABQ/2ODJT6yPetCw32TwWNEy3b0ACdFlQIHO268TgPTv9bDzX0Kut7BP4JpgvQ7Rfurf+KFfQHjOaW9zAFCwzwA2frzf1YAxwIqv+M7lwL5Ahl9mD+4QbhAWD/O/VHBNMGiAG5DL3ubvgYFL4Gnf4O80T+1w/BCz7vuvlLEXoIvvtr6uMJ5RQiARL1ZfeeDaUKMvzJ/HbtCQlHGqHzyfgZBNz94wKdCPEE5u2C8dwLegrUCS77mO3J++kZPQSG9PP0EvqVEZwLuP2X5eIJ1gcN9woPWv7+68YAthKH/2jzafOKA74VaQAU61n99AQPAL8FVv1r9ir8Jf6kB+cARQOF+tf0lQAgBYcCMu77A58M/QV282X2NgheBpMFKOzZ/XUUSP3l8tcHtwCi+7ATg/wz7Q4DHgtXBO0ANgAe/yb/4v45DTwCPfd/AKUDswRuBuX80vK9ClIPkPiA/kH9RQDeENf8Efq//X4ADAJaBsf9EvvNCI0Cffm1+5IDrfykA3b94Pvf/oQDxwjp9tL38QJFB5L/9PjR/BYGbAHZ/XH9DASfA+L43v9FAbr+Vf2K/d0EugON/tX2Jf66AcYAggLw92r5VQbYBr73Q/fkBxcGR/pB+WD3x/+sACELjASb8BUA2QSdA0T5rPdMAwkIUf4z/o4BIP0k/0UDvAa6+pL1Jv4fCssLw/yW9Av/KQf7BqX/T/ff/csFXwRfBGb+MftxAbAM2gO298j6DgEXDb8JxvXb+dACdwP3CDAB3/N2/IAMMgLEAOn3UP6LBAkBNgO1/Rz6CPubCV0GzP1n+mX8jQP3BLv/QPcT/NMHfwPQ+kn+xwFdAhsAmf39/Vb+dAF6AOn6of9yBGoDh//w+UX7bwSz/ioA3f9x+tH/Mf/d/2kCDwFg+ekBSQPt/Hr95/bTBT8GDf5H/jj5DQZFBX79IPzh+rsB0AIL/j8FIQBX/UIEzP6cADf+Lf5dAxcDQwBxAE0D3f6QAVD/JAS8Amv+E/8Q/4QDsgBaALD9jQGrAZUD5v5r/WECIQHPAAH+8/2o+lYDLwMO/48EIgPI++D+zP99/NsA1v3FASEDWv+j/gL/VwJDBHQB+PvB+1L+SAI6BiwDmQBzATr+2P7C/wX8dvvc/8QDqgG1AOf/fPwi/5r8sv2pAdH/Z/xF+CQD9QT9A1L9x/ap/1kBbgH+/AD6k//8AV8E1QWV/MX6evzdBLEHvfxc+ln6ZgQaC+EBFfvW/QADGgdi/or2Jv41AgQFAwZG/qL6vgA2Ax0BeAJd/wT6uPyHBuYHo/2P/DD8FQFeBbkFFf2++v4EvAHz/2D/NP+4AIcB9AFS/8f8rQHtAGb/AwJ9/y3+7/vh/Y0BBgU3/977Cf46Au4CEv9GAEUAnwIx/3P+z/1i//kCvAEWAFL/ef1Q/VQDSQKE/QX8yvthAFEEoAAyAQD/cv2UAYMAhP37/Ff+cARMBWT+u/7G/eb+sQB8/+n8rvzbAF4E+gMD/0T7Jv03A/wEAQDb+0L+EANnBccC3v61/dIAbQAOAd8BW/9HAL8ATAJdAoT/xPwy/igBdAR6AGr8GP+LAUcFZAA+/Tb/MP4+ABsCwwDqAHH+5/6zAUD++P2Z/pv/iADS/6T/LABc/4X+4P+6/4IBTAFW/wr/CgAUAlIDZwA//0EA7f0i/tIBnQG9ABwC4f7P/9v+yP5qAOr/9QDR/9n+bf4R//4AqAEs//b9zf0E/w8AW/+8/lP+s/5Q/9T+Q/9b/80AfwFH/mT/EQCHAKYB1f8XAewCDgGb/9j9jP/0AVwBSALGAUUBJwAwAEv+9AA/A1wA6P9DAN0B6AEKAiUBuv9v/ZD8//2XAKEBUQHUACf/P/4H/6z+wPz1/Sr/OwG7AbP/av5UAjcDYQFKAX3/lAAa/yb/TAD0/sUBiwKnAEoBgf+A/jsAxAB2/83+6/2m/Qv/ZADpACIBfgF+AHj9Wfw2/v79/vxd/FH/swLoAWT/LP65//MAkf6e/Ff/tQBxAiMD1wC7AIwB3v+w/0z/bv2e/mb/KgJuA2kB4/7v/18BFQEsAMr9tf78AaEFhALu/U7+wgDiAWMAU/9U/3YBngD1ANX/Hf7w//wBzgNU/zv9ff8yAQsBTAGRATj/9f7V/z8A3/5n/wkAif/P//cACwIxAEn/qP9dANP+yP8iAG0AzwHwAN7/MAAuAC7+HgBgAOv+X/29/cMA1QHjATP/Efzr+4IATwPJAH3+RP4hAJv/Lf62/d4AxQJDAbz/wf5OAEP+tv5s/3v/YwFvAA7/iQBaAW8C7AC5/Dj9Bf4JALb/kwCPAYIB6QAn/1z/+v7h/hP/TAHSAVkA1v83AWgC3wLsAYz/0/5DAPj/jP5dAYIDtwL+ARcAjf68/0cBRQL1AfT/oP8F/+X/ugLhAfQB/AEXAGH/nf+B/+n+9/+XAe0B4wAvAIEAdv9C/lj9z/71AWQAA/8X/5//av4q/d3+0QB5AAH9m/xC/o//7gC6Aer/8vzr/VUApf+K/Vv+WwAOAeX99PwR/Q/9C/+z/4X/EwGyAO/8cvsP/T0BswGRAJ/9Hf6AAOj+fwB4A1wB6/yQ/e8A0QFrAMn+Zv8eBGoCAv+OAOEDbAZrAywAMALNA0kBuAEoAxgGtAcsBGUAfQKsBvkGYgNQAXgERQdbBuMBQQKXBMMF4wV+BGYEjgIGAzgDwgI8A3oBm/4kAKUDvQKv//n++f+b/nn9qfsj+o399P4K/ZP8y/z6/sX68Pb39xj5f/nR96P3Qvgn/FT9zvgC9gn1XfeH9oL0Kffm+En6Y/qS+PP4IflV+vP5+/f2+Sj8bPxq/Sz/wP75/bH98v5UAf7+Dv3//pEC5QPrAXQAFABAAZ4DxwLHADf/EwCeAigEMgPtAOv/xwG/BKUEHAWHBVsGDAoHDCcL5Qw/ELAQPRAfE/MWIxdWFTQWEBmJGWIYzxavE+cPSA0eDcgNXgpVBT4C8/80/xv95Pjo9Rv0iPJ38HXvvO+j79vu8e7o7f7t9+1l7T3vmu9J7w7wG/Fm87L00fKi8/D0PvRK9K31lfV79lf4xvnK/PP8WPsK+rf5efmD+hj7avvV/Jf8CvuA/OP9S/0R/kX9gPwN/Wv8mfvs/GAAJgK8ASACWwE9ABEASAGYAdf+Df8IAGIC+gSGBBwDVQPgBVgI8gcYCMcK/w6EFNcaKR3vG8EfbyFCJCgnKiYKJV8n1CnQJXAhahw1F6QRoQ75CEACFv0Z94zy9e7Z6pznLeec5WDjheMl4z7k+Oa86BLrTOua633tNu+28G/ymfQk9o71X/Vy9pL3a/eQ9kv1pvVq97v4/fm6+RT59Phj/GT8C/oV+kr5Qfns+sn5v/c/+b75ffqC/Er7hfnQ++f9G/4E/+AAaADUAAECeQIaBvkGXgXcBDQF0QRmBJYCeAACAZUDqAdYCHUGoAY8CUwPPxHrEAMTqBaDIK0ofCyvK0AraitgKmwpKCYOIj0ezhrQFCIQ8QrRA1v97vfP7y/ogeM53zzdPN6M3xnhl+Jy4wXlQug66sXqxuxe7tzwdPNE9Sn3kvjM+dD68fps+Xn2iPST9ED1ffZr93X3h/iD+8/7QPvj+oH5+PiT+O/3efhW+aj4mvh2+av5EPnY+fH5sPmP+un6vfxP/y8CpQLWBNEH3gfrBzsHbAUzB+UIawffBUgGtQbXBuQF6wXVBX8GKAflCicWpB5XJmooBCiPKXsq/CkxJwQlKCQ8IxMiXSDzHAMYNw8eBub9kvWK6/zi/t5531zh/eF74TLiWON/44Tj/+UR5x/nzulP7fXynPbc+Yj7EPwY/aj7+vhg90z25vRC9SH43fkC+RX4yvh3+uD4KPZ79W73s/iO+n78Hf30/iX+7vua+mD5U/dc+CH6CfoD/rcAKgA6AZADCwLLAhoDWAAbAL4BRwUOCAwJ/ghnB/kGxAZgA0r/O/5+/pcBmQB2/0sH3hObI6Isli10KrQngChlKcsnjCU9JN8jOiMvIp8fOho3E1wJuP/e8n3l59ue177YE9324T/jveFb4bvkbekg6rXp+ejk6i7vIfMM+WD9UgFHA3UDvQFU/pT6NPjs93f2lPU09mj2rvZF+Vf76vl095z2b/RV81n11ve8+Kr82f45/uL+pvwv/ej9Yfzg+9/7w/sj/fUAJgWhB3kHLQdZBu0F6gLCAFcCVgNvBEMEWQLRArkC0QFLAeT/Sf1d+4D5PPq5+qP6ePjb+hAKzB3LMNA1yjCTLzkyRzTEMS0qbSQoIV4gPyAEHeQZdRUKDzAF6/XR4/HU5clIyEPNFdKH1sDZNd145IPrf+/v8Mzwv/A085T1zfar/E4E4QtoEJQQBQ50CIoD7v8o/Mj4+/Qi8oP0xPWO+Ib71voT+s/5Sfi89sX02vMD9lv7Mf47/v79nv0r/zwBwACf/Zv8wPwD/Rb/oAHzAgkEtgVWB14H4gNkAPv/QQKNApsBB//r/ST/bP60/Bb5h/N38YXxivAt8HzxnPNU+sr9vv4s+Zrz3f7aF+0zI0J8P6A3XDnUQwFIZz1EL4EoSCcbJP0bSxR0EXsQqQkq+1nnl9Nxw6O7Tbs0wtjHVcmaypDRGuDB7GTyZPPa9Bv4Rvpk+w7/VgYZFLogFyg5KeMjNiAKHWAW8Q/ABpb7RPbW8ObwKvfE+an6nPhO8hfu4ed24tvjoube6ALvMfTe9yv/uQUNDdQQAAzNBzMDswCuAgUCCAR8B5MIawkmCMwDRAAH+lnzMPLv7z/tAuwg7uDxx/a396/zoPBd7uXtG+5x7Qfvv/BE9D36tf+UAgoHEggOBzUBZfdX+kYQTjDWR1VLEEDUPWZIVk/4RHUumB+jHQgadBEyCgYJJw6EDTADaPCz2nnHvLpytmm868LpxbHI3tCQ4n/0xv2kAKAA+f+5/y/9x/36A8EPfhxEJqYp4SfjJawhcR1GFrYKqv1G88XsPu5n87f2Rfr8+cL33fQP8Pbqj+aB5wPrw+6Z8fbzQvpCBBUNzhGVDq8JTwWUAosDNAJkAfYCsASCBQQEi/+V+7n3UvO27rDoyOST4zfkXOid7Qbxw/Lb8NHvSfGK8ib0D/Yu9xz6Gv18AHYD3wWaB3YJvwhnCqUIWwaHAIb1+PmOEsQxXUUKRo05ejoyRylKoD2EKb8c5hsqF5oOEgq7B4gNpA5WBC70TeDOy/zBpL4uwuHE3cMryh7WxOd6+YcBZQSFBjcFpwTrAcX/lAPRCr0TSR1wIRIjpCSgIdYdwxQQBa33Lu8R6WPpB+sP7GnwKvUN+UH56/WT8SztCOyb7cvuQvCF81370AZSDqsSdhIkEPgO/AzcCXQDRv1h/L7+ggD1/yX+h/4c/5r9Z/nH8trrmObY4fHe+N5C4I3ieOVH6jTuAPBh79zwrvSD9yn56PmD+1kAcARFCnYPLxI3FKYTExMzE3gMeQLpABgQiixAPgw+XjVOMo8+sEc1PI0pUxl0EDMNiASN/bv+wwCGA4r/IPEl5+jZCNCWzxjPNs82z8DN2dg37AL8WAnTDKwNdhBaDeYJHQkHBvcGPwlbC3MP9w/IECATfxG7DOICW/Ze72bpP+bX5pHnPeu67qTxoPan+u38Sf3C+t/5Y/os+aH6fv63BHQKMQ6GD1kRqRG0EHMP9wisAeb80fks+Qf5Pfhb+Tf7HPxL+uz3+fRB8HnqJ+X94L3fGeFC5Gnoeuvn8Ov1RPkR/NX9Nv/x//f/twENA0gFXAi/C3EOdRBCEJsPwQ7OCUb/9vmVB7sebDJsM3IqfCwKORREa0FqMEQjaRtyEmoLPAUABMsFWwMc/2j4N+yi4qXYZ9Th023QX8v8yH3O5dxe7Yz5RQH6A4AGmAkgC0ULLgobCRwK0QlNCmYNqhDCE80UJxH4Cp8Cdfsn+TD2/PPx8DrrHusA7p7xqPhh+4X7x/wN/EH8tvxo+3f8Mf5nAS4DygLsBPEI4AtfDc8LxQZcAV39JfvR+XX3dPbs91v4e/n++pf7oPoV+MLzhe+y6jrnxuUx5uPnNukH7Jnvt/Tt+af8sf4+ACkADQEaAVoCQANqBHEGTwegCFkKiQrfCAMCGvxiBEUWsyn3MewrUSq+NAdBmkbFPOgskyKcGugTWgzvBE4C6f+G+rD0Xeth4WXZ9NSK047RXcxkyV3Lp9Wk5mDy1vnt/+8E8AsDEioUohVCFYoUBxVeFQQWFBcbF0EX7hPWDOkErP3N+Wz3g/Mj7rfo7+QT5ZnnOutu7kzwwPGJ9AP4UPwcAD0BmAIPBr4Irgr4CyQMmQ3mDWoLwQh8BVkDnQJYAaT/IP30+Xf4L/hs9/j2svQf8mfwb+5F7OTqk+jt5oLmmOZO6Ovqk+7/8Wb17flN/hQB7gIRBG4GngeECAAIXAcZCAgIgQg0CVgIEgXY/UH+4Q3PIBkvMC8gKYwubzstRJhCLDMKJ18fCxVfD4YH7wCc/qv4lvKI7v7m0uFL3W3ZzNcZ08rMs8wT0izcp+iR7xb1q/t+A8oNchW9F1oZiRjUGO0a7Bl7GG0WnBL4EHsNcwgsBEH+qvnv9f/wneun5szjjeRH5rvn3uhQ6r3sEfIg+B78GP/wABgDFwepCbAKkwv1Cj8LVwsHCaAGwASaAxADHAEw/v377PqA+h/6j/hT9szzZvF379DtTes76QboKein6dDqCe1f77HyZfY7+k79H//hAEwDQgUgB9sGHQZxBlcHQwjmB+MHrwhiCAEGzQFYBegVsCV7L/MtISrNMhU+XkN7QIwyQCd6IKcXVRLkCbsAIPow8snrx+d84dDd9tqT2MLWBtRK0UzStteY3jPmjOoX7qj0j/54CZUScBVvFuoXOxmUGwUcyRj0FLEQYA2ECRMEkf9i/B369Pan8rvt+un66Nzoueh/6Rbpk+t98FH1xPqD/Vf+OgH+AwAI1gqnCewJyArmChsLQAkGB7wGhgVhA+kAgv2U+3j7TPsd+wb6rvfs9Q71YPQt8ybw3uzC6mHpsemb6qHrme338BH0FPfL+dn7sv6oAZMDXgTMA34EkwabCEMKqwoPCzoMzAt2CToEnABrBxcUzR8eI34gASQBL0468T4HOWowZihiIFgaJhLACggCGvgt8evrzOe85Cjgid7G3APaDdjE1mfa++Cx5Y7o1+rW7kH3KQAZCFAMTg1KDxsT7RYBGboWVhJuDz4NbQvMCHgDQP8g/Db4GPZE84rwffCe78vvz/Bd7/fwxvNY9pH5UfoO+xX9qv4FAsQEbgSDBN4E8AXPB3wHEAZsBUEEvALSADL+4/yY/HH8pPzA/D/8Q/v/+cj4rPZI88zvlu3n7E3sn+sh7Cnu/vEz9cX2c/h2+rv8pP/0AdQDNAXjBYEH+Am/CpYKuwkUBwcGgwU/BLMCCP7Y/KMFnhKGHiEjhiJxKEI0aD3VPhw3ti08KLYjth6zF3IO5APx+9b1D/DC6VThRtoX2FzV8NMi1CLVA9sE4NDhHORi5kPrRvS6+gH/FwI6BKEJDBHMFiAaOBn4Fu8W7BXDE3UREQzXBq0CYv36+fz20PO88kXxYfB68UnxVvKr88ryKfM68+3y5PXh+Nr6RP0s/pP/YgI+BHAFpwXbBCkFLwbRBvAGFQZzBXcFXwUFBbEDfAF8/7j9FvxQ+ub3O/XI8gXxJ+/b7LPrt+uy7PLthO7b7iLwb/JU9qf65/1EACUDSQYlCj0MBgt5CU8HRAb/BnkGpQQZAZT9AgK3C3MU9Bk2GYYcwCdpMBU23TP3LLIs7CrXJyIkGhmSDhQFSfrl9drv3udf5HXfb93a3t3clt8t44/jBuYM5fHkkuoa77X0IvqK+oH9sAF/BtsNZRAjECUQIw9mEKkRkA+gDJcIbgO+/xL8BvhM9RbyO+9u7k3tHe327qvvDfJG9BD1XveZ+JX6hf7k/x8BBAO1A9YGCwmiCKEIFQhyCHMJsQiwB1oGPARWA6wCcgE4AP792fu4+iD53/ZB9CHy//CH76TtDuzR6xTtIO4b77Xw2PLZ9ZD54PzHAA8DPAT1BeoG4wfgCMgImQnsCV0ILQiTB0MG6gTsAJoADQfgDOASkBQFFsIgACsfM0A3lDNCMqAw8SueKZ4hCRi0EIgGUAAY+/rxFOzr5PbeS92D2e3XxNmc2kLdUt/D3vPheuWa6Irtfu9q8Q31lPc6/OcAswL8BDUGawc7CwQNQg0LDdwKWQpnCjUJCglzB/IEiwNBAS8AvP/M/mb+CP3q+kL5yfdi9zX4QfjV92/30/el+fr7ZP38/eX+LQC7AfACvQNPBBUFoAU2BnMG6QU9BTsE9wKsAU7/9vv8+If2WvS78gjxY/BV8VLylfN79I30LfUt9iT3u/jC+eD5L/uL/Ab/dwFnAVEBBwLHAgEEXwT4A+cDBwLE/6EA1ASEDL4SrRQfGPge9Sj3MVA0iDIuMIktySsiKZcjuBuKEWsIVwLj/Xz4qPEJ64/l5OHr3sLb2Nvt3JTeU+H34fzjmec36jruZvAd8Jrxe/KD9b/6o/zp/ksBbgOpCL0LhwwNDZAKRgreC1oLggsrCbcFZgWYBMYE0QQzApEAYf/7/e79E/2I/Fv9If2m/ET8m/to/PT9M/70/Wn9vP2l/yUB7gE/AsUBrAHrAScBggD8/i782vlC+Gz3p/aZ9Izy6fGB8kvzEvMP8sbx6vLf9MH2vfd++Bb6ofwp/64A2AHTAu4EyQbOBkkGawW1BBUEAwJYAJ//fP1X+4D4bfdu/CgCcwbYCeMLeBOgHYgkLiqqK9QsRzGXMu4ygzBxKGoixhzaF6AU9AstAsz6w/Ow8PbsU+ek45bfrNyr2wDaD9od26nbqd343qTfsOH05HfptO2k8E3z9PYe+3j/TQNbBQcHxQn+DLsQPhOdEwIUIRRcFIsV4xQ2E+cQZg1EC0MJyQbVBP0Buv81/oD7avnC9gT0Z/ND8uPwhvCl8LryW/Wb9lv3iPd6+KL6rvto+976IvrB+hv8rfzz/Kz8K/yu/Gf9zf2w/Wb8s/s2/LH8KP3G/L37EPz9/N79H/9F/67/kADyAFoBuwCh/4//af9g/9D+8P1e/l/+F/27+9b7C/9MBEoH8wiWCkYPpheTHiUjACUVJpIoPipwKrgoYSSFH5YapRYRE2MOjAjwAVr8Qvik9LfxjO7o6zXqv+eO5mvlZuSj5Frj7OKe49/j9OWe5/7oe+u57F7vGfNv9QX4DPlh+ff7Hv7PAd0FxAeiCvULpQwZD8MPxBAJEXQPHQ83DjsNVg3DC/gJKghSBZ4DcAED/9D9ZvwT+9f5dfgV+Ej4E/iZ9/D2N/bL9Rv2dfZg9yH4g/gj+pX7Cf2O/oP+of4c/67+nf5c/rb9+/0X/p/+fv+q/xUACwA/ANAAEAAY/0n+w/3o/Y79hPzX+4z70fsb/Gr7fPqG+Xn4+va59ZX2Pvmg/P7+2QCyBKwKeBFYFscYTRrnG5Md3B+wIeIhMCClHG4awRnJGJEWKxIjDs4LbQntBj8DB/9i+5r3dfTu8UjvW+3068fqTuq76RjpWOjr50PoKOgv6LfoIuql7OfuwPAo8qrzdvZX+cH7eP1l/hsAhAIRBQ8IkwmvCgYMAQ3IDtMP3w8cELYP+g9MEMQPvg+TDkINWAxkCoUIHAYNA8oAkf6N/L76evgx9+71z/Qa9PHyC/JH8Xfw1/DD8ffygPQm9Vn2l/e3+EH6sfoB+5b7bvu++/r71Ptv/Ab9eP3s/eL9Af46/hL+N/4b/sT9jP1d/XH9Qf2w/Db82vtM+9b66PoF/A3+df9gAEQC2AVAC+IPNBItE7oTIRXoFrAXURcOFqQU7hR7Fv0XchjbFjcVTxQuE28R1A2NCS8GxwNDAtgAcP7I+4z5q/dz9g70uPAH7avpA+ge56LmZ+Z35j3nqOhF6j/sVO678G7zrfXj9336ZP3HAM4DVgYUCDoJpgroC88M+wx1DPQLgQsUC3gKaglpCFMHPwY2BSYEQgNmAosBfwCz/x//0v6c/kj+E/4k/qX+ov4U/hL96fuO+8j7WftD+nj41faU9hH3kveq91X3effq97/43vlJ+jr6XfrK+hj7sPqR+fr4J/mv+eP5gvk++Y/5Mvrf+mr7J/ww/UH+N/8HAIgA8gBsAQ4CkgO/BL0FXAb5BsAIEgs7DbUNrgzlCuMJPwqsCg4KhQgjB8gHvwlPC5cLogq9CdQJmArzCoMK2wn5CakK7QuLDGULWgkIBzIFxwPgATb/m/zo+pr6q/p4+jT6Hvq5+kj7NPti+lP5Rvk8+kv7APy3+2v7APzX/H/9Hf3Y+5X6t/l5+WD57vg4+Mz3gPjj+Sf7uvtn+1P77Pvo/Nr9Gv6b/aj86vuW+xv85fxn/Z39T/1Q/aP9RP4o/wkAXQBsAEwAbwAKAaYB6AHmAYcBxAAuAF7/lv7E/eX8KPyl+3r75vuh/PT8SP2S/c39EP7v/bj9hP1s/Xv9fv2O/Yj9F/1f/Mr7n/vQ+wv8CvwP/KT8Yf67AO4CQgS6BNQFxwepCYMK5AkrCZgJxwq2C38LmwoqCowKjAtRDEYM4wu3CwcM4AyqDdoNdw0ZDTMNRw3aDN8LgwptCZ4I1wf+Bp0FGgTWAroB6QC//yn+d/z1+v75Kvl9+J731fZF9rL1R/XL9FT0y/NB87PyEfJ/8UvxevH58a7yMvOr80n08vTC9Xf25vZL96H3OfhM+aj6KPxr/UD+Kf8hABcBjwF7AVkBfwElAqsCzALBAqsCmwLXAvQCtwJrAhcCxAF/ATABGgH6ALAAjgBxAF0AEQDH/1H/7f6E/tv9Tv3O/Hf8Hfyo+/f6jPqL+sX6Lvtw+9z7evxp/aD+jf9kADUBLQJSA/gD2AOJA/EDBwX4BWgGOwYmBhQHkggDCt4KOguTC2kMoA2sDikPCA/0DhgPOw8ADz0OJA03DKcLIgtICvUIoQelBusFHgX6A5ECHQG8/1j+6PxC+3r5GPhd9wH3jPbb9WX1LPUv9UD1DfW/9ET0APTg8/XzY/S+9CP1i/X99VP2pfbf9u/2APdJ98j3V/gZ+ev5Avtj/O39O/8lANQATwHkAWwCtgLCAqYCpALsAnMD8QMJBMADfQOQA8wDAgQRBMgDXgMJA6YCkQJ+AhMCXAEXANj+1v3x/ET8gvug+hj6z/m8+bT5QPmz+M73BveO9kv2QvZ59hj3+/cw+an62/vo/CP+n//pAR0EZwXABf4FWAd6CW8LVgxGDDUM6wwIDgcPbg9fDzQPXQ8bEL4QuxAiEE4P2Q6nDpsOVg57DcsMLAyUC4cK9QgrByMFZAOaAbT/2f36+2b6kPka+eH46fia+Cn4vvdh9xv3tPYG9jf1aPTt8wL0f/Qx9cX1MfZt9or2jfaZ9qT2h/ZX9iP2N/YG9zv4tPkM++j7ovxh/WH+I/9N/yT/+v5b/zcAOwENAh8C7AH4AfYBEgL4AZQBRAHwAMgA3ADqAPgAygCZAGMAIADK/zL/iP7O/Tr9rfww/Lj7Qfv5+tD6t/qL+mb6aPqU+qX6qvqM+r/6Q/sj/Av9aP2q/Q7+H/+DAJ4BNwJWAhsD7gRsB4wJUQrMCSIJngnJClwLAQsyCs8Jtwq9DNIOMxDREDIR2BF8EqMS6hHdEOAPEQ9QDmkNZwwnC/gJwgiIBx8GJQQTAlcA3P7Q/fP8pvtB+iP5Mviw9z/3YfY79fHz8vJ28g/ynvEH8Z/wr/AG8anxOfKh8jHzBvQC9fT1o/YK92v32/ev+G75+vmS+uf6h/ub/Mr90f6w/yAAOQB/ANwALgFxAbcB9AEjAjsCcAKEAoACewJXAi4C8wGgAS4BtwBvAC4A1f9H/6r+GP6E/Qr9lfxO/FP8a/yI/KD8nfyV/KT8jvxe/Cj89vvA+8b7KvzM/Iz9WP4O/ykAGwGoAekBRgKxA4QFmwfVCOoI3Ag/CcIKRwy+DA0MwgozCjML6wwiDnEOMQ5zDmoPihAVEVYQIQ9GDskNhA3/DAIMoQqiCeIIFAimBmAE4wGX/6f9wfvM+cT3GPYL9Xj0CvSZ8yDzrvJq8lPyN/Ly8dTx2PEt8uXyrvNf9On0nvVY9l73OfiQ+Lv4zfgv+f75Dvvo+6/8Xv07/kb/BQCMAKUASgDG/2f/7P5//jL+Ov7Q/pX/ZQAVAYwBAQJQAnMCbAIJAmwBqAD+/7P/iP9z/0//Gf/k/rn+kf5F/tb9IP2R/Ar8bvv3+ln6Cvrr+TT60fp1+wj8RvyU/PP8k/03/qv+tv5x/qb+iv90AYsDJQU9BtQG0geICW4LdwxNDNQLCAxPDRwPqBBtEb0RYhJxE6IU/BQ/FBITEBKZESgRLBCYDs4MXQtBCukIAQdfBKsBs/8m/qj84Pql+PL2CPah9U71fvRY8z7ygvFW8T7xOvFd8YTxJvL/8s7zvPSM9Tf2t/bu9vf29vYZ97r3evgv+QT6bPr8+vb72/xw/aD9Xv07/Xn9zP1g/rr+xv62/i3/EQAJAbYBqQGCAW0BowHZAcwBPgF1AA0Amv9q/9f+H/7V/bn9+v0+/k3+Kv4T/hr+Kv4S/ov91vwf/KD7ZftQ+xf7jPoj+jH6vPo/+1X7P/tJ+2X8WP6bAIsC1wPzBFwGggh6CqML9QsjDCwNDg/8EEUSGRPsExMVdRY9F+oWqxUpFHYTSBMGEzQShRDUDrcNCA3eC7cJtAZwA7UAfv53/DP6/fdg9qj1YPUf9XP0hfP48rvy5vLB8iPyxPH68azykvMm9GP0W/Qy9F/0bPQ/9LzzGPP18nnzIfTf9IX1LPYU90X4p/mD+gr7ivtw/HX9Wv78/j7/q/9YAGQBTwLvAgYD/QJSA8QDQQQ/BLUDMQPLAqQCZALJAfsATQDJ/43/Of+H/rb9Bf2i/G78LPy++x771Pr/+kn7cPtS+/v6Efto++v7SPx5/G79D/+YAcgDHwUWBgoHGgmBC/gMSQ0qDakNQg9WESAT3BP7E0wU/xTwFSEWDBVME7ARAxHlEKAQ6g/YDhkOjg0YDeoLvQnYBsUDIQHQ/lD8gfnx9sv0iPOg8pbxdvBg753uOu4P7tntpu3l7bfu3O8T8djxavIF837zD/Qj9NvzjfNq88TzjfRm9U32U/dR+LT5Evs8/DX98P27/sb/xgCZAUcCmwIBA10DtAOuA3UDEQOAAkICKgJVAmkCOQJGAm4CbAI9AsoBAAFJAI7/v/7h/R79ePwI/Oj7GPxL/In8ovxx/GP8bPyq/J38UPy8+0774fsP/d3+dQBSAfUBAgPWBN0GXAgcCeQJegscDgARShPwFAsW/xZAGBgZ9hisF9kVmxT9E/UTjxNtEiURExBoD44OtgzhCXcGCAMtAJr9/Ppr+Or1EPTH8ufxFPEP8EPvmu4k7vjt0+317X7uIe/379jwkfE08s7yXPPW8wf0+/Pz8/7zcfQO9cb1gfYD97D3ffhr+T/61PpN+/P72PzF/br+nP9ZACgBKgIMA+ADTwRiBI4EnQSXBNUE8ASqBHEESwQsBPsDjgPzAhYCIwEiAC3/Nf5L/XD83Pt4+237jvuY+4n7dvvX+z38rvzM/Kr82Pxu/SL/OgH2AkEEDwU1Bv4HtgnUCkQLeQsxDMINxw+NEaUSiRO+FN4V2hbeFtgVtBS5Ew8TSxIfEZEP0w1pDH0LGQrdBwwFLALZ/wj+ZvyN+pb43faW9eH0PvQq87zxTPA273TuqO3n7Dvs/+tZ7CvtWO4777fvRvAI8RbyOfP782z0AfUP9mv38PhJ+ij79fvp/Lf9O/6A/nb+df64/lP/+/9lAMQAMgHkAcECXQPCA9MDfwMwAzEDIQMuAwYDxgKxAsUC+gIfAx8D2gKWAjQCtAE8AX0Awv8C/1r+u/1v/f38ZPzj+0P7H/sX+yr7Jfsl+4v7gvxb/lYARALfAwEFSQbkB3MJnAo1C7ELygyhDsMQnhLKE8QUAxbrFpUXZhdDFssUbBN6En0RQxCfDtAMQgvuCTcI8gUIAwoAjv2u+0T6o/jy9qb15PSF9Cv0b/NZ8u7wre/W7vftKe0/7L3r3et87GXtG+7L7mvvF/BZ8a3y8PNG9V32yfeE+UT71fzq/an+Zf/a/zgAWAAuACUAIgBaAKsAzQC5ALYAwwAJAV0BZwErAegA0wAYAYUB1gHJAb0B8QEpAmUCWwL6Aa8BcQFQASMBrAD2/3//KP8H/+f+mP4i/nv97vyp/If8V/we/Of7+/vG/Dj+OgCBAj0EmQXuBn0IQwq7C8IMeA1xDiYQSRJPFAIWDxewF4AYvBhxGFwXVBVCE2oR/g+tDvsMywqoCLUGLAWeAzsBb/6M+0D5pfdO9gn1lvNh8tTxr/GY8V7xw/D272DvUO8w7+Lui+5J7qLuX+9Q8A/xivHw8XryefN49Cn1mPXp9Yb2pPfu+CP6Kvvu+6v8q/3d/tv/hQANAW4BJQJAA/wDZwSfBKIE7AQyBUQFDQV3BM0DjgOEA3EDIwNuAvQBzQG9AZUBEAExADT/Y/6y/S39ivzW+1L7U/uK+yH8nPyi/H38yPxq/fn9ZP6h/qf/+AAUAz0FAwdqCCcJdgrWCykNKw5qDqIOnQ8iEQITjxSEFQcWQRa+FtQWSBbHFI4SexDxDsUNZAyjCsAI3wZhBfsDXAIcAHr95Pqs+Bn3afWo8wbymfC872nvDu9z7qTtEe3W7M3s3ezB7MzsIe3P7eju8e/K8KLxd/J387/0D/bU9n33T/hg+df6HPwc/ej9jP5F/wIAqgAJASYBgQEXAsMCWQOgA9AD+wMaBD4EDARiA4sC8wGFAX8BagEfAQ4B/AAMAUYBCwGXAB4Aef/W/lT+zf1n/Rn9/fwI/UL9fP1o/VP9Sf17/Zv9yv3W/df9tf46AA0ChwPFBPYFYwcqCdIKfgz0DW0PNxFgE7sVvRcqGQoadBrwGqUaxxlNGDgWYBR7EsUQ1A6WDC0K1geeBTsDnwDI/fT6ffiR9hD13fOt8pDx3PCk8Gfw/O9d767uEe6A7XTto+2w7fvta+7p7ubvw/BX8ebxW/It8+jzjvQz9cX1cfZg9474tPmD+jr75vuh/H/9JP7D/kz/w/+HAHABMALzAlcD3QOCBA8FPwVBBTcFAQUBBf0E2QRXBNYDXAPJAl8CngGdALT/wv76/aT9Qv3T/Ij8g/y7/Af9Av3R/Iz8Pvzu+877sPun+1v8av1n/y8BxwJDBFkFOwc6Cf0KfQx6Db4OkxBuEo4UORYnF98XfBgDGRcZihgWF20VCBSzEqMRYxCyDv8MWwvlCTcIGgZ4A4EAD/4U/Bb6NPhC9mD0GPNB8mvxQPDv7rjt/ux/7Cjs0ut3653rLuwB7fTtt+4a747vX/A88Rbyn/L/8pzzyPRY9p73mPiS+cv6LfyY/aP+a//m/3oAggF7AikDiQOfA74DYwTLBAgFvgQZBKYDgAN5A28DNwO3AnQCdAKIAmMC6wEUATIAif8a/3f+tv0R/V78NvxG/CT8uPsL+3/6Ifr6+eP5ufmo+bL5mfpP/GX+UgD8AagDaQWgB9wJ/wugDQkPwRDvEh8Vxha9FyoYihgHGTQZ1xj2F5cWjRXaFHQUyhNwErwQDg+LDcwLgAmbBq8DpgDm/ev7B/pA+JT2MPVo9N7zQfMu8tPwo++L7rvtEO2N7Brs+Os17NXsaO2e7aDtfe2j7RDugO7Q7k3vZPAh8unzz/WU9wX5jvof/GT9d/5B/+v/AgEqAmgDggQ1BbwFOAaaBvAG0AYjBlAF2ASRBIkEeATwA2AD0QJyAgACJAEJAOr+Bv5j/fT8bfwM/M/7k/uN+4z7a/vj+nv6JfoE+ir6RPpB+kz6Afv/+6X9XP+0AAgCTwPpBIsGMwh6CYMKnAtFDYAPshG1Ex0VWhb8F1cZURqfGhIaOxmFGDwY2BfuFosV6BNkEh8RUQ8lDUEK0QakA/gAsv5c/B766/cy9gn16/PE8krxXe+77X3sb+uz6hLqkemj6THq7+rH6zHsSeyX7Cbtze2d7l/vjvDz8crzqfVF95f4lvnM+tj7/fyU/Rj+uP5d/3UAdwE6AtgCEANsAwAEVQSBBE8EGwQaBC4EEwT7A3wDIgPjAt0CvgJpAgsCdwH/AIEA5P8g/2P+lf3a/JD8B/x++w77XvoA+rX5nvlI+Sj5FvlU+WX6ifva/AH+KP+1AFQCTAQ3BrgHHAlyCkoMQg4WEIoR5xKVFGMWWRgZGvsaVRu/G50bhhu4GtQYARc5FXMTqxETEMINEQsMCdEGbwQOAiP/i/zV+QP4f/a19H7zD/Jr8GXvQe6H7ALs1uoC6l/qMepV6p7q6epd683rsuz27QnvdvAO8QHyXPN29Lv1xPbi9jH4t/mO+kv8jP2qAFUERQa8BoUF/gOJAwwDAwPHAw0EEAViBTwF9gQkAx4CJQBm/gP+PP0F/WX97v2w/hv/Zv4G/XH7MvqM+ZL5qfkR+oj6yvqZ+hP7s/pv+QP4XPag9rT6KwIJCLwKMgkBBXgDfQUUCYoORxSPGLQcjh+MHzsezBzSGrIb+h45IlIjJCIYH6YclhwAHMwYwhM6DvEJQQi6BuADrQAG/V/4n/Nh7rPpn+at5QDmFOfa5oDjxt4g26Laz9y74Ezk1+al6JHqA+wP7YTuwvD08+P3Wvvd/XX/UwBtASsDmAVRBxMIeQjbCGUJfwrnCgIKQQlBCD0HewarBV8E0gO1AxED7wFPACz+ofyQ/J/8bvw8+2H5lvcA92H3P/i2+Cj5wPgc+cv5CPnS+OD3Yvgz+dz62vpH+nf5VPlW+Wz6k/oZ+xv77fty/I77+Ppm9kD6Wf8ZC+kO2gpjBGv9AwOrC1ET4hc+G94ZeRsAG+EZRxsWHlAgFyMXJE8jaSB2G3wbihvQHUYcOBV2DqAMTAwWDQYJYwFO+6r1nfTI8tzx2u+g7B3p9OXV4x/hiOB34Anj6eSz5Bfiz9+Q4XDlsOm06xTsvOuQ7f/wcPS79vT3+Pi0+tD9igCsAgIERwZXCNgJ7AkfCTcJewvqDfwOjw2bCjoIPwcLCJkIAwgbBrUDUQG//5j+S/1B/P77Rvsq+hT4y/UQ9fL08PXf9Tv2gvVB9e71DvfA94H4kvdv+Mf4pvqM+br6gPrO+1T8zvx5/UT9oP2H+s73Cv2PCMEHvQsYAZb6BwYtDeoVihkXFJgSXBWBFrgdGR0jIHwirh/gIksiVR2mHd8ciBvYIPIbSxV+EiEPDw/aDaYGkgBT/SX7E/q89obxi+w06DHn0eZO5vXkyeDs333gAeDN38ngK+Lo5TvpMuni6G7qbu2p8MDzuPS69DL3/Po4/Tj///99/6QBYwUUCE4IVgjZB7wIlAoRCyUKNQrTCnMK3gnHCBgHoQXUBR0FwwTXA/UB7v9S/oz+av0K/Wf7dPt9+iX7Vvrl+Or3x/Yk9/v2fPhG9/D2O/fp90j3PfiA9hr3FPkn+wv66vgL+tD4Vvry+N76dPs2C6QKpQXNAQj3iQEBD0MXdxXWEmUMTBIuGGwb2x+IGxIdRR7LHUcj6CGvGx8eYxtyHG0dahZeEi4TwQ/yDVUI9AE7Ap7/F/6R+Q7z7O5k7RLsPO2i6iXlU+J+4Czh7ONq4yniLONu5NLlwuZw593omutQ7m/wS/Er8yf1FvZW+M751frO/SYBUAM2BBAEBAM5BF0HJglYCZQJ6ggYCQkKlQmVCJ8IlQjEB9cH8AZ3BUEECwPiAUUBbACt/hP+E/7J/dj7cvqW+en5m/qJ+nH5HPgU+Lb3Jfd1+HL4t/im+Gr5mPem+J34AfmB+f37APz9+Bv6lvfg+5gH7wblAIX+a/p8BSISDhS7ENELAwyeEqUalhwlHm8Zxht7IEIg4yLcHfYYXh0qIQ4hRB7rFSsSDxJQDyYN8wdGBRoEUv/2+pn1MPEn8KXwgO8/7prp/uT34kzjWuTA48HjwON25bPm1eWN5P7kVegZ7Jnue/DK7wvwifKB9Gr26fhw+oL8Vf8TAD3/MgBqAvcEfgc4CKMHswe5CAwJ/wjtCZ0JdQnYCWgJ1AdFBjEFuQRLBagEygIgAT4ANgAy/wj+q/wJ/Ln7wftB++35lPnw+JP43vlY+Yv5Z/g7+a73XfnE+MX4Mfit+X36XPuU+ov5cPcO/b8H+P/3BPz8JPvECn4O9xEoEdQL9gwIFMQW7hzbGVIbqx0fHmMj3x/1GkUb7BwXHusiqRsRF5sUbA9fD7sM0wplCHQEjP84+8r2MPR28RnwkPAC7Ajp/eVx5D/kYePU4UjhiOMi5fbk2uOo4t7jq+dd6y7tyOx17fDt8/BI9Oj1DPex+D/7+f3N/57/ov+3AWEE4gb+CBQIUgfMB+kIPQrQCvAK/AnqCb4K1gmJCEMIwgeKBxcH6QUoBCsEFAPmAg0BGAGY/+T+Lf5w/Lr7r/ke+sf5t/lZ+Yf4Ofb398L2gfao9lT4tfae9lj3cvZc+LD3TPl/9t4HUwciAqcBY/fM/4YNfhMoELkOLghTD2kXnBzXG04VihefGVEgoCMzHbEW2BjVGbodPx9zFlUTyw/RDJwPCQxjCiYGWABq/un6G/iC9sbzz/Ij8EPs++kP5g7njuXq4xrkEOS/5fXlHeT74nDjBeeM6nvsc+2j64nrzO3s8Sr0XvV+9lH3b/pU/Cr8e/2+/z0CLAQmBjQH3gUYB5EIDAnQCycMFgtUC7wLYQvSClwK9QmgCXUJGgj+BrQGhAbkBLIELQOQAqYBYQAR/5P91Px0+0T7zvp/+dL4NfkN9wH4TfYb9i72xvfw9W311PbC9U33C/bL+XP5jQcuBFP94v0v+IIDVw+2EA4M0wrqBicSbhfGGXEYzhIYGOEcASEFIAkaPBaAGxIdUh9IHSEUJxO5ENkOpRLEDeAIzAViAD7/qfzG90z2avPa8ojwCewd603msuVw5c/kZuYi5k/la+Pi4Yri3+Ry6D3qv+qf6qDpZ+uU7ibxafLO9BH2kvee+tX6c/qS/oUALwN3Bl0FUQWvBQEIQglKC4wN8AsjDBENygtjCygMvAqxCxEM0wljCBsHiAZbBq4FowSnAp8BSQH1//b+u/3f+876mftN+1T5Ofmp9133pfdT+Ir1ePeb97j21faQ91L3P/ea+Er3cfi0/xYDHPtpAI/7a/3YDNoL+AvPCqEIvAyrFO4WohX3EhMYQxxKHdgd9RU4FP4aOR4SHW8cwBNnEWwSSBDLEcgNkwl6BzQD6ADF/gT5ZfgD9w71hfOU7v/rO+ne6HzoAudA6KvnxeX75IXkT+Q25pDpe+pE6zTrZ+pr7MHvV/L/8mD1W/Z29xX6iPqN+5v+swCBAroE8ASCBBcF/QbrCNAKPgvpCVEKEwsxChMKmAqDCnoL4gr7COMHQAd9BksGPQagBZkDOgNgAUIB6gA8/w7+1vzu/GT7oPrs+dj4bPmf+VX3ivdc9sv2sfYN+E32xPZy99D2xPfy9dj5V/rwBLACs/xw/aL5gQJmDEENeAoLCRAGNQ7ME1QVPRSOEV0U1BeeGxQarBUIFK8XzhiBGuUZThFlETsQvw1NETsNsAmfBzkEEQKJ/2n8ufqo+BP4+fUw8Xbwsu0V7IzrhurY6gLrrupJ6ObmSucS6IfrZu1o7STs+esC7Y/vqfKX8vvzSPWs9on41vhC+f76Cv06ANIBywH8AfwB9ANsBlkHDgiiB3sIWQlqCdcJJAnfCXYK/QnSCV4Iogc8B3kHfAc7Bq8EawMyAnwCiQEi/xr/BP7S/XP9ePsY+sv5G/rZ+f/5cvgI+Gn30fji92H4WPje+Cj5Evr9+cD5dPnk+WD60v6GBQX+awC+/Zb9KwmoCUsL8QoQCFsJ4Q1vEGwSvRG4E1UVzBaYF0YTexJLFeAXdxjbGPMStxE/EXUNdA8BDlUL9AqIBoMDSQG1/Xf8OvvV+vb4R/WO82TwCe/e7i3tx+147ZTs0+sU6uHpoepQ7AXuqO7T7eXsOe0u7/LxZvMl9P7zCvWx9r/3n/mV+mT7tf04/20AoQBRADgBJAOgBZYGzgahB6AHbwcSCCwIWgg7CSkJtAjoCJsHIAZOBhoGOAZ1Bd0DhwLfAWgBcwBR/8H+hv24/G38oPsz+yr6vvkg+YP5p/mc+Lf4ofh++On4vvk6+Xn68/rM+n37J/yj/BD9xPyK/dz+PgWqB/wBrgL9/hkCGAx0DLkM2ArUBhYKmQ7pECERMw/nDx0RwhN8FCsQiw5CEJAR+BIfFZcOPww3DAwJ7gsKC8EHWQYvBHoCTQBB/Y38DftR+9r6lfb59Kry/PHX8cPxZ/Gt7/TvGO/t7fbty+xo7gnwd/FT8f7vNvCJ8OTynPQE9vL2p/en+A75FvpM++f76v6uAPkBlwJmAUQCkANgBZIGswbdB54HkwfPBzgHmQfZB7MHwge4B1QGuASiA4cDMwSdA5cCggCa/zr/Ov53/kv9VfxO/C/78fs5+5/6YPlM+ZX6jfrB+sr5avmU+uD6uPvz+0/7gvzM+xT9if1p/g3+Tv7k/un+3f+F/m4CHAM/CE0HOAGyAekA6QQDDRkM+Qh2CEMF+gmSDScORg2vC2MM9Q78D2wPPg1VC9MNPA+HD9IODQsSCbQK/Ah4ChkIVQWjBcMDWgMvATX+UP39/Gz9R/2S+aT3l/U69fb1WPZh9QL02fOf8sfyG/O38ZHytfOV9I304/PU8yD06vXe9kX3X/fs9wr5BPr5+j77evpF/H3+C//T/73/Av8PALYBEwI2AjQDJwNMA6YEWwRJA0YEbAQkBC0FoQTwAj0DewN3AjwCzQG4AKYA/wDa/33+GP5e/d38af1g/UH87vu9+8D6PvvX+2/6mfs+/Gn7hPxz/D/85fxU/Yz9S/1O/9D+tf6x/5P/JP/jAH4BMgDTANEAm/8IA2QHLQLyAuUA2f40B6YIbAgMB4sEuwX8BhIKNAtcCaALBg0zDGcMxwvHCIkLCw9iDeEPRQxnCdEKKQmWCtwJgQcDCCEGvgVYBAYB0v+x/o7/LQAh/t77APn79yv4Nfi597n2VfYw9d/11/Qb87Xzk/Pu9P/1DvVM9Ar0p/R19Tn3m/cB98P3Rfi2+ML59fkG+kn7DP3O/Xz+tv5c/gb/9f8tAdYBYwKfAmMCDANGA30DaANHA7YD/AMNBF8DrAJZAkQCJwLOAecBLwGfACQA+f4X/8r+HP5e/pD9gv0o/en8t/yv/Bn8XvyG/CX8q/yb+7L7YfyU/Fr9i/2F/H38Zvxa/Qn+s/56/lT+f/6x/iH/7v2aAiUEAAYiBtYAjv9HAnQGHguFC+AIvwdXB78KGwynDH8Nsg3aDacPUw8mDWcNBQ1TDgAQOw9KDS0LEAqJClcJkQnRB4YFwwVIBIwDVgHf/s39/Pyt/fP8T/qm+Jv2tvXu9d/1ivTW80v0ivMR8zzylvAP8Wry5PM09GLz5fJl8hX0evX89az22vZN+Bf5wvlz+jn6rPtZ/ZT+dv9SAIoA0wCEAtQC7AI/BC4EFwVUBi0GeQXjBJ0EhgRuBcYFogQCBEADBAIWAq8BsAAlACEAg/9H/u/90vtM+xj8s/tM+9/6/fkH+QH6MPqM+Xz6FPry+an6Avs6+5L79fwC/Tj9b/4M/rn+qf97AMgAgwGiAkECHwMkBAMDqwM/BCcF2wfnCEIKywYFBr8H+Ae5DVIP8Aw8DdELcAtfDWwOrA4vD38QKhDrDsYNegt6ChQMWA3NC9QKzwgsBU0F6wO0Ac0BAQCB/ur97/uc+YP3ovbs9dH1qvW+80jygvGq8G3w8/C38FLwcPGg8WvxQ/Km8X3xOfM49Wv2wvfq9/X2n/g7+nT7gf2g/vv+nv+QAJ0AOwHyAlwDPgRMBaoELgQ9BL0EzQRHBSwFvQPaA/0DSAPUAlMCZwGeAJsAHADv/mX+xf3i/An9L/2S+0P7UPtb+nX6cvqv+V35MPpN+gX6Zvor+ub5/fkg+5v7Ivzy/Xv8X/zE/bz9i/4IAL8AeQAaAgIC7gF7AysEmQSmBSoGagWNBnsKrAwNDPMLqgh/CXMOJBB9EnEScBDzEJ0QAhGeESYRqRKzE3cTQxKmDmgLRwvdC1cMHwyDCAwGuQPOAPX/hv2Z+yj76vnj+Ov2kfOl8HTvE/C+8Ivwee+y7S3tMu0Q7Rztq+3U7j/wTfLH8nbymfLJ8uL0wffL+Zz6Yfvz+178+/2O/j7/DwE9An4DUgQUBD4D2QKeA9EEVgYLB/MFcwUEBRYEAQSiA5UD1AMNBLUDQQLpAFD/FP5o/k//Of+w/kf9nfv++oT6QvoB+m/6DfvG+m36xPmV+BT5g/km+uv6gfvf+0b7xvu/+5D7pfxz/cf9Iv9G/xL/uf/+APEAjQGoAoQCLwO8A4kELQUAC5YM1AsJDOQHWAkXDXYPKBH6EucSnBPBE/cSPxJ6EdgSIBSHFTgWgBOHD9YNGAxQDKkMpQouCdUG/gNTAi/+V/wr+sP4FflJ94z1IfKB7/ztoO0b7rzt9Oxz7BPs0OtN66DrOOyr7avvqvCG8RDyVvK188H1Gfgx+Tf6PPtS/Ef+Lf8uAIQBvwL2A10EzwTvBEEFdwYYB+YHJghPB8sGewZjBsMGtwYOBs4FUgUoBOkCIAJwAeAALwGvAG3/SP6Q/Nn6CPtK+6n6Jvoq+W34jPeE9+j2Y/Yu9zT3LveD92b3NPee98T4QPlM+uL6lvr2+sv7Uv2q/aL/fQAuAUACbQLXAn8DXwQSBNwFKAreDdYOew5JC4kKWQ1jD+YStxX8FjQYYBfLFVkUShJAE2gVdxfIGbUXoxNJEF0NRAxmC58Jhgj6BhoFcgIR/qj6pveB9X30SfPM8V7vFu3Z6wLrquqy6bbnDeeb533okOkY61frOOyG7THuc+878V7yOPRw9yv6zfvs/Ev9Cv4aAE0CLAQDBtoHVQjXCDsJAgm1CHoJcgptC0YMJwtVCQgImgcmB9EGigaoBdMEsAPnARAAwv7E/fH82fyb/Br7fPkS+AX35fbe9hr2VPUg9dv0xPTe9P70zvTx9Gz1P/bg9r33g/fx9z/5V/r9+oH7Evy2/Kr+Wv+uAKgBtQJ1A0YElwS1BCIFeAW9COEMoRC+EQoRUw4/DvQPRRGSFFAXXRkpG+QbyRmGGBkWixRFFWUWdRgfF7cU7hGUDhIMtQkjBtQDvgLAANT+3vs5+EH0uvGx75ztkuyU6qfos+gY6Xjomudx5n/lBeaM56voceqM7Mjul/Ce8qDzG/R19Z33W/q7/cgAlgItBIgFkAYxByUIGgmKCjsMlQ03Dk0OiQ2cDAIMpgsXCwYKDwkOCGUHlAYjBWMDbQFc/1X9q/s3+ib5R/jH9z33HPaf9L/yW/Hr8Bvxi/FH8oryUfNc88LzPfQ89Nj0p/W/9tf4NvrW+qX7OPxV/T7+Kf6c/tz+r/8YAfQCAwSABakF7wQZBRoEcgQfBAUJaw3yEdoUVBEGEN8OrA+0EEoTtBXUGIIcDB62HeobnhmOFUgUgRWlFd0WNhZ1E6sReA9qC5YGYwK//hb9YvzJ+un3VPXI8eXtyuuE6cfmGeVA5FfktuVx5r3lHuVd5WXliuZK6HLqvuwW8ADzxfVT+ML5pfp4/Bn/pAFcBMoG3wj7ChANvw0XDkUOZg48Ds4OSw9BDy4PlA64DXYMswrCBzMFcwNEAoUBtwCX/8D94Pty+ej2uvSe84XyZ/In8wDzZ/KW8bzwJfCS8Grwm/B88fHyjPOp9LH1gPa89734evmo+u/7Wvzs/Or9Ev8ZAFgB6AGsAmkDKgTmA0QEfwTnBHIF5wVxBmYGZQY8BlEJyQzaEPARRRGmDxIP9w/XEEET5hUzGe0b2R37HZscKxlFFQUT3RIYFBEU3RJrESwQrA2wCeMDp/73+kb4QPZf9Ony3/D/7uDseeo06PzkdOKI4ZTiIeRf5aDm8ueO6SjrSewc7e3tuu8h8uL1Ivrs/dEAtwIhBGQFrQaTBxsJYgvJDe0PWhGZERIRGxDeDuQNuQ0eDTwMVQtrCuUI2AaMBNEB1/9P/k38ofo0+YD38PX69AL0vvKk8XDwuu/L7+XvhO9q7/rv2/D48dPyK/Ps87H0bPU99lb3ifjl+Wr7U/2b/pX/fP8m/4L/IQBLAbsBUAL/AvADcgQvBQMFJQXzBNoEEAVkBWsFnwRUBVwHgAxSEFwTkBNbE9cS8hG/EbMR5BPbFoMaxB1oIAwhIR+oGiAW/RLFENQO/AxGDIwMqQxVChMGoQD5+h31R/A37TvrZuqJ6UTp8ekD6l3oguUb48Ph4OHP4mrkLedd6xfvP/Lp9G/2oPYg9w74n/ps/joCoQWqCE4L6gy8DZANdA3QDXwOMQ/GDwgQ3Q8YD1MOPw0JDBQKmAcQBdAC9wDl/ib9lPtR+rb4Bvdf9VXzgfG+73Du3u3y7TPu2+6i7zzwnPDM8MLwDfHo8YPzOPUf9xX5Ufot/Fb9Tv5M/9j/nQDzAakCiQOtA00DWwNvAwkEOQThA54DKwPvAgoD4gJGA58DuwOcA8IDPAPiAwQFsAh8DRwRfBQoFXgW0RZDFt0UPBT0FG4XvhovHmsheSKvIGgcrhdhE/YOegrcBmkFrAWxBS0EOgFT/fz3X/IU7RrpT+Yg5LjiJuPL5G/mnOYE5o3lSuVX5TPl+OVr51XqqO3U8Tb2JfrA/L3+OwDgATcDTARzBbIHZgoNDUcPoBB7EXsRshCTD4MOCA12CxUKcQkRCZwIaAfCBcMDpAE+/138wPlW97712/TM9PD09fSi9HfzbfJs8aTwHPAh8MzwgPJp9O71G/fJ90D4pvjH+B75s/lG+nb7v/xd/pH/ewD3ADcBSgFMAaMADQD4/+z/fQDpAAUBOAGtAZgBrgFAAfkA8QDkADIBvgEOAiMC6wK3BEIJSQ7JEgwWtRdtGBcYqRa8FQwWiRc6GjwdySAMJJEkYyIPHuMYYRRSDzwKaAbvA6YCvAFFAI7+iPve9mnxIuyH52nj09+j3eDd1t+Z4sXkX+aj50roQug16FjoQOnm6p7tWfFU9kr7a//FAqgF7wc4CVkJFAkZCdUJ7AqZDOAODxFWEooSvhE5EAYOwAp4B54E6AL5AW0BEgHQAFoAEP/4/GT6iPdt9LHxJPDk767w6fFZ85j0hPXD9Ub1UPRx8x3zffOn9HP2i/hM+un7Tv1c/g//Mv/p/sn+s/76/nn/cwCeAXsCBAM9A/UCagLEAeAASgDo//H/awA0AcMBQwJXAlsCPAIAAtYByAH3AZgC9wTiCBYOJBPtFqcZDxsRGygamBiEFyUXwRfuGVMdpCCWIgAiGx8NG5gVzQ4KCAQC5/2T+yr6ovlL+c730/Sp8ODrQucr4k7di9oU2tbbmN504bDkiudj6YHqFevd6xrtAu6i78fyefZ++jv+HwJvBj4KAg10DqkONg7XDHkLNAsWDHIN6w4MEAUROhHQDzYN3gnMBtUD6wCV/ib9rvzD/Oz86fx6/Bj7o/jT9U3zavFI8Bjw+fDb8kX1R/dv+NH4wvg9+MT3yPdS+ET5P/pC+4T83v38/sv/dwAHAWwBOQGIAOf/bP9F/2v/t/9QAP4AdAHDAcsBWgGeAOz/M////g3/Zv8cAPQAigEHAloCPgKNAtYDJAdGDLMRlRZTGr4ccB1CHGgadxiNF6MXEhkGHJ4fZiKKIhYgABxLFosPXwjNAd/8sPnF9w/3y/bT9bnz7u+B6yvnu+Kt3qPbatpd25zdeeDc4wfntenp65DtMO+F8GnxbvL785r24fma/akByQVxCVYMIA7wDsMOfg29C34K9AkzCuMKuwvIDHANVA0QDLQJqAY9A53/sPzw+jz6bvrq+mn7ovs2+975/vcP9nj0mPN38x70efU+9+j4Tvpj+xj8Yvx3/Gf8efzg/A/9JP1S/Zn9JP4D//r/9QBvAVoB0AD1//b+9P0n/aT8svxE/Vz+qv+bAKgA+f/w/uz9J/2P/H786vzx/UP/YgBRAQkCBANqBMIHPQx8EX0WBhoGHaEewh4LHX0aERjuFnUX/Bm8HToh0iKxISkeqxhrETIJDQGv+sX21PSt9FT1ofVV9GXx8uw+6G3j0d6S2+bZmNrv3P7fcOOw5nXpteuD7WXvF/FU8pnzHvUz9yr6kv1nAWEFQAnMDJoPPhG9EdQQ5w6vDOEKEApJCi4LhAzPDVUO6g0qDCAJRQX+ACD9bvod+Qr5r/li+uH6z/r0+Yj4l/Z99OnyMfKH8vfzx/WO9z/5u/oH/Oz8Sf1A/Qn9A/0//Zr9FP6U/h//7//pAM8BaAIzAmEBPgAt/1H+oP08/Sf9bv0h/uT+XP+P/x3/bv6i/eb8ifx//HH85fy2/Zn+lP9TAKgA4ADpAUIEpAgUDr8T9BhuHFQeRx5XHAsa2BfWFmQXlxl7HYMh5CNyI+cfHBrWEpkKpgJw/Ez4ZfYB9kz2sfZ79WTy4u3C6MzjTN+X25XZ+9kc3J3fi+Ml5zXqeuwk7njvhfC08THzE/W/9xr7zP6DAgsGYwlkDN0OtBBrEQARuQ+2DesLsgouCpYKggt+DEMNDg2MC+QIGgXiAEH9jPox+Sj5sfmW+mD7jvvw+nr5Yfcp9XfzpPLj8hX02fXf98f5b/vV/Kb95/2V/SP93Pzj/Dj9rf11/j7/GgAwAQsCZAICAhgB6f/I/tz9HP2l/I789vzQ/d7+yv89AL//qf5j/UX8hfsu+zn75fvk/AD+Cf/C/ycAhAAKAgYF1wmLD/oUyhnmHCoexx3eG4sZdheRFqMXsxoEH+EiiyRlI50fVhleEd4IygCg+ub2fvXl9Qz3YPe+9S/y3Ozn5gHhxdsz2MnW7dcT24ffTORb6CTryOyX7RTune5m79jwS/O+9vv6fP8LBD8IrAtQDiQQ1xCqEKEPFg61DMcLpAt/DL8NEg/kD8oP1A6kDGMJYQUNAWX9EPvi+er5x/qi+1X8kPzT+zX65vco9eHynvG08T3zmPU7+Kn6wPwj/qP+Uv5m/XH83PvT+3D8n/32/jEAQAH+ATYCFQJNAf7/ef4Z/Qn8Tvv/+jr75Pu+/Mr9ev6E/p/9GPyM+jP5kfiG+Dv5g/oi/H/9iv5R/93/fgH6A1UIxA0GE/0X4xu+Hrwfvx5THMIZ0xe6F5AZPx2gIZ4kLCX7IhgeMBenDo0FoP0M+IP1lfU598/4G/mm9kfyZOy45Yffb9qJ15nXbdrf3grke+il62vtwu2S7W7tpO3G7svwIvR7+EX9HgJmBuoJnAxRDlEPlQ/KDnANFQwSC/cKfAt3DMoNwQ4pD9UOTw2zCikHCwNb/4v8Bfvd+oL7f/xt/cj9Xv3o+3/5d/aM88DxZPFM8lr09vaj+QL8pP1F/tv9vfxY+zr6xPlI+n/7//ym/g0ADwGhAXoBtQBy/x/+9vw8/OX7x/sx/OD8vf2g/kH/f/9Q/z/+Af0O/HH7QvuK+1j8lf3o/g4AygAFAVMBHgKOBNUIOA7IE2MY6Rv2HQYenBxNGi8YyhYLF4AZqx3/IXMkFCTsIGsbHhSnC3IDuvw6+E72ivb+9w75OfjQ9MTvlukK4xLdfNhk1gHXHdrh3iTkjOiK66nso+xd7BDsOuxq7drv8fM0+cP+TgTuCEcMNw4FDxUPdw6BDXMM1QsCDAwNeA4SED0RwBF0EfkPkA1bCnUGjwJb/0T9rPwq/Ub+ZP/3/4D/Av5t+yX4x/T88aPw7PC08p/1l/gH+6r8MP2Y/BX7VfnX9xX3Pfd9+Gn6efxQ/mP/2/+O/3T+Ff2U+3v65vnm+X/6SPs2/BX9qf0C/jf+8f1z/ZL8xvtq+3777Puu/Mn9E/80ABsBjgGHAaIBWwLuBE8J5Q6eFH0ZNR0XH/MefR1UG1cZHhiQGDMbfB/jI4MmMCb6IlIdwRV3DZ8FM/8Y+1v5rPlJ+yX84frW9r3w0On54s7cV9iZ1ojXANvZ3+rk2ujS6tXqzOnF6FfozeiX6vPt3/Li+Nb+NQRHCKIKgAteC+gKawrsCa4JQAq5C/sNaBA5Eh4T7BKcEUEPLwzICGEFZAJ+ANz/SABHATYCLgIhAQ7/Dfyn+Eb1k/IJ8QzxhvL19MD36fn9+sz6sfn49z729fQ59Lv0IPZH+Nf61fwZ/oz+Hv47/QT8D/uQ+s76wPv3/E/+c/9RAJgAegD6/0f/Rv5S/bP8pvxe/Sn+J/8DANAAbAGUATUBgADT/6P/qgGPBV0LnBGyFtYach1yHqkdKBvnF6IVCxUQF0gb0yDOJd4nZCbcIQgb4BIBCvwBSfyv+ST6T/zG/mz/MP1699Xvtecx4ITaCdfP1rjZot4P5H/ozurX6vXoZuaf5EfkpOX66ArubvQs+wwBdQXiB3cI3wfeBp8GTQfKCAsLqg2EEFMTKxWdFZ4USBJkD1EMpQm/B0kGfAV4BXkFqAViBREEvwGS/iH7AviQ9QX0hPPq8/D0M/Zf9yT47/f79oH1D/RD8yLz6fNJ9RX36fhQ+jn7ePsQ+zv6VPnp+B75KvqW+xf9Yf4o/4z/dv8q/9L+iv43/hj+Mf69/pz/lwBhAcQB6gEbAhIC0AF7ARUBywD6AMoClAYqDB8S7BYpGlkb3BrrGCUWARQREwIUMhdGHGgiSyefKLElPh8mF/sOsgdjAub/GQAcApwE2wWtBO7/Bfiz7hjm599z3J/bLN264BHlxeh46sXpLOfK477ggN+74ErkW+kd79b0yPmH/XT/oP8O/9L+jf9UASUEuQdaC3QOyBAvErASXxIUEVgPug2RDBYM3Qt5C/AKOQpjCTQIoAaQBBgCgP/Z/MT6c/mw+Cf4vPd29z73DPd09mH1EvTj8jHyLvLN8trzPvVt9k733fcH+Av46ffu92H4SfnW+o78J/59/0gAjQBYAPv/x//2/4EAQAHBATMCewKbApkCNgK5AS8B9AACATsBTAE9AUkBZgEDAxsGuAqHDxYTMxWpFYoV0BRZE98RchHJEmMWWRupIIckKSXrIdYbsBRDDjAJyQWBBEAFxAcoCsIK5AevAfX4he9j5+/hJeAg4frjhueu6ojsJOwP6UDke9+J3HXciN/H5ALr7PCf9cP4N/pM+pb5w/gF+Sv7B//yA9oI5wxxD6wQrxDHD30OVw2iDLoMlg3RDt0PCBAJDwoNiQrrB3AFJgNHAdT/yv4Y/nD9e/wF++f4hvZp9Mry6/Gl8d3xUPL38rDzR/Sd9G/0AvSk86HzLfRz9VH3Nfm1+gn8Df3Y/UL+Vv5g/of+K/8zAIwBIwOHBD4FEQUwBF8DqgJcAlECfQIkAzIELAXeBfAFBgWFA9UBYAHiAq0GnAvvD/ESORQpFBATXxHFD/IO1A+QEtYW4xsaIHchWR8kGqIT6Q23CXIHBQfbB3cJ/QrnCkoIoQK/+kby+OpR5nHkWOXu56XqY+zN7J3r6Ogh5VXh4d7a3orhY+Yq7ILxdvWF9+v3MPdN9hr2Bvd++V79EgL2BvEKUw2yDa8MHAu7CTgJqQnsCq8McQ53D4cPfA5dDLQJ+Aa8BFkDCQNNA2kDEQPcAfX/jP3x+mT4SPYF9ar0LfX/9bD28va79uL10fQA9LLzIfQf9Yv2K/jP+Tv7NvzR/Pf8xvzP/DX9J/6T/xgBiwKUA/ID+gPqA7MDdwMeA+4C7wJZAyEE6wSABYsFPgWjBAcECgMoApABUAHmATUDrAVHCE8KNwubCpsJjgjFB50HzAekCHEKlwwgDyIRABJUETQPNgyfCd8HWgfvB9EI5glxCjUKvwgkBnQCWP5u+m33KvaH9u/3eflF+t75Rvjq9Q7zUPCJ7gju7u4P8bLzIvbD90L4qfd/9oz1VvVN9lH4IfsP/mwABQKUAloCgQGUAOH/6f+cAJYBsgKJA7MDUwNwAkUBZADH/5H/u/8SAF0AhABNAN7/Yf+w/iP+xP3//Wz+6f5m/8T/t/9Z/+3+g/4U/qf9hP19/aH94f0U/iL++v23/U/93vx1/BD82PvF+9378vs1/Hz82PxG/Y/92P0W/nH+1v5A/9L/XgDuAIEBAgKCAv4CSgNkA3IDOAPsApsCTgITAtcB0QHoASUCZgKbAr0CZAK0AQwBlwCoAEkBUgKtAzMFygYuCCkJzwniCYAJKglECQIKFAs0DCsNyw3wDZ0N+wwtDCYL+gnbCO8HKAdjBp4FqgSDAyQCyACJ/2X+Mf3t+6P6d/mT+Ov3ePct9xr3+vbq9tf2ofZR9s71RPXb9Mr0FvWW9Uf2tPb19vv24vbb9uH2Qffo98P4uPmy+oj7NfyF/Jj8vfwA/bL9mP6w/8QAtgF0AuwCBwPAAncCVgJWAo8CzAL2AgcD9gKdAhECYgGfANz/OP+0/jv+Bv7J/X/9IP3J/Fr8EPzC+6n7y/v2+0j8kvzq/GD9zf0t/n/+3/5H/7v/LACaAP4APgFyAbcB6AE+ApgCvQLjAvoCRANnA4QDygMLBEYEcQQHBdYFrgZpBxAInAgxCckJPQq4Cj8LxwsbDE4MaAx5DJUMoAyiDH4MOAzBCyQLWQo5Cd0HdQZeBWcEmwMeA6AC/wE4Afv/YP6k/LD6Efns91b3KPdD94T3pfeJ9+324PWp9HPzkvJE8nHy7/Ke82H0xPTZ9N304PT89Fn1D/YN9zX4YvmC+mD76/sh/Fr8sPxF/VX+ff+4AMwBhwIcA1UDPgPuArwC6QIcA4cDzwPfA78DcQPYAkYCoAHlAHoABwC+/2L/B/9m/tH9M/2q/FX8MPxM/Ib85Pw7/YP9qf29/cb93/0c/oP+A/91/xgAmADqADEBVwFUAU4BWAFnAXUBgwGkAb4BxgG4AYkBmwHxAXECGQOsAyQEfATzBJIFWgYmB84Hlwg+Cf0JxQpVC6wL3AsGDAAM/QsVDDMMQQz1C0sLXgpXCWoIYgdGBoEFAwWTBBUEWQMwAtwAS/+h/Vf8ZfvK+q36vvq++mb6xvnx+PP3EvdO9tb1kPWP9az14/X/9dj1kvVT9S31Q/Ww9U/2B/d898j33PfI98H39Pds+DH5PfpZ+3z8e/0t/qz+/f74/hD/Uf/L/5wAswGJAhwDUAMOA4wCFAK+AWEBTwEnASgBJwEAAdEAcQDv/1T/tf5w/p/+9/5o/9P/6v/T/6L/Tv///tT+xP7l/gb/ff/p/+//t/9X//X+mP5J/i3+Fv5I/on+0f72/vL+5f62/ur+WP+BANUBIgNFBPQEuwVoBkEHMgghCRMKLgtcDJwNww6PDwcQERDeD4APIA/tDsQOqA5YDq8NxgyzC4oKUAkQCLkGWgUiBOACoAFWAPr+gP0n/BL7CfpB+Zz4+/dd9572AfZn9eD0gfQ69DL0JPQw9C70IvQw9DX0afSt9DH11PWM9ij3a/dy9033Rfed9y/49/j6+f76CPzv/KT9Gv42/jP+Q/5h/un+tP+JAGwBBgI9AjcC1gF6AU4BKgFXAZUBuwHLAbUBcgEgAboAOQCX/1X/gP+x//z/PQAzABcAuv86/6/+WP4i/hL+Q/6F/tH+Fv8t/wb/tf4y/sv9j/2I/dL9N/7B/j3/r/8xAGYAYgBuALQAbwF+AscDLAWPBsIH2Qi8CVoKBwuxC5UMdw1ODk4PNhAtEckR0hFwEc4QBhBAD48O7A03DXQMgQtQCvkIggfyBT0EYAJfAGn+pvwi+/D5//hR+J332PbV9cv0u/Ph8mXy/PHs8THy1/Ke81b00fTg9Lr0b/Rg9Lj0ZPWC9uf3Y/mP+jL7dvtr+0j7L/tM+6v7Pfwb/Rn+GP+q/9H/vP9j/0L/SP9U/6f/KwC1ABABHAHxAMoAjABUAEUAWACZALgAqgBkAOj/O/+f/jn+/v0T/k7+oP7F/qT+cv76/ab9Tf3q/JL8dPym/PL8Vv24/df90v24/WL9L/1N/bX9Rf7m/of/NADqAJIBEAJlAokCugI/AwMEOgXPBoYIDgpZCzsMwAw3DacNRA7sDq8PnhCPEYwSGxNFEw4TThIxEcQPTg75DOILDAslCgYJhAfaBQEE4QHS/6n92vsw+p74a/db9rz1FPVl9JXzqfL18X/xbfF/8bvxPPK98m/zEPR79Lr0yPTf9Az1i/VU9n737/hz+or7VfzJ/ND8s/xe/Db8XPzf/JT9ff5Y/w4AjwCgAFAA8P/M/6v/yv8oALYAJwFhAVsBJQHaAIUANwANACcALwBLAE0A+f9v/8v+Fv6C/QP9xfzB/OL8FP0z/Rn9+vzW/HL8FPzc+8v7JvzY/KD9W/7S/hT/If83/0z/lP8WAJMAUwERAusClQMlBFQEbASeBPAEyQXYBpQIOwqlC6EM9Aw+DW4N4Q1/DvEOkA9gEBARwhHOEYkR2hCvD0kOuQyCC3IKwwlOCa0IpAcWBjoEVAI/AFT+bvys+lj5NPhi99T2evYA9lv1d/Re833y3/GP8Y3x2fFv8g3zzvNn9N/0XfWp9RH2Yvbr9tr34vgt+mP7Tvz3/E39Of0P/QH9NP3R/Yn+N//S/2oAvwDPAHwA+f+I/1L/cf/d/4IAIAG4AQsCzwE4AZ0AQQAHABoAegDaAFwBbQESAVkAgP+o/uH9UP0T/TX9if38/UL+O/7s/UD9kfzf+137XPuZ+0P8EP2d/Qn+Bv7Y/af9af1u/br9FP6p/jv/0v9/APUARQFxAa0BCQKMAlYDOQR2BeMGMAj/CHkJBwqPCn4LjwywDdYO8Q84EfERQBIZErsRWBGtEAcQUA/sDrwObQ6/DXIMrApqCPoFdwMtAWn/7/2t/Gr7A/q3+I/3ZfYM9ZLzS/I38bTwivCY8BPxmvE38pjyyvLi8jTz4PON9Gv1OPY/9274Wvlk+kP7w/si/Hr8zPwW/ZX9Rv4M/5v/3v/V/9L/3/8EAD0AXACHAKIAywALARcBAAHhAMcAowCtANYAKgGZAYsBewERAW4A0/8r/5z+RP44/iL+L/4y/hH+yv1P/ar8BPyQ+0/7MPsT+yn7U/t8+7H7yvvp+zr8dfzi/Ev9oP0H/pD+H/+Q/w4AvgCTAXkCdwMpBO4EqgUlBpEGugZCBy8IkQnsCtsLggz3DKMNIQ5+DvUOdg8lEMgQFBEMEQIR3RB5ELIPbA4qDSkMVwuMCpgJNgiGBqEEngKIAI/+D/2u+1z6+/h790D2UfV69NTzEPNM8unxofGc8cbx8vFh8svyLPNx89nzePQ29QL2kfYF95z3YfhE+Rb6u/pU++D7OPx8/Oj8Ov3c/Zj+F/+I/9H/LQCOAN8A8wCvAJQAtAAXAcEBWgLiAi4DKwPRAiwCZgHDAFEABADZ/8D/uv+c/zr/of7S/eH8B/xf++P6qfqu+sf61PrX+pP6WPo6+hv6Mfpt+tr6c/s8/BP9xP0w/nj+x/5D/wcA6wDMAaACyQPoBMwFRQa2BjEH6QePCP4I1AnWCqwMNg7iDhYPww4gD8wPNhCLEOUQfBFBEn8SOhKEEcMQ3A92DsMMCgvoCUIJ1QgLCOIGXQWEA2MBFf+n/Kn6HPno9/H21PUH9XL0+vMY8+XxwfDC7zvv/u4c73vvJvAm8cXxNfJx8sTym/OL9Gj1NfYr93j47/kr+/z7n/wr/bz9Vf6x/kL/AgDbALYBHAIrAi8CYgKeAqMCjAJpAn8CxgLdAsYCiwJFAuYBbQHDABoAt/9h/+D+Yf7D/SX9r/w9/LX7Jvus+kz69vms+YL5aPmF+az51vn2+Q76bfr++oH79ftV/N38kv1E/gz/1f+eAGkBSQI6AxkE8QTWBb8G1gfmCKoJPgoBC9kLsQxUDeUNeg6rDwwR/RFaEkgSVxJLEjsS2RGTEbERuxGKEbUQiQ9bDgkNoAu6CZIHkAX0A6YCPQGp/7j94fsP+u731PUI9Mjy9PFf8Zfw5e+B7y7vAO+g7jLuF+5o7gbv9O/38PzxO/OB9G/17/Vf9gL38Pcs+U76O/tN/HX9i/46/4z/wP8bAH4AzAAJAWkB/gGLAvgC/AK3AnQCTQJFAjMCEAIUAjUCRAIZApUB/QCMAAEAjv///m3+Iv7i/av9ev31/F785/uD+xb71Pq/+qz6rvq/+uH60/rA+uX6KfuU++j7NPx+/Pv8pP1d/iL/wv+DAFkBTgIuAwwEIgWBBtsH4QjACaQK2QszDWwOZA9JEBwR6RGwEjwTnBPjExMUChTQE0YTgxLPEQ4RJhAJD7cNOwzOCicJMAciBfkCDQE1/yz9TvvC+UH4C/fo9Zj0TvP38cjw0u8P74fuTu5Q7q3uLe+b7wXwmfA+8dfxffIy8xL0F/Ux9kn3c/iD+Zf6lftR/Pv8hf0X/uT+oP8tALwAOAGaARICdQK5AtsCugK0An0CPwIlAvEB7wHkAY0BKgG1ADUA3v+H/wT/fv7//cv9jv0v/aD89Pue+4P7VPvl+mz6QfpV+nL6+/mM+UX5ffnT+dL5H/qP+vr7f/2E/uz+Df/h/ycBfQK3A+EEhwahCHcK1AvJDOwNUA+cEGkRvRE2EjATIhT3FG0VUxUsFesURRQwE/URrBCpD50OUQ32C3cKBwmXB/EFGQQZAu3/2v0Q/Eb6yviX94T2sfXB9Mvz6fIa8nvxCvGk8JDw6vBd8e/xgPIg88zzZ/QP9Y71K/bI9nr3NPgJ+QD61fqr+3H8Mv3A/T3+m/75/l7/sv8RAEMAhwDqADMBYAFcAVUBJgENAQAB0QCoAG8ALwC5/0T/wP5F/t/9ff0P/Zn8Nvza+577Rvvl+o36Xvpp+jL6Dfrv+e75QvqB+qf6ovqY+vz6UPu8+w38Tfzo/DP9VP1N/Yz9z/4qAI8BgAIQAw4E/AQzBjcHdAgvCuYLsg3JDt4PNRGgEuETSBRfFH8UrBQ+FYIVjBVyFfEUChRfEg8Q0w0iDN0KYAmbB3wFXAPWAR0AIv4X/Ab6N/iU9h31rfO28n/ybvI/8uPxU/ET8fvwRvGt8drxf/Jg82n0ePVd9oX3gfh6+fP5B/pT+rn6rfvE/ML9of4v/7X/DAAuAF0AgwCsAMIAwQCwAMYAPQGwAd4BjgEdAZsA+f+V/0n/Av8W/93+cP7z/W39Nv3n/Ir8Cfyt+0n76vqk+mX6cvqH+qL6Wfr5+cz50/kn+lL6ifrQ+uj6ZfvS+zr80fxI/bD9uP2k/fb9q/4WAJ8B7QL3A6kEkQWFBsEHIQlbCuQLJg1+DqoP7RA/EjMTHhSBFFIUAhSVE4UTfhNhE/cSARLREEIPhw3HC6wJqweOBVwDeAGd/0/+Gv3N+2n6fviP9sP0h/Pp8mPyKvL68STyjfKH8rTyzPJK8170EvXO9XH2XffF+Mr50Po9+7/7h/wa/dL9tP0Q/rr+df8DALL/n//w/5sA+gClABUAs//C/+7/4P/N/8H/5/9CADQAhP+L/v/91/2e/XH9Av3T/BD9df0Y/cj71Pox+mX6K/oH+Wr4j/io+RL6pPnc+Cn4WPi0+Nn4bvgQ+BL5ffqB+6b7HfvF+/H9P/9Z/eT4CvcN/H4FGAxEC44FQgIBBdoJvwseCggKaw8tF9obnRv1GWIbNx9hHzgZOBKYETMZwiIzJVQgrRk1FiEUQg+aB80BzgEjBHEDRf6q+C73bvdf9A/se+LP3aPfP+Tv5nHnpuco6BHoEeYS5DblWepI8LbzxPQJ93T85wLRBiYHgAUjBSEHKwo+DZ8QOhQLFvgU8BBWDKkJSAnICfAIcAffBS4ECQI+/xv81fiu9fbyEfFi8a/zz/Wf9Rvz3e+U7TjtP+7l72Ty6vSs9ir37vZY9+z3Zvj191D3H/gc+ub8i/78/gL+ovzD+kn5W/gA+VT60/tJ/Kb8Ivyl/MP8xPy//E/8qPzX+lX83AMLFfcmHy10ImYRmQv9Fismai3xKconlSztMQox2CcAIWUcHBiKDi4E4QBpBZAKFAnU//HzBulV4FPdLN5E42nmpuUY4j3gdOHR4rjiQeKi4xTneOvl7zP29P2BAzUD5v0D+qj7KQIfCvUPGxMdEykRLQ5hDEcMJg0fDeIMvwwmDQ8MTArwCA4IAQb+ADv83vrp/S0BqgFC/6/7Fvl49mbzc/Jx9LL2lfdx9lD1h/Uu9vT1E/SS89Xzf/Rd9aX2yfli/Kr8cPri9/L3tPja+bD6ifvG/V3+3P3y/ED8Nf09/cX7Qvs9+637Afvh+sX6hfuP+oL5P/iy+Of30fl2+Uj7i/1W/aX9Efiz9sj8thMpK5I1ricIEVAKCRd8J5Uugiq/KrwwpTFnLSEjWyABHLYUcget/lD9agDjAgwBAfwI8QvjENhn2Mvg8OgG6dHkEeKi4mvjgOLC4wTpsO3077fv2PIQ+18DUAZZA/T9lvux/ccDigwyE8AUsBFVDQkK/Ah4CFYJuArvDKEMIQoJBwoGjgaFBn0EDQDS/NT8wP/xAa4Bj/4V+7z4vfeS9i/23/e5+Qz6+Pe99QL1c/VP9qz1V/V89bP13PZH+Ob6GPzv+mr4m/Yp9+H4APoZ+0z7cfz2+xH61Plp+Sv8cfsa+xT6Q/ot+v/54PlU+sL6KvqG+bH56Pq5+gb8KPwV/83/iwGo/d76MPcVAeEa7DLlOtYouA93CkQaNiqHMdEsVi64MtQxbin7H4wa7hZMDnwCifym+s/72/yP/Dj3dOuk2UnRotRb4GLoL+jl5VnlfOR44tDh++U77jfzMvZr9xH7lwFoBREGMAXYAYUAvQIRCVIQEhTCEs8OTwx7CfgGjgXGB3MKigztCkEHFwR4AnYBYQCu/1P+k/yy+x//wwDE/5X7JfeP9hr3afd/9kL3MfoT+4H4pfXv9I71APcv9wn3Xfgm+Xb5s/lI+4/8H/uf+Zj4evkg+sv6ivt2+3H8vPsk+uT5EvoI+hj5O/mG+Rj6wfms+Db5sfj++XP5QvqJ+Ez6GfoR/Jz9+/6yAUD/BP5f8ywAIxi4NIdDpCziEuQKUhRPKiIwJy9hNIQ0LDHxItIYKhU5F58NLQRn+xn3ffeQ9Rv4f/Y87VLb9tBl09Hf5+hh6jfoCOgV5xPiRuBi5/Hv3/dG+Rn6v/5tAysGrAVyBJ8EwAJWA3AJdRCwFGATuw4YCp0IIAcqBu8GwgnnCX0IMQY4BDUCuv/G/lv/6v4s/eT70/tK/z0A3fxl+b73DPjE91z2Yvfc+fz6Nfob9yL2kfaQ9d31ifY3+HH6IPl8+H/5rvq9+vr4WfnC+Yr62fsM+5X80/z9+5X6evkj+2L7IP3d/LH91vtT+X73MPhs+Sb7Ffr1+vL6RvrZ++T6PP5f/VP/8/8CAEL7ZvVKApIg+TvwQ6EmvwkFCD0UFS2bMQ4xYDXwM7AtOSIEF64TORD9BzUBCv7/+ZT3ZvbR9en0hOdg2OTPNNcX5Lnrk+wn6mzoC+Y/45rj6eu+81r6UPz//qIDdAXvBd0EZQMTBAMEPwagC2USOhRhEGsLfQbbA/sCsQQEBu8HwQe+BdICDADN/Pf5ePq1/NL8bPvk+n77fP1Y+6v4Ovc090v5nPhc9+v5DPze+6/6tPjr96v4GPiH+Hr6Wvxp/Sb6g/lX+s76qPtX+7H7uPyC/CL7ufkf+8v7sfq++TL55PqM+8v7LfvN+tT41/UB9RP2N/nB+eT46vnq+QP66/oL+/v80P/Q/yEBbf2d+uP2WQ+OLRhEVEN+HFcIugmuGjwwrjSNNMA3HTBLJukZjRTNEfcLLgOT/lb9hfmb9GHwo/Jr7qPkgtYY093bBulS7pPu7+vS5m3kXOLQ5zTyQfn5/qQAVAEsBGQCygCXAhkEuAXgBeMI0QtFEN4QdgvbBuwBiQAnAesEQQfeBxoFMgJZ/wX8rfkm+a37fv7k/iv9/vzT/Jb9IPsX+YL6Yvyj/cv8Nfyd/Qj9RPtG+av3GPmQ+2L64/nr+vD5FPrv95b2EPh++qD8d/3//E37hPkc+Hz3/Plx+z/83Psz+4j71vk1+d73H/fL9kT1avfb95f7O/pF+UP4efc8+KH55fxw/ZUBlgAHAw79Pvpb+iAZIza8ReU56RD1BUkNgyMSNFY5PDboOKAtYSErF2YShhAYC4AGlwO1Aq/6MPTl7dnwD+t94WTX4Nhq407tje4M6+PnyuJk4R3hguoE99/8eP9a/iL+qADH/4T+VQE2BGgIJArGDKEOfwxcCTgGegY3BlQGTwVpBaYFaQXSAbn+k/yy+Ub6X/0sAOD++vrY9zz5IPvI/Ij7I/x1/yH/Lfz/+bj5svs9/ET8hP7y/Yz8q/lc9gz4zvpc+tD5H/l1+g78l/tT+xz7y/oZ+1z5mflv+zT+YP4n/Zn7bfme+yH6X/uS+lH6+fcs95P3HfpU+2b7ovjV9wb3WvfB+NL66P9NATAEDf5s/Pzy2/85G3U0PUORK0EMHwWgEMEmQTmVN685EjUmKF4bvBVtE30T2wz+BoAEa/83+Oftle3O7bPpLt1b10LZ2ePX6+Lr7ejr4rTdD92t47Tu+Prw/Eb/BgDw/gP/sPyO/rEEbwoYDmAOTQ/bDfkLsQoLCRELVwk+CCsHwgZiBqIEKAFB/+L8QPqF+kP8Hv+h/pD6HPf99z35lfvK+379hAAz/zr87fkz+d77Sf0E/kL/Bf9p/Ur5tPbd93v5DvqD+5L6F/v5+uj5T/om+0D7jPnT9/T4Cfrb+777O/vl++76pvrT98T47fdn+Mz38vdM+Sz66fl8+Rf5Ifma+jv5wfnm+nv+xANLAgoBV/O3+dgS9S4/RzU1jxX0BNoI9CHKNfU7Pz6KOMssKh5uFOsQkhJtDyAMywkfAkn3levD6JbsB+sh4hza39fr4GzmPem/6Y3ld9/A2hHe5+uL+FMAlv/P/Wf+w/wQ/E39fgP1C+IOXxATD2gNXgy1CEsHCwlBDZkNkgsJB2oDFgHUAPH+Uv2k/Pr7w/09/nL9Jvm99ij1MvdW+e76gf2H/nT+x/z6+Vb53fjd+a/70v2FAPv+nPlB9cz0t/ZJ+6P7Lvuq+iX6N/oy+Sz6t/pO+/H66/rf+3b7ZPz0/LL9oP+L/fj63vfH9lH3X/eV++b7c/6b+5H5RfgF+Df50fn7+1z7gADJ/xEDZPwM+Mv6jxsbNnBCFzJcCB4E+w1nJm84Zj79O3M4wycPF/QPbhDWEtYPsgxQCEABtfOL6SjlQuvT6Fvhq9kS3Jfit+my6IXlR+J83DfdoeHv7tD7XADyAMv+tfwZ/Lr7MP+DB4UNTxCOD9EPHA8JDU8LVAl1DBkO+gxSCuQHtwVKBMYAr/6H/NL6zPwI/5UAgv3Q91ry6vGl9GT4Gfrr+3j+g/1H+834ofWm9sn44vuo/ysAlP3+9zX0IPWM+GL65/u/+nD62voP+XP45fir+pj7Lfx8/Lj7QPzY/Lz9NABt/8v94/rp+Kn4Xvgc+5b7k/7N/P76zflD+Qz5GvqH+w/6av4s/rYCBv4N+hX0FRBQLPE+kjncD2kCAQhmHtszET7JO+468iroGogPiQ+5E3YTSRLcDGMFAfaY6hLjAeoh6wXmL95n3u7g3OZX5unipuI13sDe8eGM7WP5oP31/Sb8z/vn/Jb9WQBhBwUNQxBcDoEO6g3MDfEOIQ45ENUP9AwjCpoHRAXyBDcCagET/j38FfyM/KT+Jvt19g3z6vMu9az3KfhR+IT6OPxd/MD8d/t9+kX4/vjA/In9Df/m/I75nvq5+sX5lfpY+hn7Vvu5+v35ZvmB+e75avqe/Xn8XvsI+vL5o/29/tb+EPsF+nn2hvf8+Kn8XP6Q/lr7b/rg9/v4Jfrp+yH/dP18/4f/rAAS+3H2mQU7JX45Uz46GsP/TwX/FEA0Uj+nQAM8ci5/HFoRWg/OE5QUNRT4EMMKh/s76w/j8+UF7jjpB+N93pnfaOKL4nng++CN3qPcj+DT6ND1aPuq+5j6GPuI+1H9jwFlCFwO2hEUDi0NMQyYDGUQYxE9FWsTjw3gCKsEnQKMBIwDWgS4AVL+nfoq+O/5Tfhu96D1i/U+9U/2tfWJ9bP3hPlH++H9lv0T/OP4ifen+lT8j/5E/V37wfyL/J37pPtS+gH7G/s5+qX7TPxy/b/8R/wP/Qb7mPo++Z76x/7CAMn/hfsj94by9fK29pz6i/1T/Mn4a/id9Rj2EPau+Kz6GP1m/UIA+v2j+hzzDQjCJrg66T2RFOT/vQVNGs43/EFjQSg9hC1PG1gPpg+BF+wYihmdFIgLE/qI6YrgWudN7xXsJ+V64WHgReJc4KHdrN+u3vbek+NK7Aj3gPrg+Ej4rvgv+g/9mwHVChkQTBETC1cJBggxCcYOqxDXFkoVrA5xB34BKgBZAvsCGwa/BBYCoP00+Tz4aPZH+Dv4jPmi+Rb4d/X/9dr21fc1+qD80f1V/s/76/hP+Mr4u/ld+rP7g/0E/db6xPnE9yj5RvpI+vn7v/tv/Hf7KPvH+5z7B/z1+x79Nf4r/oH96foW+Hv2l/b594b5oPw1+2b7+/jD9ZL1OffH+0j8vv6u/Z8B8/2x/R3v8PtFFVIwsUJMKYgLIvroB70g+jlkQVRAZTYUJ1wTrwuSEG4YDCDaHPsVAAVw9EnkbuXJ76j1Ou9C5nPgtuFc4irg2t+t4UjiK99q5bztRPfR+FH02/IN9rj5jPw2A1sKOxEWDfgINwXsBa8KGg4LFNcWtxaUDwgGbgCQ/7kAogU1B/MHoAM6/q34LfUI+Iz4UPtf+8r6efiA9132M/bA9xr6o/zn/in+jfpl97T0BfYu+HH6B/wO/Dv7aPjb9vH2KveY+Zn71fs9/kP++fyu/K37Mf1G/VP/bP8EABQBWP/z/X75A/la92H6pPwZ/0j+qvzO94328vQQ98D4//og/Lv8jP6k/vT9mvmi9gX1fBG3JZ42YC1iCSj+WQe3H2k4M0EXPAI3BCZsFR0MyRFKG1EjPh/vF+EGPfQ96LDjtfGQ98P0m+sK5enfh94122zcm+Lo4yTkn+aR7NnyN/QR8c3yCPcr+4v+bgNeCRwOXwq+B5gEzQd9DcAQYxXuFcUT1Qy5BEYAXwCNAucIKgkdCWED6/u/91/15vhU+8n8cPvJ+Wv2H/ZT9Z/1Afjf+03+6P36+XP0zPK88yL4Pfum+0X8g/nJ9wD3l/VR9xv4hvuY/nX+W/+b/ST8d/3r/Zb+av8UA7MCzQKrAe38q/uf+cH62fvD/ggAov6x++T4YfWW9Jj1xvlr+kP8O/sl+dX45fYe+rz7zP6++0n1zwjbIVEyXDMXDpn7CAhpHFg6X0FkPek2XCZZFlYNPBGAHrMhQiGeF2QIgvbH50HlD+8J++P2c++i5rXf/91X25jb3+Eo5RLn9ek47a3wJvBj7xXxhfYV+yz+5wHYCDcLrwqTBK0CAgUiC0wS8hNQFCwPAwjCAokAKwHvBTkItwoBB4YCDv5m+Rr7sfoT/az9VP20++T4W/fU90r51/ss/GD70fh19X30wPOR9/35Dfu++qX3CPcz9Z31xfcV+en7lfyX/en+uP7s/h3+Bv+TAQwDTAL3AfABggFeAI7+mPw//tP+of5F/hP8EfuG9+L2qvYZ+dz5EvtK+Uz4EvdK9Y/2ifb6+z39LQCY/Jf4QPZGEvgm3jN1KTwDzPxEDKQm8jqrPlU2UjAYIGQSXAzaE0UgLCRVH+cUhAMW8arqr+rS+jIApfjK6+TjRN333kvgJuIJ6YLns+dP52vrh+3W7OHupfMV+d/7gPsA/KYAawMTBC4CcgSUCFwMGg6dDN0J4wX6ArACngX8CXAOxgsWCKwDY//m/tX/zwHPAVoBf/89/Uv8uvus+pT6fvpz+eb2HPbY9W32qfer9oz3k/aU9Xf14fNo9o346fh2+Iv42/oM/M39Wf/u/qcA2wFuAZgCjAOVAw4CHwLWAJv/MQCZ//YAuf8Z/qL65vgG+N34p/kk++b64Pgn9jj1nfSI9oX4h/ll/Gn7v/1g+8H6yvVB9lwM+CM6MHooVgbN95oI+R7sOj9A+TnqL6UfsRFjDsoVBCQiKK8klBn/Bnn2Zu3R7m/6SQLb+Z3wc+bU3zXfad+g4Jjm9+dQ5k/nyehC6zrsSO0c8E3zjPZJ91r5rP8mAukCzACDAoQELwgYChMIJgmDCAUH5waUCLYKvQ2qDHsJNAbnAlkBHwG7AhcERgT6AqUAPv5B/Kb4PPcE+KH5Bvut+2b5n/d19bHy3/JQ9L72+/j+99P3GfZA9Yn3ZPi++zX+6f29/iD+iv6i/6gADQO0A/cD8ALUAWEAsf/X/wP+cf52/Tf9tf1S/kL+Jf2u+Wj4q/W59on32Pnf+h37uPtZ+a/4lfcC+yj+8v/8/dD2zPxQFVgj2ywTGfb9RAKpESEt4ztxOaUw8SMSGFERehKUHZ8lRSfxICoTFf+D8Artz/OZAx8Ddfiw7aTj/97e33LeWOTs6b3qE+o16Lno3ef257fqNPCd9nH46PnI+yL9Tf9g/FP9ewDVBbgJRQo2CtIHGwfFBo4GowjFCo4Mlg3sCl8GXgKYAOgCHgeNCF4HJASA/tv6Lfm3+Mv5v/yf/l393vqA9r/wke8b8hn1bfnv+iv5TPY384vykPOe98T7Df6c/0v+Pv2/+9f8JP+fAacDZAM4A1IBagHT/rH9dvz1/UoA6QH9AY3+Bfxd+Hv34fbo+SH8kP7f/Dr8p/hz9x73uPnB/RL/UAAP/nv/uvx2+3r2QQ5zINQrxSK9Ae73MAX6HCgwGTe8L8sofhm6DkgJMhRaIusoMiYIGnwHSPbl8X7zhgQZC1EFofUA6jLiXuNw5hTpOu2a7brryOYr53Pm0ueS6YztTvGv9UL2MvY5+Tb50fe39hX6nwCRB0wKpgdIBqMEnQI2BMIGSwrfDeANZwv5CAMGrwRuBwwKvQp+CKMDsAAbAP0ARgCKABoAn/0E+6b4ivaC92L3vfa49zf3z/ZU9Tr0QvRH9Fr2Cfda+Jb7S/rP+bP5XPpu/FH+NQCl/7P/j/7p/O39QP+6AWcC3gK7AQX+3fuX+YX6Rf13AM0BFgEL/lL7/fho+bL6If4u/xEAc/8y/XL7tfo5/jUAdQEU/3L3N/0TEYcZbCBgDWj4vgAbECUlEjDmKSMiqRtiFHUSihV0H+skOCXxHVgSYwLB+gD6xAGLDjgJBP1x8ZnoK+fS6Jjoz+yc77ftiOj05NXjt+PW5V/pmO4M82fyN/A48RL0A/ba9nD6S/5sBGQGLQQgA5cCegO9BYIIWgsZDUEOdw2CCRYHsQVIBs8Kgg1jDCkI1gSrAYf/vwDmAOb/jgAA/gz60/iv9vL0TfWm9mv3ofcH9x/0I/Pk84P0QPZ3+Mn5VPpk+mv5BflY+sv7S/0yALwAPAEqASEAtABj/17/pf2h/8MAHAHyAE7/Mv5+/df8a/uR/af9i/9N/zb/5vzJ/f/7Ff0u/6EA8ADp/UL+5fzJ/2f+Fv0S/DsS9hxsH60S7fQu+IwNeyS9Ma0tpiBaHKES3A41EDMaXSbNJ4AfMBPGAvn2J/pr/sYMgQy5/qDvxOea437nR+nW6R/uDOti6O/iF+JN4mfklekA8D/zWPSx8lzxk/Qv97T4hPpPAOsEewgxCMID+wH+AjQGyApnDTcPAw7XCpAImQVLBi0JwAuFDakLHwh+A4H/HADKALIBLwMYAZT/3/zd+T/3xvY8+Lf46fgu+Ln2PPUw8zHzIPSm9pP4W/ei9qz2EPg0+cv6Yfx6/a3+KP5p/Mz80f0wAFEBKAFsAIb/t/49/qf+PP/vABYBrgEGAN8AqgBYABABvQC3/xb/Vv9+ANMB3gHX/4b94/ws++j+Ov17/1778PrkCrcUuhfcDsX3ZPmnDgMewysTJ8wd+hqSFAwPsRF7GaolniUfHn8RlwFF+4X8bAEuCjkKYPxB8tPqvuae6ILpduoq7y3vbusM5pbiQuOb5rjrN/F18+rzz/Mx88X1XfeG93X5gf6LA9sHlQaXA+MCRQPXBVIIRwmiCp8LkApiCW8I5AclCJoJUgouCWgH1gQKA1sENwWrBDMDiwA7/5T9xP0U/Ej7RPqC+Dr4G/cM9gT1LfTF9LH1s/VB9a3zYvTu9Jj2nfdY+Pj5J/vm+zD8wfv/+0z9Jf8kAZ8BaAJWADcBMgEtAvUBZAEVAdEA6wJsAkIDRwIPAnMAhf/s/ej9vP5wAB8AzACs/y/9LvyW+yb+iv0CAGj21v9WDlwW7BmFBW/0H/6/EIMhWygTH/4ZfBZ9Eu8NrhDKGZEi7SKkG0oPrv+7+gD9uwaJDy0LV/uE8W/q6ekh7Lvs//DZ8t/vq+gS5GPic+Xt6frtyvHR88fx6+/B8MXxsfQM+M37Zf87AxsD0/8Y/xYA/QIfCOcKCAsMC6cKsAlACH4IHgptDOMPug+0DFoJfgXRBDgGBAhZCFsFvwLu/hH9Xvv7+U76cvlY+L32ZfR58rTxwfHE8sPzLfSZ8rDxCfMU9Cb28vZU9/f4wfp5/HD9Yf6B/4sA5QHmAUcC3gE6Aw4EfAZvBlIFJgRPAW8ACgD2AOEBmgNgAh8BQP4a/TT7BP0f/Xf+Hf53/pn+v/vf+w/7Jf1e/d39F/bNBcUQQhevFE79S/XeAt0TuSAqJHYbnhlGFUgQLguKECIaGCJ4ISEZQwsX/rD8Wf46CoUQlwlf+iLw6+io6+XuwfDz817zqe/o5tLireL757Dtm/EI8/7xifBb7yHxV/R796j6jP5FAtoEpgMCASIBMgTECKIMNw23DCENtAtPClgJpQm+C74N6Q20CywIlAQOASEBcgPZBCUEYABE/ef5RPiH9+L2SfhT+cD3NvYA9KDyM/Jb85r1Hva69lP16PST9rz37fjh+Vr7VPw6/Mj8AP3O/ocA2gGwAsMC/AGSACIA2QBNAYYC4AIUAwoDJwFtAGoAAwHJASUCgAEZAg8B1v+6/oL/mP/6/6H/Sf6V/sX87/2o/nD9sPzZ9175awvIEQEU4gcJ9IT8KQ1xG0cjBx66FjQWyRHIDG8PohcLH8AiPRsoD4QBIPye/ioGnw/3CVD9zfNu7bvr3e0/7i3xZvWT8kXqGOWr46rl+eta8F3zMfU689jwNvEk9OD2DPpi/nQBTQUcBcwCZgLwAkgF6QfPCTUL1guGDEELKAilBgEGzwaoCSgLZAmVB2IE0gFaAccCXgMJAvIB1P6T/I372fn/+S/7dPtV+g34PfaB8/bzYPXo9QH4Dfeu9Wf1k/X29Y336vjK+WD7Wfx8+wf8vvye/X3/wgBDAaEAaAFYAKEAlAEaAm4CdwLAAf8AEQEgAFkA/f9jAWgBggAz/ln80/v6+5X8/v0n/2L+Bf2w++n7Nfu6/Lz2mf+VD28VGhYIBNT0nP+qEYofZCT0HZAZyhfXE5UNIxC5GdciSyXxG4kPTQHI/XoBLwliEOIKCv3E8qTsauvj7EjtHfHq89DwZeji4PneWuSo62XwAfJH8TXuRu6C8Sr0c/jM+oz9HQHiA/8CyAG4A0QHRwuZDbYLogkoCgsLDwwdDFsL6Qr3C9YLzAl9B/MEKAOmBD4FzAR9A8j/Rf50/cr8R/oK+ab4IfkN+hT4R/Xw823z6/Nv9O30CPWm9LP1o/Tr9JD1MPYs+CL67vo4+4D7wfte/EH+rf9dAZ4CBgLuAU8BZQCSABoBbAIkBEkETANtATL/If71/Zv+DwBtANb//P7P/cX7Sftn+9j8xP4//7D/MAAG/jX8WfgF/VwO6hPJFXMIivimAXAP7Ru/IiceORmJF8ISpw7QEPQZ7CBHI/IaGQ7yACf+KQPYCSoQIgj8+3bzgO0i7P3ti+8q8y319O+u5iPiD+IC52XudvJM8wfy7O+F7l3xEvWO9876ZP+tAjAEbQJNADQB6wS9CGsKtAobC3wLIQv3CZ8HOQerCGQKfwsTCtAG0wTAAtICcgOEAxQDvgCG/+78HPy++yj7mfts+8/5FPcH9YT02/T79sD3H/Zd9WbzQvO89G/2+/eD+OT4M/nJ+Kf5YPqo/BD/IADs/w/+DP78/RcA8wCpAv4CeQJYAqsAn/+Y/yEAwwBcAtgBxwE1AOz/1f3P/hf+8f6s/18AQwGd/3H/8f3r/u795v7x/IgLwBKfFIYONvyu/NUJmhawHpke1RfaF1cTbg5UC5sRnBqZHz8ddhKPBhL/FAC8ApsLfwzZBKD5EvLy63zu8PD88Xz2vPRL733mveMr5S7sv/LK863ysfCX7sHu/fI090T6Sv2u/i3/FAB5/hf+gwJyBwcK4QmFB+8F/wdjCfUIrQnOCekJGgrtCIIHqwbFBtYFpwVkBZsCqAHJANUAsADP/v77Wvov+rT51fie98X2j/b89YP0v/Mi86vzhfTs9L/0D/Sq85r0OPbo91P4Cvl3+jr7xPuH+/v7f/2I/wUBqgEiA2QDCwNlAhQC5gJaA7kETgX9BV8GDQXeAukBJgFgAZMBVQJmAUsBDgCL/iT+e/3X/0L9if6t+lv8FwjJDdkN8Qbt+UH+DQ4eFkwc3RiVFD4VmRLGDcMOmRX2HlQgNhuFD5IEuAFVBFgKZw4xDCMB8/mg85PvY/BQ8YP0G/hR9HXsgOWg44bnXu218XTyf/H975Tuqu+m8pz1W/ky/K3+OP9S/1b/3gCTBP4GGggMCEwHWQhnCUUKlwrRCU0JlAidCHMIGAiqBxkGBgW4BE0D4AHSAG3/cv/J/j/9NPsM+pj5OPiG91H2ofXP9Wj10vRz9Df0Y/QO9LT05PRH9Qv23PYv+IL5P/q1+hj77vte/AX9Uf6h/0ICwAJCAxYCggGdAb0B8wLgA0YFrgX8BNACrwCG/xcA8gDxAq4BdAFF/qX8tP0A/ob/ggDaAHT+6f7d+BT/fwgeEwQU+gmH/iD+LgvyFW4bHBuAGQIXthRNDBcM7BEmGwUg9xtaErYF0/8eAKsG+gyyDBsDv/lU8cvuOe7i8Cj0s/bY9bLt1eY34rLkBeu78cn0ZvRO8QPuMe6X8N70ZvlG/QYAOQF6AKP+Sv9mAlIGmgkUCs4INQhvCDkJZQrFCtEJwwjTCMkIjAiIBzAFmgN1A8ICsgF0AKn/e/4S/n387Pme+Iz3Xvfe9+X3i/bH9CD0q/P486D0oPOp9CD1qPXT9U31E/ZQ92/5ivrc+gH7X/qN+339qf/LAcoCuQJ+AuMB1ADjAH8CBQViB8IHvgVtAyUBNwFGAZICDQMfAxwCUQB6/v393P0R/l8AEwEXAUH+GfpW+WYFQg35EdkMh/8LABoInBHlGLYaFhnhGB0Vxg7MDNMRZhhuHrcchxXDCe0BGQCMA9QLNAvqBDD8r/QU8Inucu5W8Qr2QvZl8Pno4OPc45LpW++38wT2ufMH8QTwm/C+89b3yfyoALEDOgNMABYA4AGLBfAJVwtUCpkJUQmeCSALAgxPChkJWAh6BxAIkwfvBdQEZwOcAWr/TP09/BP8FP2w/KH6M/h39XT0vPR+9av1iPU19ZP0PfTs83rzA/T09F32Zff690L4APkv+kj72/sL/GT8kf08/6UAEAJvAuwC0wKtAmwCGgJEAuYCUASrBLcEEAPQAG//Bv9t/rH/0P60/t79z/02/fb7YPwM/P780fyh+0b7zQWWDJ8Q9wzSAegA1whmEfIXChumG3ocuxmLEzMOXRGvF/scbx6wGkARhgi5AyMCVQiQCq4GTwBm+UPza/DB7pDvSvJm81TwpuqY5sfkiubc6lrvNfEY8XrvVu6s8IDz1vXB+Jr77/67AKAB2QH/AokFpAcdCR0KiwowC7sLdwy1DLALugqcCYQJwAkGCZkH8gUnBaEE7QLbAPz9u/yF/Hb8C/xf+qn4ifZF9YT0nvNS86jzkfRZ9aj0vvOY8vPyBvR79ZH2evee+Jf53Ppw+2X7Sfud+1D9Pv/nAKgBEgKpAiwCcQECAKX/DgGmAm0EvAR4AyMBmP6i/Xf97/48/97/igB7AIT/U/4U/oP+1/8B/1//wgPzCjkPcw+RClEHFwtsD/cTKxcLGewa3xoQGBsUdBPtFLQVshb6FAQRqQwZCGEFCQWgBBwBhPw2+DD14/IG8STvvu4U73Xttup86L/nFelT6/Psxe3l7pnv2PCl8+710vdJ+Zf6tvyK/8sBHQNrBcwHZgksCocJ8Qg7CsALcw0ODpINIgy3CugJ6gh0CKwHdQalBfcEcAO/AaT/PP77/Pj7mfqf+CL4fPeI9x/3Bfah9CPzkvKf8mbzWPSm9P70SPVH9fT0pfQZ9Vr26/iO+ij7VPvb+gn72/v4/C/+u/8RAdQBEwKjAc0AvgAMAQoCswLwAqEC8AGXAQ4BnAA1AOr/ZgCUAHcBhwFoAYMBqgD9APcB2wUxCR0Mdwy+CgUMvQ0zEKAR6xH0EnsVoRb9FZUUkxOyE24TPBIfEK0NXwubCPYFQgQaA90AWv55+5v4svYJ9C/xV+8f7yvvJu8g7sHs1uz67a/uPu//7wjxbPLS8+70Gfaj+AD7j/0p//z/JADFAC4CTwSpBg0IxwgfCQ8J+wh/CGQIcgk+ClcKaAkHCH4GtAWoBZEFGAXkA0YCJQGmAJL/Kv6U/JL76/oo+sD4kffE9oj2pfYo9qD1yPTg8wj0dfQ09TX2R/aF9gb3IPeh91r4YPmx+vr7vPzf/AP9G/2I/QP/qQAdAl4DTAPiApEC8QEMAogCxAMuBaoFDQVNAwwCdQHyAZIC2wIHA9ECQwKuAZsBvwG0AsIDIgWoBskHZAizCMAIHwkNCuYKBQz8DCkNmgzJC8AKrArxCj0LvAqSCU4InAZsBVQEVQN3AtEBsQBU/6H9IvwK+/T68fqb+tj5jPgj+F34+/gq+fj4ofjk+FL5gvm7+V76efuI/BD97PyW/IL88/x3/Vf+C/+E/57/qv9c/4r/lf++/0gAGAHbAZYBBwFlAGUApwD7APAAHwF9AUcBxwA1ALn/iP8z/+H+mf5d/jf+uv1z/fP8Rfw4+4D6bvrf+lP7FPtq+tb5oPlV+Sv5NPlS+eD5V/ph+pb6T/oE+hT6fvr0+kr7uPtN/Gf99f3Z/U79Hv2h/az+b//d/38ANgH2Ad0BVgEVAcABkQO7BekHNQnMCfwJRgotC50MEQ5rD98QohF8EeEQBxD+D/AQYBECEQQQSw4NDUEMEAvGCWUIswbLBMoC3QBX/33+cP3A+1n5+/a09bb1X/aS9tv1p/Ru86/yyPKK87L0C/ZK93r3Cfel9oL2hPcs+TX72vxG/UD96/zo/HX9Sv5u/4gAqgEAAuIBSwGgANIAngHeAoQDcgMKA74CngJxAusBnwHXAUQCngJ4AqkBsgD9/wP/jf46/jr+Vv5L/sL9uPyn+5j6Tvqk+mT70vt9+3f6T/nV+K740PhC+Z75KvpW+rv56Phm+An5Lvo4+5D7ePuH+wr80fws/UL9Yv1K/nv/VgCXAGUAvQCmAe8C+wPvBPUFRQfVCCEKGAveC6EMkA1/DmsPTRCdEM4QJxExERQR6RBbEAUQ5w8SD7QN4QsbCrUIyQeFBrgEqwJPAIT+G/3A+1r6Dvn091v30PbY9df0EPS/8+bznvQr9Y31tPWJ9Wn1yPWF9rD3Xfms+nD7sfuL+4H7LPyC/SP/ogBKAQ0BcgD+/wsAyQDDAXEC/AL7ArYCJgJeARMBOgH0AYcCoAIKAgcBRgDh/zgAggBFAKz/yv5O/mL+Uf7b/Uf9tvyZ/L/8n/wy/M37Xftc+0z74vq9+tT6Ffsu+xP7l/pW+qz69voG++D6wPrr+l/7mvvm+wX89vv++0r8uPxh/ev9Wv7F/jn/nv+6/3EAgQGwA+EFSQf+B/YHcAh1CS8LyQwMDsUOCg8bDx8PMg9+DwUQnBC3EDUQ4A49DTcM6QsGDIsLHgqlB1oFmANSAmcBhQBV/8D96PsA+p/45/fD9673MPdM9kf1LfQa9KL0tvW29ub2tvYy9iH2oPbe93n5APvl+7/7Pvvl+mT72/xu/p3/BQCz/3D/d/+7/0cA6QBnAakBtQGCAVsBfAHKARwCMQLAAWUBSgFmAcABhgHeAEkA+v/N/5X/Hv+0/rv+6f7K/gv+3vxF/C38dPym/Gv8Dfyj+4L7dvtP++/6sPrv+mn7w/uU+y773foP+2n7s/sa/D38XvyI/Hb8bPxo/K38VP3y/Xv+xf7P/iT/sv/AADcCsAMCBTIGNAf+B64IewmmCiIMhQ1CDlgOfg7kDncPKxCMEHEQJxCFD6YO2Q0VDRoMCwvFCT8IyAYyBbMDSwLIAFj//f22/NX7EvtJ+kr5P/iH9/T20vaI9kb2+/XN9cz1rfXD9QH2nvZ69x74gvi/+Nz4N/nu+bj6e/tM/Br9zv0q/gj+y/3o/aP+yv/0AIcBewHxAFgASgDEAK8BbwLEAqcCMwKwASQBxgDMACIBTwEWAZcA1f88/yH/H//u/nH+EP7D/bj9r/1F/bb8R/wb/Cz8NvwB/KH7Q/sX+wf7BvsF+yX7WPtn+0X71vp8+ob6DPvH+0/8W/xJ/C/8K/xl/Pv8uP2Z/oX/GQAAAf0BIgNPBDgFbQaoByUJcwpEC9QLXwwADcMNqQ50DwgQhxDAEE0Qhw+uDh4OJg46Dt4N0wzRCqoI9AagBbUEvQOoAokBHwBd/k/8l/qM+S35Nvnn+AD4sPac9f70C/Vq9aH1zfXf9RD2dPbA9hD3dvcN+Mf4Svna+XP6TvtB/MX87fzJ/Pr8t/3J/sj/eAC/AJsAWgA6AHgAIAEqAucCDQOJAp8B8QC+AFgBGgKBAlMCfwGZAOD/oP/a/zUAVwADAGj/uf4W/r/9u/3v/TT+D/5i/Wf8uPut+zf8nPyH/A38aPsH+9L67vpY+7b7+vvf+2X73frA+hP7xPtU/JX8bfx3/LD8//xI/Zz9O/7//mMAaQGJArsDngTQBXsGBAfKB+4IUgq/C7gMKQ03DUcNrA1BDvMOlQ/sD7sPBw8ZDl0NpwwuDMULFgv9CVIIUgZ2BDoDagKoAaIAOf94/df7ufrf+Xf5GvmH+OX3/PYr9qL1jfXv9Wj2pPaq9o32ePab9hj3yPeo+HT5C/qU+vf6QvuT+yj8zPyY/VT+vf73/vT+//42/4z/9f+XAD0BegGIATsB9wAKAVkBwQHmAccBUwHcAG8AMwAcABkAOgBEABcAmv/W/iP+0P0G/pj+6/6//vv97fwk/Ob7KfyZ/Nz8nPwG/Fz7x/qj+vf6e/sW/ED89ft++yD7I/uw+3D8/fxB/RT90fy7/Ar9mP04/gz/zP9rAN4AowGtAuoDNQVWBk4HKggHCekJ+wreC5sMEA1mDdcNLw6/Dh0PSA8tD9gOPg6CDdkMRwzUC0ILYQrpCBEHSwXdA/0CaQJvAQoAcP7z/OL7L/uO+sT5Ivly+Ov3cPfo9oH2VfaO9tH26fa79qD2z/Y99+T3avi2+Nz4TvkL+q/6MPue+xz8r/wd/Yr92f0m/tP+bf8MAFIANgAPACMAdgACAWwBewFnARUB1wCTAFgATQBxAKgAuABxAO//Xf///g7/KP9U/4D/a/8L/3b+2P1R/Vr9o/3W/b79U/3X/HH8RPwh/Ab8IPxd/Ib8bfzr+3v7bvu2+zv8Yvw//Pb7BvxS/MH8Gf1s/cj9R/7W/nP/lQCrARsDdwRPBRUGmwZQB0sIjAmmCogL/As5DF8MtwxhDQsOog7sDrAONw62DTEN2AyDDBkMaAtPCuYIYwf5BesEDgQyA0ECEwGp/zz+7vz3+2P7//qM+uH5Jvku+Fz31/aa9qz23Pby9rf2S/YH9hj2evbw9pr3Pvit+Af5Rvme+QT6lvoy+9H7X/yV/Mb86/xA/bH9Gf6P/vz+bf/C//z/IQA8AGYAugANAWQBbgEsAc4AfABsAGwAgQBEAAEAvv9u/zf/9f7G/sD+1P63/on+K/68/YD9d/2G/X/9Vf38/L38rvyd/I/8qfz4/ED9W/2J/Zv9qv3R/fr9MP53/sb+Gv9g/4H/m/+u/+7/fQAgARgC4wK4A3QE/QSNBS4GHwdECHoJhApKC50LpQukC+ILoAy2DYMOuA5PDoEN5QyNDHMMSgzXC94KsQl4CBEHzgW3BOMDAQPUAXYABv+R/VT8oPsJ+1T6UPlV+I73DvfZ9q32mfaD9lL2Fvbl9c31AvZ19hX3ivee95b3kffh96r4nPli+uX64foA+1T70Put/HH9HP6e/t7+0P67/tP+T//8/5sA8QCiAC8A6//Y/wwAawCcAKQAeQAeAMv/fP9A/1L/nf+2/23/+f6c/jj+Cf7z/en99/3f/Y/9Jf3N/H78d/yg/NH87vzn/NT8yvzl/DL9jv3Z/Q7+WP6H/qn+5P4i/4P/DgBnALMA5QBNAfkB0QLzA+MEuQVjBtMGdgchCPUIzQmBCv0KVgt0C4ILrQv1C3AM6gxSDUwN3wxTDN0LlAtpCyQLoQrACYUINgf1BdME3gMIAzECOAH9/57+Tv1B/J37RPvF+jD6c/mA+I/34faF9n72jPZr9hD2q/Vm9U/1pvUN9nf28PZa97j35/cN+Ef4wPhS+QD6hvrY+gX7Pfue+xr8p/wd/Zf9Av50/uL+X/+l/8r/CAA6AHsArgDEANUA6wDEAMQAtACDAFAASwCSAKAAhgA+APr/uP+i/6T/k/+I/23/Rf8J/8r+d/5F/k/+Zv6k/sz+w/6z/pP+ov7R/ib/WP+C/5L/lv/J//f/RwCmAPMAPQF5AesBbwJGAysE1QSCBfwFggYkB9wHgAj7CFoJqAnmCf0JHQo/CmoKoAqqCpgKSQrLCW0JGwnkCKcI6gfTBtEFxwT5A0cDgwK0AcQAsv+6/tD9D/2F/CL8zvtr++z6PvqW+Rv57vj3+Or4r/hl+Bn40/fX9+j3CfhW+LH4CvlB+Vf5a/nP+Tn6ufok+2f7ifua+7H7qfvh+wD8Nvxn/J/87Pwj/W39t/0G/k7+o/7M/v7+Hf8+/2D/if+i/6f/wv+7/9b/1P/Y/9v/6v/9//7/7f/V//D/8P/Q/6j/if9U/zX/Iv/5/gX/IP8W/w//C//+/hv/Rv9w/4L/lP+f/73/5/8kAD8AgwDTAEkB1QFcAiED0APTBJ0FHwaXBugGcwcJCKUIDAleCYoJngmpCc4J+QkECiUKFwrTCY4JJQmWCCgIwwdbB9AG9wUTBT8EcwO1AvgBTAGLAMn//P4e/lr9oPwP/Jv7Nvul+hb6kvkm+cv4nPhq+EP4KvgB+OD32vcH+Dj4j/jF+O34GflE+Yn5yfka+n76AfuE+/H7Lfxv/L38Jf24/TL+sf74/jn/c/+l/+z/FgBQAI0AtgCvAMcA3ADSALUAxwAaATQBSAFGAQ4B5wCxAIoAYwATAOz/qv9v/zX/2/57/gX+yP2O/Y39f/1f/V79RP02/TT9Qf1l/Y39xf0A/iP+Vv5s/on+2v5E/8n/YQDZACEBogEfAuMCrwNdBBYFswVRBtoGTQe4By8IjwjUCCcJTwlMCT8JQglOCUcJNAnxCI8IPgjqB4YH8AY7BmEFqQQiBJYDBwNIAmgBhAC5/xD/eP7m/UP9vvwx/MH7Ofuj+gn6ufmz+ZX5b/kn+f740/jZ+OX44Pj9+B35VPlX+Yf55Pkr+qL6Bfs/+4z71vsW/GX8wvwZ/Xf97P1E/oT+xP7//kL/pP/x/z4AgACOAK0AsACwAMMA1wDyAA0BCAHkALsAigBaAFUAaQBoAFQADQC9/2r/Kf/2/sz+vf6Z/l7+Gv63/S/99/z2/Br9Qf1O/U39Nf0s/T79Yv3C/TT+q/4A/1X/xP8mAM0AkwGPAnADIQTEBFYF8gVjBvwGmwcdCJQI+Qg3CW0JkQmwCcAJ1wnGCagJcwkgCf4IrAhRCL0HAgdPBo4F5gQ1BG8DoAK+AdwABwAb/1f+qP0Z/Yj87/tQ+7z6JfrC+WX5J/kf+ev4zPif+Ij4kPjF+An5IvlF+XH5ovn++Wf6x/oy+3z7w/sP/Gf8ovwA/X392/0a/k/+q/7X/hr/Xv+c/9T/GwAkAA0AIAAIACIAMgA2ABAA8P/+//X/AwDy/+j/5f+x/4n/d/9U/0D/HP/k/tX+rv5//jf+AP73/RT+RP5c/lr+W/5Z/mD+cf6L/rb+4/4J/zX/ef+X/63/9/9oAPUAiQH/AUwCqgIaA6gDNATDBF0F4QVABoUG0AYDB1QHsgf3BycIAwjwB9gHyQfWB8QHsgdtBxIHrwYqBqkFHAVyBNYDSAO5Ah8CTwF7AKT/+v5//u79TP3I/DX8uvtV++76efoq+un5y/mr+Y/5n/mI+av5zPn7+Ur6jvrQ+hX7b/u4+w78g/zh/Cb9ev3K/Q/+WP6b/tr+GP85/1v/fv+f/8r/8v8qAEAATABHADoAPAAZAA4AFAALAAAA3/+W/0z/GP/y/tH+yP6+/qf+iv5b/gP+yv3M/dX93v3n/d79x/3O/br9ov27/dn9FP5A/mj+lf6m/rT+2/4L/0f/dv/R/zIAhACzANgAOAGhAUcC/QKJAwgEjwT6BG4F8QVqBvcGVgfKB0cIeQiKCJAIfQinCL4IyAjTCKIIVggLCLcHRQfIBjwGqgUeBV0ElQPCAt4BCAFMAJz/Af88/on99PxS/ML7UPsD+7T6cfou+gH61Pmx+Yv5Xflr+Xz5ofnI+ez5D/pR+p361/o7+5n7EPx4/Mj8BP02/Wb9of3o/Rv+X/6H/pT+of6s/rD+0P7//in/UP9j/5X/pP+p/6j/qP+l/5L/lP+d/6z/mP+G/2f/V/9Z/1//hP+E/6r/uP+t/4r/U/9L/0b/dv+g/7v/3P/f/+j/7//9/ysAcACmANEACgEkAVQBdgGiAf4BTgKMAtwCMQNDA04DbwOlA/4DNwRyBHgEjgSgBJYExATbBP4ELQU6BUEFRQUdBQYF6AS6BKQEawQ0BOADdwMjA78CPwLbAWQBDAG8AGQA9v+D/yL/sv5o/hv+yf2A/Sj92vyY/FD8DPzV+6L7jPtq+1n7Wfs1+y37Qfs1+0P7bft1+5j70fsA/B38K/xF/Gz8oPzW/CH9bP2o/c397/0d/mD+tf72/ij/U/+G/6P/0P/l/+X//f8SAC0ARQBmAHAAYgBZAEQASwBnAHYAiQB0AGAAQQAtAFgAZgByAI4ApwCYAIAAfQCJALYA2gD/AAYBCQEVAQ8BBQEMASIBOAFDAUUBMwErAUIBVAFwAYoBmQGpAa0BswHCAdwB+QEYAjsCTQJYAlgCXAJuAngClwKsAqsCpgKWAowChQKgAq4CfAJZAjEC+wHRAawBnAFuASgB/gDUAJYARAD1/7f/mv94/1D/Av+6/pH+X/45/ib+9P3R/bL9if1w/WL9c/15/YT9gP1u/V39VP1d/Vr9Yf1o/X/9fv19/Xb9Wf1t/Zv91f32/Qz+DP4K/hz+OP5z/rX+1/7s/v7+C/8c/wv/Ef8R/z//af9y/3L/Uf9b/27/if+q/77/t//G/8P/uP/Q/9n/2v/w//z/9v8KACYAPABBAFIAYABzAHMAiQDTABMBMwFQAXQBhgGiAb4B/wE5Al8CewJ6AowChwKXAqoCyQL9AhcDJgMTAwAD9QLeAtcC1ALbAs8CoAKTAmkCMQIcAukB1AGfAX4BYwE5ASQBAQEAAeoAvACWAH0AWQBKADkACwD//93/vv+J/2n/Q/8s/zv/O/83/yn/Gf/0/t3+1/7t/vH+y/6y/oX+Zv5c/lb+R/5R/kr+Q/5F/j7+Pv49/lv+cP5v/m7+g/5x/lX+TP48/j3+X/58/mv+cP5q/kT+Q/5I/lD+bP54/o7+lv6Q/pT+iP6R/rX+wP7W/vD++f7//hH/Ff8a/yb/Tf9//6D/0P/k/wcAJgAuAF8AjwC4ANIA4gDyABMBQwFtAXYBfgGXAacB1AEEAhsCQQI6AjcCNQIrAjICNwJaAnACeAJXAh8C9gHSAdUB6gH6AecBwgGbAWsBRgEzARkBKAE1AToBLAEBAdsAxADSAN4A7ADoANcAwwCsAIMAZgBuAG8AfQBZADoARgBGAEIAOAAhABcADQAVAPX/8f/X/8b/3v/D/6n/mP+i/57/kv+X/3f/W/86/zD/D//8/vT+2f7A/pL+pf58/jr+L/4Y/gz+Ef76/ef96f3F/b/9wP27/Z/9pP2p/aX9wv3B/eH97P36/RL+FP4s/l/+i/6u/tH+9/4m/0L/Z/+E/53/uv/Q/9v/6P/9/ygATwBiAGcAdwCTALUAyQDlAAwBJAEsASwBIAEvAUkBTQFpAXABWQFlAYABmwGtAaUBqwGnAbAB1QHWAe4B6AHRAbYBrAHFAcsBzgHJAasBnwGAAVMBJAEMASQBMAE3AS4BLgEGAfAA2QC9AM4AyADBAKEAkQB9AHQAVQA4ADMAIwADAPv/4//V/9b/uP+S/4P/Yv9j/3H/Yv95/27/V/9E/yn/IP8H/wH/B/8I/wX/7v7H/qf+e/5r/nz+iv55/nP+a/5F/iT+DP4N/ij+Vf5a/l3+SP4v/i/+JP5B/k/+a/6H/p3+sv6c/pL+sf7R/vz+Jv9Y/3b/i/+x/8H/4P8GAFMAkAC1AM8A5wDyAO4AAwEbATkBRQFPAVoBRQE6ATgBHgEzATQBQwF6AXwBfwF5AWEBYwFtAXgBfwGJAYMBdwFuAVoBSQFOAV8BfQF2AXABdwFeAUwBRgFWAVkBZgFHAR4BDQEAAeMArQChAIMAkAB8AGQAWgBBACAABQAHAAAACgAWAPT/4P/a/8D/uf+y/6j/pP+E/2f/Tf8t/wr/A//2/vL+9v7a/tv+zP6u/qD+fP5h/jj+L/4l/jX+O/41/kT+L/4y/jX+Q/5e/oL+mv6d/pz+jv6N/pj+vf7o/vz+If8z/z3/RP8v/zj/VP9x/5P/t//C/9P/zv/g/yAAOABCAGAAhwCTAKcAsADAAOkA9gANAQQBCAEIAfMAHwEuATABSQE8AUIBXQFVAVoBUgEwASQBIAEjAR4BGwEWARcBDQETAQkBBwEFAQUBAAH+AAkBAAEFAQkBAQH8APgA4ADrAPMA+QAAAfgA4gC6ALkArACdAIYAfgBVADMAIgATAPf/9//v/8H/pv+K/5b/kf9//4j/g/+G/2f/VP9G/0n/Tf9F/z3/Lv8k/w3/Cf/3/ub+2P7S/tj+xf7c/tf+y/7N/sf+yv7P/tD+xP6//sf+z/7Y/vv+BP/1/vX+C/8S/xL/KP8t/0b/Xv90/3j/gf+f/63/pv+x/73/xf/Q/9P/1P/Q/+L/+f8NACEAIgApACwAKQBAAEsAXAB2AH8AkQCcAJgAnwCnAK8AwQDUAOcAAgESARABDgEeATkBLAEmARQBEwEUARsBMwExATUBMgEnAQ8BBgEBAfUABAEIAQoB6wDWAOsA4gDWANsA0ADSAL0AngCHAH8AhgCYAI4AfgB8AFsALwAqABwAFAAKAAUA7f/P/7n/jv91/3z/lv+e/6L/i/9r/1r/Vv9g/0v/Rf8x/x//FP8P//v+8/7Y/t3+6P7m/tz+x/7p/v7+Hf8q/z7/Qv9K/2L/ff+N/5//sP+S/47/hP+T/6L/tP++/8b/zf+//6X/mf+g/7//0//l/+7/4v/z//P/DQAjADgATgBWAGAASQBFAEoATwBYAGsAfQBwAGYAYABDADYALwA2ADYAKQA4AC4AMwA/ADgAQwAgACoAMwAuADAANgBXAGkAbQBmAHIAcwCBAI4AlACtALAArQCPAI8AeQB9AI8AiwCNAH8AdABbAFcAWgBqAHkAXQBYADkAHgAZABMACgATAAwABgAIAAAA+P/t//z/+f/m/+T/3v/c/8H/s/+l/5z/qf+u/5H/hv+U/4z/lf+b/5j/hP95/5D/k/+i/6H/lf+B/3r/X/9Y/2T/Yv9t/33/kv+B/3//l/+f/6n/rP+n/7z/uP+s/8P/2v/v/+n/3//P/8j/3//7//j/9P/6/+z/+v8LABQAJAAoAC0AKQAnABoAHAAtADYATgBAAD0APAA4AEwAZABzAFYATwBhAG8AcQB5AHYAgACGAIUAggB3AHsAhgCYAJsAkwCBAHUAfgCEAHgAjgCbAJIAkQBsAFUAWwBmAFYARAA3AB8ACgAKAAUAFQAJAA4AFAALAAUA//8gACAALwA5AEIARwAkACoAJwAhABcAHAAJAO3/7v/Y/8H/vf+//7v/qP+W/4D/gf99/2X/cv9j/zj/Pv8g/xb/D/8J/wz/EP8u/zn/QP9O/2n/bP95/3b/e/+T/7v/0//K/8v/x//X/+T/9/8AABQAEQABAAYAFQASAA0ABgADAAgABQALAAQA8f/w/wAA7P/z//v/4f/2/wMADgAMAAEAFgAtAEYAWgCAAHgAdACSAHkAkACaAJMAiwCHAJgAmwCgAKEAkwCIAIMAdwBhAGMAaQBjAGUAWQBbAFsAdQB2AFkAZABuAH4AcwBrAGQAagBWAFMAWwBkAHIAcQBmAGAAVABGAD8ALAANAAYABQAFAAQA8v/V/8//tP+z/67/pf+k/47/iP9r/1n/YP9X/2H/af9Y/z//Mf8q/yb/Gf8i/y//Qv9f/1//Zv9g/1j/cf9t/37/hv+H/53/qP++/7n/qv+8/77/z//h/+r/EgAdADwAXABpAH8AmgCjAJsApwCbAJoAiQCHAI4AjACPAIkAbwBgAE0APwBKAEkAPQA/AE8ASwBTAEUAHQATABcAGAAhAC0ADgAAAP3/7v/h/+z/BgAdAA8A+/8CAPn/AAD//wkAEwAgACcAKwAwACEALAATAAsADgAhACcALgA+AEAAUgBWAD8ALQAxAEUARwBJAFkAUwBEAFMAVwBeAE0AMgAmABkAFgAGAAgABADo/9j/yf/H/6P/l/+h/5n/lv+K/33/dP9z/3j/if+N/5D/lf+G/23/Sf9E/0L/VP9S/0z/Xf9W/0//SP9X/2r/if+S/5v/pf+W/6f/pP/E/+P/9/8BABUAQwA9AE8AXgBoAJIAswDHALcAuADCALQAyADNAMIA0QDSANkA2QDNAM8AuQCMAH4AeQBtAGAATgBNAD8AIAAhAAIA9v/q/+n/3f/b/+P/zP/Q/8v/xP/B/7f/sv+//8H/yf/Z/9z/3P/g//H/7P/x/+//9f/e/97/8v/y//f/BgAOAA0AFgAYACMAKgAlADEAPgBFAFcAYwBjAHEAegBeAEIAOAAzADkARQBEADQAGgD2/+n/zf/R/8v/tP+r/5T/h/98/3v/d/9q/2v/V/9N/2j/Zv9U/1H/Wf9g/2f/ev9+/4b/k/+a/6P/o/+T/5b/p/+3/8L/0//t//f/+////xAAGAAlADAALQAxACoAIQAnADkAOQBTAGAAXwBpAGAAdACCAJkAuQC0ALoAywDIAMEAwQDJANwAxQC9AKkAmQCOAIQAjQCEAG4AYgBSAEAAMQAYAAcAEQAJAP3/4//R/97/4P/f/9n/vf+7/6//qf+u/7H/1f/v/+3/7P/d/7//sP/O/9f/4//t/+n/5//n//H/4//1/wgAGgAsACgAJQARAAUA/v8LAB0AIQAjAA8A+//9/97/1f+2/6n/oP+R/5r/gP96/3z/fP+H/4b/gv+D/2r/cv+E/5L/pf+s/7X/uP+5/7n/y//C/8T/2v/p/87/0//3/wAABgADABEAFAApAC8AOwBKAEQASQAzADQAQQBKAFgAaABsAHgAjAByAFMAVABcAGIAXgBuAHMAYQBoAF4AXwB2AGEAaABdAFAAXABTAGEAbAB8AHQAXQBVACMADgAMAAsAAQARAAYA6P/l/9j/xP/I/9j/1v/X/8v/vv+y/6r/uf/D/9L/yf/P/8b/uP/A/8D/xv/a/9//4/8EAA0AHQAtADIAPAArACsAJwAqADEALAAjACMAJwAmACgAEwD8/+r/4//s/9P/wv+r/6b/nv+r/7j/qv+k/5b/lf+L/4//lv+i/8P/yf/E/7f/sv+5/7b/v//F/9X/3v/a/+X/9v8PABgAHAAVAAcABQAAAPD/6P///wMADgAtACgALwAVAAAACgAIAAUACQAdACMAOwA4AD8ASQA6AEoAQwBLAE8ASgBXAFwAYQBvAHkAggB9AHoAdgBzAGsAcACAAIQAfAB2AHQAbgBpAFQARgBMAFEARgAfAAcA+P/3/+j/4//i/9n/3P/a/+D/5//c/+3/9P/6//D/3v/q/+n/5v/4////9//e/9L/w/+3/7n/xv+//67/v/+t/6b/sP+4/83/vv+w/5z/i/+I/47/o/+x/67/tP+j/6H/qf+d/5r/of+2/7//yP/S/+b/5v/k/+b/4v/v//L//f/4/+z/AwAEAPn/HQAgADUARgAlACwALgAiACsANwA7AEcATABKAFEARgBKAFQAQAAwACMACwARAA0AEwAcAAwADAAUABIAGQAqACUANgBBADoATwBUAFwATwBRAHAAbwBmAFgAQAA+AFQAZABkAFgAOAAvACUAJQApAB0AHgARAAUA/f/s//H/3//a/+L/5v/a/8z/wf+m/5n/m/+H/5v/rP+0/8n/wP/B/7X/of+h/7H/wP+y/73/y//A/8b/z//h//f/EgATABgAGgATABYAFwAtAC0AMwA7AC8AHQAiAB0AEwDu/+n/7P/O/9H/zP/f//X//f8FABYAEAAaABUACAASAB4AMQBGAEMAOQBGAEgAUABIAD4AKAAjABcAEwAXABcAKgApACQAKwAkACIAHQAcACIAJAAUAAIA///x//n/BQAMAA4A/f/y/9j/2v/P/8n/yf/J/8n/yv/E/8X/3P/Z/9f/4P/t//f/AAAEAB4AIAARABoAFAAVAAoA/v8BAAMAAgAFAAoABADk/+L/4//S/83/1//w//X/8P/p/+L/4//h/+r/2v/Y/+3/5P/s//v/+v8NADcAQgA6ADYAOgA9ADIAOQAyADcATQBLADIAJgAoACYAKwAmACQAHgD8//f/BwASABIAEAAGAPX/9P/s/+X/7//p/+r/5//X/9T/2//Y/93/5v/r/9j/1f/T/8//yv/E/9D/2v/a/93/1f/W/+3//v8CAAwACQAHABMAFAAtAD0ATwBWAFoAbgBkAFQASQBDAEgAXwBbAFkARAAtACUAHAAVABwAGwAJAAYAAQDl/9v/0v/O/9L/7v/s/+L/7f/n//D/8P8FAP7/8//z//L/+f/s//H/4//l/+b/7P/y/97/2//T/9X/4P/k/+b/4v/b/9//6P/R/9X/1//W/9n/3////wUACAAOAAwADAAlADEAMgA/AE4AZwBpAGcAQgAxADAAMwA1AC0ALwAgABcAEwD9//f/9P/z/+b/1v/K/77/uv+2/7z/tv+s/7n/uf++/8H/vf+z/67/rP+s/7//yP/W/93/AgATAAwAIAAWACAADgD//w0ADgAVACMAKAAtADQALAArAB4AGwAsACUAKQA8AEoAVgBSAD8ARQBTAFUARQBEAEAAQQA2ADMASwBLAEUASABDAD0APAAjABcAEwADAAIAAQAFAAgAGAAkAB0ABQAAAO7/9P8AAP7////3//7//v8AAAAA/f/9//n//P/s/+v/3P/e/9L/x//P/8r/xP+6/87/yf+4/8j/xv++/8f/yv/c/93/5P/5/wAAEgALAAQA/f8BAAEAAwAXACAAHgAMAAkA/P/4/wAA9//1/wIA+f/7/+//2v/r/+z/9v/j/9//0v/X/9D/xP/G/8L/xf/b//v///8XABcACAAGAP7/CAASAA0AHQAZAAEAEAAcACgAMgA0AD4AOABCAE0ANgAyACgAGgAoADcANgA6AEkAQwApACwANAAoAAUAAgAGAAIACAD+//L/5P/X/9f/3f/l/+H/2v/P/8z/0//Y/9X/2//s/93/zv/H/7b/vf/g//X/9/8DAPD/3v/e/9P/3//2//D/9v8IAPr/6f/7/wUACQAZABgAKgAyADEAOAA6AFUAXQBqAGgAZgBhAEQAQAA9ADUAQAA+ADQAIQAdACIAFAAJAAQABgAFAP//8v/v/+f/9v8LAP7/AQD7//D/7f/k/9b/4f/c/+P/7//r//T/AAAJAAYAFAAPAA4AGwAcACwAKwAxACUAIgAvADQANwAzADcALwA5AEIAOQBCADcAJQAHAAMA7v/t/+z/7P8AAP3/9//0//3/+P/o/+b/7f/s/+n/2v/R/9P/zf/X/8L/u/+7/7b/vf+1/57/jP+B/3z/df9//43/hv+Y/6T/sf+0/6D/nv+V/6T/u/+4/63/rf/L/9j/+/8bABIAGAAUAA8AAgAFACEAMABKAGYAZABpAGwAagBLAEcAUgBLAFkAXwB1AIAAfAB9AJAAmACQAI4AhQBsAGMAYQBVAFIAQAA9ADcAJwAWAAIAzf/D/8f/wv+3/63/qf+j/7f/uP++/8L/wf/H/8L/zP/j//7/FgAqACYALgBPAEgAUQBiAGgAZwBbAGYAXQBUAD8AMQA5AEMAOQAzACIACwD6//P/7v/o/+H/1v/i/+P/z//H/7X/sP+r/7z/t/+x/8L/uv/M/+D/6f/m//P/7f/f/+P/2P/W/87/z//K/9b/6P/e/93/2f/f/9r/zf/O/8j/yf/e/+3/5f/3//r/+P/i/9//6v/f//b//v8HABEAKgAtACgAPgA7AFEAVABLAEEAPABBAEsAXgBgAFQASwBCADwAMwArACIAIwAUAAsAAgD+/wQAAwAWABYADQADAAMABAAIACAAHQAmAB4ADQACAPj/4P/a//D/6P/o/+//5v/t/9v/0f/f/87/wP++/7b/uP/F/73/xP/V/8T/0P/V/83/zP/Y//D/9P/z//j/FgAaACQALAAtAEEAMQA3AD4AMgAeABIADQAUABwAGAAWABUAJwAlABQAEQAKAA0AEgARABQAIAAsAD0ATQBiAFkAYwBuAGUAZQBPAFcAUwBJAFIASgBGACkAEwDo/9P/yv/H/6//m/+W/4L/iP+U/53/rv+w/5//kv+G/4v/m/+y/8D/zP/b/9j/3v/p/+3/+v8EAAcAFgAkACkAJQAiADYAPwA2ADMAJgAjABwAEwAVABEAEgAaABYAJAAjABAAEQAGAP7/BwAOABIACQAQABQAFgAPAAwAEgATABUAGQAWABMADwASAB0AGQAfABkAAgABABAACAACAA8A9//z//L/6f/R/9b/2P/N/8//yf/I/8H/2P/P/8b/1//l//r/8P/6/wwAAAANAAwACQAZACQAFgAOAA0A/P8DAAMACwANABAAAQD5/+z/4v/Z/9j/4//f//D/9v8QACIADwAVAAYA/f/3/+n/+/8AAAkAEwAbACMAGgAWABMAGAARABYAHQApACgAHgATAB0AJgAvAC4AKgAgAB0AMQAiAC0AKgArAEYAWABcADoAIAAXAAkABgAIAP7//f/1/wIA9v/w//f/5P/P/9L/4//v//r//f8FAAsAAQAJABIAFwAbABUADQABAPz/BgAkACUALQAzACYAKgAmACQAKAAxABoAFwAaABcA/v/6/wQAAgD1/+v/6//j/9f/1//W/9T/1P/J/8L/wP+6/7P/vv+9/8L/yv/D/8D/wv/E/7j/y//U/+D/3//g//L/7/8CAP7/9P/7//X/9f/x/+z/7v/4//X/+//5/+3/2f/D/9v/3v/i//X/8f/8//f/+P/w/+H/7f8AABIAJgAzADEANgBZAGIAXwBkAFcATgA7ADcAMAA0ADsAJgAkACEAHAAPAAYACQAFAAoABgDz//n/6//y/wAA+f8AAAAA8v/2/wIAAQAMABIAEQAWABwAIgAoACkAIQAbAAwAFgAaABwAGAAMAAcAAAAQABoAIAAoACoAJQAfACYAGgAaACAALgAsACQAMQAkAAUAAQAAAAEA/f8CAPr/6//K/8P/0P/F/8f/xP/W/9X/4f/u/+v/9f8AAAgABgAFAPX/5//r/+3/0P/b/9L/zP/b/9b/3v/U/8j/w//a/+f/3f/1/w8AEAAOAAoADgATABkAGAAPACIAJQAsACoALgAiABgAIQAeACMAKwAmAB4AEQAZABwAEwAWAA4ABwAOABIAFQAdABkAIwAoABIACgAcACEAJwAmABoAGwAJAA0A+//0/+X/5f/e/9D/0v/C/9P/0v/Q/9v/5P/l/9f/3//d/9r/3f/U/9j/2P/r//r//v8FAAsACAD7/wkADwAOABEAFAAdACIAFAAYACYAKQAhACEAIAAWAAcAAAAIAAgADAAJAP//+P/8//X/AAACAAAAAwAHABAA7v/w/+f/3f/g/+n/+//9/wEA+v/6//f/8v/5/+//7f8KAAAACAAXAA8AHwAvADoAKwAqACUAIQAaABsAHgAfADYAPAAeABYAFwAVABkAGgAfABEA///9/wgADgAFAAgAAgD1//D/8P/v/+z/5//k/+L/3v/i/+//4//s//n/8//j/9v/3//e/+L/5P/x//r/AAABAPb///8JABMAHAAgABEAFwAtACgAKgAnACcAIQAbADAAKwAgABEACgAMABUACQAEAPv/8P/6//f/8//3/+3/4f/x//j/4v/d/9j/z//R/+L/4f/k//z/AAABAAUAEAABAPT/7P/x/wAA+f////T/8P/k/+v/6P/T/9T/1v/n/+7/7v/y//X//P8QAB4AEgAXABMADwABAAMAEwAWACwANwA1ADcANwAwADEAMAA3AEcATABSAEIAQwA7ADsALwAjACMAFgAYABUACQAJAA4AEwAFAP///f/7//P/5//h/9H/z//Y/+n/9//7/wIA9P/4/+v/5//x/+3/7P/q/wEACwARABsAFAARAAMA+/8AAAkAEAAPAAgACAALAAgA+//y/+X/6P/i/9//5//q//f/+f/1/wMADAAHAAkABgAIABgADgAQABoAFAD+//z/AAD8//n/7f/w/+3/5P/e/9//3P/f/+z/+f/8//b/9//9/w8ABgATABUAEgATABAAIgAqAC4AQABJAD8AOwA3ADEALAAnACEAIwAiAAMA8//8//L/2//d/8n/wf/C/7P/tv+r/7H/xf/E/8j/xP/A/7n/xf/O/9H/6//4//f/AQAaABwALgA3ADgAQABMAEYAUABbAFkAXABTAFEAPAA8AD0APAAsAB4ACwAQAA8ADQD5/+7/8v/k/+f/1v/Q/9n/2//P/9b/0/+3/8L/zf/S/9D/0//j/+D/9P8KAP7/BQAEAPz/7//4/wIAAwAWABEAFAAVAA0AFAAJAAwADgAAAPr/+//5//7/CAAPACMALgA9ADUAIQApABcAFgAdACkANAA6ADYAKwAyADMAOQAuABQAHAAbABUAFgATAA4ABgDt/+T/zv/H/7//uP+w/67/uv/B/9T/2v/X/9f/1//c/+r/+f8GAA0AEgAVABYAHwAPAAwADgAPABIAFQAUAAsACAAGABAAFAApAB4AIwArACYAKQATABUABQAKAAYAAADy/+X/6P/l/+D/4v/q//D/+//w//z/AQD+/wYAEAAVAAkADwD7//3/8P/w/xoAGwAbABcAJwAwADcARQAwAC0AIwAZACIAJAAlACwAKgAtACUAHgAKAAoA9v/d/9v/1f/X/9P/zP/F/8z/0v/H/8H/y//W/9b/1v/m/+3/6v/0//f/9//9/wAA5v/c/+f/8//u//D/DAAAAPT/+f/6//n/+v/6/+z/8v/7//z//v8BAPP/+P/6//3/+P/4/wAACQAmACwANgA3ADQAOQA3AD4APQBFAEEANAAuACkAJQAmACUAGQAQAAQA/f/v/+r/6f/x//7/BgAQAAwABwD5/wIABgAJAO3/7f/8//L/9//2/wEAEAAhACMADwASABUAAgAUABgAEQAVABAAFQARAAwA+//y/9X/0//W/9X/3v/e/+L/6v/x//b/6f/o//L/9f/5////HQAiACgAOAAwACoAFgAMABYAGgAiACkAKAAkABsAHAACAPn/7P/l/9T/yP/f/9P/3v/p/+X/6v/s/+v/6//l/9j/3f/n//H/9P8BAAcACwAKAPv/9P/0//T/9f8AAPn/AAAJAAcAHgAhAC8ANQAqAB8AHAAfABsAHwAoAC8ANwAmAB8AKAAfABsAGgAdACAAKAArABoAHAATAA8AFwAgABEA///5//P/5//4////BAAJAAAAAAD8//v/9P/x/+7/7v/q//r/9P/k//D/3v/d/+T/2v/j/+P/3//h/9L/1//N/8//yf/E/8v/1P/R/83/w//A/87/zP/m//z/+v/5/wIA9f/w////BgAkACIAKQAuACYAQgBGAEYAUQBOAFAASgBHAEIAQQBRAGAAWABWAFYASgBDAE4AQQAuADEAKgAfACEAFAD+//L/6P/h/+f/2//R/8f/vv+0/73/v/+7/8b/v//B/83/zv/O/7r/v/+9/7r/x//B/9T/4P/w//P/8//0/+j/5v/w//v/CAASABQAIAAaAB4AGQAgAB8AHAAyACsAHQAoAC4ANAAuACgAMgAyAD0APQA3ADQAHgAcAAoABgD6//b/9P/r/+T/6/8DAPv/7f/s//T/6v/m//T///8BAPv/AQADAAkABgABAO3/6P8AAAEAAgAKAA0ADAAXACEAFQANAAgAAAD1//3/9f/p//P/8P/p//H/9v/m/+z/8f/n/+n/6//o/+v/9f/z/wQAAAABAAMABwAXABgACAAHAB4AJwAxAD4ARAA9ADAAMQAmACIAHwATABUAFAAQABYACgAAAAEABQAGABYADwAKABEAGwAOABYAGgAMAAoABQALAAAABQAEAAAADwAMAAkA8//2/+3/2v/I/7X/vf+x/7P/uf/G/+L/4f/p/+r/5P/v//P/7f/t//f/9f/8/w4AFQAeAAwABgATAAgAAAAIABIADQAZACMALQAvABwAHAARAA4ADwAQAA8AHgAjACMAIgAXABIACwAGAAkABAAAAP3/+v/0//H/8//+/wUA/f/t/+T/9P/3//v/+v8DABMAGQAjACUALAAqADYANQAzADIAOwA2ADcAOwAsACcAGgAOAAEA6f/l/83/yf/R/8f/xv/K/7z/uP/H/8P/yf/K/9L/4f/f/93/4//h//r/EQAaABkABQAPABEAHAAlABoAHQAcAA4AGQAnACoAKgAgABkAHgAWAAwACgARAAsAAQAYABwAEAAaAAsABwADAOr/5//t/+//+f/0//T/8f/1/+H/3f/X/9n/4//b/9X/zf/G/83/2f/g/wAAAQANABcAEAAOABQACgAYACEAFQAlABsAHwABAAQACQD6//f/8f/v//b/CgAQABoAGAAIAAwAEQASABcACAAJAAMADQAXACEAMAAkACgAGwAbABQADQAAAP3//v8AAOv/8v/4//T////2/w8ACgAPABoAIwAsABUAGgAqACQAFwASAA8ABgD///D/2P/f/9H/y//R/9n/1v/S/+D/3//d/+T/7//2/+3/AAAQAPv/AQD3//n/BwALABYAGgAgACcAMAAdAB4ANgA8ADsAKgAZAB0AIwAuACoAHQAHABEABgAGAAoA+f8NAAYAAwAKAAcAAQD3//r///8GAPT/7v/t/+v/7P/q//n//f/7//v//f8EAAIAAwABAPv/+v/+/+r/6v/o/9f/zf/G/8X/w//F/8T/0f/Z/9f/5v/y//P/9//w//X/+P/+/wMAFAAiABsALQAiACcADwAOABQABwATAAgAEwASAA8AGQAHAAEACQD8//j/AQAEAA0ALQA7ACUAIAAeABgADAASABMAEQAcABoABgD+/wAA/f/6//j/+v////3/+f8IAA0A//8AAPr/9f/y//X//f/5/wAAAgAIABMAGwAkABsAGgAiACgAHAAZACAAFwAOAA4ACgANAPr/6P/V/9L/2P/g/+X/6//n//P/AgAEAAAA9/////L/BgAaACQAJgAoADEAOgBJADsANQAlACAAKwAsACQAJQAZAA8AEgAPAPr/7f/k/9f/0v/X/8L/vf/J/8P/xv/O/+D/3f/f/9b/2P/Z/9H/3f/f/+7/5//z//f/6//s//P/EAAWABYAHQAgACIALAAvAB4AJAAtAC8AEAAMABQAAAAIAAgAAgAIAAsACwAUABYABwAJAAsADwAVACQAKQAzAC0ALgAvACsALgAsACcAJAAlAC0AHgAaABkAEAAKAPz/7f/b/9X/zv/Y/9j/1P/j/9r/7f/m/+T/6f/e/9D/y//f/+f/9/8DAA8AEwAEAAAABwAKAAoADgAQAA4AEwAPAAIA/v/r/+n/3v/W/9D/x//I/8b/xP/U/97/2v/k/+f/9P8OABMAHQAoACsAGwAgAC0ALwA6ADcARwBHAEIAQwBFAEAAOQBAAD0AOwAuACMAGgAoABgAHAAcABwACwD7/wUA+f/3//z/AgAAAPn////4//L/8//n/+n/7v/Y/9P/1v/X/9j/1f/G/8P/vf+z/7D/pf+5/8P/xv/L/8r/1//V/97/6f/r/wEACwAHABkALgA2ADYANgA6AD4AQQA0AEEARwA+ADwAMAA4ACkAKwAxACsAGwAGAAAAAwAEAAcA8f/n/93/1f/U/8f/w//F/9L/x//I/9P/xv/S/+T/6//p/+z//v/9/wAAEQAnACkAMgBEADUAQwA8AC8ALQAnADYAMgA4AD0ALAAwACoAFQAFAAcA9f/v//b/7P/r/+3/BQADAP//CQD+//7//f/7/+3/7//s/+z/AAAGAAsABwD0//X//P/6/wcACgAHAA0ACAANAPr/+f/3/+z/4f/c//D/9v/7//j//f8AAP3/BAAIAA4ABQAHAAoAEAAaABUAAAD+//H/9//3//T/+v/1/wIA/v8JAAkA/P8BAA0AEgAlABoAEgAbAAoAEQAAAPr/7v/p/+3/9//3//j/+v/5/wAA9//3//z/BAAJABMAFwAUACUAGQAbAAoABQADAP3/AwD3/xEAGgAjACYAHgAqAC4ALgAuAC4ADgAQABcAFwAbACoANAA8AC4AGQAKAAkAEQAGAP//9f/9////AAD7//j/AQD9/+7/6P/z/9n/1f/S/9b/4P/n/+f/3f/Z/97/zv/I/9j/z//K/9P/7v/2//3//P///wAA/P/6//z//v/v//7/BQACAPD/6v/y//X/CgAJAA4AHwAkADIANQAuAB0AJgAgABAADAAIABcAGQAUABQAEgAPAPv/8f/w/+X/5f/d/9j/4f/i/+j/6P/s/+//7P/g/+r/9v/0/+T/6P///wEAEAAOAAAACgAIAAYAFwAXABkAHgAmAC8ANAA4ADEAMQAjAB4AHQATAAgAEgAOAAwAGQAWABAADwAXABgABgAAAAkABgD6/wUAEAAOAAcAEgAPAP7/7//o//L/+f8GAAoACgAIAAkADgACAAIADQAOAA8ADQD9//b/+v8GAAAAAwDr/+L/9P/n//H/+//2/wIAFQAPAAYAEAAbABcAEAAGAAAAAAD2//D/5v/z//P/+P/6//H/4f/O/8r/z//d/+f/4f/g/+r/7//5//r/AAD//wcAFQAeACIAIQAlACwAOwAuACMALQAjABcAJgASABoAEAAMAAsA/f/3//X/9P/x//f/6v8HAAoABgAZAAwABgD9//r/+v8AAAsACAAGAA4AAwAFAAAA9//5//b/+P8BAAAA/v/2/+7/9/////P/7v/4/+z/6P/t/+3/8f/e/97/2//c//v/9P/2/wMACAAIABIAHAAPAA4ACwAQAPb/+f8BAP//EAAbACgAIQAqACoAIAAgABsAFAALABIAJAAmACEAJgAWABAACAALAAAA///5//P/+f8AAAMA+v/5//X/5v/g/9r/1v/c/9//7P/q/9//4f/n/+n/5f/t//H/6//0////AAADAP3/AQAAAAIAFAAaABUAGgAjACYAGQAVABoAGgAnACQALQAzADAAMwAnADEAKwAzADAAJQAVABoALQApACUAHAAhABAABwAWABMACgD3//X/+v/3/+n/4P/Q/87/2v/c/9r/3v/Y/87/4f/s/+r/7P/2//b/8/////n/+P8FAAQAAAAJAA4AAQD3//L/6f/n/9//4f/d/9v/1f/g/+P/2//e/+j/BgAIAAMACwAZACQALgA7ADwAQgA+AEMANgA2ADgAKwA5ADwANgA6ADMAKAApACMAFAAbABEACgALABAACAAMAAAA9v/4/+z/7P/k/+H/4P/c/+f/4v/h/9v/2//b/9L/yf+8/8P/w//Q/9b/2//y//P//////wEADgAMAAMAAAAMABEAGgAiACcAJwAXABMAFQAVAAwAEAALAAMACgAEAPz/+v/p/+j/3//a/+H/3//p//L/9f8HAAwABgALAAoACwAcACIAJQAqACoAGwAUABoAGwAfABQAGAAVAA8AEAATAA4ACwAYABMAEQAEAPz/9P8AAPv/AAAFABEADQAEABYADgATABgAGwAbABYAHgAWABIAEAAFAAUACgDy/+j/7//o/+L/2v/R/9T/yv/B/8b/u//L/9T/2v/b/8//3v/e/+n/7v/s//z/AQD4/wAAGAAeACIAIgAfACYAMAApADcAPgA4ADYANQA+ADIANgAwACkAGAAAAPn//v/+//z/7P/h/9n/2f/R/8f/xP/E/9D/xf/H/8v/wP/P/+D/5f/q/+n/7f/u//P//v8PABAAJgA0ACUAOgAvACoAIAAdACoAIgArACoAJAAoACcAIgAcAB4ADgAGAAwACAAFAAkAHQAYABoAJgAdAB4AGAANAP7//f/z//D/+P8AAAcABwDy//b/+v/t//f/7f/w//X/9f/6//X/9//t/+n/3P/X/+D/3//l/+f/6P/t/+r/9P/5//3/9v/4//3/AAAVABUABwAMAA4AFAARABkAJgAfAC0AMwA7AEEAOQA8ADoAQQBPAEUAPwBAADUANQAvACYAFwAUABEAGgAUAA8ACgAJAAQA+v/2//r/+//0//X/8v/z//z/8f/1/+n/4f/e/+D/3//X//L/8P/8/wEA//8JAAkAEQATABEA+//3//j/9P/0//X/+f8EAPT/6P/j/+D/5v/j/+T/3P/f/93/4P/e/+P/7P/l/+T/4f/l/93/4P/W/93/8P/x/+7/7f/1//j/6P/l//3//P/6/woAHwAXAB0AIgAYABwAGAATABkAHAARABYAEgAZAAwABAD7//H/CwAGAAIADgAJABIADgANAA8AEAD8//3/BwD4//3/BQANAAsAGAAiACQALQAzADAALAAoAB0AIAAiACsAHAAYABcAEgAFAAQAAwD7/+P/3v/t/+b/9P/u/+r/9P/u//D/8f/s/+//9f/+/wYABQAIAP///v/0//P/+f/y//v/BQAAAAkAEgAJAAIABQABAAgABwD8//7/AAAFAA4ABgAMABMAGAAgAB0AFwAZACcALgA3AD0AOgA3ADMAOwAwACwAKwAoAB8AHAASAAQA/v/8/+j/4f/Z/8//0//R/8b/yf/B/8j/zP/F/8v/zP/Z/+X/7f/o/+3/9P/z//T/8f/+//z/BgARABQAFgAKAAwACgAGAAoAAQAAAP7///8CAAUA///8////+f/8//X/8f/y//b/AQD3//P/9v/1//H/9//m/+T/6v/q//X/9v/6//z//f/6//3/9/8LAA4AEQAhABcAGQAEAAUABgABAAAA/v8BAP7/AQAPAAgABgANABAAFwAgABoAIAAjABcAIgAwACoAKwAyACgAJgAtACgAJQALAAcABgACABgAFQANAAwABQAIAAgACAD2//L/+f/9/+z/8f/9/wEAFAAXACAAJQAoACUAKQAkABwAJAAaABgAFQARAAUAAAD3/+f/4P/f/9b/1//R/9D/1P/Y/+D/3P/d/9j/1//Z/9X/2v/j/+P/7//z//H/+v8CAAMA/P8CAAQA//8IAA8ADwAQAAoADQADAP//CAALAAgAEQAXABsAGgAWABsAGgAtAC4ALgA0ADIAOAAvADMAKQAyAC8AKQAaAB4AJgAgACEAEgASAP//8v/3/wEA/P/q/+T/4//m/9z/2//J/8f/zv/R/8n/y//O/8L/1f/e/+P/6v/4//r/+f8AAPr/AAAJAAEAAgALAAUAAQAJAAYA+//9//3//f/6//j/9f/8/wsADQALABgAKwAsACIAJwApACsANgA4ADUAOwAzADYAHgAXACEADgAUAA8AEAAWABIAEQATABMAAAADAAAA/P///wUAAQAEAAUA/v/0/+r/6f/j/+n/4//f/+P/1//W/9X/1v/U/8//zf/K/83/y//Z/97/4f/u/+3/+/8AAA0AGAAWABAADQAUABcAIAAnADoARQA5AD4AQAA2ACoAKQAlACMAHwAUAAkACwD3//X/+//y/+z/6//v//H/6f/w//v/8v/3//r/9/8EAAEA//8FAAAA7v/r/+//8//3//r/BAADAAwACQADAAQAAwAGAAMAAgD///3/8f/5//n/+v/1//3//f/0////8//9/wAABQAMAAIADAACAAAA/P/4//3//P/x//D/7//r//n/9//w//z//P/2/+z/4//t//D/9//6//X/+//7/wYACAAJABsAHgATACUAOgA8ADkANQA4ADoAPwA5ADgAPQA2ADMALQAsACEAHgAVABAAAQDy/+7/6//o/+f/5f/h/9r/3//f/93/4v/h/+r/8f/1/wAA/v/+/wEAAAABAAIADwAQAAMACwAVAAcAAQAEAPn/BAAFAA4AAgADAAcA+f8CAP7///8GABcAFAATABYADAARABQAGAATABQAIwAiABYAFAAKAAAA/P/8/+3/9//y/+3/8f/o/+L/4P/e/+L/5//l/+z/5f/p/+r/6f/z/+r/6v/e/9//4//d/+//8v/2//f/+f/+/wAAAAABAAcAAwAKAAcADgALAP//9v/1//r/AAAFAAMA/P8CABEAEQAdABsAFQAcACEAIgAWABAAEgASACMALgAsADQAKwAwACYAJwAuACsAKwAxAD0ARABCAD0AOAAwABoAFAAVABcAIAAbAA0ACgAHAAYACQABAP7//v/3//H/6v/r/+7/7P/h/+3/7v/4//T/7//0//D/6P/p//P/8f/w//X/AwD7//X/9f/x//j/9P/z//f/+P/8//v/9f8AAPr//f/6//7/+v/6//7//P8CAAMADQAGAAMABAD///////////r/9P/s/+7/6//k/+L/3v/k/+T/4f/k/9n/1v/X/9r/6P/k/+n/+v/8/wYACQAHAAAACgAEAAEABwAAAAMAAgAKAA0AEgAbABAAEAAcAB0AIQAkACMAJQAhACAAGwAbABYAFQAbABcAGQAaAA4AEwAUAA8AFwAOAP//AQD3//P/7//t/+j/4f/S/9H/2P/T/9n/2P/Y/9v/5//q/+r/9f/x/+z/9f/+//r/AgAZACEAGgAbACYAKwASABwALQAkACkANwA0ACYAJAAhAC0AMgA0ADAAKgAqACYAJQAcABoAHAAZABAADwD7//b/9f/2/+j/7P/i/+H/+P/x/wMACAABAA0AHAAYABUAHQAiACQAHwAYAAwADwAHAP7/7//x/+//8P/p/+j/4//X/9X/1f/g/+T/2//V/97/5v/u//L/9P/0//f///8CAP///P/5//v/BQD8//v/AwABAAAABgD3//T/6//w//L/7P/x//P/+P/3/wMA+/8MABAADQAbABQAFQAOABUAFAAUABgAEgAPAAwABQAGAAsACAAKAAcA//8FAP7/+//w/+j/7v/x/+7/7v/y/+//6//r/+z/8f/n/+j/9P/2/wkAEAAVACIAJAAkACsAMQAjACYAIgAiABgAHQAjAB0AKQAtACsAIwAeABkAEAAUAB8AHwAXABoAHwAYAAsACgD2/+7/6//r/+r/7//w/+3/8P/0/+b/4f/j/9n/0P/P/9L/zv/V/9v/4P/e/9f/3f/s/+z/9v8DAAoACAAGABQAEgAWABAAFgAdACIALAAxACcAKQAnACcAIgAaACIAHwAvACwAJwAsACAAIwAcABcADgAUABQADAD6//v/AwD///b/7f/s/97/2f/p/+z/7P/l/9z/4f/h/9r/2P/V/9f/3v/j/+j/7v/u/+v/+/8KAAcACgANAAcACgATABcAHQArACsAJwArACUAIgAcABMABgAJAAIA///3/+3/6P/t//X/7v/s//D/+v/9////AAACAAgAEwAcABgAIAAcACAAHQAfACUAHwAtACoAIgAmACIAGwAdABoAEgAeABgAFgAOAAoAAAAEAPz/7v/u/+H/6P/m/+b/7P/j/+z/4//g/9r/2f/Z/9X/2f/R/9j/3v/w//f//v8SABQAHgAgACcANgA3AC0AMAA7AEQAPwBFAEgAQwAuACMAKQAgABcAFAANAAMA/v/y/+T/3v/M/8n/uf+y/7r/vP+8/8H/wP/I/9D/zv/a/9n/4v/y//j/AAAGAAMA/f/6/wQABwAHAAoABgABAAAAAAACAAMA/f8AAAMACwAKAAsACwAUABUAFAAcACcAKQAnADUAMQAwADAAJwAjABQAFQABAP//AAD3//P/8P/Z/9b/3P/W/9z/1P/V/9z/4P/h/+n/5f/3/wUAAwAFAP//AAD9/wgADgAPABcAGgAOABEAIAAgAB0AGAATABcAHQAVABIAFwAQAA0AEwAXAAoADgAHAP3/9f/k/+f/7v/v//X/+f/1/+z/9f/t/+z/6f/w/wAAAAD+//3/9/8AAAsACQAdAB8AIgArACsALQA0AC4APQA8ADAAPgAtADIAGwAcABEAAQAFAP3/+//+/w0ACwAPAA0AAAABAAEABQAIAP///f/4//f/+//z//P/7f/p/+T/5//k/+b/4//i/+f/6//d/+j/6//l//b/7P///wUABgASABkAHQANABEAFgAVAA8ADAAMAA0ADwAHAP7/AQD8//v/9//6//T/7f/y/+z/4//o/+3/7P/m/+7/8P/f/+X/5P/k//H/9P/6//v/AQAMAA8ADQATACIAKgA3ADEAKwAxADcARQBBADwAMgA7AC8AMAAtACIAJwAZAA8ABwABAP//AAD+//7/AQD6//n/+//4//b/8//0//b/7f/o/+3/9P/v//T/9f/x//L/8P/p/+r/6P/l/+v/7f/p/+j/6//q//L/9//w//X/+//8//v/8v/3//7/AQADABEAGQASACAAFwAeABYAEwAYAA4ADQAKAA0ADgAKAAsAAwD9/wcACwAOABoAGAAVACEAIgAVABMAFQAZABYAHgAXABIADQACAPb/8v/x//r//f/6//j/+f/z//L/+f/t/+X/6v/k/93/4v/j/+X/5//u//L/8P/3//v////+//7/AAABAAIABAAIAAcA/v/5//H/8//u/+j/4v/k/+r/8v/y//H/6P/m/+3/7//w//P/9//w//n/AQAKABEAFwAbACUALwAtADEAKwAvADkAQAA8AEQANAAlADMALwAiACcAKgAiACMAKQAdAB0AKAAjABoAGgAlAB0ADwAGAPv/+v/0//b/6P/q/9//3//g/9n/1//X/+X/5v/t/+7/7f/u//v/AgD2/////v////D/7v/3//H/+f8AAPr/9//3//b/AgD//wIABwAIABYABQADAAkAAgD5//n/AwAHAA4AEwAIAAcABwAIAAAA/P/8//n/9//2//D/6P/w/+//+v////P/+v/w//D/7//w////AAAAAAUACwAVAA8AEgAQAA0ABwAKABwAHgArACoAHgAdABMADAAIAAYA/f/8//T/6f/h/+H/4P/c/9P/3P/g/+H/4//d/+D/6f/l/+r/+P/4//f//v8OAA0AGAAcACEAKQAlACkAKwAoACUAJQAhACMAFwAXABUAFAALAAwADAALAAoABwAMAA0ABgADAAUA/P/+/wUABAABAAAABAAHAAgA+v/5//v/+v/2//z/8v/z////AAAQABAAFAAcABYAHwApACoAJgAxAC4ANAA8ADgANQAsADIAMgAvAC0AIQAhACIAHQASABIABwABAPz/8v/m/+b/4P/i/+D/2f/K/8n/zv/O/9L/zv/T/9T/2P/Q/8z/0P/T/9L/2v/f/9P/1//h/+3/5v/s/+//6P/x//T/8P/8/wIABQAQABgAHgAmACsAJgAnACoAJQAyACsAMAA2ACYAKQArACMAJQAiAB8AIwAkACEAFgARABoACAAJAAkABwACAPz/9P/q/+X/5f/y/+3/3v/m/+j/6v/p/+L/4P/g/9j/1v/X/9z/6//s/+n/8f/z//L/9P/9/wEAAwAFAAoAEwAcABoAFQATABIADwATABEAFAAWAB4AJAAoACEAJgAnAB0ALAAvADgANAA1ADgAMAA7AC0AKwAjACEAJAAiABoAEgARABAACwAIAAYABQAFAPv/9P/5/+n/5v/d/9f/zP/M/8v/yv/L/8n/4f/i/+j/5P/e/+b/6v/w/+T/4//Y/9n/5v/o/+z/6v/l/+b/6f/m/+H/7//y/+v/+f/4////AAD9/wAAAwAPAAMABgADAAoADQAJABUAFgAUABYAGwAVABgAHQAUAA8ADwARAAYABQANAAUA9//7//T/8v/u/+r/7P/p//P/8P/1//v/+f/9/wQADwARABQAGAAcACgAKQAmACwAGwAZABQAGAAYAB0AHwAVABgADwAOAAsABgAEAP7/+//6//X/8f/w/+//9//x//j/+P/1//P/+f8EAAgA/f8CABMAEwAeACEAKgA1ADwAOgAvADkAPAA6AEMAQwA7ADgAKQAhABgADQACAAIA9f/x//X/8//x/+//5v/g/9v/4v/e/9//4P/g/+L/5P/0//b/8P/1//j/9f/7/wAAAgAHAAAA///7//r/9//2//D/7f/x//j/+//6/wgABwALAA4ABwAGAAkACwANAA8A//8EAAYABQD+/wAABgAGAAkABQAAAP///v///wAA9//5//X/9f/6//P//P/6//n/8v/y//T/7P/m/+r/+P8AAP//9f/1//P/+P/8//X/9v/8//3/+P/8//f/+P/6/wUABQAEAAQAAgACAAoAEQAVABkAGAAfACEAHgAiACEAJQAlABcAJAAkABoAIAAQAAsABQAEAAMA///8//P/7//u/+L/6f/l/93/2//f/93/4//h/9//5P/b//H//f8AAAIADQAJAAsADgARACAAEgAYABsAHAAxADAAKwAuACMAIwAlAC0AIwAfACgALAAnACcAKAAfACAAJwAcABQAGQAYABIAFAAPAAsAAAD7//j/9v/u/+//7P/k/+T/7v/v//L/7v/r//P/9//+/wEA+v/3////+v/6//f/9f/z//X/8v/m/+f/2//X/9D/1P/N/87/yf/G/8f/x//K/8//3P/a//D/+f/4/wQABwARABMAFAAhACYAMQAzADAANwApACwALAAsACgANAA7AC8ALQAvADgANQAtACIAHgAYAAoADwAQAAoA/P/7//H/7P/r/+j/4f/e/+n/6//u//H/+P/z//X/AQD7//r/+v/5//L/9//w//T//P/8//f/9v8AAPn/AQAAAAEABwAKAAsADwARAAYADQAPABEACgAPABYAFAAKAAwAEgATABoAHQAiACEAFwAZAA8AEAAUAAgADAALAAQACgAAAPz/AAD7//n/AwAAAP7/AAADAPb//v/2/+3/7v/m/+j/5v/t//D/5v/r/+3/7P/m/+//8//v/+//6v/w/+//+//4//b/AgACAAsADQAOABcAGwAOABAAEQARAA4AEwAXABsAFAANABgAEQAMAA4ADAAIAAUAAwADAAIA9v/3/+r/6v/s/+r/7v/y/+7/9f///wEADQAPABgAIAAgACEAJgAmAB4AHQAfAB4AIgAeABEADQALABAADwAIAAEAAAD+//3/9v/w/+f/7f/x/+z/5v/r/+3/6v/y/+z/6//v/+//8f/s/+7/5f/p//L/7v/0//n/7//3/////P8BAPz/AwAMABAAFQAdAB4AJwAvACwAKgAdABsAGQAlACQAJQAqACYAGAAVABgAFQARAAgAAAACAAgAAwD8//j/8P/p/+r/7//r/+7/6f/i/+L/1v/U/9v/3P/k/+v/6v/f/+z/7//r/+//9v8EAAkAEwAUABwAJQApACkANwA4ADMAOwAvADAAMAAmACgAJAATABMAAwACAOz/5//e/9X/2v/R/9b/0v/m/+n/6P/m/9//5v/l/+3/8v/w//L/9P8AAAkAEAAUABgAIAAiACYALQAxACgAJAAmACUADQASAA0AAwAHAAIADgAHAAYABwAHAAoA+f/5/wAAAAD///z//v8CAAUA/v/2/wAA9v/3//z//v/4//7/AAD7//v///8EAAUAAgAFAAwA/v8DAAQAAQAKAAkADQAEAAcABwAIAAAAAgAQABMAGAAQAAgACAAQABUAGAAXABEAGwAUAB4AHgAWABwAEQAJAAoAAwAHAAcABAAEAAoA/v/6////+P/3//T/9f/w/+b/5P/k/+7/5v/v/+r/4v/m/+X/2v/b/93/2P/i/+n/8v/x//n/+P8AAAQA/P8EAAcABwACAP3//v8AAPz/+P/8//z/7//3/+7/9f/w/+7/9f/p//n/9/8AAAQABQAMAAUABwAOABMACwAWABgAGAAiACQAHwAkACwAMAA0ADYAOQA4ADYANAAwADAAMwAyAC8AKQAZABoADAAGAAMA9f/r/+n/3//Z/+L/2//V/9r/1//U/9L/0P/O/9H/zv/N/9f/3v/e/+L/6f/u/+7/7f/s//L/+v///wMAEAAXACEAKAAkACUAJAAoACsALwA2AC8AJwAoACUAHgAcABoAGwAbAB0AFgAYAAsABAAHAAYAAAD9//f/8P/0//b/7P/j/+3/6//l/+//6//w//X/+v/y//L//f/+//r/+f8BAAIABwAJAA4AEQAIAA8AGAAXABoAHgAnACsAIAAeABcAFAAWABYADwAOAAgACQDw/+r/8P/k/+b/5//o/+b/3f/b/9//1//Z/9r/3//q/+H/4P/i/+n/4//m//b/9P///wYACwAUAB4AKgApACwAOwA/ADcAOwA2ADMAOAA1ADsANwAvADIAKAArACcAHwAmACYAEgALAAcABwD6//b/5//f/9P/zv/d/97/6f/p//H/9v/4//n/9/8AAP3/AAD5//v//v/5/////f/r//j/8//u//T/7P/2//r/+//9/wAA///5//3/BQADAAQABAAIAA0AAwAFAAwADQAMAA0AEAAVAA4ADgAJAA4ACwALAAgACAAMAAoADgAPABEADQANAAwACAAJAAcADAALAAgACAALAAAA+P/5//X/8//1/+j/5f/p/+f/6P/j/9//3//d/97/2v/f/9n/4P/m/+j/+P/1/+7/6//4//z/AwAGAP7///8FAAsAAQAEAAQAAwAOABcAEwAVAB4AIwAfACEAGgAZABYAGAAaABYAHgAjACkALQAmACEAIgAeACIAIAAVABkAIAAoACYAHQAXABMAGwAeAA0ADgD7//P/5f/u/+v/4f/u/97/3v/Z/9f/4P/X/9n/5//h/+D/5v/i/+X/5//o/+r/8v/2//L/8v8CAAAAAQAKAAwADAAPAAwADgAUABMAIgAZAA4ADgAWABkAGQATABIAFgALAAoABQAKAAUAAQD4//j/9//y//X/+f/1/+3/8f/7//n/+f8BAP//CQAOAAwACgAFAAQAAAAHAAgABwAJAAgA//8EAAoADgAXABAAFAAYABsAGgAWAB0AFgAXACEAHwAXAAwADwAVAAgACgANAA4ABQAHAAkACAAAAPf//f/4//j/+P/u//j/6P/h/+f/7P/r/+3/6P/h//X/+P/x//X/8v/4/w0ACwAQABEABwASABMADgAJABcAGwAVABQAFwAeABUADwAXAA4ABQAKAAQA/P8EAP//+P/v//H/9P/u//H/8P/y//X/5//i/+X/5v/g/+T/6//h/9r/3f/g/+H/3f/n/+j/5f/2//P/9f/+/wAA/v/9/wsAGwAaABcAGAAeACAAGAAeAB8AIAAeAB4AGwAfABsADwAGAAQA///6//D/5//s/+X/5f/l/+L/4P/g/+P/4//s/+r/8v8EAAQAHQAfACAALwA2AD8APQBFAEgATwBZAFwAXgBdAFkAWwBUAFQAUgBMAEoAPgA6ADYAJAAbAB8AEgAMAAMA9v/i/9T/y/+9/7v/r/+f/47/hf91/2z/av9g/1P/Tv89/zT/Kv8p/y3/JP8c/xH/EP8N//n+8/71/u3+7P7x/vz++/4N/xr/If81/0b/Xv9+/6L/sf/P//r/GwBEAHUAnQDKAPMAKAFZAZEBwgHrASICVwKWAsAC8AIZA0MDdQOlA8kD4AP8Aw4EHAQ3BEgEVgRMBDcEKgQRBPoD4gO2A44DXwMeA+AClQJKAvUBmgFKAe4AfAAWAKX/Nv/L/l3+4f1s/QH9ivwm/Lj7T/v0+pb6P/ro+Zj5Uvkb+ej4vfip+JT4hPiB+H34kPiv+Nf4Avk9+X75uvkC+ln6rvr++l37xvsV/IX88vxU/bf9G/6B/vH+Q/+i/wUAWwCtAPoATQGfAd4BGwJUApsC3QIbA14DqwPgAzgEowQEBU8FvwU6BrkGIQedBx0IjAgLCYAJ7AlWCqsK/ApSC5oL1gsADBMMFwwNDOQLmQs7C8IKJgpyCa8IzAfMBsAFowR5A0QCBwHe/67+b/01/P/6yPmZ+Gf3R/Yw9T/0XPOR8tnxO/Gs8EHw+u/Q78Tv0e/+7z7wmfAK8YnxG/LA8nHzMfQG9QH29Pbk99j44/nu+vH79fzb/bv+lf9sABoBxwFoAv0CiQMYBJsEFwV9BdsFOQZ1BoUGhQaABl8GMgb3BawFfAVLBXEFtAU9BuYGagcCCHYI4AhACYAJrgnJCc4J0AnkCRYKWgqkCvQKPQuSC+YLHwwZDPELewvxClEKbAlmCEEHGAbsBNEDsAKpAY0Ajv+2/u/9Vv2m/Or7L/tz+q/58vg6+IP3xfYk9pD1FfXR9JH0Y/Rr9H/0qvTh9BP1TPV/9ab10vXr9QT2KvY/9l/2pPb69mf36/d9+Bb5vvl6+iT7y/tg/N78XP21/Qn+NP5k/on+l/61/tb+9/4e/1n/o//f/yAAVwByAHMAaABXADAAAQC6/27/Lf8Z//r+5f4Q/2H/DQDyACoCXAN3BIsFXgYuBw4IuwhLCbMJDQqkCksLOAw9DTMORg+NEMERtxKbEyMUORTXE0UTeRJAEcQPKw6GDMcKEQl4B/YFfQQyA+wBxwDn///+Bf7+/Mz7mPpf+Tb4FPfg9av0qfPJ8ibyu/Ft8WbxivHj8VDy9fKM8/LzPfRv9IL0i/R79Gj0efSX9NP0OPW69Xb2R/co+CL5HPr2+qn7LvyZ/AD9Uv1w/ab92/3p/QX+Nf5t/o7+n/7H/vz+Pv+J/8n/4//x/wwAEwD//9X/nf8//9v+gP5P/iD+/v3x/SP+Df97AD0C9wN0BcoG4wf4CAMKigq2CpsKUgpZCrIKiAuUDLYNBQ+UEGoSNhTCFaQW/BbJFiQWOhUOFHMSaxAcDp0LdAl1B5sF2ANUAuMAuv/t/iH+Xv19/Fz7a/pQ+RX44vaM9Rr05/Lc8fTwePAR8PfvBfBw8A/x4fHr8uPzrvQc9Vf1ZvVo9T/1J/UC9fn0MPWA9Sj2/Pbq9/z49/ng+rv7SfzA/B79cf28/d/9C/5C/oz+/f5c/8D/AwAtAEQASwBAADgAPgAwACwAPAA5ACgAEgC+/3n/G//G/kf+7/12/cL8j/z4/KP+lwCEAvwDIAXABq8INQq+CpIKjwnsCNMI9wh2CeYJTApzC5MNPRD0EjsVnBbVF2YZixpbG+sa/xhjFscTfRH1DyUOPwveB1UExwE0ALL+GP31+lD40vWl85nxne967VbrAuqY6bvpZupv63jsdO2a7rHwefPk9eD2ffZP9wT5Gvou+mb6qPqz+en4m/oL/08DKwOU/z39+PzI/AP8KPob+C324PN28knyOvIi8ifyjvKT9E322PY0+KX5dvsE/hQAQAFkASoAT/5A/WX8I/tG+pP5mfnv+mD86f3F/hj8uvqAAPQMnB5/La00kzjUO6E/oEStRj9CuTasJMoSDgjWAz8BUv039/zxB+/M7bvt7+1b7DbpZebT42fif+Eo4Xzkkuv/8rH53f1yADUESQg9DI8PNg+0C7oH2ASsBKgF4ATAAvr/mf04/RX+Jf+h/3r+ZvwG+xf6V/m0+OL3ZvdN9473mvfs9on2MPcX+X/7HP3C/UD+UP9pAMYBYQMLBLEDDwJaANb/pv+h/iH8BPgj89juHusK6MDloeMu4vnh6ePM57DsFfE29WX5+PyN/xoB2wHPAtoCCQMNBJkE4gUCCKUI9QjrBdQBvwjbGgcy80V1SzRI9UbQRV1E0D6ALQ8Wn/0o6eXiOeeE7E/w0/BL8az1Svip9tzyXewx5znlEOW26MTuoPWeAAkOFxm9HjAbmBGQCbUC7fzh9+zwoOtP6xvvw/ZT/ukATgCq/in9Av1R+6D4Rfe99rz3LfoB/OH9fP+2/5wALQEX/yL8ZfjS9oT5tvzt/scAsgHHAxIGBQZNBVAETwJoASAAFP4g/bn6mPcs9XXyje+q60nl4d+R3evdzuD741jnaOwN8rD3B/2OAHECdgISAfz+cP24/Lz+AAFDBIgH7QfxBncC5/3CB/cdhDhqTjxQ1UcaRJRBtEIaQN8sSBVd/fvpcOkC8cj1GPqU9yf1c/eJ9Fjuuucy4D7evN+q4ZvnjO9W+xUMqhqyIRYfqhPYB5j/qfn49CzwG+wJ7B3xQvqbA1AIBwe0AVH8uPiS9f3ybPFD8mz2gPsR//IAWgFoAe4BzwDn/Mf3TvL38If1T/yDAtwFMgbYB24KXAutCawEkf9X/Xz8lfzU/Dv7xPmu97X00PGW7O3kft582njayd2H4bLmQO1R9Aj7uv8/AvQCkQHAALX+Z/2Z/Z793P6gAwsIzgpLCKn+xP34D7Yu/02uWwJSAUZPQPI+WEGYNngcYAIq6lDhGOsZ9M/52/r/9bH2vfUY7rnmLt5f2zPfduKs6cDyb/x9DIUciia4JzsbTgic+iTyG+8F7s7qnupm8Hz6sAbfDvAN2AZL/Xr19/HD76nu+O9Q9PP7nQOYB/EH8QXJAg0Ac/xh9pLw7Oxa74D4OQNgCr4M5gvHCyoMvQoeBj//Cvo1+G35Yfzm/tf++/xr+I3yM+xd5NLcKtdo1APW1tqJ4Q7rgvR3/BkCXQNQAYn+afo8+ZH5WPuU/S795P+wBiYMYw91Bgr8KAmTJq5JAGB2Vy5H1kDePHw/sDn+IDoG9u2z4rXt9PlQ/i7+nPlA+vD6dfBK5L/ZMtTG2pbjlux+99j+6ApcHA0ngSerGcYD7vJi6ozohOrQ7JDv+fWDAC8M8xHzDTgDg/iT8Z7tNetL6mbt/vTf/qAILQ6rDQgJIQO1/U74qvKs7Nvq2e/D+nMHaRBPEmcQog2XC0wHIgAr+YL0Z/W1+Tj+BQF/AVH/1/tZ9jztzeE81wjPAs1U0TjZruM17bv0C/wXAbUCbQEe/DD47fSC9Ij3V/og/VkDNwnoDVMLxv8y/3EVdjd1V7dfWlCWQ8Q7aTnyOYYsUhbkAB7uhe2Q+HAASgUfBCMAJP6q8yvll9qY0xnXF+Ex6pT0z/2XBqgV8iKdJvodrgp39nHqQ+YZ6Ifty/IV+WgBfgktDx0OfwUI/ETz++yv6uXqOe9Y+BwCjgvIEXIRKgwQBL77jPU/8e7rGOqV7J/1EwTMDwsV1xQ8D0gKVAXS/ij67/U19kD7qADqA9kD/f6b+RbyGejh3m7WCs+Zy4vNRtaz4z/uFfW7+VX8Svzb+Vj0vvKG85r3mfyR/gECEwiAC8gNKQM7+egJiytFUjhnGVrTR+FA/ToMPMsykBuiBg70mO5M+8gDJwXxARb8Pvtn9aTkBdcoz5PQnt5f7JH5RgTVCJcS9h/gJIYfvAxy94zrjOau6ejwqvaU/H0B4wYlDWAMbwMR+PTuN+tW7C3uEfOt/MIFZw3vETAQSwoRAoP4R/LT7gDuuu5588D7TAVPDRERlg6BC6YH8QKS/vv4l/dC+zwC3Ac/CUEE9vsL8grojN8q2DXRtc09zsbSYNw55l3u6vO+9PfzrvO/8Uzye/JT9mT9zAHZBLcKuQ3hEAMKVflh/Zoav0KxZbZmOlCYQ7M6XDjjNs0jPA3f/O/wa/d5BAoJ/AhBA5T7CfS844PRNcjyyLvXyOnx96EF1g38E9EdMCGlHL0O3fg06d7lA+yR9kL/nQSkCNwKUgtPB1D9P/Lj6sLnNexz8hv3iP9ICsQU/hqbFrEJuvt28Ovrr+u676v0Q/kB/4EGJQ3/Di4J5gIb/yr/kAG4AMADLAgcCxwNCws1A174Deop3i3YptVY0pzR/9Oy2pjkf+p67HLsA+o36eLrsuwS8LzyHPlsAtoHfwo7DasMVAy2AI301QIyJtZP2GkrXxdIwjwXMlUwXSlsFVEFgvmb9sQFkRHSEvcMEAJS+PjqH9UGxMy+CsmL30r0gAbBER8UaBeKHIMZXA9X/KzpruYJ7rn5mwYTDq4RERJdDlIIb/3V7j7jyN+b5RbyJf0HBq0NqhFAEp0PIwgY/Q3zHeyR7bf0Jf0GAvYEOAmvDGIMFwgU/3X4hveT+bb+ugMjCj8P8RHbD3oF9fb76BreNNpI2UrZltma2xDg6OQ66ADoBOXj4LTeg98d5ZXqhPO7/IADrwiiDTcO3Q0+BTf0v/W2FixDoGphcLBUs0JnN+YuECslGh4Gk/0Z92j+wA5RFnwWkhBcBG32SN+rx1K+lcNQ2NHviv+XC68PJw7xEmUT9AuV/dHrM+YZ7w/9HAmtDwoSDxJCDyEJEP//8YLnH+bS7J/4NALtBqQKMA1cDJAIPABH9YLs/+Zl6jb1rQGvCB4LBgq7CN8HfASy/a74xPaz+Hv+2wJXCBsMnw4SDwoISfuR7Tzh/dyG3NLdn90w3xTiY+WZ6I7q2+hy5AvgYt3Z4SnoEfFA+dP+ygI1CdYJaQtnAkT1AAIuKHdTPXJYatFNY0BhNdwvkCidFnAGxf29+lAHfBO6FKMM+f6h82vnrdP6xfbEgdFl6QX9FAuIEFIL2QVHBYsDhf+X817paO2s+MYG8hG9FGYT6g1CA9j6QfO560XpBu3D9dgBUQnKDJwPIA8CCmQAJ/Xj7FnpRupq8Oz49QMjCKYHMQWfAtICrwLqAcACzQSDBbYHCgbfB74IDAfCA0n9h/NP7DTlEeKi4Zff6dxz3NDdBOHv5GTmYelM6Rvpy+ai6F7tsfIV9kP7SQAjBkgEAflI96gRaT7BaNZ0zVjWPhwxiTAFNiYt9RulE7gNhBGZG8IbHRPKAWPu89+n0cXCQ75WyZThTfvwCUQP4g2HBUwAJP4Q+6X2du0H6pr0XANpDgoSlA6PCr4E4/sv9DTvP+v/7DnydPpmAVcEdAOCBVcIcwawAOf5GfRL8lf0afa9/aQApgAH/WT66PuO/rMBJwaCDFQPbRHEDdcK8AevApj95vfG8qPxU+6a7lntb+l746fd19cO2UPapdwG4HrjguiW7L/wHfX09qz2mvps+4MAxv0F9qEAUCqgU250dGo2Rlw0Vid5KBYqwyHRHPUctRmoJbooBSFGELL5ZeeE2kbIUMBTyAzdaPhHBscMwggz/Fnxf+7N7+L1T/Qq8Vv5RAYWEUwVcxBbCdQCi/q393z3Nvo2/oICBQKsAIr43/Kr9Bn3Efln+ML1QvbR9vf2Uvrf+/H9kPl59sr36vx/Az4GwwZhByIJlAiFCdEIHgdPBv4C+P6a/FD3sfQS8kXxz+2T6Avfqtky11DbA9/j4aLiGeF24gzl1OmY7SHwVPKv9ZH1c/Q97cUKFDRrZCJ+JWOYRUgyNyvfMX00pSrZLP4lzyKtJckmFBvJCsjzk+Qa2bnKDceO0YToiv7xBEH/+Pk/7djqmu+39kr9afuz95b+hQfCCvgGAgGhAG4Acf2b+8z/QAbvDTIOewo0APj31+447YDwoO6P7h3xbvRm+Sn5jvV09n/yp/II8l31rP0qBIkGIQj9CIYGfQb3BBoFYASxAsABnQCa/Vn5sPJP8W7xTfD87IXpa+bU5GXiX+EE4f3gxeAF4WrkiOnr6qLtgvAI8cXwkOj58SkhalIpcq1tAEHELwQyczTeQ88+KzgDODkwZywtMUMiggo49Ong4+AQ22XTpNfj44j2cvtG83zoPd7F2ZjkP/JUAmEJOAMCBCAHVgcvBAr/p/4eBFADBACZ/5EChQkfCrcJ0QOl/W31VfNI9+H8jv9I+hzziO6S6svp0O9t8oD2d/Yr93z7CwDDAcT/lv40/tj+KQBiAvcCtwPOAyEFVAKH+1/vi+nW6Dbu9PD+71zq5+bO4KzgTOGy32Dect/24mTqZvOE94f7hvc47bznVAkILOxXnFzHPBwvwihUMuFBx0RdQppKTz/OOLUw1yErEUkE4vUV9L3sj+HB3jPlbfTF9qTtxd+31C/S89uL6GT76QJC/bL3Ifef+wr/sP5vAYcJORGEEaQNCwl9BTEFjAOlB9AHzQXS/9H6GflO+vf4kvWp8Kjsy+qw7S/1X/XK8x/vcuz58OT27vj//EICVgUbB6IGGQLE/o79ZfzK/Hb5ivMv6pLpUOyj8SDzuvT78FfwlOyI6Irif97+3eXfA+di66vypPUB+4Xzoeqa+QAhNkR5XpZCWyQzI2Qm/T48SF9FnkTdQXY5Uj0vM2EkRg9HAHf9Rf/775XiqdzR4uXuhunT4W7ZQdVO3Nfp9fSI/uf0K+pH69vwE/gI+2T6HQRsCh4K1QhpBkgKYw0AD7UN5g87CYkD4wB+ArYErgH3+Zb17fOx9Nb0V/Ls8tHsgegl6pvutPaC+336Gvys/jUA6v7C+0n6vvtFAFwCrv+q9hfuk+Z06avsXu9d7ODsiOpm7gHrGOUN4ALhWuVM7AHwX/PG9Vfw2Onf4NwAaB8eRkpK5igFHEggYC9NSLlKgETvSbI/6ThaMW8rgx4PF40LmA69CKb/dvbV8mP9Evqx6BnYDtLg08TfeeVx7R3wOunn4cTiFexO9oL36vhrAIgJPgrRBP3+cv+OBtkIpgzjDaAPuwnrBx0IUwrqCIsA0/Yv9qb50/qI+3L1fvM68rHxffTD92P5ivtm+ab35fZS9Hn0vvbF/AgDXgaiAFX6ZfF27VnuL+0e72XuYu3d657q+OVR3/HcMN0d5OXn9+5L7G/tOemy377vtBifOe9NHzU5CDQP2Rd9N8pLE0iRS4NJDj0CNu8wsCYtI5gZ5RpAHIAUZwBT8t3uhva28mPp2OD63yXpPvCP7oXptuCQ1RfZV+B9667xTfPD+ScE5gi7A+P5+fZnAW8LmhA2DuQJ3QOAAm4CAgTEBkQD6fr++Q78PP93AB/5g/ZP9kj3+Ph3+7z9vgFfAOX7d/em8x/xmfFr9ar6Av9Z+wX4jvIR9d32tPf29EP0zO8O8NDtVOoX5dPiZeFj5JXng+az6ejlVul434biLPyQHjM1CTnKFoAKYBjQKMdCuUt4SVZJY0aSOAE50C+uKVIgAB/JHVUbbgs3/aj2UfkH+/ruGudk4Sfkd+ch57Dh7+AS2w7eqeQy6UXsyuvz6UHxHfhl9+j55P20BwQRxBT3Dr4KgwSBAtICmAW+CekGk/9S/ML34vZ89Y3tZu0U8Gj0IPns+uL8owAYAaYBAACz/az7FPvV+sT75ft99Tzydu/E8aX0/fUX9X/2RPOH9fXy3/Jt76Tssel76VLqkOgv6pfnHOzW4w7p3P87GMUodCReAbj/TRIbKnJHAE3pSOhJa0FBM0Yx/Cl6K5kpnSsjKB0kCBQlA+L87f1H/m/1Wu3e58jpae7F6izj8+Hn26Ld1uCD4mrkBOgQ6GrsKu6h63Psy/AN/yAJAAs4Arv9Bf3GBzgPgA2VCxIFa/4E/sz6dvrx/HD4Svio9Vnz5/Gb72zyA/ow/qr/kvuD90H6K/6SARwBDQAb+r33OvPn8vfzE/T48+XyEvE69O7yQ/Jk8XnyXfId8y/x2e7/7qrqe+rv4IT4ihBnIHEmZggl9igI0RpNMhw7bzSfOjxAMjuYMvst4ilJND412DNoKVIa4w0aCsAP2g5kBOT3mvJY9Dj5C/Eg5onfM95v3uzfad2H3rngVuVf6kTuse0L61rs5PBf+ZD6ofe38x72avl9/uT/wAE3Bc8GkwLF/VD6afo+APIAsQD5/A34ofXW+KL82v/d/1/6u/gi+iP9CP1X+kz0r/Gn8mvzlPbQ9mP4uflr+HP13vIq8EPw6/Ai8jLyKPDy7wXvwvKX8ZrwY+ee/mAU5CFWIr/56u5iAs0fLDjQPRwuli9UNmo0TjBNLqUnzy2GMTou9igKGb4RUQr/Eq0W1g9TBYMAIPke/cf4hu4l7n7rOuxV7FfoleL548fgOOPV4w/hmuS05kTqXe8N76rtQPEi89D7N/+F/J/6cvYF93f7QPp/+x8AtACpBGsDbPxj+i77H/1/AN4AbP15+gj5v/qW/fYAvf7v+WL17PTO9MH04fBc71buw/EO9Br1XfTj9lv2S/jL9+H05fYb8h7zW+ol6sL6SA/AFokUrfWi7H8B2xJDKM8r1CIeKQ0yhi16LekpIC1ON2U+iDeuL28jhh0THMgchRxiEM8LUAUrAW8Cz/159aL0+vFW7V/szuc44pbm/elh7TrvAeqW5ajj3ebR6Bbm2uIg5g3pnPJ19kHzTvMV857yrfRs9FH0XPnS/AUBz/55+dP3kPoZAnQIlQYvAfn+pvz2/zMAt/6A/P761/iw+v775Pk8+Vn1lPR99e3zQu+u7F3s3O3f72/yKfRj9Dfz1enM5Zr1oATbDsAN9vPR8DcAEQ0lIBAgDBw/JIUp6yV5Iu0cbCGTLi0zITP2KdchuyEvJKEnXyY/HucaYhjJGO0VQwyKBcX/x/uA+wD2XfCO8Cft/ezY7FnoduUr5dPm/OeU52jkH+MP5pvujPDS7uHr8OmA7VbyLvJU8Nvwr/NQ+8T+/P0L+rD2AfkK/8YBLQIHAQv/1QAaASUB5gDNAncDWgQLAhT+v/ro9pv2kfYK9pr0M/Ql8+DzKvTq8nDx2fHK8Yn09POT8lfrDOkr9k4B6QjQA13xle79/T8J3hQBFugQPxmeHVEbEBi3FecaxCbLLU8rOCNaG2AWvxdyF34VFBWwF1gcBR2yGgETxQ0zDWoMLgvnCZYE8QB/AL79S/uX9u/wbfAx8HfuS+pi40Tjd+ar6a3r7Olt6Z/suu++8Cvvgu1A8H/17PnV+cj2a/Yu+bz9Uf/d/f78nf3k/sb+BP1V+1j7lPwx/sv+Pv7b/Wj87Px3/Xb8lPuO+1L8Fv5l/uj7A/v1+0X9QPvb+Xz6kv1ZAVX9y/TE84P6HQG1B18AcvdX+nb7q/+jALT6Bvw7AcUFeQW4AFn/IQPBC1MQ4g1kCdIJQQy0D4cRlg7ZD6ARKxNMFlcV7RVvGD4Y4RfrFFQOqQr3CbcKMwwgDNkJbQa3Ahj/HfzP+Xj4WfY19if38fap9j32fPfZ+WT6J/mK+Hj5wfvZ/ET7v/lY+fb52/uG/YT+fv7H/On6EvrI+bH5hvme+CP4N/hy99D3gvnc+lb7QPqr97H1Ovbo9U32wfWu9Of1M/cF+XL6ivtf/FD8YvuL+Yn36fgH+8/8yv6U/WL7JPqy+RD6E/wi/t/9z/3M/X7+KQBqAk0DMgNSBEIEXQTVBZ0Hpwk2C3kJ/QbfBtcHbgtiDSMNxwwLDY8NwQ7ADeYMbQwVDGkNpQuZCVsIjggiCkYLIwlxBk4F3wU+B4IH1AYtBssHHQpGDJgLtAlwBxUFkQTNA2YC6QFyAfr+IP3i+uX49Pip+cz4K/dq9uD0K/Qr9Kzzw/KY8xT0ufM39AX0q/I48nfycvGq8F3v9+047brvWvGh8q30QvWP9n74GPlz+Jb3Rfcg+GL66vyQ/Vf9s/w8/Gn81v0f/q7/iAEaA3MDKQI7AWgBNwQTBpQGcwbCBf4Fxwb9BQUFowOsAvMDcwWDB3MJXgnHCPQHYgYQB4EILwq0DP8OahCLETkSeBEtEa4Qhw8RDiEOtw1vDjgQJhE+EpASnRE3D0MN8Qu7CoUJ0wfvBPoBnP+i/UL9o/wB++b36/T+85XzZfS+8/zxtfB/74jvCvCZ8QjyU/ID8T/vFe9/7vruyu9f77ruCu7X7e3u0/Cz8S3zh/O380/1zPae+k/9RP71/Wj9lP3A/igAUgGzAgUDSgHu/nD91vwg/pH/1gAbApUCvgCc/uH8Ff2w/i8AhQHxAcoCtwLkAtUC1gINAy4D1AOxBdwHsAkZDCsN7Q3OD+cQ2RKaFdYUWBVVFdUWMhnTGT8ZkRb2FdIVLRWAFNcROQ/bDRsNcgwhC4sIEAVgAcT+6/x1+3P67fne+Tf5n/eK9MnxkvDb73HwRPAE8Pzv9+6t7ojuD+6i7Rrt0+xW7Jbs8Oyg7V/vK/A077fuzO4h8JPy5PTg9j/4qvm++bb6D/1N//IAqgFXASMBTwEeAsUCkwOqA0oBFf/i/Bb8EP3q/i4A0wAHALX9f/zu+1n8vP3N/v7+aP+U/tT+WQBlAVUD+AKhA3MGVAm4DK4ORg/9EBcTFRXDFYYWwhV3FocYcxkdHBIcnBu7GkYZrRf3FK0S5w/7DpsPiQ5MDK4ILQOl/879MfyY+2P6+fg4+Kf2EvW68q7x7PFE8qfy8/CN72Hvi+9H8LbvDu8l7yHviO8V78/u2u0r7gTuse7o76bwTPOW9Gz2p/YZ9vf2X/jt+Tr7y/sr/I390P7O/0QA/wAaAXsAJAAj/zP+SP6b/Yf9ov5i/+v/5f+a/y7+Pf0E/Pr6N/v9+yH9TP0S/qb9x/1E/zYAdQJfBCYFoAZMCNMJ+AoHDJsN+g9qE88UrBZvGL4ZBRsGGuAYTRikGFca6Bq+Gu0Y2BU9EzMRsw9rDr4M0QnCBpYDGACf/VP8vvvq+9X6wPei9FrxAvB58P3w5PHi8T3xN/Cx73Tvc+/173vvpu7k7hfv3O767qDtUO2U79PwyfKu9HD06vRD9Zv1nvaL+Bj6uPsI/TL90vy9/Jn9ov5eAAsBMAEJAbkAUQD9/wIAZv/k/jj+9v0I/8f/AABm/4r9e/s4+gP63PuY/S3+1/25/Mr8Qv0q/94AFwN6Bt0H9wn6CoYL/Q1TD6QS/xQuFhAXwhZ2GMIZsxo8G4ka9hpqGs8ZOBg7FicVzhPvEpsQxwzwCMQEggL2AMT/CP/c/BT7k/jZ9Q/0EfKX8aHx0vF+8iLyiPGP8HLvcu517aHtGu+W8Onwbe9I7WTsie0w79/wbfIE85f0CvYW9s/19fUc9hH45/q5/Jz+cf+r/vf9JP5v/sD/SgEhArMCeQICARv/A/6+/af+jf+l/9X+6f2N/Er7/Pqn+hD71foq+un4kfiG+eb6mPyp/cf+tQCWAloEowWkBz0KHg1XDwkPtxCXErIVUxk+GuoakBrjGtAbzBwUHi4dSBzZGn8YDhewFGwRuQ59C/4IVwf6BBsCQf/G/Jj6bPkV93z0afPk8nbz0PIl8Y3uHu3g7WjuK+/27uftIe4q71/v0u/o78Hv/++P8PnwJ/Ja9En1/vVl9on2pvdP+RX7If3f/vH+j/0e/Av7RvxH/kH/BgALADoAcgAyAF//Qv6k/Vf9F/2e/Fv87fsc/Lf8d/yi+8354PdE90D4Wvml+kf7BPtj+y/7HvxN/q4AoAMMBV0GnAeiCc4MpQ6eEeESthOXFaYWjRlWHMsdpR4VHisdyxz7HKwcDBx2GigYSxYcFHIROQ5xCkgHrwSaAbn+1/u2+a34e/fm9bDzkPHA74fuA+6S7UbtQ+2C7RLucO6O7rbuKe8x8KjwJPES8dTwjvHN8i31G/cW+KX3bffP99X4lPrZ+8X8Q/3W/Mz7rvvR/Lj+xABQAQIAev4i/dP8C/3+/J38bPyN/PH8G/1b/BX8mPuK+5L7lPoc+pH6kftM/Jf8t/sS+wf7fPvK/P3+3wCyAtADtARbBc8FUAcUCWkMjQ5LEPERphPqFn4Z7Bo9G5MaqBrlGr8brxzaHVse1BytGUMVHhFaDugMwAt7CswHSgQqAKH88PnK9p/0UPLr8O7w3+/k7sLtUewm7Ajs9Osl7RHvlPBM8S7xm/CK8W/ywPIe8+Ty9vMo9ZX2Yfcq9w33z/Yn9wX4Q/kJ+538ef7R/w8A6/++/wb/4P1G/B/7wPv5/Ez+h/75/Tv9vPyf/ID88fwe/bf9Vv4m/jL+N/2P/F38MPz6+xL77vkh+Zz57fqg/BD+9v4fACwBOQNUBQoHRQlYC4UORhE/ExYUkxQ3Fi4YtBrJHHkeuh8NIH8flh2uGyEaVxkwGZcXNhWdEREN3ginBCsBYf5C/Ej6Vvgj9sPzR/Hd7tHsfuvH68Ps6O3e7njuUO4D78nvCPG48brxp/HD8f7x2/Ip9FH1QPbB9mD3Fvih+BX5pPmb+mL8P/4V/zD/n/6X/Q/95/xe/V7+E//k/k/+Pv08/Pr7bPyX/an+fP+p/2P//f4n/oD9L/1+/QT+Rv34+1X6Yfnu+HP4Ofgn+JD4//jZ+eT6DPyS/dT+/QA/AygFugZdBxkJPgtkDusRwhRrF+4YABoyGjMa5xqkG9ccch1AHS8cZRorGHkV9RI0EMcNhwvXCB8GvgJk/8f8rvon+bf3J/bS9PPz6PKW8TPwtu607qPvmvDT8czx4/AR8KHvOPCN8R/zNfSE9Fb0avTG9On1L/dO+Fb5rfmJ+Zn5RPnb+RH7gfyr/qb/1f/H/2v/q/9JAGEA2AAsAVQBKwGMAKP/K/94/6H/dP8V/hH9Sfwe/B/88PoY+un4GPjG91n3/fYg98/3vvit+eb5pfmM+Tr6Uvzz/qMBtAMWBaEG1gcdCnoMpQ7uEHES0BSwFscXfhi4F9MXExhdGBQZ4hh1GPEX3hZ4FMwR8Q7dDIcL9wkBCEAFuQIRAOn9gfwT+yz6B/lw9wn2R/Ta8oPxhfBB8N/w6/E08qny8PIp87zztfO089HzZfQu9VL1J/VP9c/1Vfdf+dj65ft4/GL82fzO/SX/BQEgAs8CjQJnASAA/f4B/33/+f/M/9r+d/45/kT+Dv4f/VH8aPva+nr6evpe+jr6nvkt+Lj3TfdS98f3BvhQ+Pr4/fm6+wL98v2L/iz/TQCVAR0DEASiBZwG8gdsCTAKeQtjDMcNQQ/jD7oQ9RDGEeUSeROFFGIUIhR7E04SERGkDykOygw9C6gJtgdxBUQD3QCp/8H++/1x/TT8yfp6+WP43vcG+Pj4ivki+ef3s/Zo9o72nvZB9nz2G/fi92v4OPhL+Ir4YflV+tv6Vfvv+xn8Yfyb/Jb8E/23/Vj+2v7O/oj+cf4d/uf9Kv0+/NL73/vM/Iz9vP1//e78+/ww/YH9O/3O/Kr8Kfzw++z7/PuE/KX8CvyZ+k35T/k++uP76fzu/Pj8jvwI/bT97/34/uT/xgBTAXoBHAIBA4cEwAV/BnQHcggICiALFAx0DEwMDQ0wDXQNkQ3ADAIMDAtBCtMJMgneCKMHPQYZBTsEOARkBNME2gTZA+sBtP/9/cr9Qv5M/xIAFABs/yf+5PyB/BL9SP4V/wf/GP6S/Or7p/tS/Of8//z5/Gr8dPwf/LH7C/uU+rf6ufpW+3b7ZvuS+z77KPsz+4T7bvwU/X39Bf0I/F/7Mfv++yD9Mv7c/hD/HP+0/nH+Ff4w/mL+Zf4h/oL99vyG/Hj8h/x3/BL8IvyL/AL9Nf3A/FT8DPxs/MX8Qf1A/sH+B//D/oT+M/8SAAwBXgGRAUgC9AI+A/0C3wIfA7gDoATkBAQFFgVMBT4FtQVPBrIGTAdMBxgHugbKBvMG5gb1Bq4GtgYNBx4HVwcIB9IHugguCUwJBgjwBuMFqwXMBakFYAURBMoCcAEuAOz+zv0r/RT9Q/zv+h35WvgB+BP4nviw+Dn5nvk/+Qj4Ofa89WD2EPgO+jr7BfzR+4/7D/tW+178uf0l/zsAtQBHAJv/F/9V/zUACwFVAaMA7/6G/Wb8NPzK/Bn9fP1J/Qb9uvz3+5z72fuT/IH9wv27/Z/9v/3t/WX+vv7i/sn+Jv4h/uT9T/7Q/oL/SwDMAFABJwH6AMsAtgD5AA8BLgFDATcC3gJ1A7QDdwPBAxEEowROBOIEOAVUBhwHdQePB40HkAjVCToLjgvGC9kKWAo4CWYI1Qd9B+8HRwdDBioEUgJ2ARYBSwG/ACD/m/12/NP78PvI+077AvtP+jb5+vdu99D3t/j8+XD6C/r/+MD4cvmZ+i78KP2K/Wn9Sv0m/VX9Gv6N/1EAqgDz/83+jf5V/s7+Xv/c/+r/kf8b/+D+W/7p/UP+qP6U/sf+yP60/i7+Ff42/qn9Iv4j/2P/2P7R/tH9xfyd+/77sP03+9T60fxf/E7+sP8F/Wb8A/55/dT8p/7W/jb+3v3P/msAvf7Q+6L5iPcg+38BBQaFBZ0BNQA2Ad0GBgguBtAI8A6DExERGg+0DjMS+BkQGwEXFBLfEP4TRBU1FIkSXRF0DxkNqwm9BA8B9P8C/8n7WPgi9CTwVe/g7wzuzemB5cTkbudG6uHps+fn5p/o4OyG8fvzZ/Zh+oT9Zf9CAC4A/QF7ByMMAg6sDGcLCA1eD9oPSw0rCsUIdgiFCJoHZQV6ApoAu/97/EX5p/eS9/n2bvVl8f7s9ev97R3wRe3x6nvpauo/7s3vau9F8VDyL/Xx9KDzFPUj+dX7jv24/Jf8rv6aABX9Xvr3DGUcTybHIkgNRQXhEGIhsS5zL7AqkCpWKnImOiBQICokEimPJzkeHw/bC0sNgQyECy4BwPXe7y7vovCu8E3r++Qp3mjZONhF2d/c+eCX48Ti9d0o3ULiDunp8HP2CfZs9e34EgDlBkgLeA1GDxYRpBOiFUcWHBcgF20WJhPjDjEOwhB1EcgNeAdGAdP8tPyJ/TP9uPoZ94D01vHq76fvwu+88KHx8++S7Yrry+vY7JTt0uvd7fLuq+9j8NnvUO4I7crt2+888YXz+fWk9q73b/dv+5v8e/1D+8P1kgK7Gr8lwCwgGEkE+RGWIRc0UTpnNUAx9y3tK8cmtCMMLJouqCq8Hz0PywcgCm8HfwIm+3Dvq+7G7TXsCuhI4YTYcdWa1gTaxt7242/mI+Wi4kTgIuLo6n70sfs1AEP/AQBZA+wHOgtYDjgRuhP9FQ8XURZNEywQZw78DaQM1QobCo0I2wSk/t/3p/TM9Hr3v/d89nTzYPGf8izzQ/Pe8fPyZPMd9OLzZvJd8eby0fFp773uv+598Izxc/H17nbwnO578LvwT/OT8/X0F/YO+Jz4K/sT/RP5gPSpAJUi/ifPL2EagP49D8ogbzRyPxc2EDE4L1wpqyMaID0qhSx4KU8e0Q5MBLgHJgdiARj8V/Cy7pjwqfA97OblStzh1+HYFdzF45fm8Oip50/kCeSY5ivu6feu+6/7zfsT+8n/vQetDJMMxg30Eb8R3xBZERMPTAykDF8MvgxEDMQIWQeOBP/+9vk++Zn7iv0L/mX6ZPSO8j30xPP49In30vZg9Dzwvu3n7BPsouzx8H3xD/Ia8CnsOetY7KzsCu6v72jxxvPP9Hr0cPL/8nX00/lp/y4BIfyH9GTykRQTJr8qjiiBA1UEABzGLhE/xDqPMk0tQieQKPQijSadMD4tyCMdGhoJLgmrDSwDd/8V9hLvIvCU8Z7qYeau307Zutms3Erg1+JJ45vjFOLZ4ETjeer99Ir9+f5R+tH3NflzAqoMIROrFCUUhBQAFJIRSxBWD8IPnRISE9AQRg0TCOYE2ALO/Xv5Q/sL/hf8Fvnu81jvj+3c7szx0vPV9CHzB+/V6Z/nj+g17dPvl/Ho8LXv1uyz60XtwO/I71nwxfHM8VHyEPQp9nT2/vaS9lL7Vvwo/hb5j/GRCPIkLiqKLqgOwfi6EnUpdD/SQkk1QywqKPwk9yVUKNAwtjF8KFocSA6PBgQKDAPV/tD+TvJo8RHyL+5+5izffdiK2C/cg+Ec46riQ+N841Xka+Vq6ajyIvl1+xL/Vv4G/uYC1As2EA0TMRWqFCwVExQGD5wO5RDMEKQTghEsCpIGwwOQ/+H7efo2+ZT4f/k49yLzyu5r7RHuwPGH8wbyG/Kk7zPtUepK6brqWvCN81L1GPKL6zHpcOoR7cLvm/Hs8cDxKPHF8H/wLvGz9Ln50vyO/l74+/Yd6+QJSShyK0AzaAy4+XcVOivdQeZJRjfcK0AqkinXJ+ctvjJvM70p1x6JDo4FyQikAS0DFv0u8kLxGO8S5/vl89yP1h/Z49rz3kvkjuPE47bi7+D84/rrt/Sq+3v+IPyE+vL8ygQOC+ARABRBEWIUnBUcEVsQeg4hDXcSABRCEPYLBwVx/yP+Cf13+xf76vq4+Bz1e+/d7OXtlPEk9G/z+/Ss8antr+m76BXpQe5r8sXzyfET7DLpFufy6ibuR/Qn82zz6u/l7y/v5fHp8zv4Uvlv/BP+PfuA8SXzZh/dLBs7zCeD+HUA3Bq8OVFOD0SxMEcrnyYJJeYoNDTDMeIxYyU6E2oH5wT9CVEHsQf8/D/zje127BrqHufS3BLabN9v36LlOuSA4abend8E407pfO+B9XH5ZPnT9jD1EPuDAzcNPxJ6Ej0S+A9HDRkN9wkRDe8VPBTLEXcNowTk/qb9iv9qAH3+SvsB+V32PvFy72PwavJ683D00POH8P7u7u3i7ZjrJux+71fzx/PW88Tvpety6+vv0vFF8zDyKfFo8pPzFvXD9RL21vVN+sz9rv3y+JnwbfiNIVYoWy9fGeXw0AdvJXk/A00hOTUomyP1I7IpYS8NNoE3ODQ3I80RIQIYB9kM/w0pDrv8H/Op7sroaeNP4gTf7+GB4gPfLt5X2/PZD+CV4nHkcOcX7A7yYvb590b1dfWu+kIEwAtBE0wTSg7KDsEPbAxVDCsOURFOFwEUCww0Bef/X/8qAjcCV/6e+xj6qfVD8rjwA/IL80P1JPX28rbxSe+Z8PXu8exE7f/xc/Qe9S7x6Oz06wntG/Dt8kT0gPE+78LwEPCp8pHzLfem+cf5CP/59XP4CurHAL8jtyVONY0SRPK+CVwdikCXT5459ixfJCUkCCYuLxA4GDktMlwkTA0EBYAI0QuzEaoM2f5V8fPpZ+M06Grm2eGn4hXgCN3l3jbbzNt23l7hDeba67PvoPGH88HyMfIY91H/QQWFDpcPNwvZDl0P1wxCD7QNFQ+LFpIW9xBuC4YD3v7hAmoEwQIcABD8W/Z69PDysfGh8on0IvW49PTztfCY8avvKvK38Wzxx/Ie86DzX/A27bPtDvHI8UD0gfEE8T7u8fHD8Hv17fQd9Kz0zPXF9y/28vfr5r4IaSGQK/Ys3QOK7BMFFyjDQh5L9DQpJoUhOCVZI14x9jVIPXc1uyCBEfkByQpsD60YFBUHAhPzruwu5Z3nmelh6szpDuSp3b3WsNeE19jhA+ax5r7ndeh26ULqhe4y8qD27vztBRgLuwmIB/4HeQsnEXcQkRFxFLkR9BNWEKwIOAZ/B/8IbwjPBk0Bj/s++DL2nPb79VD27/b49q3z6O8Z8ETwkPGW8CnwXO7u7j3vcPH28Anv9O5i8NHxw/Dq7obu+e+89Bn1zvb983/1VPgH+C3/ovh7/qfukv5kHXoeCizkDkrxoQgjHg4+wEyuMyIkKhzXHpslrDFgOWs8STaLI7sMDQXGCJQRghxbFGAD3PIq6RPnUu3y64Xo8ui14rjaitn21sTaet9e5IbnN+kf5ybmSurI62fu7vcMAkAFigjjBcID1we+DXkQnxS8EvAOehSHEkAPlgxRCYsJowsYCi4GfAAX+xj5VftL++z40vnk+E/0vvLC8fPxr/PL8tLzXvEQ7dTsivF58wPzme/57drt9/D17wTxMPFa8OrxdPMK853zf/K487L2Ffvw+sf1lvAM8SYbcR7EIUUSw+lVAeIfmjmPSaIzDh/ZGfcfFSlBMWE8UDytN+wlqBEoAsYMwxjWHeUdRgbf9a3tlejk6Bnu4u6c7yfoD91P1gDST9VI4UjpKepI5qvhj+Bt5EnruO+S9QP8eP+EAnUE+gFHBK8LFxL1FIQRoA/+DnoRUhNnEHoOCgxAC0IM0QbZANv9h/6E/zn/OPxH+Mf2aPW79En0AfSQ81H1bPE37q/sJO8W8rzy+vBx7K7rk+uL7zzwf/Ol8IXx+e8U8izyOPTy85j0A/eN+Zz5Wffh8KzuARtrIh0rlRyD7eL5xhMfNadJ7DwhI/gf5R6+JhMrwjiuN6I2ZShJEJcHvQWbFyYgRiC5Cs/zzuh66Fnu/fPs7zbvQeqU3W/YPNLV1qXfVuoS7CDnDuFK3tzjt+oS8Bj3jfwP/zEA5f+Q/m0Ezg+bEaERIQ86CjMOEBAPERsRDQ9wDR8MSAqNBGoA1wB0AZcDEQJr/TT41/UQ9pr3jPdr9of2pPRS8LnrPexE77PzWPSn8ovtUuoZ60PwG/Fu7/ztBO5F8Nrxj/DK8Vnxp/Pl9Sv6jfeU8ubwru2SGM8dDx4wFC7pW/vBHOI1G0clNP8fqBYGG+AmzC/dPeM+8TdCJskR7gB1Dkwh7iNMIhgLL/eW7ZDpTu6v99T2W/Nr65HcRdJQ0LXX1ObS7YLqcOVV3s3bceI+6nzvGfbS+279Q/yr+zL9swMSCs8Q+RHLCxUHPwnSEcsSYBBYECgOTgveCLQGsQSMA4gFNgauA3n9nvjb+Bf7CPus+a74eff89bvxdO6J7mrzu/Z69kLxdeuH6J7poe6M8iDxb+3U6TPqPusd7jLvgPJO85byv/UP8UX1nu0M8DAONx49Hgsax/Ak9NsWBSxTSI88KiRbHfUapCNnLoQ6TUARPC0xChYmCQYKHxpgJ4YlWBNO97fty+pX8Vv4DvWg89br3t3z14fTEtfH4gXs7e2P57reWNpV4Cfop+8Y9mL7zvoK99j21vgWAkULIg5MD+kM7gVpB9MNFxHTEykSTQ7zChsIRgZcBZEHnAYYB1EFI/5/+b/5Wfra+/j8dfs2+tr10/Mj8qLxLvLG9RX3hPND7fznx+m/67rvt+6R8E3sGetu6kvsh+5N72vw2/Hi9GD1U/R17BfsmwI2JQ4b9Bx7/NDnfhHzIOI8pT9UKf4Yox8rHhQp/y9YOns7YjBhHr0G+wkwFzUlbCcnHFsAnfIu7Yzw7fqG/ff3g/IY5uXYGdft2frndu0m7ZHmRdxE2f3fiurf8dXzCPUe9oP1xPJi9nH+iwfQEQYOWAdNAwYC9QwCEu8Q+hCaDpcMtgrhB1YF+gQUCKMJVwhOAgf89/qu/ST+Sf3J/M/75fla9drwuO8f9Iz4YvlH9Lbs4eaU6d7uHvRF8ZfsOOnf6FTrPO0U7T/xNvEq8+Hyx/OV8ofvpe7Y98oa5RRGGR8CRejfBykcXjZJQFkpPRiAFCscryZmNeI+tzxxNuofng8jB4cb3CzAKhsiGQYs+F31uvQU/CcBSfwh9YToYduJ1rbYCuTR737t7uM42tDXDN3o5D7tifB28fPuiO4+8Y7zPfzABlEIGgmmBZYAwgRsCakO7xHoDxIOgQ2nCyoIqgcVCT4JSgp3CPQEvwAX/qD/3AGsAFX9EPzb+3P6XfZ98xb0Ofao99z1M/AJ6xDpUO248S3y1+yD6LfnDOn+6vPsTu588rTxvvC48a/vDPMP72HurwUOHOATqxS/9BbtSRAOIr88oDkGIIMX4BZVIcwpFjazPas4czBiGNsM0Q6hIOsr1CfDF1j95fZl9mz6QwFX/Fr5UvLh4xzdVtpe3VPoZO8k60HjmNrh2TPi0ef261rvYfE98DvuOfB39G799gaqBtIGhwPs/LUC2QrKD+wRbw8bDI8JfQhbCNMIagu0CQoKrAitAuIAWQLLA+QCSwCe/mD+qP0I/Jn4l/S988T3NPrb9+bwd+zl6rftCfCU8LvuvOvC6SrqeOok7NLsv/Iz8rbwUfGt7+jyv+9W7ksBUxgdEXYSy/Ty7VoOHCAzOu01Lx84FV4UyCAQLIg4wT35NnUuWRkKD4QRuCVUMOEqnhmR/s/4s/krAGwHSQK6+5jxl+Qa4APeDuFH7Hvxi+n232LZrtrt4kHnQOul7X/u9+u36jzuQfLN+8sEAAS2AIn+r/yZBE8KOQuDDpIMgwtZCyQJZgcgB/gLjgyyC6kJngTpA6MEawVTBXwDFwBRAHj/Y/22+WL3ivgj+zb4HfNm7rnqge0j70PwYu0g7LbovOoA6tXqTOte7+7v2u1b7RnvvfH38s7uK+rCDEoSgxWrDeHqnvRkD1MjtDYFL5EXxxhjFo8hSClmNFc2GzZbKbMWhw1JEnIoaTD8K4kVRAEH+Vj8AwVmCxEEZP2w8vLlquRO4uLmZe7578DmoN112PfbveQL6qHs3evp6eHoj+i57r70Jf0ABNr+Av3W+2b7uwQACz8MVwwcCksJxwmDC2YLhgooDFILjAsoCywI/wc/CXMHRwU4AYH/pAHiAQAALPvt9Wj0Fvfa9uP0efBk7n7tfO2L7Xrs5utZ6g7qLuqG6WvqturQ7wvvqO7C8efucfFK67/s2wRhED8M4wvi70Hyzw8iHYMzwy3wFwYVxRLfHM8qqTYEQLc06yZqFzwQ0hj8K5k03ivqGFgEzf/R/zUFGg2nCQgB8PMa5lDiMOLZ5l7wh+/o5nTfXdqa3JThYuVI6Uvq4uwj69jndusy8bf6IAFV/d37A/sJ+j0B0AioDGMNGQseCQEItQjhCqgOghFPDxkMVwmRBukG2giiCcQHGARiAaoALQDP/Gr5lvgp+Bn55fe19C7wKu4P7iTvVu/Y7pLsXerv6FXoL+nV6+LtJe9b7F7rV+x/8NXyKPHw6172fg7ICKgOCPuL614IohZ/K34zDh+sFIIS/hhDJrk0IzudN2kwLB0UFXAUlyZMM2AtDSQ/DPIACgICBGELEguJBGP7j+tB4gTiludy8M7xBOse4bjYr9ns4ELm/ugB6MPnZ+eG5pzpV+2k85L49/jl+en5A/me/8gFqgh8CpAIoAmbCu4Mpg7oDf8OWA4ED/MNBAuECqILzQoACWYFpgP7A7ECNAEP/en53/jP+hX6avZ28QPvB+817j3uQ+y+6xPqpeuN6dbpvOgG6mbsQO2Q6wjroO6l8ZPz8e7260X3jhUlDWwNgflt540Mnxl9KqIsLxsbElAb2hriJJwsOjRONSUt0B1lEMAX1ycGNP8vfh9gCRwEbgX/CoAO7RAHCBP84e5N5dnpWe5/9PLyz+nf3uLYXtot40fo4edv5trituB341Xm7uz68o31OvcJ9K7zfPhS/uAF6QiECHQIvAcmCkoNYRB+EYAQcA+4DRkNuQ0uDxEOdgsBCAcFxgK9AxUEXwJz/i75tPax9h32mvQv9Bjxf+6y64HreutD7Nbrf+rT6cfptemY7OrrS+777K3vHPGJ9Zv4efUV9hnqcP9JEbMNSxLC/NfyxwxoGpAquixtHGcTHRfyHJ4hqzDBNyk4DCyrGpEOjhaCKSgxIi80HdIJ4wE1Ap0GaAzdDQsGbfjR6IvgVOW767LxJ/GW5bTbl9eQ2ALhNua55i/miuKV4Xbkxek18GP07/YO+En2DveY+/wBSQkrCw0KZgmoCGsLwg7pEFURog5SDYIMpgs2DAMM2Qk0B84D9wHeAB8BdACe/rf6R/Vq8/zz3vXI9VPzJO9c7Gfq8eyg7lzw7+3L63bp5ukJ7ELvXfCb8oHv3/CG8hH4mfnA90byP/MsDisL7hZGCRj0pwcCEwUm8jOZJSkb/Bb9FkUkQi1cOdM6FjFvIOkVKBC3IEYwwisMJRgR6AHt/VoAwQYICxgHSPsr6ivfo90a5cDv8fB16OTcwtUG1hrbr+Lv55Lni+Vr4hjkaegy7bb0wviK+R/6qPoa/VACngbDC4QOAQypC1kMPA8YEWQQ7BCMDqoMHg3HDMALswm8BcoDuABM/4D/Tv87/vz5LvZa8//x8vHZ89DypPD07Zjsyet/7Pfsee2J7l7tZ+td7BnsVPCE8Mny+fLY9ND4oPSL913u+/rKDyUQIRWDCPX00QhOF28npjTCJukdVxocG7sg3jCMOf08VTLHIN0RSBKxIDsr3i7LIfgOWP03+nr9WAU2CtQB4fdv6D/c2N2+4tLqU+345iDfOtjF1qjciuOW5pjnTeUW5ijoiOvP8Ifzz/f++dz6hf1kADgEpwjqCY8IxgniCvoNmg9dD9UOlwozC6sLhAv0Cj8IOwY3BTQCMgB2AET/5//N/LL53fUc9Oj0k/eC9cTxvu6p69zsB+0v7tbtS+9K673rOOqU6//tCfEj8QnxRPK68+z0A/N48An2CxWiElcWsQi08XgHGhSSJpMwhCqHIBIiVBtNHzYnsjTpOy41sicPF1kTvBqlKQorJyWgFLYFIgBx/sMAVAdmBB/+efCx4eXgo+AE6evsUemt4GvZ5NbT2XLg3eTT57/lSOSi5PPmEOy28Qj5MfxD+nP6JfyUAKQGMgomDFsLzwnNC84OzRBOEH8N7gzSCz0KAAtoCpgI1QiVBZkCwQB//iX/h/70/Hj4XvTT8tL0Z/X/8w3w8+xz65brBuy17JTse+vw6f3pM+hM7JLt+/GI8tTyOPRi8Lb0Z+0W+VsLqQ5oE0kLivgVB3gSHCG7MWApmCYiICMdox+YK/c13z6DNxUqDB8pF9MdjyXyKEIk9hm8CSYDV/4c/zEEQADj+lPva+QI4gXhtuSU5g3j6t7z2nDZk9zp33fgm+E931Thg+aF6ybwSfN99lD4n/id+Rz9FgPmCIkMYAx8ChwIjQn9DOUOLxAUDtgM4QqjCeMJPQloCAkH6gSeAhQCTQD2/yb+Q/zf+DP2avRt8zTzf/Hj7qztd+z46vzqmur86xTr3+tP6arrWuxG7G3vg/HD84zyrPO06Vn46gTYDsAWtwr3/gED9g5wGXkp8Cj7KvQn7CXCI6IlRi11Nbw1JDDRKXsdpR/UIeAjHyNYG/8PeQnzA08B+f9kAK76PPLf67nj8+K14sfjJeJK30ra3dfM2cXbgt+Z34zfxuBk5V/rru5e8Rb1Bvnf++D8BP6aAdkFOQoUDdYN3AxrDPUNqQ41DogN2AzsDHcNiw2zC4UJBAfaBEgDBwL3AB0Av/78+xP5p/Ud8yrxwvGe8M/uEu0a7HzrFuwM6zLqi+lm6ubpHu0h7uzwAfFL8azzx/Nk9bXxW/MR+4oHcg1dE8oLyQhEDs8Qmx26I5cmKymrKNMppCzyLBMvVizdKyoq1yPHIJQfjx6GH5AdfBPKCxYCkfwn/GT7bPmP9JPuJ+nn5Grj4OEI4Arfztws2wLcHN7q4G7kf+W25c/mDumZ7Pjx9/YS+gn8QP7aAD8CBQWmBpsIDArZCvIL9QxADkMOJQ5MDT0LggoCCu8IMgjVBrAGaAY8BU0C7/4d/Nr5PPh49gT1q/SU84byi/Ed8DPvLu2t69Trguz+7S7wT/Fe8rPxe/Gx8bD03vaI+Bv4afae9mj4pgDHA5cJqwz+DE8QABJYE8gXphr6G/Mf5R41Hzog7x+AIc8hPCEQII4cyhi8FdgTLRIKETAObArVBpgDQgJHAPX8FfkK9S7yLPAm7gLtfuvd6rbqsOo46mrqCurP6ivtoe688BTxHPI083T1zvje+6L+2/+a/wD/hwBHAgQEkgSNBJoEkAWiBYUFLQaKBsMHrwcVBx4EsAMOBPUEmgViBRAEGQIoAaf/nv8hAGz/mv2O+9v4NviJ98X22vbu9ub12fT48u/w7fH68XP0+/Xr9J/zEvJx8w/17/WJ9qL2mPZg9873f/jc+sj8QP/zAO4BBgSWBkkJHgxmDQgOag/xDx4TRxUSF0IYDxiuGH8ZEhpjGpsaChnbFxQWlRRgE+0SWRFUD7QMqwjtBI8CugFFAN3+Vvvv9+31VvSL8wjzbPKR8ffw7vBh8b7xUPLe8tDz8vMd9MT0F/bX9gL3Mve99o/3QfhF+W/5yfh1+bj5H/vC/Bf97fxl/Sf+ev/rADsBIgG1ALn/4P5V/zn/m/9A/9/9Qfyo+gz63fpo+7L6vfkc+ef4gfiQ+Xf5GPqN+Tf4Lvho+Kj52vmf+dv4jPin+Or5Qvtl/cT/CQGqAiAEKQb5CH0MxA4oEPcPxg+mEbsTOxcFGI4YRRjiF7EYzhdyGKUXFBi3F3cWFBTqEUgQlQ7mDJEJUAYVAzoB+/5//Jb51PYo9VH0XvM28qLxe/BN8cbx0PFv8lryNvJv8pXxnPJc9Ar2E/eg9Zj0pfPa9Bv3Z/l4+sD6H/od+sj6WvuQ/J396f6t//L/7P7J/lH+Uf9nAMX/vf5p/er87Pxm/Lv7Tftz+3H8vPs7+/j5Xfme+jr7qfsJ+9D5ivms+Uz6Z/pr+tP5gvkW+dH4ivkQ+tL7d/0u/0ABbgODBToIxgrhDKYOABD4EJwSXxQyFTkXoheFGLoYxRj1GPEX6xjEGGMZcBiBFhUUAhI6EIsO/AxzCQkGVwLd/lD8mvk+9371PPPA8C/v0O0z7o7utO5N7wDvRO977xvvIfA18XDyzvPQ84fzBPMI8/XzrPWr9zj5B/rf+nr7qPuC/Jf9TP8kAZABAgHAAHwAzwH0AucCmwI2Ae7/iv/8/r3+nf5K/hL+G/2W/Mb7WfuR+xf7P/tW+lP55/i2+D753PiA+GD3hfY69gD2BvYF9tv2OPiJ+qf8A/8FAYYDnQYxCX4M+A0PD+YQKRLRE0UV8RVVF3YYchnRGQ8ZtBnvGdMavBqMGdgXFRZWFLQS9xBODgQLMwdEA8v/9/yC+pr4T/ZJ9JXyFfGF8Kjvm++c78rvVvAn8DPwPfCJ8E3x3PF68prymPJd8ufyRvTX9eT3xvgq+az5C/pN+xj9m/4lANsA5QDjAO0AcQE/AmwDpgN9A4wCLAE9AJf/Uv+k/wEAif+m/gr9h/v++rf67voU+0L68fjg92f3UPdI9072XvWy9Nn0r/Qu9AX0W/Rk9v/48fvW/f//OALKBIQIKQt0DZUOZg9KEU4TbBXeFrIXsBhaGQQa/Bo+Gw0c3hsZG9EZdBhgFxYWYxTpEa0OQgvTB8QE+AFc/7P8rfkk90z1K/SZ83nyWvHg7/Tupu6x7lDvO+9873HvPe8c7+junO+w8A7yT/PD8/vz+PR/9uj3NflM+mP78vxL/hf/6P+dADgBQQLSAloDIgSiBI0ELgQPA00CJwK9AYgBzgCv/4P+gv1P/I775Ppu+uP5VvhX92n2J/ZW9k/2d/Ww9GjzW/LE8cLxmvOp9Ib3Ufn0+m39y/7rAVcFwAjcC5YNCA7VDnIPkhH0FEkXORlsGVUZ5BmAGhQcdhyIHKobRRpaGb8X2RU3FD0Srg/SDC4JzAU2A7MAZP7p+1b5UPek9ab0wfM/8j/xoO+77jPviu8v8O/vTu8R78Luku/t8AnyrvKq8pTylfNH9Qz3lvgg+Vj58/kg+7b89P1E/xwAqABwAegBXAJCA8sDXgR0BN8DwQKpAQoB4gDvAHAA0f9q/k39W/xy++36LPrW+WD5bPg09+L1M/U69X/11fRQ8+LxWfG98RfzAvW09jX5yfqq/PL+lQGOBbEIrQvADFANTw6OD6ESmhUQGNAZehq1Gm8b4Bv+HEcd/xwbHJkaKhlfFxkVtBKyDxoN9ArXB8wEdAEv/in89/qm+T/4X/Y49LryBfFc8Pnvy+8V8GXv4u4P7q7tee5W75TwcfGj8b3xKvIf8+D01PYg+Pj4Dfke+TL6tPub/T//0//u/zEAtQDFAcYCvwNnBGAEuwOnAp8BUwE2AUsB6gDM/6H+//wA/Bz7Yvoy+rf59/gY+PT24vV59SL1YvT58znzDfM18wvzU/Mt9JP2TPlH/DH+kf+6AVgE0wdtCl8MtQ0JD/0QxBI9Fb0X2RnqG58czBxVHScdtB2OHascGRshGWkXthW8EzgREw7BCtcHMgXzAqsAdv4k/BH6BPji9frzbvKq8RjxkvDy77DuuO1V7SHuC++S7+Tvpu+87xnwWPHk8kP0DvWW9Wv2Xvef+M/5tvqc+6/8jv1B/i//LAB1AcUCiQPTAwsE+QP1A7wDGANTArIBQAGcAKv/dv45/Sv8YPuw+un5Hfn79+f2NvbY9a/1MvVz9ErzjvJZ8lzymfIU8xL0cvXT9+P54fu6/Q8AmAPFBiQKZAwODp8PjxCdEhQVNRhTG/Qc0h32HbsdLR4zHhgehR2bHEkbLRmfFtITyxAWDnQL0gjlBsYEZAKp/4b8e/kt9371dfTL87fyxPFc8L7uw+057aftee5F75PvL+8h72zvK/AU8frx+/IR9P30yfVm9kH3ePiz+fD6+vvZ/N/9MP8iAOQAugGzAuIDeQSYBB8EmgMWA5sC9gEyAYMAyf/1/qv9Fvyd+ob5/vjt+LT4F/ga94D1OvS/8+DzjfTV9JD0k/OB8mfyQPMG9X73zvm9+4f9ZP/GAYEElQduCkoMOA2KDmIQPRMZFl4YVBpQGzcc3hxDHfId2B22HQEdUxtGGa8WfRSzEvIQOQ/oDBUKRAenBGICJwDQ/V/7Kvmd95z2b/W789HxMfBT7zHvgO/l76jvN+/l7hDvnO8R8IvwEfHJ8X/yMPO387b05PWK9+74BPr8+rn7q/zn/Q7/AgAVATwCZgMvBEEEuQMJA/gCWwOBAzMDWwKrAMT+Rf1C/N37NPuE+pf5U/ht90H2QPVN9PTzM/SF9Lr0MfSC8/Ty5fIs8xn0h/VV97j5gvsu/bv+pwDLA64GswkCDI4NFA+cEIcSShQOF94ZwhsQHVMdGR1SHYMd4x2QHVwcLBqYF4IV9hPMEiARuQ6CC1MIpAVXAzsBOf/z/GT69/cF9o/0UvNN8nDxf/Cw77zuCe647bjtpO6l72nwNfBY7xnvG/Ce8Wnzd/Qu9cf1y/bx9xz5G/rF+tb72vyZ/lP/5f90ADMBsgJ/A9QDtwO7AjwCVgLgAc8BwwCV/0v+k/2A/W396PyE+zX6Wfl3+NL3BffK9lT3BPdI9tX1k/Vs9F/z/vEq8A7y9PVr+SH8T/w//E7+3/+TAEMCaQO1BYUJDQt1DmsUMxnVHAMgliINI+AgCh26GtIcACBEI5ElYSUcIxogjBszFRYRxQ3ZCCYEev/N+pD4nPcB9/n2vvSG7qznneHF3snf3uCP4cHjKOYl6F3pgOlR6kHsPu4Q79Pwb/Kp9cP6j/8kA3YFVgWqAw4EaAbACOgJ6wlUCl0LYgv5CqcK+ApgCnYJEwYsAo7/u/5J/nP92fvu9/L0b/LK8bTwW+5+6zTpuOjI6Fzo5+dP6Mbq/eri6ovqJevU7Nzs0uqE7fT+UAvlFYgX7gwhDmcUIBiOH6Am9CqqMFw2FDMYMsg0dDJ0M2gxKSykI60erho3GsQe/hztEx0JVf2+8wzwMu487L7rUes65UXe3Njv1O7UENiC2MfXItgn2DbbceEO5WHmnedP6WrsZvFl9oH87ARyCq0LaQo8CcgK+RAnFoMYXxjpFo8VQhVGFWcUihMPEgwQQw4jDEEJsAcEB7EFZAJz/Z/46PVv9dL1XvTx8ITtPesk6VrnieXC4yrkvOMX46/hHeG14VfjkOUF57Pnlec86Sfu0vIG9tn0m+7Y8o0GWhbqIxUk9xZtGUYeLiLNKPEv+Df0PyVDHzqTNEc4LTiuONozmiYvHTcb2RjhGWkanQ8lBUT6kO605bvjteKp5XTlldzt0r/MN8zrz77TgNSQ1O/Wf9rC3jnjIuY26SXseO/n8tr3bP7KBlwOHhLKEZIPtg/kEYMWoRlmG/0ahxjjFvwU7hLQEWIQFA6JC6QIAQbpBAsECAKi/mf6Evek9Zz0o/Ig8XTvHO7S6xnpmeYx56LnKebb5EDj7+Lt4vrii+Sr5X/oTOp865rsr+wj8UL0cPYB9f7upflqEQgeFCl+IFYTMh1KIj4n0iyxM6s8hkJ8P900aDTMOQA6fDePK50eCxgRGt0ZPxidFBwH4/3I8lLnqeD54BDkCOeP4WHVdM0ozALQN9Ro1RPVZtZr2ebc6eD05Rbqxe0h7+vwjvQB/KIF6QzBELkQ1w4GDhQRwxRmGEMZgRi4F/kUHhOuEeQPrw7YDCsKkQbjBAIEjAPrAd/9TPoj9vL0nfNX8uTxv/DM7qXsPekv5u7m9uYE51bm0+Uq5Jzl8+WD6GTpZem96gXsE+1V8a/yCPXI93n0xfJ9960TZRxUKGsjog/6G8EgGyTaKwwyZTouRKM/jTNFMMc2jDYvNiAqNh/XG/ccVxzJF2YUHghJ/1/17OkW5gPof+gx6RjiQtVl0YLPENFe037Tr9RN2BfbbdyN3y7kN+ry7VbuSe5o84n9awg3D3APcA1YDWwPIxF7FEQWshrlG1QYrhS3EfwRwhJ3EPALswiaBkkGPwZoA5UA8Px7+Jv0XvLX8FTvLu827sXryegW50fmBOdY5wrmiOV05SHlCOfy5yTraOzp7c3umfCu8ir0hvcO+ln9xvr+81v49BAlGSolJSM6EUccqR6cH9AmDy6YNPY65TnzLqQwbjWDNNIyhibiG34YRRzaG6UY1RRbClICXfaL6mrmMeq77PnrAeLs1v7TQdSS1B3VIdQy1lbaptsK21DfoOYi7BDvkutE7Db0Dv+CB3YLTAw/DdIOjg4oDwAQexYWG0IajhZbEvIR2xK5EQAOwAqRCP4HogbiASYA6v53/UX4UvFb7kzuSO9Z7mbs8eik6NnnH+Y45TblI+eX50DoDOf25+7rTe3E76vv7/GR89X2E/ln+en+Jf2r/kj5iPliDqEZzx4UIzcXohZyIfMcuiDWKScv9jXANB0sIyu8MOYz6C7xJa4eHhn7GXgahhQDFFgQiATp/UTwy+qF7sLun+1d58PewNpB2hnYVta8167ZmN2m3oPe8uEe5nnq9OoY6hrrlvKX/PoCjQWhBjIIkAgkCRUIAwvFEIsW2RZVEjMQ2Q8yEcgPtgqTCDIJSgk5B4IEMAHA/0b+gPmB9OjxSfLX8mnxh+4L7N7qM+kB6UPoTeiz6prsq+u06v7qUu7Q8CXzXvLg8wv2WPld+nj8DP98/+wAYfbc/5cN1RfOHn8bRRH3FuoePRepHGsh4SZQL4wwriVuJ2wqKCp+KPUflRmTGZEc1RhZFrIUIg8iC2QCQ/W18WzzEfR/8sHssOWz46zihN1s29zZZ9xE4V7hZN9V4QXmGupz7AvqWuov8Lb2Mfvv/Bf+GQJCBpgFIAVUBfYJew4aDyANRws+DPsNgw0BChUIjgjtB54GBwTSAVwBrACz/mX5OfWJ9e31IvU18tnvSe8P73Tt2e237dDs7+4v75vtYO+88CH0/vSU9QP2+fd895v6MP1H/kD+2vxK/X//YRMHEkkXUBloDVkVrRhmFrMZAiA/I4EoeCinIdAg8iX3IuAgmBpwFwQXMxi/FqsRWhOpEDsJBQKT+YD2//gf9wv4KPMH7b3sP+i/4uHh0OLf5LTnfuYn5QnmGOma66Drkut97LDv2PJi9Qb3BPry/T//1/73/SoBhgKgBoAIewbfB9AJVQr8CCAJHAhuB+QG5gQpA/sC4gPdAt0AvP2O+xX3ffV69FLzaPVK9v31l/M681XzEPFX8hbxh/Hg89j1KfZJ9R75m/kg+iD6o/uh+6/9NACI/8QCqv9sApQKEQ3sEBEWZBGhD8YXmhObFkgaJxpLIZgigB8kINoe6B5cH9IY5xb7FfIUbhZ+Eq0P/g4FC40HVf88+3P6APcF+M30ZPDi71vt1une5p3kTuWk5pbmMedJ5j7of+x36yHrYetn7BnvfPC58RT21fkl/HX+Qf4p/gv+dgGDAs0DfwU2CGkLAQdgCBwH6wOJBgQD8/+oB7kDcgFHBan/gf02+n/7lvlV+Bb5/foZ+nn5mPS390772PHw9/333vPx9ob7Wf0J+ab5If/v/wn0TPrCAJD9BACt/FcCQwV+BjsJfQ/oCt8M6REcDh8S/BI9FewXBRogGsUa9Bo/GgYaBRmzEg0VHBYGEuQSrw8EDxIP2gk2BZADKQEsAP38qvqC9yT1nfOs8KDtFuzZ6pfqFOto6vfqE+lB6vvriOkJ6/HsHO7q8PHxD/KV9X/4UPng+Pv7if29+vz/XAC0/+sFPAZMAzMEDAezA3kEwAIyBXMJngDM/h8LMgPo+KYI9gLm9or6oQd0+Aj3nQJ79+r7aP3M+Jf0ygE4/EzvXAEh/n/2g/0x/2v48/WuAaX/fPyD/pP9if3LAvf+y/6WAhj+nAowC7wIKgzDCscO7w2pCpQOnxOyFEMVEReSGF4WcBdiFMAQExPPELwPsRF2DtAN1w/pCsYGRQZVApL/fP2I+2/5Ovgw+dz2vvOe8/vwk+5M7a/s6e1r75DvOe3v7TDwWO6f7ZnxbvLG8O71z/V48Yn2TPnf+LT8tftk/Wj67wHsAxr5PgMXBoECfABPC5T/MvyACtr/Jwie+gcAEBIm+SD7bANrAAb9i/86/mb45/zfBdf94PtnBGvz0/hiAhz5lfmH/B/9vwnD+fnzPgOG/Pf6XwGt96H+ggl59AkISwWK+8YLPAARAyoGXwTTCKgKxQm/Cy8LfQu/DFYQnwzbC/4SQgsKEKkQ7gh5EY4OBAqdDdwJjAdIC+4HKAQHBiIEGgOfASYBPAEO/eb6x/rT+PT3HPVP9/37z/L08nn2f/F87/31jvFl8Sv3fvA59yT07fOH/AX4I/TK/VX0dvuoA6bvCwU6BzX4qgBtA3kCI/v7ARwD3vgyB/cEhgAw/FcEdv87+RoP6/Nn/WEE/QKBARzxUgnh/WPz+P8JBjf2ffKGC4sCJ/TP9o4DCgVG6ykDGQua8kwA7QWzAhL42gMqCPf+pAINAMcFJwiFACUFcA7v/C4HgA0E+4kO8ggN/lkSsAXkA4EPOwLtA2AM6ge8BZkGKAu6BVIE4Q0HBZoBowtKB0T/JgM7A2EEIQPV/1IE3v56/wv9RPzn++r7n/4f+Df4lvlX+T767fNN/5f7vfE2/AH59vlM8r/8cv9j+ZD9nve5/qoE9O8k+IoUseCUA/Ua/dTTEMsOw98LEqsDRuOeEvH79++sEvnmrAXtCwDjCQroB6/o5QJp/yf6EfhI/08CmPPtDt/zPPadDjH1WfzMBov68QLHAMoFHAfe9msF9hDX8Xz/XRQU+xEFbg28BnX+SgSZDMcIS/cUB7sVlvmZ/voQowkX+WEA3xRy9+72mQ4DAVr/KAJsCQ36NgQwAs/23gfu/+P9owB+Bar5a/w3EQv4kfZfDsf3twI+Anj9Xgl4+KQBFwlT+yz73wUg/7ABff2M/ksEnvwxAFsBuv8l9joGvv3m+KkCuv00A+Ls4BHr/HLrvQ3I9jT7/PpYAXP5bfvHA5TxpAGrBIHobgt1+uT1wgLc8v8OBPPw9uwJtPgr9QUOrv656roYGAMH5nIWFvqH8X4f6u6X+tIcxuvKCYMKXe0CFNkChvYaDY/9UwL7AzcBhwbX+JYH3gGR+5MALwid9CQJmwer6AwTRACP7X0NmgBH+2MCX/f+C4L9Ru1YFb35V/cHDv73tfyuBZ4CRvXvBHQG3fdHApULffp6/HgQLflV+pYMEf1a+ToT8P4C9AkVmAFA8UIV0f8a7gQWl/zK9jkLxwwr6n0JxAu66gYP3PJwCMH3PPtiDRvqvhSl7ljsvyVo3O/3mRy93mP/HxcW59T5YQdK8rQL6/Gf+roJnvPZCBb5tvfuEszywfmQDaUCleY1F80LN96cGmMDnvOdDM76aAUEAzTwZRnC+kbvRhiLB+rhkR39A6rfsiQU98vq2xayAJHysAxO/5311Qmv+ID/BwYn8ZkNLP+17+INOQPU7P0HjRaW43T6YiAR62v7PBDy/B79nv6+EZbwqwWdDbbxUBDM+6EEWAAXA44SDPBKBpYPzfYI/bgTOvVJAuQOM+7bEefzxQIEC0jhvBwb9+/nQxO3+NX4Svb6C6PqRvtwD/bdbxCD8Rz7zg/14BcFbA3b5ngC3BD/5TsQwAJQ7ggQo/4F+cMBnAXEDELtiQwKD1bohhL0Atz9efNLFXcCZ+40FTn3gAhA/xXzEQ2JCynpVPy1G8rrMvoSGVro6gaNB0LsxQ3I+Cz2GAlABOzyyAV8CEzxuQhEADzxMxAUA+v2BgZZBBj8ngs39mYDNQw280gNPft5Csj7g//OCyEJKPGG/VUdgekFBcEPt/MRA+EHsv0e/UsFEf+nALACnvsk/fYFvvqn+p8Ofe++ADIRCdvtEv0aKbtOKXYQIMfpHasRDs1nFW0Ww8z5JEfuM/3RAbH87wtL4ywOqxF331gKowuv7/3+ig/y/xTnVBxJ+NP4Lv0NEjH1Yvq3Evj0OwYi/PsEcgY484gS4e+NAhYXEuBSFP4DFvA5B94JjOZIEdf+4utRG1HmfAZVCfDmDROV+8zuaxeN70kARgoZ7aAOyQZh6BoWJgpH4HUbEA1r3vUWtQ2V6M4WxQbv8GERGgro70IJaBDa6roKhBiD528H0Q0M+SIBYf8p/5IDNP18+VEQy+0e/9YQJPLs76YSX/h07+IHHv1kAYHueQ3k9Y76YAhJ5k8U+fzj588Vcv9f6+AOVQdB668HlQiJ+D35uwvb/DsCXAHw/RP68wiyD0LZKRsyEYDSTB7bBmvkPxry6pcMWwEe7gcVC+hSFor1P/eDFFruZgR7AwMEe+p6Hg7zSukiNwTYFAC9H5/fMBYx/Gb3wRKc7w8O3P2s/5gChQCX++gH0QiZ5uAbnfld9+URf/Zy/GAK7QqE7JYJJwuh+qwE/vdcCx8Fh+qRGWv/A99tI+r+UeAuHA/4mOmWIpXbyALkFr7ciA68+E/8nwC26akYFOly++EWWdNlHGsCAtmVIn/9mNipLtroSvHOHanjpRtA7zz9jRrp2oAgEv813iw4Ld/D/AEhFuP4CjINK+6jD28E3u8mGTHwvQiXBP7rcyBh6SQByw07+XIC8fnnEezxefs/DN78Sfb3/wQLdPvx75cfJOs17s4pjd7V8W8p1Orf6Xwm9u2G+TcUf/J39GUadfSC8uYbkPdW9LQQUhLy4AEGmB6z5TkFwxkj3mcXGg673pMYygjd5OAGAx7A2//1NS3B3Oz2Vxsc5+wB+QOl8eH/9gVT7BoFnAs75YoK7Ahi45QRtATa4u0e9vTJ7qYZrPI0AzUJpPQtDLb/FPPhFuH4ofPdG/n5geraHwb/8eETHHMMv+Qs/xwj1OX19GUnt+mY8bscYPvm5+Idu/mp6zwfCPKv+IEOt/mjBSn6zwPMB1PxDAsNCubtoghUCenvOg9r+J/9tg0t7U0NuvuX+ZgGrPdMBtL6DQEf9wkENQdq50oTTfUR/OsLbO0lCVL+ofv8+xkIZvdzAFMEIvRdDCb6HvuIAHkFDgHu8P4OyPyJ+TkK2vhuBKD16RDT99r28xPa8zQH9fmlBij9sQHSB7fsyhEmAlDymgqzBYv8afqxChX/SPg9AAQIeAFg9WYLKwLT+8L8hwQLAF38BQgA+XECKgbL9eEJ9f9b9vYHKv5P+QwIGP2T9mgNsPkZ/y0BhvcXCBX6CAGK//j4yQk4+IgAxQJh/CEAOgDJBVD8nPj4B3sEvvV4Cbj8Cf5yDLn0OgOUCzntuw6wBq3xfAcBApIAJ/wYCIr7EwEJAEn++gBk/q79uPqUCy315/lOCMn1Of4YA2X8xvir/LAHdPoZ9vUEyQA7/hv6Bv22B1f89/jvAxIKi/jd+MUNZwIF9v8E0gTFATgAcv2QCpIDK/kMBWILRfdN/4EQTPmN/+UMcfhDBO0JqvudABUHDQLJ/KsB5ATMABIA0AAHAdcFqPhmANQEsPss/+394QHL+/ABv/0K+jcISvV8+94E+Pgp/Ob+qQS6+sj9V/7w/+n/lfb1BNj+aPuZAhgBlP0lARcE3/3U+0MGJf5W+G0LAAA2/AII3v/M/WcCIgCS/LcDrQB7/h0FVP0sA3MAygD5AA/54wW9APv5YAOnAK8AkwPg+B0AFAAD/j8ACv2t/ur+z//A/VEApvxr/KsAXf88/tf9T/y5A8X9uP7lA2P5ZAP0AIj7GQJhAvP9QwOxBHr+L//OA1gCIAFzAgkBFwZ+/R8DOQaR/1EDfAISAQUBIQBaAX0EVAGoAdEAc/5BAewBKv3hARwCav3RAaH/iPx6/RUDTv9l+OoBzf92+0wAr/7o++H/S/9k+4j+Bf9U/kgAdv7C/ToCFf3C/jQDT/6a/WgD1wFK/zUBIwLSAoT+wwK9ASn/jwQqAUEA5QLBADX/qAK3AWn+3QHpAUL/Z/+i/nABQwAc/eIBRP+G/WoA7/5n/qT+p//v/Tb8nv9iAFP+Gf//AgH+4v0vAn/9wAD8AGT/EgJAAYoBW/8EArADI//TAGIAHgCQALcCIwJvAM4BdQCXAET/O/4YAXACrP8lACABH/83/9QARgC2/c/+TwGI/pj+wwBD/4v+mQCj/mT9ZAAB/yf/kQBd/zX/7f7VAZH+Hf3AA3v/pP3JAcQBvv07/ygD6/87/4ICawBxAA4Bbf8HAyAAbQBVAYn/OAL5AHYAOwG3Ae3/CwH5/hgAWwKz/fEACwHa/bH/8f4VAGz+Hv1y/9L8Jv0l/4P8S/yf/6z7Hvym/O77ovxI/Ln+mPzM/Iz+C/+y+8UAIQBW+8ECywHj/jQDrAIKAxQFHwI9AwUFOwSqA4AIowW/AxMIMAbsBEkFpgV9BHQFJARSA6cDBwSRAVIBMAI4/qL9ZP76/PD8MPyQ+1D73Pie+cL4KPgo+ej5MvlJ+Bf6ifgv+k/7u/v7/JT8e/5c/ir/JAEpAf8CwQPSArMEYgVBBD4IYAiRBFoIPQfPBAEIxAUFBV8GcgacAl0CBgTDAOj/ZwHr/jj8x/57/Kv7kPyX+kD7Mvm4+Eb6y/gE+l75rvv1+Rr5m/2Q+fb7mf8/+xH/FQEM/WsB/gI/AEUDvQO6AuADkwSVBWIDvgXrBtMBRAVTBxEBhwSQBaQCJwNeAhcCXwEEAYoA+v9QALj/xP1G/+T9kv3G/D7+7v3O+5/96Pu4/a/8XfvO/tz8XPtY/4X9W/5bAI398P/V/+r9jAGs/3ABjgKc/1cDdgIqATEDwQP7AS8DowMFAhkEVgOBBSgD5gG8BKcA6wHWAgkCJQGmAdMB9P1HAF3+KP6y/6r6AP4M/Qr5Nf1a/OH54Po9+pX5LvrQ+Mj69vrS+j79N/l/+7b8rPzY/QD+lf69AC0AWf/VA/UBRATFBc8D4AQRBZcEHweHBmkHdwdtB2EH4wRXBhYG/gU2BBgFcAUAAYMDBwQOAMkBrf9I/jP+Bf2v/ZD8U/1r/Pb6Hfyv+vL5bPtQ+5n6Pv22+7b6Cf8D/ET9Xf9O/AX/oQDr/rP/4QDQAfz/pgG2AQ8AnAJrAY8B+gFDASECQwE/AVcBcgA+AWMBtAAmAcgADQCQASkAIAAAAJgBqQBR/z0CVP5kAQMAVf+0AFz+5gF6/4D+eAEt//7+DABq/zf+jP+z/6H9oADf/nT+5v61/1v+S/4gAIz9if+n/6L/6v8w/5IBtwAO/zoBDAAjARoCEAEyAkYCggACAVIClQBUAQwBkQEsAO7/8gFE/mkARgFz/QcAL/4f/rD+g/6D/zv+gv6+/h7+dP4aAKf9YQArAPP95wBzAAAAxv9fA6UAAwDvAzv/2wLkAgX/HgTbAXgA4ALWANsARAENADIB7f9j/vcAL/5Y/lIAevxd/7X+UPwb/8z8Af9R/iX9Zf+T/pX9AABMAFb+FQGgAOj/gwGoAe0AgwKcAhsBOgJqAtsA3QIkAZsA3AHu/43/AQD2/2/98P+u/c78Cf8V/Db+e/4o/I79A/7v/WP9+v7oAMv9cAF5AKz/DwQLAIwClgVNAXkDXQTZApIEdAOCBFwDQAOBAvQB7QH0ABUCYf8IAFEAiP3g/n/+R/3Y/RL8k/zM+4v8//vO/Ab9i/xw/X38uv1M/Yn+K/91/i4AtQH0/lgCuAKtAFUDugHiAdYDzwH9AqoEOwL8AyMCjgHbAt3/cQEnAVH+fwF2/8T85v/b/d77kP44/Gn7pP15/HP9Ef38/In9z/1G/hX+pf9K/3IAvAKJADkCTwPdAcICbASLA6YCyAS3A9sBxAWAAxABRwUsAmgAlgHIAE8AYwDQ/+P+uP6i/f/8O/7P/Cj8jP3M+1r8Gfz7/Mb9zPyx/oX8vf3//sv+lv9oAGoBAwBDAn4BpQBAAo0DSwPxAOQDtQNzAWwDUQIpAlwC5gD4AfgAlf9gAVQAz/59/9L+wv16/oX+Jf2K/Zj+oP0o/W3+ePxU/hH+s/x2/2T9iP/2//390wDo/y3/vAF2APwAGwLlALECtQHmAccCDwJAA1UCZwH/Av0BNgEwAw0B5QFIAXoA3AEqAM4A1ABMABkAB/8IAHr/if4AAEn+wP4L/6f9P/45/vD9dP3b/cr99vzl/V3/Yf2p/Yn/d/2g/RYAi/6P/lsBZgBC/+AASwGk/zkBpQIdAHsBIwPZAPcBlAJNAb0BNAF/AQIBoAAKAcwAMwFEAAQAEAB5AND+Nv/uAK/9gf/JABj+//6m/6H/sv6Z/5D/Tf8dALj+SQAYACP/2f9BAD3/uv5BAZb/Yv5IAZf/5v5hAKn/rP+t/0cAnf/t/9cAFAAZAEcBWAB3AFoB0gCmAaUA7QEKAq4AUQLTAW8BAgIaAbYCqQD2AIcCi//LANEAx//+/vn/Hv83/oj+GP71/c38Cf6f/AH9B/4J/G7+1/2C/Jn+d/6R/iz/1P4HAAIBkAC2AF0CQQJjARECIQPuAoIBYwPtAnECcgLCAUwC8wAoASoBOAD2/4QApf9L/oH/dv6W/Rj/1P2b/YT+fP08/V3+SP6P/cz+Jf82/jb/KAAi/yAAJQF4//sA3QCqAPEB0wAGATQCgQFcAMEBgAELAGABzgHe/6AAhQG0/0wApAHJ/hMAygBx/nwABwB4//f/jAB8/0v/LAHV/rP/uwGQ/j4ARgHb/b8AJgGq/Y8AEAHd/cn/1gCv/hb/NwBH/yb+5/+1/8H97v+6/y/+KgCS/xL/8/96/xEA3/+kAEUA/v9bAZEAfgBFAWIB7gBmAU8BqACgAQsBtgDCAakAfAACAWkA+//rAKz/hv90AMf+f//7/oj/8v4V/vP/Iv6Y/q//NP42/5L/mv67/6b//f5kAPv/ff+JAOD/MAA0AGsAxwDk//IAWgBCAMUAHwC9AIcAiwCaABYAowCuAJn/sgDNAJn/HwFiAAAACgFCAKYAxADB/7AA8AAqAMEAagCVAK8AHACMAGgADgBTAML/HgCI/3n/AgDM/k4AGf+0/j8AMf6N/gsA6f7n/qD/uv+j/jn/oQCl/vT/VADy/k4A/v/x/9sATwBTAMYAiABfANwAlwCoACMB+ACFAOb/pAGv/x4A9wHI/ksAWwEJ/7v/ngBT/1P/NQBP/4r+x/+H/0f+j//c/839Vv/F/6j98f9t/zz+gQCH/6f+BwBaAAv/gwDCAPH/4QBvANgAMwDiALkAoQCsAbn/ywGfAZX/4AHjAIcAKAHPAKkArQANAcj/8AAJAY3/FwDZAEf/Pf/iAN3+k/8OADH/l/+i/s//Zv+s/sL/Pf8t/9P/6f9V/+X/3v8V/yYAFQDf/9j/ngBcAH//awHM/5f/awGj/7j/pQACAIf/awCQAGn/RAA+AF//MgBNACr/gwAbABD/mQDj/6P/4f9kANH/2/9qALn/LABAALv/OQA6AN3/vP86AM7/dv8dANf/1P84/zcAWP9I/5EAGf8WAF0AYP9sAM//NACfANH/5gBrAF8AtwCiANgAugD+AO4AjQA3AfsALwB5AdoAIgAvAX8A+v+TAEEAAwAcAM3/qf+H/2n/xP/v/rD/gf9m/tX/9f7J/rT/Ev9T/7r/P/+d/93/bf8PACoAd/9NAIAAp/9pAJMA6v8qAMQARQAZALgAKgBUAGwA9f9rAGgADwBwAFUA/f+0/zsALQBb/xwABgB//8r/2P+x/8X/sv/+/4X/o//1/2P/aQC5/8T/cQCD/+D/6/+z/wwAev/Q/6kA9/4lAMgA4v6UAE4AYP9xAAEAJAAzAEUAqACp/1cAZADA/3UAdwDy/wsAvwCp/0AAjwBP/zwATADR/0sAqgCe/zwApwCw/0wAbQDM//H/PwD3/83/VwDo/8X/cwC1/+T/bgC5/w4AUQBg/2YARQBa/7sANgB3/2cAJQDH/zgAOgBPAAYAEwBLAAIADwBRANr/2v8uALD/x//7/9v/if8AANb/4v7H//n/nP+V/x0A/P8u/yoAzP84/6YAIwBz/5oA8v+e/4UAHAAmADwAQwA8AD8A3gD+/1kAUAGy/z8AvwBv/5oAWADm/7AA+P/E/3wA3v+8/0EA8P8TANb/KwAAAK3/TgAIAL//RQAZAAIA5/9JAOj/N//KAO//P/+kAOP/df9FAOT/xP/3//f/6//K/wEA5/84AGIAxf9vAFMAtv+bAEAAHACrAFkAOQBjAH4AIQAlAGIAy/8vANgA4P/e/6IABADm/0cAGQCe/73/bQCv/6v/ZQBc/5T/HgDy/nX/3f8E/3P/t/82/3j/jv+L/1//qv9R/0v//f+A/5H/FAAXAJ3/EwAjAB0ARwCJAKsAYgCEAEkArQCQAE0A3ABjAC0AZgBDAD8A5f8rADgAnP/K/8r/cv/V/1//pP/G/zb/6v+j/5n/3P/v/5//ov/2/9D/qv8/ADkA4/+WAO//YgBkABcAqAAtAIIAiwBAAMcAmwAzAPgASQByAL4A4f/TAP3/TQC6AKn/ewAuABsAeQDE/yYAMwCl/2MA/P+1/70AuP8KAGQAl////8L/HwDT/8v/eAA//8r/UwDk/gcA5f9Q/1AAcf/E/+//d/+y/77/rP+q/8P/AADK/+n/+v+K/xAAEAAZAE0AMABOABgAjwBaAOz/twAKAOn/bgDh/+b/IgAfANX/+f8PAID/uf/g/23/FAAWAJX/QACH/13/MgBk/8P/BgCs//H/3v8GANj/UAALAA4AZQD7/ycAqQBaAEsArQAHAF4AlgABAHcA0wAIAJEAnwAGAD0ASAAnALv/gQAXAMT/oQDY/8D/mwDC/xkAuABs/3sAOwCe/1IAwP/0/93/z//s/7j/QADc/6H/VgCB/47/UgAr/zcAFABl/14An//2//n/BgAVALv/SwDW/9j/XgDz/xQAkwAIAC8AUQAVADkA+/9KAAgAGABXAML/RQA0AHT/HwDP/3j/HgCq/6T/rP/7/0D/Xf8LAPf+Yv/s/17/Y/8rALj/k/9cANb/lf9gAPf/wv+bAC4A7v/HAFEA2/+5ABUABgCVAB0AfQCaAHYAUABaAGMA//9GAGsAv/9UAHEA5v9xAAYA8f/V/6L/QgDk//H/XQDZ/0AADgCd/1EAyf+4//z/4P8DAOj/WQA3AKv/WADi/3f/YgDM/+X/oQAfAFgAbgARAH8A9f8EAFgAm/9rAE0ACQBsAPX/IwCo/7r/DwBf/+n/1/+b/w0AXf/Z/7v/ev/c/5P/tv9VAMz/1P9oALP/QQAAAB4AOAAiAHcABwAxABoAGAANAPT/5f8BALj/w//0/7r/2P/+/7z/vP+6/8P/vv+y/xoAsv9EAC8Axf+oAPn/8f93AL3//v87AA8APgBVAH4AOAAyAEkA2f8cAFQAtP9eAG0ADQBmAMf/OgAUABoAbQAaAE0AHgAfAHIALwAaAEIA+f8cADAAMgA4AGgAPQAEAA0As//A/wsAzv/9/+X/q/++/8//df+J/6v/X/+1/6L/yP/i/zUA2v8GAP3/ov9SAOb/EACOAGcATACEAEEADgA+AAQADAArAD0A7/8vAEgAkf/W/+f/SP/f/9f/a/8bAA4Apv/m/wcAm//t/1MA3/9JAIoADABfAHEAz/9jAHQA5P9aAPb/o/8EAOP/mf/r/5r/gv/R/3f/1v/8/wgALwAuAOL/FAAPAPX/PwD5/xoAZQAoABEAEwANAAMAIAAFAOT/FAAFABcA//89AAEACQAsAO7//P/n/8//2f/y/7j/yv/b/+7/5P8dAAUA4//q//X/5P/c/wcALAA2AG0AbQAQAG0ACwDi/z8ACgDb/z4AFwCO/2EA8/+E/wYA6P8HAGsAQQCUAPUA6QAEAZwAAwB7AMYAMgFCAboAOACq/9X+Y/4O/m/+1f5T/iD+2v1K/SD9A/5K/jYADQCg/7MATQGyAbEAnQDvBOIO9hHQDRAGxvsO+uL+0QKRBpEFwQBQ/gn8nfdO9KXydPNP9bL3CvdH99H78v02/wX/kvpE+hX+qgJiCSYN3QtyCskHaQVHBYQE7wQXB0EHpQa0BPYAy/4//aD7BPy3+8366vuX/LT8yPy4+n76MftH+4/8l/1w/m8ARgFMAQYCRAFcAeMBcgFJAg4D8gKZA3EDZQIcAu0A+/9zACQA5v/d/7z/8v8cAHL/x/71/Wb9p/0O/rD+K/+z/y3+PP3y+0n8twBXBUEGmwQbAHD8i/4LALQCbQXoBD4ENQQiA4ICQgLa/8z/Yf+//IL78PrL+6r+RP/X/Wn7CPks9w74xvmP/F3/6gHOAfP/hf7J/YL/DwJeA/IC7wIVA4wCpAEzAcv/Nv8u/qv4dP0IBwIP/BOkDM8B5AHoAOYEDwwmCnwMHg1hCPsIiQTo/Eb9D/sa+sb6p/b39i761vgV+c73CfTs8/L05veE/qQCrwNcBOsDFgK5AVUBZQLvBCgFFgRqA6EB3P++/0n9p/vK+aj3kvm0+2b7pvqX9/j0gfWR9Qf3Rfui/XIB2AI+/yT6wfbT9P34m/pJ+wb8DPsq+3b5aPmD9av2hvQK9ar03fn2/38EYwelAO0TuSoYPtc/rCqWGHMd1SDcKO0wrCfUJ/YeQhA3COH4Gulu6tDmJ+T03LvPYNDU04nWg9Z51fXTjtaj3pntSPtWBxUNdREJGeIZ5hoaIegmHjA+NYAutSlJISkYJBOkCA7+XPYY7sTq0+e04fXdbNm61qTWnNWU1+3bBOTM7VX1uvkx/EkBVAi6DgoUwBgDG8YdShzKGXEYrRQqEYcM4ga5Ajr9ovcE83fsx+dZ5HHhl+FP4dzgRONd4+LkSuWR6CHrs/EC97D6a//dBKcJPQwpEQUVIzCPRXdLJEOOK5se/SOrJ2QrMjJuJ8IjhRs9Ccv+6e3F323im9/a2j7ZBNKE1RHazdfy1l/Wq9hT4tHvQf7yCNMOxxJ6FQAZhhxcHnEkEyiBKRopxSKdHA0VFQxEBfT9bvUQ8drrf+jv5QXi899d3wThoeGd4ijmI+u880v8fwCwBekIUgoFDUEOqBBpFBQUcxQHE2UOeQqYA0b/nfxW+Pb0nPF57H7pQOYY5JbkYuF8333gw+Ek5wfqb+8Q8crzPfOB8kv21v49COgNFhFbDYwsikhoW4dXcTVJIckk7CbgLRw48S5FMzAqmBPtBUvu2dgU247a+tny2PvLfs100O7Nycs/yx/OydZV5AH1zwSxDxUUtxfRG78dxRw3JGorgjJrNcAugyhfIJ4WKwv9/7H0W+3Q6i3sKuvZ5ZPdldYN1/zYJNx84Yzmn/Hn+sD+vAP1BCIJ9Q9WEYUTZRcvFzsbXhkmFHQPLAbVAHP91/oN+gP3dPFV7STmv9//28vZbtxm3nXf5OBP4Kbi5eI+5/ToA+768Zj5S/5vAn8HwAyjFSkSIh2mMfRTs2baWQE8bSlOJjorjzTYM/834DCrIWcRYv0n5ybYk9HP0xTXONDbzJjM2c3bynTI+Mjy0Bjd2Oq5/FELuxLHFtcXYxsfHnchoSUCLnQxbjGLLW8k/ByoEEgFbfvJ9QDzR/NK8bbrZOLB1/LT6dX43aHl+epn793x3fUm+OP6NgHfB2gP6hSgFRgVARbTE1kULBK6De8J1AORAE//3/2m+gH0KOxw5kzjYOAT4XngoOCp4Ave69554N3jrefF7Lbv3PFb9C/6i/+wBg4NtQ8vE5ALQgjvIK0/FlYbWeg4TilJJ7YgHCvMLbcryjHvKIIXcQ0d87jjROVU4d/kzdxv1sDW3ti01rPVPteD2UvemufW9a0Dcg3WD80P5RByDuYP0BWRHosmCicBItwYqhGyCvAFrALh/Uz5svZZ8+jwYOxo5nXlpOVP6EHpWOmK7vfzPfrR+w749vcO+08AlAbqCJYIsQuYCSQJdAfGBHIF3wM6Apj/zPp59Vnx6u+V78rtAelN5FziieJm46jkM+du6Fzqm+qH6yTvtfT/+14AbwVyCFUKSgvoB2UNRStpRVRWsU3ULugjSCXTKKoz5zdSMKA1ZyddGE4Op/fQ7SLtLOm240bhYNUH2mLb2tbM1tjTPNTK2gjkwu/r+n0AtQMQBzMIJAoJC+YQTxkkH2Qj3yDzHCgWrQ6vCIUFlgTNBccE4wFY/EX0FfBm7QbuNe1q6x3rJOz48LfzAPMP85XyAvX4+dj7mf6zAmQEtAeXBrUEyAQBA5QDmAIkAcr+//rM9fXz2u9z7JLqwOdu6ZHnBuUQ5ZPlaOiL6JHpwugT7Z/ytPdH/Pv+vgEOADwHkvgCDBUrZk6caitVKDKjJCYm9yyIQhc+gEZLStg2YCjsEjP4YO/X6qLp7elw3ILTn9Kd0SvMVcQHwCPEa8r/1HXiBfG6+pL9qvqC/iwBJwj8EmAfRylQLekqOiVUJL0fQRqyFIUReBAWEJ8LAATj++Dyxu1H6dHmbORw4aPkpOaf5ibl6uIC52zu8fCO8z731fuKBDYHkQdvCGwILQvODKMMmQl0BdEBsf5++x74QvMZ71rtOOng6Jjlx+K/4l7jNOMg5EDj1+dD7An1KvWH96D7VwANBYME9/qABn4tZku6Ze9S+i3SKmUq7zQWSV5CkEjrTT0/dTGjHtsADvrK+DnvJO742VTVGtTM0YDKycAovszAsMX/zcTZFuPv7Efv/O+I9Qr4cwF6D1QdcynzLC4quiYqJKEhEiDVHDgblxoCGdMUowxyA6v31u6T5kvhe+Ho4Tzkv+Lo3JzYeNgf3vLnbO2x8cz3rPtRAa4CGAMqCNIOSxW7F3QV3g8xChkGLwP+AJX+XvqA9qH02PD87DjmbN/U3aHdyd6E4F/ijeXp59zpCuar52vqm/Wo+u4BWvh4CwIupUkVXwJDHitzLPM0okRfUqhK01TtVcZFGzhbHRsGZQLK/o/6BvbH4bDbu9c70eXIV70UuIW7G8FSy7LVcd445HrlcOct7PzvI/yuCuoagyj8Kbkn1iTbIkwjaSOoIjcmOCfbJOobSQ4jBSL9l/jk8Rzq9uZy5E7jBOGU2kPYEdnu283hK+TF5sXt9/MW/MX/0P+mAnIGvAxpEM0Rkw/PDDwJUAW+AzUCfwCO/FT5r/N57/zo2uTp5CLmpOYN5Z7hTOEe4afjQOJo5S3qhvNM9tT17u6xBPMsHUkeVyc4dyPcK1o3lUyEV8xSyF1ZWK5HXjjNIRQThRQUEIIFgfhH36baB9kK1C7L2b8Wuh+6k7tXwUXKsNSw2lHbK91M4bLml/WNBi0WjyCZHrQc7B+wJGsqgS03LXQtACukJnggqxliFIQMPAXl+mTwg+we6ozpDebd2xLWpdSl1xbe3d/V4oXoqOxu8oL00fa7/ZQFcAy6DmwNXwpLCBAH3gV5BUAEj//B+yD4DPaC8+btX+jJ543muOfb5E/kYeSl5evmNuPd5mXpWfKz8br14fGxFUQ40UsRTpwl/B8JLhNAylBAVSJPKVpwVKRBDTdXIjoZjxoIEJMFwPbS48zhD+IN213PfsLQvMu+7MGGyDbOK9ZC137V79at3HfioPA0/cwJrhMlE/4VYh3DJN0oqSfkIpAkOSe4KGMnsyAQG9cSIwmf/5H2RPNX8Rzu/ugr4sffp9/c3sTeM96q4I7njOqQ7mvy2vVr/PX/sQFbAuwCxgFmAbEATgCKAgYCPwDk+wP4gPQQ83jw9+8176LvM+4/7hjs+eu36+/s0et97ATwdvVt+af2He9kAasjQTvbRBsmhhaIJjM0uUbZSXZCgU/pTv1BHTY+J6Yf9COiHDcNmwEz7vnvwfAV6h3eS9ClypnKz8lmyVzMAdJB1hfUMtH00iHWuOFJ7mr50wMlBaoGJg3uEwAagx09HF4h5CeDJyomoB+gG2oa0hQvDJ0FqQLaAT7/4fY/7vXpcuib527lKeOO5Vjpiusd7U7tAPC39An3F/kM+hP6kPlb+Mn4yfmu/Lb74/g49rn0UfXm9gX3ZPbH9eXzXPOi8i/yjPDU8ePzQfOy9Mr0T/p8+F71yee9AkEkUjyNQY0ZRRTfJZs2Zj+WOy8000dpTLA9ATgvK3kpBSyuHJ4OGAW/95X7+/qB8jjo8dlf1YzVLdIU0R7RK9XA1gHRYcwzzyDTlt+k5rjttfYD+MD6PQH4BioO8RKoEnAYmxxHHBAclhknHAUgFh2HFvcOnAtwCr0IvgP9/gL+qvsT9I/rqeVg6AzwQvDo7cvrkutb7azrBuqw7jD0VfXI8vzvu/Cs9M70xfPE87z1Mvf+9zT32PYm9zP3+vd89iX0nvI99E75X/t6+pP6z/ut+pTym+iw++YcYDjHO/Ac1w98HrstBjjwM/0ua0E6STY/xTV6K70uLTQjJg0UXwnqAIYH8Aa8/CT1bueI4JzcLNiJ12PYgdgO16vSm8zvywnNIdas3cXipedU6jPv/PW2+Dj8ZwBEAvsHHg1fE1kcNiAuH6obBhaSFJsWShlzG+kZRxQZDnsJLQUCAOP4KPWh9uP5dfjM8ivtZus27PPqvefH583q6Oyk7DzqzOnn607tnOwS7dzucPIT9MXyv/Hi8Ujz0faH9sf2BfW896X6Rf1C/Qv6evrZ98r0+vCyBhMi8DpUNn8V4wfzE9kqvzbYMM0rnDsTSY9DxDeeLPIuSjaTKJIXXwzYDKsV0RUjCxP/x/IL6HDh1dxV4DLkd+NE3IXSostryuPJ0s0r0+HZiN8F4NjfN+QO6ozvSfFh8JT1y/+xCa4RRxRtFGsVghO2EGIRABVAGh4eRRoIFXgQIQ2MCpYGdAPDAx4FKQP4/XH4LPfQ+Of2gPEo7TjtkvBX8TPt4Ol06lztbO9b7pruHPGh89fzr/Dj7rzwpvVM+YD7w/os+0L+WAAOAf4A5gDRAqoC4P5K/qsI5Bh8I5IfZw5cBYsJpROLGaMXfBUAHaglAiUaHa8TzRHkFhAW1Q6ZCAsJVBC1FPcQdAg2Aqb+M/wk+LL18vbj+UX7Jvhn8kXuGO2g7RbvnvCR8u30Mfah9Jnzo/Ja8zP1G/bk9hb5tvry+wD8Zfqk+br5+/hl+db6Svyj/sz9gPzq/BX+IgDFAcUAYgCyAM8BIQUKBwcHxQbMBsMHMQkcBw8FbwPwAz4GTgfPBdACsQBbAI8A0f6C+1/4tvcq+CH4rPba9dL17PYy90D1KvNA8xP1j/cg+V/4a/nh+r38tP1A/Tz9U/5w/40BtgIZA1oDAAMCA1EDRwOLA6AEtwRFBUMFFwbdBicHIAf3B0IJhAnCCNgHDgiHCawK9AtaDUwOAA+iDSQNWw0nDgAOpQ3rDOIMKw21C5UKOgqHCf8HWwb3A5MCvgDE/q79K/6I/G75RPdR9i73fPeJ9sX1W/b19WH1X/QD84/yXfM59U34pPm/+VL50fgg+Uj4Jvd49mL34fjt+bD5Xvlm+HL3NPaV9QP2IPYJ9vX15/ZI+Kj4H/gD+An5kPrf+138rPyQ/Z7+AQCeAYMCVANXBO8EuAUCBvYFFAY9BwAHDwaDBB8DWAQBBfwEdwN3Ae8AHwBdAG0BmwLaA7QDCQLKAbMC9QJKBI4FBghYClALXwuTC1MMMA14DS8NKg0PDWMOaQ81EN8P8Q0CC4MIEQYnBSsF2gRxBBMCz/4a/JL6+Pls+a/34Pf2+B36x/mf+O74h/oM+xj6cPm0+i3+wACLAXUAHv6u+0r7Jvxq/EH7EvlA+JL4y/f99bL0YfRj9BXz//Da74LwzPEN8zrz/PKk8zb1RPc9+Sr69/o4/M78+v1K/zIBuANDBY4GRwcQB8MGCQYfBuoGFQcyB2IHKwdrBwEGNQQrA3UB3gBfAAcACAGkAbgBHgLEAFr/hv3C/A//QALtBBAGJgV0BMoEywRgBacG/Qd2CssMfwwnDEALxAoKC+gKAQpZCqkKoArvCYwHiwXTA5oCAwIiAfP/e/9c/wYAmf9Y/r39Nv5X/sn9Iv2k/sABtwNgA5MBYwGBAeYB3QAZ/yX+kv1r/C77H/lh9872N/Vp83Dxwu8m8OjwPfDx7/ruwO4r72nv2vCo88/1sPZN9rT1Jfd8+SL8W/4vAOkBMQPFAlgCaALJApYEKgUIBXgFawbvBtIF+QL4AHQBpwIaBDsEcwPTAmgCwAE8AagAnv91/23/e/9uAIoBSAJXAsgAVv9O/5gAkgJUBL0Fxwb2BvwFMgW0BOoFdQgqCoIK7wnDCI8IwAjOB0kHFQcqBzwHmgbFBUoG5gYmB98GXgXiAyoDIQNMBB0GpAehCGAIVQdwBXQDEAJoAT4B6AALAIr/7v68/eP7TPkw99X13/QT9DDzI/KV8QzxBPFn8ULxRfGU8TPyNvNi8z3z+vOj9db3JPlK+dH59Po6/MX9R/60/oj//v9kAIkAggDJANYAOwCL/4X/hADCAcYBoAB9/7j+xv4u/woAWgFaAjECMAGYAMAAzgH7Au0DpgTmBKQEWQT4AxsE3ARMBRwFYARLA18D8QMXBE4DyAGtAKMAHAHzAQEDegNqA58CAQIpAtQCRwQtBoIHrgjMCF8IsQhnCXUKKQxYDQAOFQ5ODbcMFAwCCx4K1AlJCWIIbAYCBKACbAHq/zT+gvxf+2H65fgi92j1JvSx847zh/N587DypfEY8TLx5vHf8t3z0fSM9bf1C/YD9zX4TvnS+eL5PPqE+gL71Pto/Mr80/xv/En8VPx1/PH8Bv39/Jz8PPys/L79Nv+dAGkBZQH9ACUAk/8iAHYBmgOQBX8GowbgBdUEugNJA7kDmgRfBX4FrwTYA/IC1wF9AH7/T//B/yAASgArALD/Vv+g/ir+CP4q/jH/CwHHAuQDiQRRBccGswisCsMMnw6JD4oPwQ5rDt8Olw+VEBURZRBdDqoL+QjNBicF8AN+A74CCgGo/nf8HftV+pj5y/hk+Ln3sfa39Rz1bvX09YL2Efcv9yL3T/cK+Pz4kfl5+An3vPZ29wT55vn7+e35L/k1+P/3aPgu+aH5iPkA+S34lffh98/5afwe/kb+rf3k/F/8f/yO/U7/bwEXAx0EwASuBL0DxwK5AoQDDAVFBgIHTAe4BlsFMQRWA34DvAPHA4cDYwKQAAX/Yv5Q/nD+o/2B/On7DPyf/FH91/2V/mr/JQDyABkCzwP3BbsHUAhVCEMI3QhtCnAMKw7kDicOewy0Cm0JmghICFMIZQjoB7MGDgUqA60BhwDO/2j/F/9F/t38kvvo+pf6R/ry+T/69PrW+438x/yL/KT7yfou+nr6cfuW/ET9BP32+y764Pga+PX3jPhi+av5ZfmT+LP3rPdC+KX49/g/+ez5e/p5+l366Ppg/Bv+Uv80/3L+JP6v/i4AlQE0AlMCngJCA5kDWwPPAuECiQNZBEQEawNQArYB9gHsAWsBlwAbAOX/dv+y/hn+lv4FAIUBtQGeAHb/O/82ALQBnQL+ApEDcwQrBU4F0QSCBAYF6wV8BogGCAaBBVoFOwUoBbkE2QP4ArsCvQLVAuICCQMdA4ACPAE0AEoARAGYAnsD7wMRBP8DkAMeA8wCowKIAhcCsAG2ALz/n/67/fn8mPwh/IX70vol+rv5T/kt+ev4Zvlm+m/74Psv+wb6yvgd+BD4nPj8+er7tf21/mr+K/1a+875MPn1+b77tf3i/9sBlANFBD0EggP6ASsATf7V/LH7oPpS+Xr4W/hI+dP6pvxa/o//gADPAIkAq//i/sX++/8iAogEtQZVCJIJ8QldCXkIsAdxBwYIigitCIYIDQjMBwYHQgYkBeoD+ALWAdcAMQD//77/F//h/cP8Jvwp/J78cf2+/gMA5AA2AeAAVwCm/y7/vv/gAWkFpQi3CdYIXgeUBtIG2wbMBZYDpgBV/hX9Gf0C/uL+Lv/t/mb+i/2H/C77BPrb+ND3zPYt9iL2WPYk90n4iflv+pj61vq4+8T8uP2W/mX//P9//2b+fP0D/Yf86Pvt+hX6zflX+ff4ivil+C75P/pG++j7c/yv/PD8Jv2E/Sv+/f70/74AuQHEApEDHATMA5UDagS3BfgGnwd+B14HMQfrBk8GpQUeBbYEfQTABKsFXQZtBmsFlARkBIoEQAX0BTUGaQY6BmIGRwcTCH0ImAjJCOoIBQnGCNkH6QY5BosFuQSSAxMCtwDH/zf/T/7Z/Dz7Pfrq+bz5cPnZ+EL49vcX+Dn46PeR91335ffW+Gj5gPm0+YT6mfu5/ED9hv3p/aP+J/+g/+z//v9wANkAnAB5/xb+sPzU+4z79/r7+Tf5sfiT+Hj42vcz9+/2efei+Lb5f/qX+rf6Xvts/LD9Wv61/kP/KwDrAJUBygGEAU4BKwGIAd4BgwHqAO4AugE5A2YE3AT3BCkFyAWsBogHeQiWCecKPwwBDTINcg0JDuEOuw8bEP0P9g8PEDIQRBAIEDoPsg2DCx8J8AaIBUoEcQL+/xP9Yfpf+DD3R/aJ9QH1l/RP9DL0FvSz83bzKvM/86fzbvRg9ZT20vfs+Or5d/oJ+4P7Jvzy/Ov98f7r/5YA6wDQACYAef+E/gD+0/2y/aj9Sf2y/Nb7MvvU+q/6xPoR+4X7M/yx/Jf8Ffxj+wv7K/up+//7M/x2/LH8/fwg/Qv9mfxr/JT8+/w8/Uv9af2z/WX+7P5y/y8AFQE4Al8DegTjBaEHYwnbCskLSAwyDTkOHw8VENcQdhGIEUMR3RA8EJ4PkA55DZEM4gv3CpoJ7wdPBpEExwLpAPv+d/0x/BH7D/oj+Rn49Pb19Vn1i/UV9rr2Qved9xr4qPhf+Sr6wvpj++H7bPwF/W39lP2J/dH9Pf4M/4z/Wv8V/+T+1/7m/tP+0v7M/rX+wf5e/pD9wfx0/I38s/y9/Mf82/zE/KD8+/tF+7f6jPoq+/z7Y/y6+736yPls+ZH5vfkA+j36tPoa+8b7cvzu/ET9if2d/b39Xv5f/7oAUAKEA0wECgWrBZwGjgezCMUJmgqhC9IMIA7nDvcOkA7fDS0Nwgx8DCAM5wteC1EK7ghUB9sFwQT0A1gDrQKpAZsA8P9Q/5L+cP0L/LL6jvmz+I345fhu+fz5DfrT+ZX5m/k0+j77JfyY/M38wvwh/d39dP7y/iP/K//6/qv+rv4D/4L/8v+4/xj/X/7r/Qn+Vf6H/iL+o/1R/Tj9Xf1V/ff8PvyA++/6u/rb+gj7Pvs9+xr7wvpG+vz5DfpP+oD6jPqW+tH6m/t8/KL8O/yz+4j7K/xc/XX+Uf/4/34A8ACfAXQCewPPBCEGLwcDCLAIDwlsCXgJjgnNCUUKtgoWC00LSQswC8kKSAp+CawI7QdMB/IGogZBBpYFDwVeBF4DaAJGAVUA0f+V/13/Ef+z/gD+Dv3U+x37A/tp+zD82Pwo/RH9y/yy/PP8j/1b/u7+PP9A/+3+Z/7V/Uz96vy+/MT8F/2G/aL9gv04/bf8PvwI/Cj8i/z3/Cz9K/0W/eD8wfy5/JH8lfxq/F38NvzT+5X7avt8+7f7D/wr/CL8Qvw2/B78BvwP/D/87vy3/f795v2a/Vv9af3t/aL+Qv+a/67/0/9gAAwBBgLLAiADZgN1AwgE3wT4BdgGNQdDByoHYgeWB90HhgguCb4JEgrzCYMJDAmSCCAIqgccB4wGDAarBXEF7wQCBNICbQFAAGH/8P4+/9L/HADe/yv/KP5F/fj8Xv00/t3+Qf8q/7z+B/6E/Tr9A/3z/JP8IPyW+xr7wfp/+kz6G/oL+gn6UvrA+ib7g/us+5H7RPsq+yb7bfvP+/r7+vvr+wL8+vv6+xf8TvyR/Nf8Jf05/VT9V/0s/Rj9X/38/Yv+3v7v/sj+qf6U/nz+iv6n/tP+Gf9I/13/g/+1/wEAVQCiADQB7QHzAvUDvAQrBYMFGAbfBsMHswiSCXMKKgtOC94KQQqtCXMJpQm3CbUJdAnkCEgIWAcBBqcEkwPuArECsgKLAhACXwFlAF7/gv4L/v/9TP6k/qP+Nf6V/Qv9xPzg/Er9u/3r/cr9a/0a/bz8evxP/AX8r/sj+8f6nfqx+rL6dPoF+lz53PjR+EX5xvkn+m36d/ps+l/6YvqN+uP6M/t2+9r7a/wP/WD9d/1p/T79g/0V/or+5P4p/yb/DP/U/or+pv7a/hv/Mf/v/qX+fP6H/sj+NP9x/7r/FwCBABkB/wEEAyAEKAX2BZkGawd6CHEJUwq+CucK1AqNCpAKrArRCrkKVQpvCTcI9gawBbAE3QNJA9wCiwISAl0BoQDG/z3/Af/t/gj/Gv8M/xX/Df/Z/pP+U/5K/nr+4f4o/0f/Hf+u/j7+2P2L/VX9Ov0p/fP8ofxc/Ov7PvuB+un5rfm/+Sn6n/oK+0j7P/vS+hz61/nl+WD6CvuU+w38Vfxg/B780vu/++/7SPzW/Fz9qv3w/Qb+6P27/Wv9Ff3+/N786Pzl/Nb8yfyA/Eb8APz9+038A/3j/cT+w//CAPkBDwP1A7wEnwWpBvgHcQnUCugL3gyhDQIOVA5eDo4OoQ55DiMOQA1LDFwLSwouCfgHkgY1BewD3gL4ARwBLgBC/0v+af3F/DH8vfum+8r7DfxK/Gz8hPyV/KL8lPx+/Gz8YfyO/M386PzY/Kj8UPz7+7/7Yfv7+gv7Tfu6+x/8LvwC/I37HPu9+rn6Dfur+zf8cfxK/Mz7j/t5+3v7gPuX+8f7xPui+6L7ivus++L78vsU/Pv70/vC++z7AvwN/Pr7yfu5+8H7EvyK/AH9Zf3A/S7+xf6o/9sAVQK+AwcFMwZZB8gIUgrSCxENAQ6EDtEOHw9bD68P6A+xDwwP8Q2LDDkL/AmmCHYHLAbqBOsDBwMmAisB5v+I/iD98Psp+8r6svrI+tP6svrR+tr6+PpQ+5L73Psn/KH8Cv2H/eT99v3Q/af9pf2N/bH99P02/l3+Sf4G/qP9Tf0P/d/84/wM/XD9v/26/Z79F/1x/Ab80vsP/EH8Xfxo/Dv86vt9+yr78PoA+zD7Uvse+8D6ZvpJ+nr6ePpS+jD68PkE+lf6d/qt+gX7lPsR/Hz8Bf3t/Rj/WQB0AXUCaQN5BOUFOgd8CJUJgQpVCw4Mfgz3DEENjw2sDZcNcA0dDdEMdgwiDJAL6wooCm4JtgjEB9IGqAWOBFwDNgIGAev/9f4Q/jj9fPzx+4j7V/sM+6n6Yfoo+iP6WfrP+mT73/sm/GP8gvyb/Lj80vwm/W79mP2Y/V79Lf0t/SL9Kv1F/Wz9m/2x/cv9s/1t/SP9IP1Z/Vv9PP33/Jz8LvzG+1P7yvqV+l76JvrW+W75M/k/+Xn5sfna+ff5/vkt+mb6nfr++l/74Ptj/OP8SP2l/Rj+if7b/jL/l/8xAB4BGgIjAzUEJQX7BeUGyAfQCNQJBgssDCYN8Q13Du8OMA9TD0UP+g6XDgsOaA2QDH0LNQrMCC8HpAUwBKwCJQHu/8P+zv0K/UP8hvvV+h36VPnY+Ln4//hs+cb5Hfoq+nb66/pE+6v7GfyW/Ar9cv2g/dP9Gf5t/qb+wP6m/mD+K/7o/c79yv3H/br9qf10/T/9If3c/KT8Svzq+5L7KvvD+nH6HPre+Zn5UPkf+cj4zfju+DX5z/lp+gb7jfv4+zX8hvz9/In9+P0X/in+EP4D/gr+I/6I/s3+Ov+x/zcAAQHoAQkDQQSXBQ8HjQjhCSgLLQxaDZYOow+BEBoRhhGvEZ4RNRF2EFUP3g1WDMMKJQmHBxUGugR5A0EC7gB7/zP+Bv35+xz7WPrW+Wr5H/mz+EH4+ffG95z3nvfC9/z3kvhN+Rv64PqQ+yP8pPzs/FX9sf0V/pT+4/4U/zL/ef9l/2L/Wf9C/z//I//t/o3+Nv7E/Xf9R/3Q/Hr8Rvz3+837VvvF+mn6MPoP+tL5z/m4+bT5+/lU+ob6lvqV+o/6tfrI+tT67voI+wn7JPs5+zv7cvvx+9j8MP64/1MBBgPwBAAH9QjiCsMMrQ6zEJASExRTFTAWfhbDFrIW6xX8FJETvhHeD+ENwguMCVwHAwWwAnIAN/4r/GL6nfgW9/X1D/WW9G70ZfQ99AH0tPOU84jzhfPw8330PfU+9lD3W/il+dj6Ovy//Qn/QAArAe8BhwL1Ak8DhQNwAywD+QLIAmQCwQEpAdsANACQ/+X+Nf7u/cr9cf0X/ab8uvv++hj6XPna+En4G/j89w34KPgx+D/4M/g9+HH4rfgn+XL5oPny+Q36Wvqz+v36oPu1/Pz9u/9kATMDlAUdCNAKQg2YD/MRWRTdFs4YIxrdGj0bSxveGiwaqBjHFsYUdRK+D+QMGAojB0MESQGC/ib8Afot+Kb2YPVD9DzzO/IZ8V7wyu9Q7x7vs+6y7truPO/j76jwl/Hs8sn0vvYL+Vr72P1hALcCkwTuBR4HQQj+CJwJ4wmrCXYJzAi+BzMGhwRCAysCIQHt/8P+u/3K/MT7e/pU+Xn46vf19sn14fRJ9PTzjPM/80vzoPOP84bzuvNI9DX15vVM9pn2Rvce+Mv4Yfkm+vz7a/7dAO4CRwWKCKEMjxCNEzEWSRkpHZMgSyLqInUjKySPJFIjNCAPHcEaLxj2FNAQBQzzB6IEOAHn/fP6RPgg9g/0xfG57xPuvewN64fplegT6H3nnOZT5e3keeWJ5r7n7+gG61fulPKY9mP6+/0CAjoG/QmFDJ4OYRAEEjQTShNpEhMRjQ94DVYL/AiPBpkEuALVAE//wf0T/FH6hPge9yL2HfWN8/rxVvCs7xLv/+3b7ETsZOwu7d/t6e2n7vDvcPEz85r03/Vx96T4Sfqf/BgApQPJBjMJuAvwEE0W0xrfHdsfFyORJ/4q4StTK9cqbCtKK5Uo5iMMHykb3he9E4EOGAmbBE8APPxJ+L/0DfJ976fsIupy6N3mEeU+42/h1eCj4NbfV97a3bjeNeEi5ELmCOm07Cbyhfdp/HMATgVSCvYOABJiE4EUdxXMFREVtBOiEcoPqQ1tC1EJmgdFBowEoAJmAYIAHP/5/PX5WvfF9dzz2fCz7YDqHOld6ETnyeVI5cPld+eh6YzqcOwm7oDwm/I59XX2q/eL+Kb4R/xYABIF8QeZCswNVBVnHaUisSZOKaAuODRWN/o1jzRZM1gyGzBmKmMjHh7oGFoTEQ7JCM8Dkv89+mj1DfMR8bvu+erb5s/jf+In4KvcZdmj1+DXT9ik1+7WkNhc3MXhQOcd7Ofx0PdN/pwD4whzDfUQSxNsFBwVYBVHFY4TFRJAEZUQ+w9wDlIMZAvfC5cLUAoVCAcFkAI9AFH8C/jP8w/wpezN6c3lNOPp4UnhwOGy4rvjMOUm6AjpH+zz7ePvbvGC8wL0dfXN9rb0I/iu+r8CighBDjsQSRdnINQo9jCAMYY1XjiaPdE7ADlHM4EwKC/SKcUjEhx1Ft0RmA3+CJ8FKwIs/YL3ivJE7zbtqejb4l7dx9qt2APW/9GlzwLRrNQT2EnaVN3I4VLoyO499JH5iv55A9kGdgo8DUcQmBKKE1IUWBWoFl0WcxW0E/cSlxImETcOXQqzB44FvQP1AJT9rfoA+FD1zvLd74ftx+rj6CHmzeR04y3inOE/4cjiOORQ56/mzegE6pvsAfCH8kjz7fTr9un1lvsLAUALURN/GjsZGSL9KX8xvzpcNgo4ujh8PHo4YDdJLnos3S2aJ+gkRB2QF4sSHQ8oB8QEKAAL+C3xPOjY4TrgJtsP1o3SjdDY0SnTSdI409PWadvA4SzlBuhw7KvvDvQM+UD9LAJ/B54J3Q2IEpMWgBrVGzsb9xv8HAgblRjtE6QP2g0bC9QGlQJw/if7qfmc9yv1hPMy8b/uKe2A6/LpHeil5dri5+G84Zfh2OGN4cXjs+bB60rt7O/K8N3zh/Uu+SX5+PnN+9r40P0eApYNaBZwH2kf9iX+Ll80tjwHOHU2bDZxODs0GzFSKdklVCioI70glRsPFGMPBgnMAEz9C/gS737m0d161zHZ59Vm09rSJtOA1hXaIdlB2ozeJuLW56Lqd+xV8Nr0kvh9/q4EjQpOEZwTYRa8Gb4cSR7jHMQZLheMFjgTHw/cCTMGmAVcBHMC3/8Z/VH7PPnS9pTzZPE67ajpOud05ArlNeSx41TjpeVc55fp4uq06Tnsr+1y8Kjvi/HW8P3zEvcD+uH6NP1b/cv7IQWMDbkbKiMrJoUh/SpkMhM1CjqyL90wBjP2NNwtNy0bKAEodCzYIp8duhQBC5cA2PoM8tzuuOkU31XZ3NcM2O7aZ9ns1tjYodqV2prYFtff14neG+Oc6FnuHvRy+ygCQAlEEN4XgRm2Gs4ZhhnJGsUZ2hbXFDIUJxNvEhcPhQuvCRkHZgRw/8b5YPQc8Hnt+Oq26RvobedD5wzoduhR6QTp2OdR5z/nZ+ap523nU+kc7Hvwi/PK9rj4Svu++3L/x/8vAAQBUP1e/OwBZBBZGvEpkyZTJm8u9zGlOFE0OS7LKFQv8SvSKBQlFCFUJXkl9CFaGWoQ5wRJ+ufw0ezZ6HXiedv71Z3W9dxC3g/cZNxI3A3eAd4P2hHYFN4L5Kjq7vLC90//ngUpC2sQyhdFGd8YvxVgFHAWsBc9FzUV7xQlFacUPhGpDP4GcQI+/b33FvRI8LPtU+x+7J/tBfA676zty+tn6tTpduhe5gHll+XG5vvpQexc73Py2fQg9z/4gPn0+a/38/ls+nz9tPz3/HP4IAcMGJcjqzKeJrsk2yiZKyQv2yuHJe4jwyxGLKgrTSorJ14qQyfUIIIT3wYB+WbtLOja5wjpXeXp4o/eoOEz5CXhAdsW2DjW5tZn1gHWLdoE5F3uNvaVACgFmgkvCWAJ5wqoEPEQPhA+EcIU8RqBHRMcPRrLGXkW5BB9CDoBlfyU+H/12PNd9EPzjfJB8CXwWvDl7jfrQ+gT5yPncOiA5hro7OlJ7UfvevFa8V3ziPT183j1CfZ5+Gv6NPnp/ef+eQLfAlT83f1pCGAZESX6LTgi5CEQJ9UmkC6gKgonAiuSLpgsEi7zKmYmciWxHEcV9g1sAM/0/uqY6cjufe8P6rLi8d2R3gnemtjB0wzTJdS21+LZ7d3/5QTuw/bP/MsDMgVcBAoCJwWSC4ET5xXYFbIYdhs7HjUcBxiuE2sQ5QrlBVcC8f+x/qD7nPqI+Rb5TfSG7jvqWeoo6gzpmueb5qjp8etc7K/rHe2k64rsHex17EnvKPKY8470Yfg6+0j7o/wB+1z+L/1D/urzFPi0CgEZ5i/VLA0k7iJaJ1wnkSk6JTkihC5HMTYwuy/zLG4rWCmwILoUIAtM/Qvwv+vB7lP2SPae74Hm9eEQ4fTaCtMl0MrR59Ug2bHbAeG06tXy3fai/Wb/GwAT/c78PwJgDVYUgRbBGNgZkRy8GWMVdRGZECIOcwqjBz4GDQa2Aub/wPub+pb1Ce/G6Rrq4evL7LDs6uoh7TntRetq553nuuZp6Rrpi+tc7o7ymfP88tT0S/Z49232l/Ra+Ij5Hf2R+Hz2ZgfwFcgq2i6HJBgdiCAzIT4mPyloJwQzrjljNzA1+zFAKkEn7RynEccLbgNt+dD1wvfY/eH+NPWk6c3e/doD1o/QD9Ga1p3c/t+R4ZHihOeN6wXsPvDU9Gr5GPv4/VoEOw55FS4WRRUtFGoV4xETDwsN3Q0/D/INhQtLCmgJ5wO7/v/4hPcq9kfzG+8R8Nfy7PQ59JrvGe0064LpuuYC5mXmLenm6lDtXu+W8dXwCe7G7UbvUfCX8qrxSPYk90/8Y/F8+TcJsRmVMd8nCR7mGeIeAyRmLOUpHi5dOtU7SDi1M/YshCpQJ3AdOxVZDg0G4f1w+4/9KwJI/ZrxYOP227ja0tjr1tLZBt9p4+Hjh+Hq4DHlI+io6a7uIPRp+qj9gAA8BqQNghFDEFsOxQ1fEPEP4A4bEI4R7RFsDsAIPAVrAzP/4Puh+G/4Nfjg9V3zRfRS9lv2ZPRE7y7tt+r66AbnK+lF607vbO3B7Rzso+217WvrOe0e70vxK/Ph89j2Q/pM+mL0kvfmClgYJiwpJOwXtBukHhAoDiwhKpcudTnzOsA24TDYK9EnPCSdGaMSPgzFBSMAlP5nAp0CGfuE6zrfjtlo2rHYudlU3Z7i7+X34srfmOFM5sbqj+2j8fP1mPp5/jcCDAkdDRMNUAjzB4IJ7QzdDlsPARAXEfMNfwfPAy4B+ABn/ur7Eflu+fb40vcM+Dz4E/ci9KbvVu1O7pzuAe+L7qTvdO9276brh+vp6yntg+347DLvcvKS89T2QPQS92v0aPGI9W8HZRwyKrMqehfFF2Uc0SNtKjcqyyw2OQ0+vzdVM+MstSmtJccaxw+ZC/gHYQSkApQD7QFQ+sntYd+j2o/cPdxn3NrdJd+j4Rbhit6H31zkbOjb7CzysvhC/xwDnAVIB6QJgwiABqAEOghGDawRLBIPEN4McAk/BnIDOQMuAZoA4f3J/WX9Evys+Lf1OfQV9EXynO+w7hvvHvGP8GnvHu1T7UfqT+qh6Rfsl+257YbuTvBG8Wr0dfHI8wnzXvFK8mn/LRR6I1krihiyE5oYXiFzKrgqMypDNa8+0DoSNtcukCwJKT8gvRIMD/EMBAr/BlQE9gO0/8/zy+MS3fDeUuN94zXhkN/H4czh+t1Z2oncRuFR6KztIPPi+Uj/bwNCBOcF/wSLAwYCtAWBC5oRGBPqDzILPQjbBSIDgQPyASEC6QBGAJv/OP+e/OH4O/YY9aXz1PFu8ILvMvFK8PjuHuyH60bpPenT6B7qFe0U7o3vl/DX8En0yfMI9jL2lvJw9CD9WRAuH14n9xu2FYwa6yC5Keko0ibjL+E3VzggNJwtriuDKZkiYhVEEToP7g3JC8EF9QNuAeT3QupE4cXfpuTj5tziTeCX4dPiTOL03CDbpN4553rsM/AK84j3kv7HAScC0/9q/un+8gFNBTMKiwzlDawKqAfYBGcECwWcA3UCGQHaAaEC9QGZ/939SfyU+1j3D/We8vHzqPRW88XwqO7R7XLs7+rT6bDqUO2n7RPvqu+W77vz0PGu9OTxBPOv8+cBIhLEHtMjURZNE2kXPyDEJ/gmZiVDL5I26ThEMrIsQCiUKIchPBbLEIIN6A5YDccJ3AU7Az76IfAF5sTkMujh6uzmBeNE4t3k3ecp44vff9/V5MLq/+0O73vzNPo1/w8A8/1m/Nv+YgAlAj0FYwdKC0MKUwaiA8ADoQTOA5cAVv27/iABkAHv/3T8oPoX+8n4BPdD9IDzdfQJ9HLyJfCa74Lupu6I7s3tYvBt8PPwx/DD8O70BPeZ+735/PcU+Iv74QjUErwa+hgCFPEUhxiZH64hTyKRJuQrQTMrMGkrVCZ5IwUjRBxvFUAQ8BB9EhYRAg1vB4cDrvzO84rsLemZ6xXsb+qX5qnmP+kf6hPoeOI64cTi0uWa6M3qfe/19eH57fnm98z2q/f1+eH6C/uN/TT/KgFIAdEA+wDQAbIB7f+//qf+VQAvA7MDRgPYAi0BHAGk/vH84/up/JD9qv3C/Bv7Rftt+yf6xPnB9xb4UPmd+UT7ifuy/OX66Pks93H62f8UBZQHyQWFBDAHYQq5DAMMdAtlDy0TExibFokWkxaYGAcZNxZOEpIP6A/MEEUQsQ+UDukNrwxZCDoEywB7/7b9dfzU+dX4CflP+LH2w/Qm86/yafLM8KrvafAi8g703fX+9T33V/io+Av4E/hs+K/44/ni+Xn6lfsq/Kb82vwC/TD9YP0c/ub9M/5R/rL+aP9Z/77+uv1b/R39g/xU+2b6jfrb+j36lPkE+Pr3EPju9973qvbN9mf2k/Yh9/j23ffT+KL60Pvy/Pv9Uf/RAh8FngfjCSkMYBDsEr4UKRXxFbIXpxifGZEZ1RnjGeMYVhhwF4gXlxYYFEURNw47DLMJjgauAycCvQCy/739mfvv+T/4SfYF9M3yhvGw8afxTfKW87X0zvWi9dX02fMP85jy2vI68inyWvJi8jfzcfP+8zj1X/ZD9+r2mvbN9tP3Afnv+eP61vuj/PP8pfyw/Hn8Uvwz/J78hP1i/aT9ivz2/Mb9X/3P/Dr7/vrr++H8ZP3F/eH+KgBZAd0BDQLzA94FqAi/CokMLg+dEKUSsBPKFbsXoxiNGGQX5xeEGIQYORhSFocWXhaIFIkSsg8VDmMMnwn4BRoDewE7AKT+3PwO+7n5GfhP9gP1SPQt9DrzTfIv8W/xEPKP8mjzlfP3843zNfKO8Mvvw+9M8BPx1fAP8UTx9vFi85T0ZPbV9tH2U/b29Sr3Kvnl+sj7Rfyo/Nv82Pzl+6D7dPwz/Rv+mP2m/Un+HP9f/2D+Af5w/UL9J/xQ+4z8g/6YASwCqgEwAowDowYgCEIJRgs1DpUR8hL7E/kUUBd+GYsZThmUGLcYqhikF0YXkBZ6FhUVoxKYEEIOTwy3Ca4GygP5AKX+w/x6+1/79/rA+bn3e/UK9KTz9vO+80rzE/Kj8QHyv/K+8wX00/PK8sDxuvD572Hw1vDJ8cfyn/Ky8tPyffPy9C32nvZn9v31bfUn9kr3Avni+sD7ffw//FT8n/wt/Qv+8P7W/5L/PP95/m3+S//k/xwAK/80/kH9OP2G/kcAkAInBP8E8wVuBmsHjwjdCRwMgQ60EJYRpBK0E6oV2hfnF5MXTBZfFasVUxXeFfMV2xXVFPwROA/LDHcLzgkiB9kDqACq/jf9ZvxB/Ob78Pom+dv2t/S68/DzKvSp9G/0bvOE8t/xxfHi8bLxzPCv75zuK+7Q7uHvNvHs8dbxn/FG8VTxLfIz82j0lPX79Sv2ivZG9634RPog+wv8qPwi/QL+nf6b/8QA1wHSAVsBtwAtABUB/wCyAPn/BP8k/4P/jABtAU4DEAUpBpkH5Ad/CREMhg7MEDgR9RHYEvAUIBc+GAAZfhhqGKcXpBZvFs8VHRbDFVQUXhJ9D6gMlwnvBpcEeQI+AGz9DfuG+d741/hx+F33MvYA9dPzevKD8ePw//Cn8UHyjvJ78lLyDPIG8lHxRPCt797v2vDI8UDyQvKr8hfzhPOl83TzJvQV9QX2yvY19/33F/kT+sz6NPuw+2H8bf2V/qH/eQDSAC4BRAEcAWEAZP/V/lP+w/4e/4z/qQC4ARQDvwMwBCwFhAa3CIkKYAxYDjsQfBJhE9YT8hPCFDMWOBfoF98X3xesF/AWNhYHFf4TzxJwEVoQUw6rC0wI7wSJAqIAAv9a/er77fr2+eL4M/d19XP0pfMQ8zHyevEp8TbxTfFx8WfxtPAs8FPvtu7T7iDvze/V8PjxyvIP85/yLPLz8W3yZvN89In1VvYD9+b3q/j6+OD4rvi7+ZT7rP0Q/6f/bQAbAbIBygGwAREChAJ5AjIBBQBt/+D/JgEyArMDBAUgBq0GdwYWB6wIHgvPDW8PZBCiEKARARORFNQVGBZ5FtMW4xeSGGUYtReEFg4W6xQsE8wQhQ4eDZILiQlHBtkCJQAb/pT8Dfv/+VH5yfgr+MX2+/Q082bxPPDK7yrwHPHE8eLxPfHe71zuY+0A7TDt1e1J7t/u7e9z8Yryy/Jo8vHxI/KU8hLz8/NU9f/2ffgD+Sn5uPln+kH7Jvwd/c7+jABlAeMBBgKkAjADPQPVAhgC4QEzAboATwDOAJUCBgRPBasFEgb0BvgHVwlOCvULCA7SD0kRhxEDEr4SSBSdFbYVlxUFFRgVZRWPFdYVqRU5FckTKhEXDk4LRwm/BxMGuQMFAW7+kfyC+7L68/kS+SH4+/ZQ9Xzz8PHZ8I7wHvCr78TvNPC+8MDw3e987o7tD+0I7art7+6m8P3x6fJH8zfzPPM582TzqvNK9Lz1a/f2+Pz5l/ox+7j7M/yC/An9Vv7h/3MBZwLWAhcDcgOqA20DPAOyAm4C4gF2AZwBiAJuBMgF7waHBwcIGAmWCQ0KJgswDdYPdRHnEWARphHxErEUuhVJFa8ULxRMFJoUnxTHFOgUhBSnEjMPXQuECOIGvwUvBPgBt//m/Xv8Zvt6+qr5nfj19if1uvMd8x7zxPIh8jfxa/D878Lvou9O7yvv0+5k7tPtee0r7ofvP/FJ8nvyUvI58rHybvNG9CD15vXC9nb3UPh9+Yr6cfsY/Iv8MP0y/ln/gQCpAUACigJuAkMCIAIwAj4C+wH8AZoBbgFiAcAB7QJLBH8FOwYMBzwIpQnBCkgL3QtDDfUO2hAoEnwT1xQZFq0W3hVAFeMUQxX6FfAVhxWBFHsT6RGPDxINXAoTCLMFHwPnACL/Cf4d/RL83Ppa+Zf3lfXF85PyF/IV8ovxivBu7wHvae/X7+7vcu/77nDuEu4D7nruqe8G8VvyCPNX82HzX/N385zzO/QY9Qn28vb/93L5EPtr/BX9Gv3v/G/9Xv5m/0AA9gDYAZoCGQMfA5QC/wGeAXYBmgGCAW8BagHlAeECBQTsBF4FMwY5B0YIDgljCdoJLgu0DFMO5g/DEdYTeBXuFScViRRmFBkVBRYYFqQVshTsE/sSWhFqD+IMOAp0B5cEWALiAGAA7f/K/gz9x/q1+M32DfXh8zHzAPOT8r3xu/D47znwr/DJ8P3vve7n7aTtA+6Z7jvv0O+K8OzwCvF+8QzyxvJ788/zF/Sm9KX1/fZ3+BD6Svsn/N38ZP0M/rT+Z/8cANsAzwGwAhsD9wK6AqIC0QL0AvECkwItAgQC8QHtAewBjwJfA0IECQWvBXcGMAe+B4IIlQk/Cx8NAw/CEF8SshMhFG0UXBRvFN4UMhVbFTkVIBWEFF8TrRGED0oN+gqACB4GQgQcAy4C9gBE/xH9vvqZ+LH2T/WM9Cr0f/Od8oHxvPC88Nvw3/B28ELwSfCL8MrwBfE68XPxr/GM8UHxG/Gt8XnyKPNf84DzFPQM9UL2Svce+KP4GPmv+Wv6Uvst/Aj9x/2V/nj/LQDUACQBbgHXAT0CtQL7AkEDdAMWA5gC9gG5ATIC3AKHA/oDtgSvBbAGRwe5B2oIzgm+C4wNog6UD7YQCRJ9E/YTABTWE8ETDhRTFH8UbxRVFLoTjRLnEJAOGAzECaIH5wVKBNsCIgEe//r8+fpy+XT4tvfR9uP19PQS9Frz7/Kt8oXyKfKv8SnxrPBb8EzwbvCL8JfwLPC574jvE/AW8cLx1fGg8bfxdPKx8+L0Fvb79lX3pPcg+P34RPrF+zn9J/7F/lL/+//XAMsBnQJGA6QD2QMvBH4EpwR5BLED2QJiAlgC/gLSA9AEiwUhBqUG9gZXB+EHzwg3CrMLFg1KDk8POBAAEXoRpRHYEUoS5hJWE7cTzxOkE1UTjBJBEWwPeA2DC90JcwhAB+4FKwT3AZL/Qf1u+yr6/fj59xT3ZPbA9fH0IfRI86/yOvKc8Snx5PDi8B3xOPEA8aDwVPA88ITwA/GJ8d7xI/I68ojy6vKs86T0ffVd9rX2BPdu9yz4OPln+n/7mPyh/Xj+Jf/g/8UApgFaAqoC2AIZA6YD/gPEAzIDkwJjAtICegMOBHUE1QQNBS0FbQW4BSUG7QauB3wIVwlGCkcLLwwCDbcNbA4SD9EPuhCyEUISORK9Ee8QLRBtD7MO8A0hDSoM7gphCZgH9wV/BOUCGAEb/2j9HvxX+6P6svnV+Cr4n/fo9v/1M/Xl9N703vSA9C/09PO086PzkfOR84rzv/OY833zaPOQ8+7zT/SO9M70ZfXD9Uv2gPb09o/3Sfjv+IX5Svrl+rH7HPxh/LH8Mf3Z/Xn+Lf/x/6IAFAEmAd8A7ABYAe0BbwK7AtwC4AIeA2wD0QNHBLoECQVXBZkFCgatBlUHPAgRCd4J5gq0C8EM+Q3VDpYPzA+yD9IP8w9QENoQCxHqEF8Qgw+xDtANyAxFC44J3QdYBtoEdgMuAsAAKf9t/bf7Dvra+Dn4zfdC95v27fVf9fv0wfSb9Ib0qfSl9OX0BfX/9M70j/R59IP01fQm9a71HfaB9o32g/aF9n/21fYk92v3o/e697D3i/em98T39/dW+NX4nvla+iT7w/s2/LD8Wf0Y/sP+VP/a/44AKgHOAUUCkwIAAzADagPEAz8EHgUABusG6gfoCN0JkgoyC6ILNgzUDF4NxQ05DqAOBQ84D1kPqg8WEHkQsBChEDIQkQ/YDgYO/Qy5CzUKpwgBB2IFwQM5AuAAsP+z/pb9i/xx+yL61/jS9xj3v/ai9nT2OPb+9c31o/Wu9aP1kPWP9ZH11vUz9pT24fbx9uv28fb59hT3V/em99D3nvc195L27vXD9fn1Ufa19iv3fff494X4+fhq+d35Y/rl+nP7/vui/H39g/5Z/w0AfwCsABMBYwHQAXQCEgPtA9AEkQUnBn8GxwYhB2AHdQe4Bw8IlAgnCasJFwrACmELAgzDDF0N6Q1ODpYOqA6sDscOww53DvkNaA29DAMMFAsWCh4JPAhgB0gGDQXeA9MCwwG7ANP/3/4Q/iH9Mfxg+7v6Pvrs+ZH5NPn6+Oj47/jn+OD4oPhu+Av4nvdh9/324/at9hr2bfWy9Ar0nfNK8xTzIPNa85DzyPPW8+HzCfQ59Gn0svQi9dX11PYC+F75W/oh+9L7ffwg/eb94v7t/xYB9QHrArMDTwT2BFIFhQWDBW4FjwXHBR4GagafBusGLAelBwEIDQg6CEMIVQhTCGAIZQiUCNIIDgleCZAJ1wkJCk4KiQqxCr8KmQpzCjkK+wmnCUYJCQm9CDYIigeyBqoFuwT+A1ADjwLMAU4B0QBkAOr/ZP/W/mb+DP6R/Rn9g/zj+zf7hvq7+d/47/fv9jD2lPU49QH1x/Rj9PLzOfOU8hHymfFe8Unxc/G+8UHy9fLO84X0EfWD9QL2mPaG96v40Pku+2/8c/1Y/g3/pP83AKIAEAGPASECpQI6A80DaAT5BHcF7QUkBjgGTgY9BiUGEwb7BfAF9wX2BQUGBwYfBjcGbQa1BvwGRQeXB/4HbgjrCB0JJwk/CVcJpAn0CRwKJAodCvUJyAmjCWMJEQnbCKIIKAiSB80G7gUXBTUESwNVAnkBuADo//P+Cv4O/SX8QvuT+ib60/mD+Rb5sPgy+In35fZn9uz1oPV99WT1YvVU9YH1wvXb9c71uPWc9af1w/UE9o32FPeN9+73OfiR+PL4Ufm3+Rr6gfr/+pv7Qvzy/Nb9mf5G//7/oQBOAe0BbQK+AvsCXAO5AwQEMARxBI0ExQT1BP4EGQVBBYMFuQW0BYYFOQUGBQcFGwVCBXYFvgUGBhwGSQZbBm0GpQbiBksHzQdRCKkI6wj7CO0I3wjZCLUIZggPCGUHxQYLBjMFRAROA1UCowEsAaIAJwCi/xD/fP6o/df8Ifys+3n7TftO+zL7Efvu+r/6cfo0+hP63vnC+ZL5f/lx+WL5Tfks+dv4j/hq+Bb4zve096T3nve698f30vcR+Ev4lvgM+Zn5PPrn+mT70/sZ/Hf8C/2t/ZD+Ov/P/34A/ACuAUMCvgIyA5wDGgRXBFQEQgRCBF4EeASKBH0EdgR6BGIEfwSXBJUEiARZBFIELgQtBCUECwQbBC0EdQTbBEIFeAWEBW0FbAVeBVsFNQWwBHoEYARNBFsEQQQTBMMDRwPMAm4CHgK9AYwBdAFPAQcBnABMABEA2P/Q/wEACwAQACwAKwAXAA8A0P9T//7+xP6F/jr+7f1w/ff8gfzq+2b78vqT+mj6W/ox+jr6I/rg+Zv5RfkN+cv4wvjK+AT5Wfm6+UP6zfo5+7P7/PtK/L78Ef2A/dT9Gv5l/sf+Jf+I/+v/HQBfAIEAmwACAVUBlwHrATkCXgJsAnECbwKLApkCjgJXAkMCMQIsAhYCAAIYAv0B+wHfAcIBxAG0AcQB/QEUAh0CIgIgAkcCegK9AhUDWwOCA6kDzwPtAwgEMgQ5BEkESgRLBF0EVAREBDgE6gO5A50DZQNfA2oDVQMYA7YCLgK5AVQBAQHXAJ4AkAB8AFMALADY/4D/9v5T/sj9Pv3V/Hv8SfwW/M/7jPs2+9f6ffo5+gr6xvmc+WH5Pfko+Tb5bvmw+QL6M/pw+qf69/pX+8H7FfwP/Ev8o/z6/GL95/15/vv+bP+t/9v/AwA8AHkAsQDIAOgA7QDrAP4AFgEmASMBOQEwASkBGAH9AAEB/ADrAOcA2wDfAAUBUQGwAQECPwKKAtoCOwOZAxQEmwToBEQFngX7BVoGwQbMBq4GwwbCBqsGUgYgBtkFoQWQBU4FFAXlBKsEagQVBJMD9AJ1AvQBgAEpAd4AjgBgAC4A8P/D/5n/gP9j/0j/8f6N/hz+tf14/Tr9/fyj/GL8Cvyx+1r7BPum+l/6FPrd+Z/5ePmI+Yz5fvl4+XX5cfly+Zf5zPkh+nz6qfrT+v76N/tw+6H77Psb/E/8svz//F39xv0g/mn+oP75/kn/nf/7/1cAqADwACwBUQFlAY0B2gEEAjUCZgKgAtQCHwNlA5QDzgP0AwoEFAQ+BHkElQScBKwEuATKBN8EIQVhBZsFwgXHBccFuAV+BXQFhwVnBT8FJQUJBdEElwRoBDQE7AOSAzcD6wKEAh4C3wGFAUEBGQHzALsAnABwAD8A/f+Y/xf/qP5K/gj+9f3P/aH9Zv0n/dP8jPxV/BL80Pti+wH7j/o1+uX5n/lw+UL5I/kQ+Qb5Ffkq+Vb5fvmq+dn5LPqG+u76aPvb+zT8efzW/AP9EP1O/an98v01/on+3f5A/5v/7/8gAE0AjwDTACEBfwHcAR8CYQKTAsAC6wLyAhsDXgOnA+8DNwRUBFEERQQvBC0EIgQmBCcEQARGBDoELgT8A9QDqwOOA5IDmgOLA5YDkQNsA0QDGgP3AhUDQANQA1cDYwNcA0wDKQP9ArwCewJIAhoCFQIQAu0BwwGCASgBwgBXAOr/hP9U/xn/1/6d/kL+8v2O/U799/yv/Gn8RfwE/OH74Puh+3P7SPs3+yP7Efv6+uz67vr0+g/7I/tM+3v7qvvP++P7D/wr/D78efyC/L38+fxU/br9Bv5D/of+0P7i/gP/UP+L/+L/ZAC4ABYBbwG1AboBjQF1AX4BnQHrATkCZAKnAuUC0wLLAsgCjAKTArkC0QL0Ag4DIQMbAwUDDQMWA/4C+ALpAtAC0gLNApcCZQIqAvIBsAFwAVABcQGZAasBgAFsAT4B/QDbAI8AgwCsAPAAIgFzAZIBsgGaAQgBfQBmAGEAegDYAPUA+ADdAAAB4ACfAMMAeQDw/6L/VP/E/mX+Hf7D/c/9vP3E/WX94Py8/I78YvwC/IH72Pon+1v7J/uA+wj7KfvW+xv8u/yE/QT+FP8LAfsA0wAM/5n82QH7B4YIJwhvBgMFsASWAgD/TP0b+0b4Hve9+C37O/s1+yH61/nN+Sb4kfY89nj11/WX+N36/fyw/lT+fP9uAaABPgJBAVr/XP9dACYBEQNDBJMDJARDBdcGewn5Ck0LIwyJDg4S0xVlFyUXQBeEFwcYgBilF10VCRJUDpMMbAyRC3EJPwVFAOb8zvkE9lDyBO5Z6g/pa+mh6jLs2OyA7aLvnPL99fv4pvrF+4n9MP/QAH0CCwPdAuACygJwAscBDACn/cD7AvqZ+Cz36fSZ8tTwj+8f7wXvU+4I7qjuZO/P8M7ynfQP91f5Vfu8/an/YwGOAzUFpAa7B6sHzAcvCCwHJQZ2BYQE0wSNBcUEswJs/l76xP0rCrwaKydaK8wrKS1nMU429TfVNIIr0BsQDDsCCv3y9zTww+eu4wDj9+DA3D3ZHNhS2b/bBt9C4uLie+F94qvqZfjdBNcLIA9wEg4XwxziItIn3ygAJSMfhBo+F6wS4Qp0An38Cvg081vtEOf54bvek93q3ojhj+It4kbjJegZ8Ov3Sf0/AYoFywrOEFwWphlHGT4WvhLeD8gMhwfH/5b3bvGL7TLrdelV59rklONW5ETnmOvP7u/vnfGs9Eb4zvv2/X3/gwKJBeMHOAo1C4MK5AjMCQsUISVVNMU7Rjp/Now2WTdeNXQwsCVRFQYEdfWQ7ebpFuQh3dvZuNoh3UndR9xh3lDjg+mb8CX3Xft0/Cb97gIlDnkYVhyxGkEYmhfSFw8XtxT/D0UIfP9R+VL2XfPB7mDq1+ii6vHsIe5b7zjx7vK79aP6awDKA78DBQP2BGgJlgwaDKsJGAcxBaQEQwVNBcgDgQBp/df8nf39/FH6Mvct9Tn0ffOF8tvwou7z7Ifsoe1u7uTtC+1d7Z7v7/Ju9YX3ivp0/mECEAZVCF4J4AmDCpYKMAloB0YJoBKhIVQvMjQqMVUtqSsvLJUrnCWTGYoJBfkw7qzqv+ln5iHhU9424IzjD+Y253nox+uH8Cn2SvwDAAUAwwD8BQMPRBeOGvAYlhW2EjEQZA4GDeoJ4gP5/Nj3t/Qh8n7u8+pj6qDsJO+N8HPxpvIN9un7fAKwB/QJWQl+CA8KFw2bDj4NcAijAqj+I/2r/er+M/8n/kP9JP26/XX+Af6Y/D/7Rvr4+In38/Wc84fxOPBj7yPvdu497PzpEepm7IvwFPWm+HT7cf6OAf4E6QdUCXIJnwhXByAHNQcoBo0D1/+w/wIJRBnnJ4kuEyzjJs4lHijaKO8kARuoC5v85/KI71rvjO2Y6djnROn+6o3qn+kJ62zvuPTT+EX7+Pui+4X9bQQ8DnkVTRZgEhYP6g49D+kNlwoLBb3+pPkt9m/0kPLY7tvrTuxy72zy8fPk9Bz3JftjAF4F6ghTCrUJnQnlC2cOWg4pC54GEAMGAVb/rf2+/Hv8cPxu/EX8svvZ+n36Nvuc/Nb8U/vz+GH3Avfi9sf2XPbA9PrxGe/27azuI/Dn8HfxMfO09sT69v0fAMEB7wKiBPkFIwZGBoUFsAN5A0IE6gOWAaH99P7LCwofVi1YML8rKChDKlUt6yvKJAYYeAfe+OPwxO9F8KHsq+dE59zpZesW6ovoQOr57obzfvZz+Lj4dPhG/P0FnRDEFfcT+Q/tDsUQZBGVDvcJlQQ+/0n7f/ih9c7xNe5j7bLvJfLW8XTwavFv9kf9/gJ5Br8HiAcxBxcIVQrmCxcLvwfgA80AOf7I+xX6SvlF+X35BvlH+DX4GfkW+2r9wP4K/n78k/vf+/n8PP3m+2f5Z/ZR86nwwO597dXsxey57XfvOvLI9TL6qf89BeoIRwq2CZQILAizCHUJcglHCK4G8AWkBbsD1QDuAuwOvyCiLosxJyzOJzAoBym2Je8clg/4/unvnufy5jTp5+j05eDl8OnT7Yvuyu6k8W72KvuP/gYAhgAYAYkDQQuvFYsaPRcXEeoMlQuQCowGLwG9/K/3DPKp7nftEuzw6ZfoQ+p/7grxE/EZ8pz2B/33AnwGCQjSCJAIOQlGDNMOKA5/CiYGDAR0BCoESAI8AH/+Af05/CX8nvua+hr6VPoF+5P6fPis9vD2lvji+Rz6svnv+NX39vb09vH29vVS9L/zqfXi+Gb7Uv1h/xMCbwTOBTUG1AW0A5oAhf6f/aP8JPvc+Zb5zvq0/Ev+DP8Y/nb+pQWoFUUoJTM3M70uyiwQLgEunihVHToONf588jXuUu7S7N7oYOYI6Crroet56cvoXevo71L0yfev+XD6pfzwAsIMsxQTFhsSpQ0zC70JpgfQAzH/wfrJ9mb0svO78lfwXe4+78fypvZn+Nf4fPp5/yUGPwvFDKMKbAdSBkwIvAqOCvcGuAHh/Zn85Pzb/Mz72vrK+k77tftK+9D6G/yt/kkA3f+Q/Tz7dfq2+1z90P5G/9D9evst+v/57/kv+Vf3lvXP9Kf06PTm9TT49fpW/dn+Af/y/av94/7YAF0CuwF1/xP+3f5oARsENAaNB/IIKgpsCT8G3QYaEXgiLjM6ObYz4ivRJu4jGCAFGKkKv/nh6MHeq90w4UXjVuM/5cbpme2m7uftGe++84b5Fv85A/UDAAMKBUQMnRUiG3EZrBI/C0gFUgAO/eH6QPfs8brssOmM6c/qDexL7sjyhPe3+qD8BP8ZA6EI3Q3CEBoQMQ2gCgUKoQu9DPQKpwZIAbP8Q/qg+ab5i/k2+W75APql+or7CP3O/7YCZAPzAcj/gP54/rP+L/57/Of5zfdV90L4wvn5+mv7oPsd/Hr8mPzQ/Dn9Y/04/Az6P/cb9cT0bfV99Zz06vIR8v/zI/jD/P3/5wA2AZYCdAW6CIAKeQqcCeIHlQWlBYcNyR1mL9E4oTZ6LyAqmyfNI4Qbxg56/qntlOE73tng5OP05LfmGOun7xfxw/Bq8oL2gvqF/TYANgIdA7MEFAo8E6kaehr4E8cMswcYBJ0AMv1b+YX0WO807M3snO+C8bLyHvV6+N/6Kvy//SoBbAVRCJYJ5wk6CdEHwgYqB1EIvAdnBBUA8vye+3L7uvuC/Gr9rP2B/VH9Uf2R/ez9ff7q/vn9vfsc+a33P/g/+YH5A/mN9wz2j/X59fP28ffU92/36ffq+Ef6ffuP/CL+xv9HAQwCfgH2/z7+Gf2b/O/7AftG+uP5Kfo7+zr95P/mASsDJAQVBT4GFAhTCVsI8wRjBHsNSSAHNLk9eztoNLYukSr6JCccBg9r/mntSuL1363idOQf5cLoU+92887x6+3w7LTvx/Qq+rf+SwFnAVoCIQkkFDYcPBzpFKML7QN5/Zr4B/UI8q3uM+s46rPs3+9j8gr1b/gA/J/9aPzK+8r9cwHqBPYGDwcdBh8FKAUwB3IJnAkvBw4DSf+c/Kn6+/lM+g37WfvA+iH6Kfr3+pf8Lf5z/lT93Pry+Dn51fo4/On8v/xV/Cf8IPzp/HX+7P8XAXABSgFeAf0AIwAw//T9aPx6+ib4GPYd9Xb11vZk+Mz56/oY/JL9+v6X/xcA9QDtAbUCMgMNBMQFvAcACisMVg3RC5UJrA2MG9wu3Dt2Oz8yXSjlISoc3ROZCEf73Oy24f3dzuHr52HrXe2l8FPzIvLR7DnomegG7f/xbvaa+uD+zwO5CrMUdB0uH40YDg5sBWr/Jvr79CXxkO8i77ruF+8x8NfwX/Fh87X2T/kU+bj3PPlz/1wHSg2qD14P0g02DAkMogyKC6AH7wFY/Wv7NPt7+yT8jv1e/wwBEgJBArMByQAqAOf/M/9F/en6kfkH+nL7x/yA/RL97/ss+wH7i/v3+577Evs0+0D8v/0d/ysA2gC/AOn/5f7F/V786foy+mP61Ppn+un4wPeT98r3DfhL+OD4EPqT+0T9SP+jAZkEOgcwCZMKVwuDCjYH7gMECG8WQyn4NWY2ly8dKcAk9x89GQEQmgP29Nnn1uGg4u3k8eW5593rx+7T66PlgeK85A3qPvC+9vz8dgESBbsLsBWmHcQd4BZYDqYG1//Z+XH25/Ug9lv1JvW+9g/4zvc49wL4nPlc+Qv30fV1+Df+lwTyCZsNlA5cDQoMngtWC2YJdwVOAaL+0f0Y/s/+KQADAvwDUQXSBAsCbv7I+xH7hvvb++37BPzF/Jz+qQB2AbIASv5Y++j4K/fi9Sn1lvVU90n6lv0NACQBQgHbAA8A8P4o/T77E/rq+e/6jvzR/fP9/fyC+7H5H/iR9mj1GPWG9af28/gs/L3/1ALhBGUGzwfdCBUKIgpBCBMGFAjnE0UmbjVdORkyzCcmIPQZGhPuCQf+jfHL5mTibeVn6kLtMu5z70Xxfe+i6VXkC+RZ6STyi/sGBFYKFw7lErMZUR8nH8IXYw0xBM399vl5+BP52/p//FH9iP3/+xT4WvML8CDvzO7u7fjslu5n9DH99wVEDMgOaw4mDQIMQQtdCs8ILAcDBqsFGQZFBkQGJQaLBegDDQBj+tj0nPFr8bHzhvYx+K34avmm+5L+UgDs/8f9F/u++DT3+PYL+H/59fq0/JH+0f9RANcASALRA0MEUgP2AU4B8QBBAHf/Z/5N/EX51fW/8oDwwu4W7lzvM/KR9Qz4rPkR/GD/tgKIBcAHIgrYDG4O4w6WDmQN+QoZCQAN5xmWKUIyMy98JGUbvRbRExUQ+AnjAUP5mfIo8WTzsvSQ82jx2u526rHiBNu62LfcweSL7l34fABBBrcL9hLSGuIeLByuFZgPBwtKCHUHDAj8CKcHqgNu/iX4dfEv657mPOX85PHkoubT6n7yjfyfBT0MHA+bDqAN7gytDFoNOw08DCELJgnBB2YHNAduB+cGcQSDABD7B/bK86LzE/UH9+727/UB9e706PYh+Tn6CPvy+mb6ufoM+4X8mv6H/3oAXQEsAdMAawCsAPABKwJPAbIAGgBu/2H+hvwV+8r4APWH8Z/uR+3y7O3svO6L8RD06vZC+WD87v+aAVwDKgW6Bg4KUwzJDS0Q/hAgEfYPHA2SEKsc0irNNeE0KSsdIzgcoBcRFLMMIwWP/BX0E/Mt9Vv2Afdl89fv1OvA4dTYR9SF1XveBemF8+L9/QPKCfwREBlpHlQd8xUMD34ILQQXBCsFsQfMCFAGQQNK/hf3YvB76kvnsuax5YTmtemr7tz1zPzkAdcEHgRpAjoCKwOgBQII5gmmDOwO7hDfEkcSmA+JC8UGnwIW/lf5V/Zr9Q73kvnl+hv7jPna9k31OfQ783TyW/HG8eDzrfZa+gr+2QAPAwUEAwQuAy8BY//D/ur+lP+o/zz/S//w/lX+e/2y+/X5b/j39pf2iPaN9m33d/jq+ZX7OPyV/Ij8k/vG+/v8ZP7KABADywWqCeYLXA3sDbEL+Ah+CEQOFh3bK90yljGxKZsiMB6WGWIWghE9CegBtPzY+yj9APvv91T1BPCg6DveXNUx1NjXB+D068r1xPySAOQCDAiUDM4MCwtDCLEGjge9CNwMtBK+FfwVuBLwC6ADwfkO8ZjsQOow6fnoSOmr6xLvL/L+9O31rfQr88/yVPXF+k8CyQp4EvoXdxpIGkYYIxUXEhQPAgsyBvUAAv14+zn7ivth+3D4yfPN7iTrsurh673tvPDS80H2Tfik+Tz7c/yT/BL8R/sz+qj5YfoF/aQAgAPtBPQEIATFAqQBEAERAWIAVf8I/5f/MwAcAEz/jf5n/bL67/fF9ZL0yPRK9d32QvqZ/Jj+KAFrA+AG3QnyCnoMrgvSCs8QmBzcLKM5PzqrNGotdSXEINkbyxXKEfkKvgR5Ax0BeP78+f/xLezd4/TWp8xsxgvH5M+M2gDmy+9i8xf2Ofpn/q8CHwT+BMgIRA1dEoUYZx6jIxkmyCNRHioVwQhM/cX0Y/Dv7urtj+3V7YztAO0b7OrqbenF5/jmSOhq64LwaPde/7EG+gsGD+QPig+aD3kQQRLWE14ToxKbERUQQQ5nCyoHPAIS/DX2CPIE763tp+0J7pHubO487d/ssuyr7dDvOvIp9Tn4XvuO/+gDVQfvCaAKNAoHCWsHZQbXBcYEeAS8A9ICvwGi/3f9z/vG+aP4F/in95742/gj+eP5D/pr+xn9C/72AF8DXgWlCGIKnwtcDaINHhSSIQQumTaONIQrdSWFH/kaphmQFQoSSw7SB1YFOwKJ+pz0xO1o557gh9Sfy8LJfMwM1a7eZub/7DPume6w8QH0wvZ3+WL9OwXpCz4R0Rc9HTQi0iTjIpMf0BibD1IJOgUTBM8DHwHK/hj8bPbY8KHqYuWA41fhMuHs41Dn1OzF8175rf8XAyUE3wXyBh0JCgysDrYR8xRaFSYVMxN9EKQNhglMBWQBgf2i+pL5mfkC+6L6SvlH9431UvTh8l7xKfH28eXyXvSE9eb2pPfM9yP4ePhA+PT3vvev+Zz88P4oARsDVgT2BD8ENgPMApYBfQCS/6v+PP6e/Y783vyC/Nb7CPzV+0L9EQCxAUEE/gShBBwLJRaeI74uaC4aKVwkXh7DHAwc6BhqGY4XsBQKFr4TyA9LDNQEdf/O92rqMeBD2cPWW9vN35Xj1uaD5I/iRuKB4SrjSeQK53nupPX6/IIEJQtnEgwYUBpZG/wYQRSqEAUOOw4nD+AOEQ/1DcUK+QVg/wX6QvYM80nx/++c7vXuNu/D8HvybvLn8Vfx8fBg8qH0D/ek++j/5AT+CGALZQy5DEUMbgyTDEUMjgwaDBcMwAvuCuYI+wX6ASb+ZfoF92X0WfI48ebwL/G38QryKvE78Frv9+5M7z3wbfH/86T2oPnm/Ez/NwFJAmUCUgIPArQBYQIUA/cDWATAA2YDBQMwAmsCOgI0AtgC0gJnA+4DsgKuA2cJohI5HV0i8yDPHaQaQRlMGQoZBhm4GJYXxBd7GAYY0hWlEfoMZwdH/rLzcOox5Q/l3uZZ6SvrhOrU6MHn1ObN5u/luuQl5sboNuyu8O70yfqlAIoEGwc2B3EFGwQRA00EMgc1CeML3Q7TEIQS+xGbD5INRQpyBygFQALj/1j+j/xd/JL7ovkK+NT16PPJ8lLxuvAe8n3zYfbk+Kn6E/xE/Sn+tf+pAEIBZwJpA1gFywatB9kHlAdCBuAE4QJ1AD3+Mvzg+hT61flM+a34xfes9n71CvRi8i/xpvA18Wfy4fOq9Vf33PiI+rT7q/zB/az+WADpAagCOQObAyYEfwVZBk0HiQhxCbsKKgyPDEIN4w4aEkIYdR1QH1Iewxp1F3QVaRN0EoYSSxJFE4YUpBTnE0cRRg3+CWUFff+0+Sj01fAc8KLwJ/LR843zR/Jv8JXtouqo5zjl0uQB5qTnYuq/7V3xXfX+9w/5Wvl5+Jj3TfiV+Y77M/5aAGUDyQbgCIUKUAsRC7kKswmtCCgI9AezBxEIJghmCCMITwdXBtkEJgMOAcP/3P7O/sL+ev7w/Sv9bvxJ/Mz7Yfvu+u75aPn7+O34Qvl5+YL5J/qu+oL7Jfwp/FD8p/xc/R3+QP4I/qr9lv3m/eP9q/3A/SP+4f7h/zIAJwDg/4b/cf+z/zgAogCWAF8AYgAAAJX/E//O/uX+BP8e/6H/kADiAWQDpATBBcQGcwcFCFcIAwhfB8IGYAYtBioGAQYeBmYGUQY1BtgFDwVLBOIDAwS6BGAFtQU0BpoGxwa9BnUGWQYPBnAFrQTiAwsD7wF8AC3/LP79/Cv8ZPsx+gn5rfd39vf1zfUM9mT2bvZe9hb28PUz9sv2bveD+Kr5KvvU/Dr+xv8sAVkCDwO/AzYEWgT4A14DEgMPA/8CuwJQArABDAErAHr/Cf/o/v7+HP9+/z0A3gApASkB8ACTAAAAX//O/lz+1/2F/Zf9Lv7I/t3+8/4v/53/OQBQADIAOgA7AHwA/QBCAZUBtAGwAWQB2QDx/6X+Qf3t+2T7cfur+8H73Pvs+2H8/fyV/VH+Qv91AL0BEwMnBO4EngVUBuEGGwfdBk8GlgX0BBcEGgMTArMAa/9w/rr9Lf2P/Nv7Vvvv+p76jvrF+mn7Q/wC/QX+G/9DAFkBDgJoAokClAJ4ArgCLQPGAysEeATPBA0F2gRyBMwDrQKBAX4A9f/B/5T/cf+t//L/bADgAFMB4wFaAsoCdAMoBLsEOQWDBfMFRAYuBpgFgQRkA2ACgAG0AMb/c/4u/eX7uvqy+Zz4mvfT9mr2tPaJ94L4mvlo+uX6+vrX+vv6WPvO+0T8vvwo/d/91v6y/4QAPgHBAQYCMAIMApEB/gBrAFUAcQCEAMIA4ADEAIwACABy/x//A/9d/y0AIQHiAXkCxgL5Ah0DKgMcA9kCqAJ1AowClQJ5AkICNQJeAj8C9wFNAXMA2/+A/zj//P6w/in+yP2j/YT9S/3s/IH8Xfxv/Jf8lvy3/Br99v3+/uz/uwAXAU8BnQEmAoMCuQJtAhQC4gGuAW8B9gCbAEsACQDb/8D/gP9o/zv/Sv+f/xkA3AB/AR4C5wK+A2gE/gRlBYUFbQU1BQIFrwQ7BLUDMQOSAhQCmwExAdIAQABY/4H+x/1B/Tz9Qv0y/Qz9pPxk/JH8MP0W/gH/v/8QAAQAkv8S/9f+ov6P/oj+a/5M/iH+Cv4c/gL+6P2c/Wn9Lf2u/C38yvuV+4776ft1/B79iv2+/fz9ZP60/vb+W/+S/wYAjADWAE4ByQFcAggDXQOoA5ADTAMaA9YCkQJmAkgCLgJUAloCYwKCAr0CswKMAkACrwH0APb/CP9O/tn92P03/oX+HP9m/4T/2P9mAE0BvwEcAnoC0AIhA20DjwNUA+wCCwL1AMv/Vv7z/CP8jPuL+wz8mPxb/Rb+Yv6w/t3+y/7z/gz/Pf9p/4X/lf/v/44AMgF1AScBsQAFAL3/gP9c/3D/p/8rAN4AYgG8AaoBZwF2AaoB9gEeAj0CQgJWApQChwIYAlABdQDn/+n/ZQCyAC4BZAFkAXUBNwEQAXMAzv8d/6f+If50/a38ffzB/Cv9qf2K/RX9k/xz/L38ZP31/cf+Rf+p/wQABwAzAGoA6QAtATIBnQCj/6P+7v2A/Zj91v0W/pz++f56//r/VAChAPEAHAEaAQ8BMwEiAYQBSQISA/EDYgSCBBUEaAOOAtMBggFiAdUBmAJLA+ADNwSJBM4EsQRrBL8DiwJPAf//Yv94/5H/jP8i/1z+qv38/Hn8Kfzu+x/8ofxd/Qz+U/7O/g7/FP9C/wr/i/5k/lX+hP78/kX/nv/J/7j/jP8k/8T+gv5Z/hL+Rf66/lP/UQAEAXkBygGmAUYBEgHTAMkA3ADqAAsB+ACsAB0AZP9i/sz9bv2L/QP+l/4T/1X/Jf+y/hj+yP3G/cv9Vv7K/n7/HAC3AAABFwHxAGgAmP/M/kv+Qf5b/vL+1P+ZAJMBDwKKAsYCigIkAowBzQAIAGP/3f7t/j//5v+wAIIBLgKqAogC8gFGAboAKgCf/2P/cf+Q/8j/XwCZAEMBnAHSAc4BUAHEADkA+f8iAOwAvwHbAq4D6AMBBJED9wJoApgB+ABuAJP/Wf9T/y//S/9B/+T+Vv50/bb8x/sw+177vvuG/IH9MP44/wYABAAKAO///f8lAAwAXwDfAAwBjAF6AeIAAQD2/ln+7/3//Rn+V/6i/oj/ogDwAWgCogK8Ag8CFAKgATABDgGtAJsAhwC3/+L+6/0+/Vf9Hv1y/dz9SP6q/t7+1v7V/qz+mv5m/i/+iv6r/jv/y//9/5AAhwAvACgAnv/P/2oAuf8aAC4A8P8lASIBLAHaAW8AQf9f/i79Jf2+/BH8Mfym/ET82vuR/Pr8J/57AGICSQR/BRUGUQdPCIwINwnECR0K/wqXC2YMrQ0QDukN0Q0jDW8LRgkrB8wFsATlAzoDPAJBAbb/Jv7q/AH7LPnD9xv2PvW89EP0zvSG9Sz2Sffq97/3z/eO9zD32fe/+JT5OPuj/Pv9q/+vAEMBAwLsAYIBIAGNAM//Yf9E/3H//v/F/4j/nf/z/lD+Hf5o/S79af1O/df9h/5G/lb+Qv7T/b/9Qv3l/L38h/x+/Hv8jfzu/Hr9Tv7q/vP+tf6w/Q39gPwN/Kj81fyY/FX9J/1o/Qz+6P2L/iP/1/6w/nP+Qv4E/4D//f9CAeoBiAJ+AsYBQgHHAHAC7QY8Da8SyRUGFv0VcRa5FYQVFBVtFKEURxRXFB0WNRY+FY4U3RKkEG4M4wQ//jH5hPU79JvzlPMw8zzx+u437cTqI+gt5R/j0eKc4sviV+Sm5h/r/e819O33kfmr+TH6G/uK/Y0BfATsB/ULSg9yEkYUchRtFaMVzxQDFF8SHxCxDnYNIg31DRUNUwrWBvICGf9J+9D2TPNN8fnv6u4Z7kftz+zK7LrsmO0W75vvdu9j8JjyzfXA+Nj6kP1GAMMBHwIGAqIBgQFuAZ0B3wIzBGAELgSdBCEFOAXCA4QBkv9U/qf8pfuw+tz5yPm7+fP5JfpY+XP3lvZb9h320PY/91z4Bfva/F3+LwDAAFgCoQlEEpIb/SEeIvMiwCTpJEglVCX3IzMk6CLhIIchIyCmHDYaNxc9FQURRQfi/HH0wO2E6enmJOUQ5bLjH+HS3yHexds52ZHWxtbN2Lnaw9s534DjJupW8Rv3ivzs/z8BQwLMBMQHQAyBD9oSthYmGjccPx2lHEMc/RtSGigYKBVMEdkNcAuRCcQI1Qc+BS8Cpf7Q+rP3vfNs8Dju5Oyu6wLrN+pe6o7r1Oyv7nPwRPFy8Uzxt/HL83b2O/lN/J3/ggKdBA8FFgUmBdQEjQTgAxwDaAJuAQMBeAEQAuIBAwFk//z9XPyc+kv5hvga+EX4mvia+H34y/df9xT4K/mk+Wj66vpm+3L8av2x/rYAZALCA70I/Q8uGOoeyCHrImkllCYrJosmjSV6JHcjpiD5HjcfkBzBGYgXDhXdEQcMJQK/+ZLzsO2D6frlT+NI4RTfnNxx3Mbc5NtY2gjZW9k42mna3drH3djiAOkY74H0RPpS/yoDcgY+CnwNiBBUElgUlRe7GpAc5R3aHsIfliAdH7Uc/Bl8Fp8SuA6yCo4HsARJATj+Vvt9+PD1ZvJy71Dte+uf6cDnbuaN5lvnc+jh6SXsmu5v8Dzy9/MH9hD4aPll+oD8qP55ANoBygLmA/EETgVxBawFrQVVBWcEXwPXAvcBsQBE/5v+XP4H/vX8Lfw/+3L63fkO+Rz5V/l5+Yz55/mJ+fL5cPoB+yD85fwV/bP+xf82AjUH4w1CFcoaEh6HH8gi9iOcJNMjJSKKISMg3h0aHH4bsxkUGLIV/xN1EkYOAgef/2357/Ms7+vpBeZS4wLhxt6C3k3fMeCa4FvgbeEC48Hj6eLK40nlXemQ7U/x1fXg+tz+2wJ+ByILrg+5EQUTWBSdFR4WSBbAFQgWPRdzF5kXhxZVFfoTGRLYD6wNbQrlBoEC2/35+cT2cfOz8Cfur+xU7IPr4Oqb6urqr+th7Mbsiu2M7iHvIPDu8ab00vcQ+if8fv42AUMDGwR6BLsEWAUUBTgEpAOHA3kDDQO6AmsCBAKGAOb+ov0C/Y38uPuZ+j/6IvpL+oj6V/q4+jf7vfsw/A79f/2b/mD/KwAPAfoBcALIAtkD7AWkCi0PLhP2FboYZBuRHkQgUCEvInUhxh87HZQacRgMF9kToxETEGoOoAunB+MCo//z/Pn49PSn8FDsXujr5CzizuFt4RzhOOHO4QXjMuSG5APlD+e76QztPu/+8LLzU/aK+QX9jQBaBC8ItgrSDQ0RgxO5FZkWahf2GJoZ6hjsFx8W4RTYEwQShhAMD5YMGQrNBl0DRQBt/IP4KPU68hbwnu3W6vrokecQ5z7nT+cV6Gnp+erG7JHu/PCJ86n1W/cx+VP7+/x7/q7/lgGjA0kFgQYbBwAIpAirCI4INghBBzsG1QRiAx4COgHU/7H+hf14/ML7+PoK+lj5P/kP+Vj5Kfn8+HL54/lu+gf7ePtK/Eb9u/42Ab4FpQpQD04TmRZaG1UfPyIHJJUklSSpIwYhOR6nG18YsxW0EjoQpA6KDD0JRgZGA7AAHf4f+gb2RvIo7pTqY+d05BPjoOGC4Hjg++BQ4vLjXeWS5+rqy+2n8M/y8vSE98H5mftp/U7/IAEtA4AEiQavCBYLfA3BDwsSMhREFUEVvBTJEzMTthG0D54NlQuDCVYHnQSFAr8A2/76/Hn6MvhL9kf0JfLC8PnvcO+67rXtTu1s7fntnO6/71DxJ/MC9Yb2QvgQ+gr81v0g/4UAvwFtAskCyQL0Ak4DVANdA3sDgQPdA88DuwPjA/wD5AOAA8ECHwKuAQUBRwBG/0n+g/3Z/Fr8AvwB/Ef8bPz9/Lb9iP5V//H/iwC6Ae8DgwZHCZELHg4UEQUUsRb1GLIaBxx4HPsbPRsfGnoYBxZSE8QQcQ5gCwcIegRtAQ//qPwl+uH3e/U780HxJ+/G7ULsg+rq6JDnhuYd5sPl5uXR5lfoWOqE7JvutfAv82z1/vdb+nj8u/5jAEgCYgQ+Bv0HtwkwC88MCw4gDyoQpBAlEX8RlhGTEQ4R3Q+kDhQNJQv3CIIG7wNZAXb+iPvV+E72SPSZ8njx5fCY8JDwi/DC8AvxTPGa8frxe/L78qrzlfS49R/3wvg++t37aP2x/vf/JAFrApYDxgTQBYgG2gYJB+gGowZgBuoFcQXqBF8EyQNEA58CKwLkAWIB7wBmAM7/m/+f/7v/GwBnAJYA0gB9ACEAuP8D/x3/hP/mAKoCZwSmBhYJPgxhDwsS7hNCFaUVoBU5FWMUFBNnEbwP+g1nDEsKDAiWBXkDdgHO/wn+LfyJ+tP4mveR9nz1WfQe873xwvBp7y7uKu087L3rh+uw6/nrpexW7bbuYPBJ8qD0Afed+S789P6KASsEggaaCCEKPAsLDIAMwwymDDkMvguKC0IL7wqdCjkK3Ql3CbYIAwgsB+gFlwQEA3QBGgCD/ur8Wfuf+TH4tPYm9dbzsvLT8U7xY/H38dzy4PPv9Eb2wfc0+Wr6gPtZ/AX9lP3j/SX+c/72/mb/3/+dAFgBAwJzAg4DpwMzBIIEqQSlBI8EWgQcBA4E/AMLBAUECwQeBP4DtAMlA2wCpAGiAKv/q/7j/TL9ivxA/Fj8Gf0w/nH/yACTApkEuQYXCWsLkg2RDysRZhI5E24TLxNREiERjg/TDdkLwgmSB3UFnAMPAoUA8P6v/ZP8pPvC+hH6X/mL+JT3X/YC9ZzzIPK68F3vMe5D7ZrsYOyS7Fntge78757xpvMN9o/4L/ue/fX/HwIIBK4FBAf7B9EIYwnsCVYKkQqqCmAKRgpXCkwKIAq8CSAJegi3B9oG5wUiBUMEIAPuAYkAJP+X/fX7dPoh+e73rfaP9cL0U/Ra9LL0QvUi9v72zPet+Hj5Vvo1+/X7lfxn/d79P/6d/sH+Ef8//2j/pv/c/zMAnAANAbQBZwIGA7QDIwSTBPIE9ATOBHgE6ANeA6kC6wErAVkAuP8c/4n+//1m/ej8dPwp/Dn8gvxt/X7+AACbAUcDPAUkBwMJmAoTDDcNBg6EDv8OPw9WD0EPHw/ZDm8O0A3aDJ0LEQqUCMkG+gQsA0oBg//3/X78/vqG+Qf4yfaR9U/0KfMh8jrxmPA48ADwIvBB8IPw9fCa8Zny4fNd9e/21Pim+qD8mP5rABUCdgOVBIUFTga4Bt0GzAauBnoGXgY2BtUFiwVIBdMEOgSmAx8DeAK3ASgBlwAIAGX/uf47/tv9e/0U/b/8WfwF/Mb7yvsC/E38qPwD/WT9k/3L/dH9zv3I/br92f33/TH+a/6q/vX+VP/A/xMAQgBCAFgASQBZAJoAvwDiAA0BMgFNAVMBRQEwARQB7wDiAO8A3wDMAKIAYwA2APn/hP8g/8n+Y/4e/vn92P3y/T3+pf5l/wcAtQCcAbYCEwSMBQYHgAgXCnULowyjDS0OUQ4fDp4NCQ1QDGMLPgrrCKEHUgbXBDcDgwHA/zn+y/yg+6L6u/kw+cf4bvg++Ab4mPcp99b2sfax9gr3iPcX+OD4rvmL+mL7B/yl/B/9cf3C/d/99P0l/m3+4P5A/7P/CABgAJEAlAC4ANMA1ADDAOgAGgE1AVIBMgEaAfMAqwBhABIAx/9y/yb/A//2/v7+Ff8S/x//Hv/d/pH+S/7i/bj9pf2k/dT97v0o/m7+o/7b/vz+C/8g/xn/F/8O/x//Vf+U/9f/6v8NACoAJwArAD0AVwBVAFcAfQC9AAMBLAFkAXgBkQGnAW4BHwGpAE4A1/93/x7/sf5B/t39j/1c/UH9K/1G/Xb95v2A/jf/FQAYAUUCfAOuBMwF0gbEB6gIkAlfCvsKdQvCC70LkwtWC+MKgQraCfcIAQjTBpEFOATXAjwB0/9t/gH9ovuJ+tD5L/nk+Mr42vj6+CD5N/lR+VD5Tvll+Xv5qfm1+fj5efrz+p37Qfzp/G/9xv0n/nn+vf7q/jH/uP81AMYANgGXAdQBBQIYAg4C8QGlAWMBAwHPAK8AkQCaAJAAcABZACQA3P93/xv/0P6A/mj+V/5s/o3+wP4C/zn/Xv99/3v/KP8U/+r+t/6w/rP+wf7n/vP++P4D//7+Af/o/s7+vf66/tr+Ev9Q/5X/1/8uAHUApADJAM8AsgBOAAUA5P+r/4f/a/9J/zr/Hf/5/uT+yv6v/rP+0P7w/i//bv+x/zIA4wCiAWACPAMUBMYEgwU3Bt0GigcgCKQIEAl6CdoJDQo7CiEKywlICZ0IxAeVBo8FYgQxAzUCRAF7AMX//P5V/rb9Av1a/JL7y/og+n752vhz+Cf49Pf59/r3Hvhk+LH4+PhV+c/5QvrL+nD7Uvwe/er9rf5A/8z/PgCgAPIALAFmAY8BiAGUAcIB0wHkAfAB7gHVAZwBSgH8AJgAMADX/3L/D/+g/kj+Af7N/Zz9hP10/Wj9YP07/Q/9Af32/Pz8Dv1J/Zj9zf0s/mf+rP73/ln/tf/w/1gAswDjABsBXQGOAcMB2QHdAd4BxAGvAYEBOwH5AL8AcwA4AAAAwP+M/1H/B//R/qr+k/5y/kb+M/4M/hP+R/6L/t3+Rf/d/3UAKQELAvQC5gPgBN8F6AbSB50IeAk9CtgKWwuhC7ULkQsmC5kKywn1CPwH5AbfBbAEhAOJAoIBeQBd/y/+If0J/PT6AvoN+VH4pPck9+z2wPa29uf2Rvev9zn4y/hi+e/5ePoH+6b7UPzr/Jb9J/68/nT/AwB1AOwASwGWAeAB+gEeAh8CIwISAt8BqAFIAfAAdwAmALz/b/8a/8P+oP5X/if+9/2//bL9rv2h/af9mv20/c794/0U/kv+jP7K/gP/Jv9E/2L/df+N/8r/+f8hAFoAjACkANAA1gDWAN4AxQCrAIYAagArAP7/3v/G/8X/uP+0/6X/mf+Z/4n/d/9W/yf/A//R/qj+jf5g/jT+Jv4y/lD+dv67/ij/t/9WAAUB6wG7AnkDZQRJBTIGNwcjCPYIxQmLCgULRwtlCyYL0QpbCrwJ4gjzBxUHJwYwBTgEIgMEAu0AwP+W/mP9QfxJ+zb6ZPnT+Ev4//fV97v34ff49zT4ivjM+DT5s/lF+uH6oPtk/E/9I/7H/nL/BABkAHkAkACxAKEAogCfALUAwQCuAKgAhgBoADgA/f/L/4D/GP/B/nL+Jf75/dv9zv3c/eT9+/0g/iv+Tf57/qj+8/4x/4X/1/8cAHAAowDRANYA0QDTALcAmgB4AGIAcABwAFIAVwBhAGIAZwBPABcA5f/O/6b/iv+I/7L/0f/p//3/9f/y/+H/zP+Q/0r/E//b/rf+mP6l/qj+vf4D/1v/t/8aAJwAKgHFAW8CMQMFBOoEzwXGBpkHZAgTCbIJNgqUCsYKtQqNCisKnAnbCOwH/Qb6BeYEsgOPAnkBRAAQ//P91/y/+7H65vk0+ZL4B/iz92r3T/d596H3A/hn+L34N/nQ+U76v/pN++P7ZPzc/Hb9//2M/vj+TP+o/7n/2//V/73/tf+Q/3b/Vf89/0L/OP8i/xz/Cv8M/xP/8f7F/qL+ff5w/mT+Sv49/kn+V/51/rX+yf7p/hb/T/+Q/6f/9f9EAHkApgCsAKcAnQCQAIQAdQBzAGUAUwBEADcAMgBJAFcARgA+AC4AGQDm/7P/rP+t/7//7P8PAC8AWwCsANYACwFVAYMBwAHZARgCfALSAjwDuQNPBN8EXAXdBW8G2AY3B5kH5QcxCGMIhAiFCIAIXAgYCK0HOQe0Bg0GRgVqBIQDXwI6AQoA2f6o/Xr8hPua+s35Hvm5+F74FPjb97L3w/fb9/73K/hk+Kn4E/mK+ff5l/o5+9X7kPw0/cL9R/7F/jb/l/8MAJ0A/gBTAaUB3wH3AQwC4AHKAagBVQEQAZcAGgC1/zv/0P6P/jT++P25/X39Z/1T/VH9P/0X/RL9CP0I/Sr9T/14/a798P0k/nj+0/4h/4b/zP8XAF8AgQB+AHgAgQBtAH0AeQBkAGkAYgBcAGQAegCbAMQA/QAzAWMBrwEQAnkC6QJmA/gDlwQlBbAFSAa7BhUHkQf3B0kIbAiDCJUIfAh6CFAICQi0BzIHjwbqBRoFVQRxA1gCZgFiAGv/aP51/Xf8wvtN+8z6XvoW+ur5xfnC+bv5u/nP+dn5//kk+l/6nPrr+mn7yvsh/If8wfwC/WT9kv3Q/fX9IP5D/lz+fv6d/sT+8/4o/yr/Sf90/2//gv+Z/8P/xf/W//////8TAAUA8//v/83/t/+O/y3/5v6g/kX+6v2z/aH9fv13/XX9mf2x/cX98P0Z/lr+fP6p/t7+A/8E/w//KP86/zr/NP8b/w//EP8R/0f/av+f//f/SADOAKEBTQIaA/sD7wTlBdIGvAd+CFgJNgoNC6wLUwzjDDYNTg1WDSQNrgwaDFULWwpMCTcI7AaGBRcEzwJbAdr/df7n/Hv7EPrZ+Kn3iPaR9df0dvQc9AL0IPR29O30dfUp9hj3D/jf+N75/vob/EH9b/5j/3AAdgFEAgIDpQMlBGwEogSYBF0EFQTPA1QD5AJuAt4BRAGTAN7/Mf92/rb9H/2U/BL8ivsp++/61frX+uT69PoP+z/7dPur+/n7W/zJ/F392v0h/nT+sf7t/ib/bf+D/5r/x//B/7v/sf/V/8H/iP9k/yP/8f62/nP+NP7u/c/9xv3F/dz9Df4//qD+H/+2/3UANQERAhgDGQQlBU0GgQevCNgJ5grRC78Mfg0eDpEOyg7rDtcOcg7pDTANGwwHC74JIgiTBtcEDQNAAV3/jf2w+9z5QPiw9nX1YPSK8/7yofKj8rHyA/OT80b0IPUK9gL3IPgm+Sb6QPtR/E39O/4n/9r/qgBSAfsBiQLkAlsDlwPqAxoESwRLBEAENQT/A8wDegMUA7YCOgK2ASwBogAVAI//CP9//gL+fP0Q/a38UvwK/L77i/th+yb7IPsk+yP7DvsU+z/7ZvuU+7373vv2+yT8VPyT/MT85/wY/S/9Sv1m/WT9ZP1p/T/9P/1s/Wz9bv17/az9A/5//jn//P/WAPUBLQOtBD8GygdgCe4KhwztDU8PjBCtEeMSnhMJFFsUSRT7E1wTkhJxEfwPLw5BDCAK0Ad4BfACbgDp/Vr77Pis9pH0mPIL8czvx+5D7ubt1O0u7tbus+/E8A7yivMV9Vv2y/de+c36LPxz/Y3+lf+FAGUBIQLDAmED4wN1BOMEOAVwBbYF1QXpBecFrwV4BS0FswQ6BH8DyQL7ARMBRAAk/zn+Xf18/M37F/t4+gP6zvm++b750Pn9+Tb6nvr8+jT7fvuk+8f72fsO/B78QPyD/Hn8ffx1/IP8ePxJ/B/85fun+237QPsP+9z6vPqu+rn67fpY+8n7Zvxc/Wn+5f9xAS0DUAVMB5AJ6Qs0DngQkxKEFE4W7BclGRoaoxrQGqgaBhrsGGEXbRUcE3oQhw0yCtIGLAOR/yH8svh99Xryy++R7azrWuq76UzpQemo6WDqh+v57KbucvBi8k30NPYv+Pv5mvsp/bb+HgBLAXwCmgOqBKQFhwZsBy8I5AiECS8Kvgr3Cg0L7gqICvwJEgkcCNEGZgXVAygCbgCO/rj8HPuR+Rz43PbT9ST1lfRv9Jj00vRU9df1gfZZ9/n3wfiC+T/6/vqV+w78cvzr/CP9N/1E/Uz9Q/0x/TH95fzE/Kz8Xfwf/Mr7cvsw++36r/qq+rz65/pE+7r7tfwP/p3/YQFhA6YFLgj3CsgNjRBUEzwWvBjmGs8cKR4zH6Efkh/ZHqEd3RtsGbUWchO/D88LjgdMA0D/I/tL96jzNvBd7ffqJunO5wXnp+bd5qTni+gH6prrS+0g7+zwyPJ09CX2wPc++Wj6pPsc/Xf+xf8TAXAC8AOcBVAHEAnmCrcMZw7eDxcRthEYEjQStBHAECEPIg10CnYHBgRoAMH8Hfmi9V/yqe9S7afro+o/6nLqQ+u37HfuifDJ8gH1SPdr+UD71vwr/uv+f//c/8r/Vv+r/g3+a/3W/Fr87Pt4+yb7D/se+z37Y/uW+//7lfxI/c/9Pv64/l7/ogA7Aj4ETQY0CEIK2AzoDy8TSxbwGJYbQh6gII4iriMPJO0jSyMAIvMfHx1tGUIVwxAQDFQHigKj/dT4K/T/76Psv+lQ50DllOOO4iriL+J+4gDjzuPb5Dnm+ueh6STr3uwA70XxsvNp9hL56vvy/j0CzQV5CecMSxBKE0QWChkzG7McWB1VHaIcVRtAGZgW+RLSDnMKEQa2AUf9qvhJ9IDwVe3Z6vDoo+f55ijn2Of56FrqF+zy7fLvyfGX81r1x/bF9z74vfhW+S362fpG+4f74Pu1/Nv9J/9AAH0BsgLcA5wE4gSZBN8DgwINAV//yf27+2D5i/fH9mj46vrf/ZoAkwOjCOsO1RX+G+QgTyUPKr4tEzCMMGwvXS2ZKswmLiLgHHwWtQ/iCNUC5v3F+Wn1z/Bl7PPo8+aQ5cfjn+GC3wHeY92v3IrbhNoi2tjat9z83mjhReTk56HsivIL+bf/6gW4Cy0RsRaYGwEgDiPQJJEl3SVtJdMj/yBwHe4ZxBYFFHEQPQzmB+sD5ACG/sD7X/ib9LXwce2M6pjnk+S24W7fGN533andht7o3zHiqeX26abuGvPe9mT6QP5NAvYFFQiFCLAHQQfgBqcGbAWhA+AB8wBqALD/Kv82/ur9aP1y/Vz9af2E/ML6zfiA+O/7GgAmBN8FDQiyDKIUgRxGI24nXys2MC40TzZmNW0ygi7aKrslmCBvGQ4RiQe2/g34bfRl8bfsIOc44c3eLt6z3ZPbSthU1QPV+9T31CbUYdNR1VvZ3d5B5XXr8/Be90n+ZwZ8D3sW+Bu1H8Qi5iXqKM8p9ygXJ4olICXYI/MgqxyVF/8SlA+XC6IGNQDx+DLy/OxC6HvkeOAF3VfbNdtb3KTdZ9/w4DbkQuhI7QPybvWM91D5wvt9/jUBrQL9AskDjQQbBpEG6wUTBR8FbQXKBRcF2ALKANj9X/uO+Ez2+vJJ8M3seetQ63LqAuqM6oXx2/0iDUAWOh6fIUArXDVyPKA/NT2kOuM3GjUJLi4pJSFzHGcZehU1E3MPFQei/q/21e+I7dTnLt7w1OfMBchayFXFtcSfxqfKEdKw2VbfH+UN7Ebx3vnBAHoHgAyVDuAPUROTGIEdlCKOI6Amjij7KqQqqCcfI2ceRBocFB4NVAMQ+mbxX+td5yTlOuOY4Z/geOG04yPmpOcb6D3pIuuq7RLw6fE286r2gPri/6EF9wnsDKIOYw8mEHMQOA4HC8MG5gINAEz8nvjI9bjzW/MI89LxLPFx8Gbu1e3j6vDpTunq6APpees+7KrukvIM+UcM9B1bMPA4FjxHP3tGWkguR3lB5DdpNnQwAitaJFQdYhY3FL8NpQr3BG74renw2SvO5ck/xqK/GryQuUi/RMfrzfXTFduG4m7stfM1+CD9Uv4pAr0H3Q8hGqYiqiXRKH0sMzDlND4xFCzwJE0fTRjmED8FOfzF9QrxovA97pDsQenF5LLhWuG74N/ghN7I3IfeBeJK5knr2e/L9nH/TQa6DL0PTBHEEWURQhHEEb0Qdg4fC/4H6AbqBQsEswGh/r366vZR8WfsyOiv5Zjj/OKL4jPkv+WZ5vnnvOqx7DnxX/Jx9hj6Yf3z/xkCqgtMHfgzUUP/S9pIoEqiSsVIZEPoOK4vySrYI/Ac2hiqD+0JJQIv+vj1E/DZ3t/Owr12t3S80r9Rwg/H9swk1qLgQePW6F7tw/C09g/9NwRlDWQSiBYqILMrjTYoOrczqCwaJ30imBxcFCAMVQirBNQBmf4P+abz2Ov05a/jl+J83v3XutEl01nbRONj6ZLsLvHl+MT+8QFjAl0C6AOkB5ALLRAiEwETZxObEywW3BZxE50LKwRy/ZX5A/Vm7xTsDupp6kzr7up26b7oC+ff5gjo9edK6HPoneiz7dDzo/pk/10FkAfPDM0MBQ4wGNYqfUHlT4pRJkgNR1FCC0CINrkodSAAHXwYZxXCDz0GR/4m86zqD+Y53U/NJL6Ism22AcFOy57S0tkk4fHo9O1q7rTvR/Eo9sf/YQ0JGt4iGSX+JvEraTLEMl8sASBWFggR7AxeCbwFRQSqA1MC2fzI9Rfro+Cq1yDU/daB21feXt+C4s7owfGI9Xv2RvbC9lr6hfwj/8cCXwhCDlMVJBrsHJkbmhS1DQEIiwUWA2r/MPpT+BH34PW68krtueh/5Jbhvd5X30LgzOMs56bs7PLE+EL8Vfww/V0AVQLXBoQJKg6iElsU7BJTG5Atm0LMVRtR9Ud7PPM0RS3JJogboRrIHKUa7RgDD6sBWvOc5eXahNmj0WXIob31vEHGP9VF3QHh1+MH5j3oMOdH5zTrbfQlAJAP2B4rKgotvSlJJWgmoSbzI3AbkRP0D5EPXA7+CTsFKv+7+ib04e0b5sze1tim2Kfd2+R66ebogOca6AfrEO5q8Nvz4vlQAjgIlAzLDQwPgQ9iEJIQ0RAAEG8MYQmfBoUH7wccBxgCtPzk9Q3vDOiL4UHesd3X3+ThiuU951fpyeku7F/vSvMH92n5S/2aBIsJbQ+fEtgVgRZJFpIO7xH2ITo46VFgVFJMDD8yNqcrYSZaGmQYfx25HSodDRSRBY/2NOly3Gbb+tWvzl/FPMLBxzrWKd2R4S3k4OSN5lzlaOW26472mALrEZgfaCkgK38k5R09H+0gzyKbHc4XzhQIEgYNkwWR/dT1G/GP6rDnruRf4Rnf6t8E5BTrnO2c6ynpa+iC6/PwwfUG/OoC+wifDAgO4ww/DMsK2An6CZ0KowpzCJ4FkQLWAdv/Cv0r93fxMuxR6I/lc+Ob4kvi8uIC443ki+X755vqu+7783T4Dvzv/bgAMQeoCssRXhQPGM0WLRThD94dJDYKTeVdPU56PwsvsyQQIN0dvxowIrgoECXoICYO0fpM62/eHNqD3APXuc8LyPjGTM8T3EbfE+I34pvi4OUC6CzrG/WQAe4NxRt/I2IkIiDjF/EUJxyXIN0jviA1G9EWlhBOBUn8HfbW8XLyoO6G6+nnleKQ3gfgKOKP6FvrFOsl7D7tge9b9Ej5t/8uB6kKTQytDGsL8AtkDKsM4A0EDssL3gfnAmL+MPx5+U/2mfGn7Bjo9OT14ovh8uGx4ZPi5eJT5J/lKOlM7C/xs/bv+rf9aQGLA6YJ5Q3fE3UV4hecEgARtBudMD1Pk1trVWA/gS8sIuwgUh3XHsEoDS7RLlsjPBDe+ivqUdyB3Nzdb93J1XbNMcol003Z4N1z3lHdX+Hj42rnQ+4x98wCww+iGBUdTxz2FcUT2xg7H4QmCyUvIOAZ0RPfCusCGPvO9jP35PWH9Kbvv+gW4cfddtwp4RjmC+rq7AnvOfDX8vb0//Zi+33/eARNCi0NXw+YELYPexBBD7QL4wftA4YANgDN/Vz7nfdv8Yrr3OVh4VneUN0V3KHe/uCI5PHmkumW6wvvTfJR9Rf4HPw6/9YEhQfgDb0PjRJmDt4KmRVgLIJM5V3mWoBEYTbBJ0UmCyU2Je4tkzGBLvEhJBAw+pnr9N7/3xjkGeSd20DS78221A/a/9xN3XXc0t+J4jPnnvBB+vYEXQ6RFMwWmBUUECwQQhj6ICQqziloJSYdeBSECacCcP5S/ML8ffnc9QXvfefL34jdht3l4K7kgeUq53fprOzN8gD4Nfqj+gr7t/sdA3UIwA7LE5AUThTJEPQKMAUIAxf/OADs/VT7b/d58AbqN+Xd4SfgQt9M3Wzec+CH43DmvOjU6R3uP/D584P2WPwN/qUG4wnKD84OGQwaBPkUlzNjUR1sflfxRGsydSphK2EvLi7RNl89kDEAJv8NL/dw6M3fHt2b5HXgpdXJzYDLzdBn28PahtrI3DbdauKW6l7xF/zdBAcKqA9BFFoR1hD4EH8V3iHBKFwsBCgeIE4UDQx2BHgBHQE7/vn8qPhF8zXrgeKU2m3altwr4Qnm/OaV6ZPsy+4Z9If57vtW/xsCLAMxCSYKigrVDPMNxw/jDxgL4gRLAnX8XPz++Yn3SvTB7VjnquLq3wXdJN1P3UThieRS5vbkK+Y853rssvEE+oL8owFXA+sIeAwYEcoD/wfzGik4MmTQYkBTmjoeLFYpFzQvMks46kE+OS0yLx5QBtPznOaw3JTj/uRJ3XHSJ8ihxhTR6dIn1BHVS9Ur3VDoXvI1/VMDvQXiDE4UhhYOFxUTYBUJH74mxCqiJl8gZReUEkkOBw2jCl4Faf+597ny++td5VHf7t4o33niC+bT5UXoVelx6XLtQPK79Wv8YwP4CDcR/RBsDnoLUwiiCE4JtgdwBU4EYQCp/5L7W/eV8sftAurK5ibkWd/P3N3br9+n44Toa+fl5wjnF+oO7ebzh/jp/7MByAgoCuwNMg1/BNUM0yVMR5hi/2IjQxY1RiXHKE0zOzeMO9dBljfmJqYWDPtb63reZNy43xzlptkO0fzJ/cyj0lDUT9Sf08jaCOMm7F/2W/+VBPgK/w4AEOcSsRQ7GTIlUS3YLzkrvyBXFO0MCwf3BMkGAgbuBGIAT/in7kDkjNtz2Uza1N7R43vlyeZu6BTp9O3f8tr1dvunAF8FyA0iD7QOKg4mC+4LgAyZCrIHJQanAbYAc/ta9QTvZ+pY6PbnwOaa4TvdyddG2YTcR+MQ5m7pvOmE7nfwUPa3+UYAugHzCJIKcw71Dd0GtAZrHjtDjmB2byZM3jXJJk4kPDNaO1Q8bkKgPoMrYB6rBi3xM+dZ42HiNehY2wrLkMFYwofGTs7gzbfNsdS13ULlau+M+Br+bgebCyEMBhANFBwatSawL6AzTzMaLe0gdBlfEFYLggqwCDkGkgGO+sPwMulC4kPf1t0P4F/htOFF4xvjbuMB5xbpOu3/9L/72AKACtANZQ+qDqULCAuwC54NJQ3ZC7sHQQTc/UD59PQ18i/xdu4t69nm5eGp3MTaLNo23ZPekt9+4LXlTOog8oL2SPy2+osA+wGHCbUJ0wjlAVocW0DoW3Vx1008N9go0CeoMwZByUA0REFGnDJGJZ8Pw/ZQ7AXqUemE7Q/ld9KPxvHD7ML8yGbIqMc3zaTYld+k6t3y7va2/iADCwW5C04Uthp7Jc4rcS5ZLwYs9iI0HyYZuRWPE00OmwgIAQz5a/Aj6izk3+LL3ybgUuE735Tgy+AE4BTjueVE6P/vGfgOAJgIAgs7C8oIfgYJCB4LxA9/EaYRew0SCy8DSvxK9e/vBfDW77jwVO3U6Wjj4uJ74ivl9eLt4F/d2OGx5aHstfFu9lb4fvwxAPIFLQmcCM3/8A7aMaxN2Gt1VGA4GC3yKHE2IEbARSBIHUozOQsnRhMg+v7tZPAj7WH0cuv+12XI1sIXwAHFssbXxTzMFtT51zjfKeg/7SP4gP7xACAKNxOvGocmeC7MMOUxRy4kJnwkLyFIHiocARhhEp8Jcf/c88/rR+ec5c7iC+OD4u/fJ+Ai3Qfc2d1n3pLhU+iw74743gDcBLUGagZEBSwGfwmXDQcPsw9/DWcMigfjAu/8ZviB9wj17/Nh73rrduVg5XHlWOjH6IDn4uS65zXpxOur7GjvrO4k9Pb47gGRBMYGH/qaANgiCj0BYFxYAzwRMNItzTAXQ8xEFEbZTLBCpDBbHxMIxvbe9ofx3/Qb75Pexs7dyNPEwcZByQDIfcvC0mfUG9rr4svnd++w9fj3QwDaCU0RcBsfJRwrcS+vL+UobyX9IE4e9R6YHYAYhBBSBaP68vPC717sg+jN5XLhPN4C3tnc6d1A4frgpeMq6K3r6/G5+Pz8dwLiBFIE4gVAB0cJgwtoDnANYQ7vCa0E8P/t+qf3ZfVK9Hzxr+/J6DDmSuRo5jrp/+tH7IHtp+zm7ATstu+c8ab2f/mG/2wC9gVPBcP7DgsEJWM/HluBTp4xSC+PJM00rUiQSYpNUEw6N/IkKBfCAAP93PjK9sv1ju9W3OrQ1sdbxLvEPcQ6xiHMH9Rn21vg3eVu6sHt0/S3+3ECtguDE5MbOySwJcQjoyHdIKMiJidXJlgj6B0DEwMK7wEp/Ff5rfYO8zzwO+lC4krfg9tf3sXiAuFd4hflWuYP7Czx4PT1+q3+egGMA0YF0AezCOQJnQmOCbsGjQUjA0MDDAKH/SH5B/NS8Dft9utk6JTpC+hc6SLqZ+ra65Lvuu9O8fjwH/PU8Tb3A/ojAxsFgwd+/dX8cxw9MVBQblBBM3wngSlGKm5BFEgZR5ZODERNLiod+Avt+ysC8f5Q/qf2J+ax1LnOPMt+yiLMsMzMz/PVvdY81xPcS9++5bHsE/Kr+3AGew7FFdcaAR0YHYYepx32Hgog7x7uHB0b1BewEGALLgTl/Yn7lvhC9K/xLuur483hUd/W4ATkuOII5n7qaezY76DvkfAD9nH7UAGFBCAH1AhbCOoJ1whNCFsGDQN7AEj/cv7G/GX5SPXi8l/wDu/x7Gvrlerk6krsoOsV7HjuyO6e8rn0HPfc8oP3v/au/Vb+i//i9VwROS4SRGxZBDYnJcMfQyd7NpdL0krtSkJLlDJXIUUTwAUaBLIM3QYPAhTyTdzBzkXN6ssazuzRj9Hf1VjckNlR23Te+t254wHqZ+78+Z8H2A+tFxcbhhl9GC8bgxs+HkMgWB6+HW8bLhfAEv0LmQbfA8L/cv3d91XwCutn5IDjT+OJ4G/iieP75VXszO1Z7h3xbfKG9jz4s/tZ/zYDxQgQCdMKegkCBhsDqAHI/kv9DvrS9m74C/op/Lz3yvTP7s7sN+v+7Lzsu/Cl8f30C/PS8q3x8/L/8nD2EPke/JL9SvuE8y4DZiTYOTxTLzx3I8Ah9CNMOaxMAlDJTe1JVDTeIUMXFQrvB+wPiQvCB2P30t/Iz3HOmM4f0CHSmND90lTYPNmX2u3eJ97g4FHnWexP9sYA5wcpEhQY4hm6GKoZQhq2HbQfWx2LHMkZGRZrEmIOPwoqBNb9YPt996DzD/C/5wPkAuUb487iLuPb5dHqsey77/HwHPKr9m34X/3ZAOED2wYdBGQFCAa6A9EC/wKa/+X/BP0I+qv50PiM+pz3f/Zg8oLwpe0b7tvu9fEd9Kv1u/O/8ozvjvC28PXzmPfP/Mr+lfyS+FTuXggMIg88DE9sNHchNSH0H802TUjSS5tR9EqgNK0gghXVCfAP9BHFDZcGNvbd40fZ+dTN06zUrdQv1G/Xjtfz1yHab9qp24Tf+uOR7eP53gKTCQIPMRKKEgwUThR8F78cLCFiJDoi+B3oFvIPNw1NCwgK8wVU/0f5ifO77Cvrz+gX52bop+YM5d3mjOja6Wftt/C+9Pn37fpY/d8AAQO5AkMCJwC7AFMBRgGMAQ8Czv9c/oP6d/ii9z71Afd092v50fcR9bbuZ+v67LjvpfJr9L7zZPOg75bynPBS87H1qPmj/FEAyQF29SX6cBS4LKNNR021KqUhMxXdH5A7skaiTqBQOz7aJika7gk9B2EKJw6YC14FOvHW3q3V0NPW06nUNdVg1YLYydk42Wbaudu/3DfirepB84796wW+CmkQshAYDrAN9xEIGU8hWyZZIs8d/hTlDVwLzQnPCvsHtAOq/lj5EPK08Mns7euQ7MvoMeeS5yTr6u2474HxjvJX8xn23vaE+sz+RACEATT/ov55/0P/jgCbAgwCVgBk/Jf6hPng+gD80PpH+kj3XfU+8rDwK/HB8ILzF/RP9g31vPTE8/TxN/a79pD5J/lB/z//JAb3AQb80/e6F4kvNUU0S08jnBvHE6Yf0C+dQpZFfkblQE8l8hmvDX0G6weBD6IJbATt9S/hi9rl2KPVp9Zz1uHVHtvC3SvbL9xQ3WTdBeN76mDxp/ksAs0G4AomDcUNFA5BE0UZ/x1nHikbfhiEFG4SJhFlD+INKgzbCNkD/P7H+Bf1FfFb77bv5uuy6yrufuzB7Frr8eiT6sXuofDd8Yv2/fk3/PD8bfuV+tb9+f4iAjEEtwOVBHD/yPyZ/Hj+lPxI+d725PMB9q71KPW888zzSPNp8eLxufPW9A32MPVC97D1pvmh+Bz7NP5+AgwEVQT3Afn1DQHFGM8wzU6wQyglch2HE0QlAz5xRwRMVkrFNscgJhW1BmwHlQnhCTkGov256jjaUtUa0ofS89T90rLUuNkb2gLbhNyc3ZLe0eIS7JP1U/84BsMJfQ1OD1AQwA84EsoWEhvQHSMd7xyBGpgWQhXbEdYMWAdBAhP9NPtT+kf3c/Lp7mvroeZY5Evneeb/5y7rGOrq7Xfw8/Ge9DD4bPvj/QL/NADcAVYFjgXfBOoFdgJNACH9lPsw/H/+5vy8+i/30PTR9T31APcM9gn2z/Fe78fwg/SQ9sr4Lve+95z15Pch+HD6XP3fAcoC8AVPBXf/9Pq0EYstKkTrUPkwBR84GtQfbjVZRQ1GBUdgOysmCRk7DnoHAAZPDLwElf668PPcc9ZY2M/V39Zo1gHTMdYQ2arYINoB3T/cPODf5q/tMfcp/4YEYwpEDXMNvg75ElIY9B0pIXEehhzTGOMUuxR3E7oREw5VCKYC7/5M9y/y8O0p7CDt8etL63zrruol6+rny+a06pXsA/JF9Kz3Kfs5/D39OPyi/ZkA2/+7APMAc/+AAKv+Pf8fAOMAs/59+6D4JPex9w72AffQ9xb4MPdZ9KzyEPEU9MXzSva79pr3Pfgl+er9gf6SALQAYgYgBYIJmv5t/+sS7jJMRZtKvDHyE3Ea8xZ4Lgo+qkR4RG47ZSYnEaYNXgSLCg8OHAptAe7xMeBW2CvZZNkn2VDYVdRc1bjWH9eB2obcLd7M4MrmSvAt+skAFAarCaILiQ00DxERPxamGZIafxt9GAkXTBRaEH4OiwxPCM4CaP/k+tr55PlR+Sj18fE67APou+jd6unrSu2q7dnt+e7J7gXxnPMX9hL4f/nc+WH/YgLzAyUEcgMQAqf/8/9c/3MCWwLBAS7+Nfy1+NL2WPTP8/H3pvhg+bP2WvXy8mDzzPQH+AT6LvzV+Sr7PvpQ/7r/xgInBdYH0ArXB00GFvoGCNUh2DV4TW09KB9WGi0UCyNrOdlCvUIrP1wrpBUDD+gH7gbdB9wGXf4B9vvldNpw12PXW9Ve1W/U8NXU2mnchdxl3d3dcN6Z5ZDv7PmSAs0H6AgcCgMKFwp5DXIUJxnkG78bFxfiFDsRfw5DEGcQ5g5nCvoDUP4y+jj1wPLx74vvrO6b62TpRumQ55nlzuVG51HqxvAc9cv1gPot++n5afpU/B0AXwU/CGQIJwfFBCACvv+fAbYD1AZ7BHcBFvxI+dv1lPQV99D4Tvzn+WD37PLp8bzvlPJI83P19/bp+K/5b/sx/s7+IP+zAPcBdgYBCR0IqABOBvEhNjQJSaM9vR9ZGUUYBiWpNdU/6DwLORYvExflELQIJgOKCh4KFgQt+cDoHtou2pnaJNoi2zPbIdol3WbdJdsa3n/e3t4X5Cbqh/NN/LcBCwVQBkQFqgQTC64PHRV/GiMYAxZkFFIRnQ09DIwNjwpYCU4HmQEr+/n2GPI58KDvQ+2q67zsWu2n7pzsduo46wruAvA98Un2cPfI+5T9WP3I/swCBgbZB4MK3wlJCPsFnQQLBB4HngZ+BRcCRwAQ/Cf5+PYd9hf4yvcD+In0t/Lo8B3vSe9j8mb1ovaQ+DP6gPo0+0b7o/qW+4MBaQT/CYUIwQbQ/6oVUCogOzlFyyiYGnMXayGELXA+FEEkOyE4MCQ4FPENCQlPCGwPBgw5AoP1XeJX2ZPbdNue3MTb1NdZ1hnZKdfh2APb69qr3R3kSOv/8Wv5rf11Ac8DYAQ1BKgIRw4SFP8WZBa7FToUpRI1EB4Pzg23Ci0IFgVEAlL/wf1y+Df1mvQX8bDt8u5V7X7tmu6k7ifv2fDF8+PzpPbL9zH6bfu2/UMBQQW4B4AI2ggQBrMFpQUTBsEG9Aa7BYgD3v8d/oT6KPj990r4ufg/9m70mPF77yHwLvBR8VTzjfYy9sz2Svav9en2Dvvq/dj/UwXgBMAIjAVyBAD+gxYhLto9xEVRKfgXcxO+H3Ur+TviQUg7pzY+JFITsg5fCyYL9hIpD+IDS/cg5UHbYd8V4Nzfcd3w2d/WINgO1/nY9tos22/cY9+Q5Y3rqvOe+BH9LAFFAm4CEwZeCm8OmxCYEFcRqxK8EpASURKXEAUOIgurBtkErwPTAg8A0f3M/AL5oPTj8qnwAPFJ89/yHPKc8ffyovMd9oL4evmA+ij8xv57AMIBrwNqA1gCPAP9AR0B5QHnAwUDFwI3/9T81Ph6+bX4sfaJ+K33evlR+N/4oveJ9/r1Evju+Pj5XPtS/Pv6JPz1/S//YgHjAmIE4gY2B2oC7P5s+JMPoCQMNUI9GSFdEuYP8BaNKXQ7BD4eOsoyRB8QE0kQwA2PETgVkg5bBD71DeU64Ufj4OOo4z/eENX004nVy9RU2ZPa79ia2l/etuHU5yvtDvI79kr6+vwn/zoCBge6CqANXRFLE/QVpRZjF/kX0RaDFaMS3w/rDMoMjwogCOIF1gDX+n737fQz9Cf1pvWd9O3yH/J37+7vcPHt8sH0X/Zo90H5HPuA+yP89vu++x38rf1G/jEAAAKyATAASQBK/hz/bv+C/xgAOf8LAZT/Uf/n/UL9vPsC/Mz8i/5y/YH8MfqD+TX5cvrw/ET9o/8bACoAEQDn/q76PPY+BeMcCiwTNhgiXQsNDLIReyNpNNg5rDQPMAklVRZDFzUSHxKJGYMTsAqB/M3st+RG6MLpi+dk5FncnNbN1sbVndWE2A7XgNd82oTdfeGb57nsT/J993/4uPpfAL0DKghJDYsOKhLzFv8YCBoHHOAbMxntF7AVFRXSE1ASkhDyDTIJGgQ8/mn6+vg3+TX3gfUL84vv6+w06tHqPuuX7VHvFvGp8vDzrvRg9Kz1gPdv+jD9/v/ZAXICMwJ3AgUCnwKhA/oCqAJwA7IDtgHNATP/Gv4x/5v+e/63/T/8Z/r++mv41Pnr+Kf5p/i/+vn6ZvpL/Lb7q/61/Lv/HfbzBYUZ0iZ5MVchtgxoB7UU1Rv3LkI3QjEQMHUlixMFEM0QZBFLG6gboRCdBGP0hefH6W/uge6z7PLndN372nPYMtex2c7bINuA20je6d0g4/Tl0enl71f0aveT/N0APAQxCCsK6A3zEscWsRnUGhQc/xyyHMwbQhpSFowU7hG/D40NawkQA6D+l/vz+TH4JPd69BHyQu/K6zzr1+qM7bnvCPEZ82f02PXK9Uf2S/if+Jr6Z/yY/YT/NQGHAqEBBQNKA6wDMgMcA30CbQHwADEArQDJ/3wBVwBy/2T9wvvX+FX4xPb99zT3dviM9yj4+/hD+WH6w/n8+nX6i/wG+bT5hQZ0GvYiayjHFbcCLgoLEzYmaDVVNiQsoCWPG3QRUxekGF4ZYyFAGckMRv8I8kbsBPMI9+b0lu/N5FzcTdho2ObYUd2M3WfcwN3p3snfNuQd6ALsrvE/9or4IP02A+0GLQt9DdoO2hE4FN8VuhhmGiEZmBiVFnwUERLZEeMPTw6lDTAI1QHF/er8kv58/uT9YPqs9Rf0FvH374nvPPGr86D0YvWW9aT0oPPg9CP2evfX+Un8N/yI/PH9R/1p/GP/9/5DANsBAAJWABv+Nv1n+6n8zvyI/R38CPyJ+6j5QfgT90/2YvfM9zD6t/iG+437T/wa/mP9zP6z/AMAE/p1/ssOahrEIzgiqgsdAhIKEBPeJgkxJCyLJ0cgbBUCEsYWERi9G0YhZxUIC2UB0PYE9o/9e/68+GvxYuam4IHfQODp4JLig+EY4WHfRd5B33fkwefO62nwnvDj8b32cfvC/rYDSgajBzYMUxBuEQAT6hPvEisUWhWoFpsXKBgPF1UVYRKTDZcKTgjQB3MJdgeHBN0AB/01+Zf2zvUg9OT07PTb80PyfPFt8LfuH+/P8E/zb/QE9ob1fPQu9WT1ufUN93f4ovqu+1L7cfxB+n/6OPs4/Fn9Mv1y/p39I/6w/aX+Yvwh/Rj9Of5S/sD/qf/1/hT+NPy//d/9iQCV/oT+Z/uvEMUaoR8lHc8C6vwhBZ4WMSNTLi4nFh4oHMIRIw+8FncaDR+VJIgZOgxCAab5nfq9BaQI0gNB+tbt9uQE5Szmnuec6hzo9+N14Mnf+dxG4g7m5eg97O/sFO0M7jDzl/VO+aH9ygAdBj4K0ArgDPwO+Q8PE0kVjxb0FqoZUxnWGBsYhxRMEd8P+xABEhcQhAxJB+0BHf4d+/b4Efdy9hz1CvLy7nns8enT5xjoBenH6VDrcOzW68Hr4O0V76jwa/Tf9aH3ovlf+6X7uvxe/uD/fQJbA+UECQRsBG4EfASYAo0DOAMsA54CIANFAfX/lwBf/mX+tP74/1gAcQCa+8z2wPXSCFUQwhplFjD+gAFuBp8RdyDPI9QeDh9GHgoWBxamGTAYtSOxIukZORHXBHL+AwMnC+kIqgUg+6Lue+ni6OzlTOh+6evlgeSV4FzbC9wr3A3fXOR953noOOp36zvsIfHf9C75wv8RBZYI0AxMEGETqxbbGH0ZpxkMHXYeiyDNIX4d/RmjFp8SHhIKEF4NRwoeBssACfwW+JfzePED79Dr2elp58flLuVE5RnmFOZR5k3mCufA6KnsOfAm8x/2QvfK+D76g/xL/l0B5wPaBdUHsQaVBgUGRQVUBiUH7gULBpoEogJHAdEA9/5b/s/9oPxw+6L7EvwL/SD9/flp9gT0fAZMDiEXYRfOASUCVAl/ElEgaiY0IZkfIyBpFywY3xxPG9ckZyN+GUIPSARB/TUCKwmqB28EJfm07W3nOOUU5M3nsOgN5kjkKd/62S3b2tua31Tm7+ql673rc+3P7mrzzvfh/EcBvQYTCysNHw+fEXEUKRZbF6QX9xlGGdMZ+xkxFpMUBBP9Dz4O1gtFCaAEVQKy//T8J/uL9vzzYvBa7uHsk+t36kTpg+k46QfqPeuJ7NPsX+1A74vw3/Lz9bT3xflf/Jj8WP5h/xwBpgNiBOIEwAOWAywDggP9AyMEcgLRAkwAqQBx/wMAef8TAJEAof24/nz9cf+P/i8AIPnzBt8SBRfSHOgLhv9rBIER7xj+JEojKx2THZ8YSBDLEkwWNxn7IhkdfBGHCEL/0fzZBI0IcAXB/v30jeow6XPp2ekc7dDrdej95G7ghNwx4VPkm+ix7T3tW+vu6wDuGvD19Yf6rf1QAsEEFgUGBnkHBQrVDhYSIxOnEkAT4hL7En4TMhGIEHEQeg/YDvsMEAoMBwYF7ADC/pb9NPsx+5/5M/fr887xGfBv7r/uQu/k7zbwtvBc8ITvVvCJ8TPyb/P/9B32MvcZ+O35QvqG+9n8Lf0U/j7+HP8s//H/8QAiAzQCsAIMAi8CZgIiA2MFvAXQBYUEPgT6AkEEiwL9APQA7xKHGHEbBRbS/QP/9QYUFA4epyHXGawWjRRfDB0K/w64FIYaWx7GEaIFNv59+34BowqFCRAENPsU8SLttu107qHwH/O975LqP+VX4kThRugF7Wbu5e4J6+7pWevx75HzU/cB+un73f4O/2P/NQKLBc4Iewy6DAgNng2KDygRCRE9EVUQBA9vDjAP6w5wDU8M7AkmB7EF/gL9AND/j/64/JX6Y/hJ9jP2I/W089DzRfE88B3vMe5771zwjfLe8bzy6vGm8RTyf/Jc9Mn2MvqC+6n8nftD/J78W/4TAQMDgANABSQEoQQgA/wFzwbTB88I6AZ6CMkF2AbZAI0AXwreFE0W3BUdA4z7IAaCCzUZqhxEFnIT+w9hCpoI0wxvFJMYpx1kEmUGCgHV/lgGXA31Dc8H9QBi9wb0c/Rs9YD48fh79ZHu3+g45aLkieod7h3vCu3e5+DkX+WG6Mbr0+5p8eLzsfZw+LH4zPry/fcBQQYpCLgJcAszDmURxxLwEqwS+xLsFNsVuhUWFP4Rqw/6DZ4MmAknCPIFzgNuAS3+fvrZ9v/08vL+8YfwoO5a7evrXOvq6zHs3OwE7obtfu9472Hx2vJd9ID3H/ny+lT8e/23/q8AkQA7A80DnQY+B7kHTQdaCM4IuQZ0B/wFugYXBacFPf0WCPQPSBLKFY0FGPrO/PAFVw3yGDQVlBF1ED8MvAbpCJQOEBRjHu0aAxDgB/0BrAMSDqIREBErC/sBp/gK9x/3efhF/IT6JvXJ7h7oquOp59jpGO3E7JLn5uO44wvltefo6w7vfvED9N30GvT49Ar5AgDVBXoJugr1CRIMMRDoEn8TXRKxEioUyRVYF1AWYRTFEewOxQvRCKkHFgdtBbkDRwBW/Bj5Fvbp9G7zfPJd8c7vh+547UnsOuw37WftMO/s7g/vY/Aj8rD0Ofbq9x34y/jl+i/97v+tAekBMAOwAg4E0wNABWAF0Qa1BckFUQbtBEgFPwKU/4gEQA/eDJQRZwQU+2sF/QioFIoaaxSuEBoQkAydDMIQ7Bb1Gcsf1xcXDY0HVgWdCsYRshIcDIAGXPwH+FX31fb498H4wPWo72zqZuSP4m7mU+mf6wPq7+Va5H3l3+gG7BnvpfDS8vb16Pfw+Wf9CQFsBUUIlAmhCogLSA5HEZASAhP1EVMRdRIWEi8SDRERD7kMYAorCNEEiwO/AtoAmP/U/PD5N/eJ9Qz1PPRx8+3x3vDr70vwXvBz8ZLxmPKC86XzH/Qy9bL2lfci+RT6wPrg+nj8Dv22/7X/zwE0AKb/BgDaAAEBeQBMAuwBPgIFAboAxP0DC2oOixBfDiz/s/53BsQPGxcdG5ITlRJwETMOYQ3yEKIVMRv4HEAUjgpnBggHuwsME5MPnArPAg/7YvdT+E35gvvf+2T3IfFp6svmKuYX7JTuiu+X7QbooebJ5+Lpke3T8InyLPTJ9B31nfaZ+a3+lwIYBCQFOgZGB2AKfg0wDvoOwA7DDkEPmw+kD7MPtw+zDXYMCAlLBUkEbgOTAucBDwDm/B36i/cU9kn1/POq87HyufH/8Y7xfvGi8YPyyfNJ9Hr0VPVS9jv47Pmy+s76jvpG+678lv1s/wMA4gHqAfoBTQCd/4IBHQFaA58AVQCcBmMM0Qw7DiYCEP/3Bm4KoRWrF6gSTxE/EBEOPg/UEbcV2RgJHOIUcQ0/Cj0J+Q7tEjURnwttBiP/K/1D/X38Nv6U/fT4H/OY7erpm+pe7nvvO+8z7HPnNOYi51PpOu2/7/bvSfE+8cLxgvTf+CH85P5NAK0AWAM8BSoI3ApEC20MFw14DIUM4AyIDZwO9Q7NDVULRQhrBawEegTeA+MCQADP/dv7MfpQ+eL32PZN9tn1QPTd8+nyMvPH9Bj14PW69B30xvQh9v32LPiH+LX56vqy+/n6O/uk+2/+l/+b/zoAkf86ADkA8AFE/1sIAgymDXIOIQXkAUUHwgzFE6wYchOSEeoQWA9jD/0SaRQJGGIZBBSgDWIKwQlADa8RAQ+9C+IF2AB5/Xn9E/1v/hT+pvo/9tzwcu5M7n7x1/L18hHxSO036zHr9ewU8Eny9/OF9Mzz4fOV9Bz2gvmh/FD+CQAPADAA5QH7AmEE8gXkBt8HUQjZB2kHWAeDBysHXwctBWoERwWIBK4E1gLu//b9qPxn/Mz8t/wS/KL7TPr39x73y/X/9an3cfiw+HT3Rvax9vz3O/l2+g76F/qV+gr78PsP/Pr9Vf8oAFUANgCk/zH/hgAU/44CPgdrCE0KZAeHAFgC0Qa+CY8RbxHqDZwPEA0bDEAP+g+0E4gXihXvEEwOJAyQDpwSihGgD9gKzgZvBDwDAQPYAbgANf72+Sv2JfNu8Qzyn/NF8v7wQO8E7NnrIO0U7lDwn/H08P/xAvOd9M33fPn5+UL7+vuF/U4ADQKyAw0FAAUfBXAFsgXEBmAHkAdyB/4GQQVsBNcDxQIEA/kBJwAP/239Ef3//Dn84vuz+m357fdv99v2sPfm+HP5LfnS97v2VPbQ9wb5UvoT+5764PqV+yb8Qv0k/lf/Q/9q/wAANAALAdYBgAGRAnAHmQhYCo4IpQIuA+gGcwr7D7MQ6AzODLoLEAtfDT8PbhB5E08S+g60DDoLeQxlD8MQLg/mDLYJIgfsBfwFSAW+BJEDKwA5/RH7Hfls+Gz4afYW9brzRPGG8Nvv6O6x7+rvwe+D8Cfw/u9p8bHyePST9gX34Pdp+Sf7df1Y/zcAzQDyAbEC7QNiBd0FWwbwBlgG4AXEBbEEdAQfBA4DVQJmATwA5/6D/RL8lfrI+V75yfhN+NP3HfeB9lr2P/U29fT0DvZz+JX5P/qO+Tn58fmq+7v9cP6h/8IAdwEOA8cD+QLRAy8EowRNCQYLFAxcDBwJ2ge0CQ8MZA9fEQ4QhA7hDE0M2QzWDu8PWRCWDhkMPglsCOgJDQssDGAKWgemAywBPgAPAT4CQwLMAIL+dvv6+AL4LfeX9w34xvcb99n1afSc85jz8/NF9JL0w/QB9aT1KfZL9hv3fvde+Of52/rp+zL9wv2y/mL/fv/jAOsBCAOtBNcETgTAA9wC3gK7A8UE1ATfA2sCjwCT/9r+GP5v/Tf9yPzp+wT7SvkU+Ln3HPe19ij3NPf+9t33Pfeh9hr3SPdp+FP6bPsX/DX9vv3H/i4AAAGNAQwDWQSFBXQHEQj8CE0Kjgq/CoQLQQwiDjoQexBIEKAPfw9nEKEQqhCAEA4QbBCED30NLQwNC0ALpgsCCkoHkATsAYEBoQGAAJX/YP2Z+uT45fbN9QX2I/b89VH16PNk8pTxyPGT8p7zjvSs9K/0O/XM9Yf2fPfb96D4GfpY+6L8jP3I/bf9OP7J/ob/AQHYATgCLgI/AXIAagCrAEQBbwGkALT/zv72/Yn9P/3s/LX8d/zO+2D7P/vp+q767vlC+Yr5afo5+9P7fvu8+vz6LPsa/GT9g/0y/r7+pf6G/tr+bf9qAL0BpwIyAwcExAQmBTMGDwYRBhgHuQc5CvgM1A30DYoMoQpTCyYNng+MEaQRIRArDoUM5QtcDL0Ncg54Da4LOAiABcIElQTUBG0EBgJs/2L9rvv0+jL6FPm/94/2XPVP9MLzevOG85zzffMV86jy0/Kj80b0u/Qb9XP1hfbL9/f4//mZ+tn6C/us+5z8Gf64/6AA1wBrAAAAVwD3AIsB4wHZAdwBvAHoALT/zP5T/vL+2P+h/6H+XP1S/Er8jvyM/Kn8Uvw2/PD8Wf2E/Yr9Nf1F/VL+SP8AAMsA7AD0AKsBZwK4AhgD4QOHBMQFxwZPBvQFEwZzBmwI9AlkCtIKVAp4CV0Jhwn8CXcLjQygDAUMSgrdCKAIwggNCTAJHgjJBrUFagSLAwsDHAI5AXsAQf/5/UP9YPxv+9b61/np+PL45PiF+B34DPcO9iD2kvZQ91j4jvgm+MH3U/dJ92H41fnh+pv7BPur+U35jvmo+mX8Ff30/ML80vtb+9/7Y/xT/UT+/f0q/ZL8O/zn/Pj9wf4c/0j/If/T/rj+wP5O/0oAXQF2AecA5f9S//r/7QCtAYcB8AAHAJv/v/8GAFoA5gA9AWIBfAEzAUAB7QGpAmoDEwSsBIEFmQY6B4gHvgcPCAIJMArsClQLZgs+CyIL+grtCgsL7ApjCoUJJgjIBiIGfgXjBN8DfwIlAQEA9P7z/dH86fsr+4z69/lA+cL4bfh9+J74ufiU+LT4zPiu+Ov4Ofm0+VT65vow+yb78vrg+nv7gfxn/cn9Wf1n/OL7KvzX/Kn96/2P/Rv9evzb+477sfsx/Nj8+/xm/JL77vrr+kr77Pta/Iv80vzG/MX8AP1L/UL+X//G/9j/vv/g/5oAuwGfAhgDLwPxAuEC6wIOAzADyQM3BJgE2gR5BOcDewNCA6YDbwQmBdQFOAZdBk0GHQYnBqoGeQd8CDIJbwluCQAJCgn7CNMIywioCGgILQjSB+4G1AW8BNIDHQN4ArABwQCv/yr+x/zA+yL7sPpB+oX5d/ij9xD33fb49uj25/b49uz2EPdy9xH42/ih+eb51Png+f/5zvoi/AT9df1y/Tj9U/3I/Uz+Bv+R/3j/Ov+y/j3+L/5+/vT+Kf/t/mr+Ff40/nT+df7t/XH9i/3X/Yf+Df81/zP/2v62/p/+1/5i/yUA1wBIAXABSQE4AWUBxgFhAkMD4QNeBIoEJwTKA4EDjwMdBPAEZwV5BRIFWwTZA+UDSwTWBCEFFQXlBJYEWwRFBG4E2wQgBS8F5ARrBGEEfAS2BI8EBwSuA50DkAMYA14COAGIACQA5P+y/zX/jP7E/QX9H/xF++D6rPqM+mH6/vl/+TT59Pjs+DX5TPl4+c35I/p8+s765vrZ+lX7+Pu5/Kf9QP6m/t/+z/6q/s7+T/80ABgBgAFrAeYAeQBmALMANAGTAYcBOAGxAB4ADgBVANoAOAEPAaAAFQCj/13/df+e/wMAbACmAJcAGQB5/zv/cP/v/+IApAHvAdIBRwFlAAAAmAC1AfsCjwNNA4UCuQFKAUEBxQGaAoID4gNxA5oCuwFpAdQBiQIcA1EDDgOdAhsCkAE8AYIBAAKTAv8CwQIyAn0B6wDNACIBogEXAgwCWQF0AML/av+h//f/RQAxAGr/k/61/QT9sPz+/E39ev0t/W38wvsm+/z6DftK+5j74vsg/BX87fug+5L75fuO/Gj9+v1n/qz+ov6j/sj+J//0//AAswHgAYMB+wDbAEMBEAKjAsAClQIVApEBJQH3AOsAFQEFAcwAaQACAPz/AAABAND/gP9G/0b/cv+i/83/xv+i/7v/5f87AJ0AqQCoAGcAIQAuAJQAMwHwAWcCOwLEARwB3wAmAbEBTwKWAl4CqQEOAasAoAD5AH4B3gHnAYMBsgAAANf/GwC0ADUBIwG6ACwAx//S/yYAoAAHAQcBrQANAJ//wv9OANEADQHUAEEAof9A/x3/RP+e/5f/fv/n/iD+o/2I/dv9JP5p/k7+zv1l/R79A/0k/Yz9C/47/gb+0/34/Ub+y/4z/1T/a/9U/27/m//R/woAaQC4AOwA9QDOAMMAwgAEATwBZgFsAT0BGQHqAMMAqQCbALYA4gDVAKwAkgBEADQAIQArAGgAiQCRAE0A+/+c/4z/uf8cAJQAowBHAMH/Vf9H/8L/cQAFAToB4QA8AKj/Uf+1/4sAXAHTAZkByQD0/4v/qf81AN0AKQEUAbgAJACz/4D/nv/Q/wMA9P+0/0X/Ff9G/3v/mP+c/4r/Wv+G/6j/6v8rAFkAfgBnAFsARgBMAK4A/wBEAUwBEgHvAKoAlwCtANAA5QD/APEAtgCQAEYAFQAoAFsANQDO/2X/L/87/2T/nv9n/yn/r/47/i/+LP5w/tL+Dv8m//3+ov5w/oD+1f5f/8T/2f/T/6b/pP+1/8n/HgB/AMoA8gDPAGMAMwBGAHkAxwAEAf4A2wCyAF4ARwBaAIYAnwCOAEMA6f/J/9//AgAEAAwAyf+i/5j/ef+C/6z/z//X/+H/7f9CAH0AggBmAEkAIAAwAH4AvgAKAREBywBdAPz/0f8AAG0A0QDyAK4AKAC4/3j/qv8GAD0AZQA3ABAA1P99/33/if/g/0QAawBsAC0AAAD9/2UAxQAKATsBOAEMAcUAqACpAOwAXQGmAZQBSgG9ACwAz/+s/9T/GAAuABcAtf8z/6r+Rf4n/jz+lf7N/s3+lf44/vr99/03/p/+8P79/v/+1v7A/s3+/P5P/6L/2//R/6T/hv/d/0sApwDOAM4AjgA+ACIARgCNALUAxACmAFAA/P/J/8T/+v87AEoADQDd/6D/qf+8/8f/+P8AADgAXQCQAJcApAC9AK8AqwCZAIgAgACjALoAwgCtAHkATgBEAHEAegCLAIMAUgAuAAkACAAWACwARgBFAD4AKQAAAPz/2//L/83/5/8rAFoAkQCEAD0ADwD2/xEAewDNAP0AFwHnAJ8AbQB5AM4AKAFcAT8BwQBbACkALAAuAFIAmgCZAFsA+/+Z/0b/IP8b/0D/bv9n/1f/Dv/O/nn+ZP6O/tX+Qf9n/2v/K//e/sL+6/5E/7P///8IAMn/bP8+/1f/xv8sAHIAXAAJAK3/aP91/7n/LwBfAFEAEwC//6P/0v8KABkAJAAMAPP/CAAhABMADwAAAO7/8P8UACMANgBVAEEASQAvADIAWABlAIIAewBmAFEAMQA4AGUAmQDEAMsApABuAEsAMwAxAEYAWQB7AI4AdgBcAEIAHwAdAB8AAwACAAwAGQBFAEsAQAAuAAMA8v/7/xAALABcAF4AVwAuAAgABQAIAE0AdQDAAM8AowB3ADsAKwAHAP3/8P/8//X//v/3/7r/ff81/yL/Nf9b/3j/bv9W/zH/Cv/y/gT/FP80/2b/W/9A/yz/Iv83/1T/av96/6H/rP+8/9n/7P8FACIASwBAADEAOgBuAJAAoACzALYAqQCNAHEAawB5AHIAkQCKAGsANADo/9f/3/8DADkAOwBSAFsA/v/M/6v/x/8kAGoAmgCdAHEAJQDw/wsALABjAKoAwwBxANH/lv+v/wgASwB2AG0AEgDe/57/pf/Z/wYAGgDs/6v/T/82/2D/mP/F/9D/iP9T/0j/c//Y/ysAXgBUAFcAPQBUAI4A5QAhAVIBVwEKAd4AwgDDAM4A1QDWAMcAiQBMAAMA5P/C/8L/uv+5/67/gP9l/y7/Iv8k/0b/ZP93/3r/a/9M/yT/I/8k/2L/u//b/+L/3f+k/5D/k/+a/9T//P8bACAAJQAUABYAIgALAB4AGwAKAAAA+P/9//j/5P/G/+H//v8iAD0AEADy/8P/uf/W/wcATgBfAGkAUgAuACAAJAA8AGYAjQCvAJYAiQB7AGQAZwBOAE0ATgBhAGoAWAAiAA8ADwAOACIAGQAFAOj/5//Y/9X/9v8FABsAGADk/7D/n/+0//T/PQBzAGUAOwAKAO3/8P8TAGAAjAChAIgAQQA2AC4APABfAFMANgARAAAA+v8RACMALAAdAOX/pf9I/0r/cv+j/8X/tP+J/1P/TP9I/1b/eP+k/5v/hf+J/33/qv/E/8j/xP+5/8j/1f/n/wkAPQBQAF8AXQBPAFIAawBrAH4AcwBWAEgAKwAiABIAHQAQAPn/9//o/+T/AwAlAC4AJwAhABEAGgA9AE0AgwCqAK8AkwBNACkALgA5AFcAXgBFAEEAMwAZAAkA9f/V/9//+P/m/9j/0v+k/3r/U/9G/1r/if+r/6L/hP9U/0D/Pf9L/3j/1P8BAAgABgDo/8f/4/8LADwAagBpAHUAbgB3AHAAcACFAJIAtwCxALYAngBzAEsAIwAoAEQASAAPAPL/9v/T/7b/ov+w/87/zv/g/8X/kf9m/2T/eP+j/8//7/8EAO//8/8AAB8ATABoAIsAnACyAMkAuQC0ALEApgCfAKgAhgBNADQAFwAUABAADQD0/9P/pP9//4L/l/+r/77/n/9p/yn/Bv8d/0f/dP+k/7T/qP+q/5T/tv/P//r/GgAvADIALgA4ADkAQgA2AAsAyP/D/8L/4v/y//v/7f/B/6P/jf+m/8T/8v8DABoAEwALABQADAAkAEoAVwBAADsAPwBeAJIAvADIAMIAsACXAJIAswDjAPYACQHcAKAAUwAWAAgAFgBGAEUAJADa/4T/Kv8U/xn/Nf9W/1f/TP8j//3+7v7v/hT/YP+T/8X/0P/p//H/6f8DADMAYACSALgAygDXAM8A0wDTANIAxAC3AKUAjQCHAGoAPwA+AEYASAA8AC0ACgDs/8r/of+U/5X/uP/P/8L/qP+I/2L/V/9r/5b/x//R/9D/sf+g/4//k//Q/+L/GAAnABcADQD6/+//5//3/wQAKwA1AEIAQwAXAPj/5f/m//b/GgAuAB0AGQAHANj/uf+k/6v/zf/+/woADgANABEAHQASAC0APwBDAE8ASQBRAGMAawBhAFUAPAAJAAEAFwAfAEEAQQAvABMA1v+4/6D/pv+9/9f/9P/h/63/mf+B/37/tv/e/yAAQAA9AC0A6P/u/wsALQBqAI8ApgCrALMAkwB5AGkAagByAHcAeQBiAGEAPQA6ACgAJwApACEARgAqAAgA7v/j/+//7//2//P/6f/M/6n/n/+q/6n/1v/Q/8r/xv+m/6j/l/+i/7f/1v/c/9r/4v/a/97/5f/w////EgAVACAAIwAkABcA8P/Q/8r/5P8UACoAHAArAAsA1//F/67/tv+5/+H/HQArAB4A7//n//T/8f8MAE4AbABNAC4AGwAWACoAPwBYAGEASwAyAPj/1v8KAEAAIQAgABMA4f/l/+b/4P/a/83/xv/Q/8H/vv/S/97/8f/a/9H/4//f/wgAHwAmAB0A5v+w/27/df+V/8n/2P/N/9T/vf/C/8z/9P8HAB4AOQA4AD0APAAtAEgAeACRAKoAjgBoAFAAQABOAGUAeACOAKEAmACCAGMALQAXAPP/3v/1/wAABQD8/9n/vP+v/5j/gf+O/7z/5P/w//v/8f/e/8z/tf+x/7n/5P/7/w8AGQACAOv/wP/A/8r/1f/3/w4AEQAbAAwA9P8AAPT/6v/y//v///8GAAUA9v8AAO7/6v/k/+f/8f/2//n/3f/k//r///8JABsADQATACIANgAsADQASwBPAFYAOQAyAC4ASABXAGoAfABtAFYALQAfABkABwDx/9//0P/D/8T/tf+z/9D/zv/T/8P/tP/M/+D/AwAMAAUA+f/w/+z/8f8DAB0ATABOAFwATgAjACgAKABbAIsAmACNAFQAIQAKAP3/FAA9ADUAIAD//+L/1v/P/+v/7P/4/+3/zP/R/9H/4/8DABAAEwAFAP7/GAAZAA4AKgBCAD0AKgAdABsANgBRAFsAUgBAAA4A//8FAPj/5v/n/+f/6//u/9v/9//+/+3//v8HAAwAFQAPAAAA+////wAA4P/M/7D/q/++/8//1//Z/8T/qf+p/53/uP/H/+j/BgD8/wQA6v/N/7v/vv/A/7z/sP+f/5z/of+p/6//q/+5/8//z//q/+r//P8PABoAJgAhABwABwAgADwAOwBKAD8APgBJADcAQwBUAFcAcQCBAHoAdwBzAHAAaABgAG0AZABZAE4ANgAwACcAJwA5ADgAIwAFAPz/9P/f/+j/5v/t/+T/5f/x//b/8f/w/+P/zv/U/+L/+P8QADAAKQAHAAAA//8FACAANwBFAEcAPwAZAN//6P/7/yUATAA7ACoA+/+3/7f/tf/M//P/8f/c/6//i/9i/1j/d/+l/8j/0/+4/4P/cP+N/6v/4P8LACMAPwBaAGQARwAjABUAFAAgAEQAYgBtAE4AOgAYAPL/5P/j/xYAOwBVAFMAMQAJANz/1P/r/wAAJgA6ACkAFwDi/87/0P/m/xkATwBiAGMAUgA3ADwAOwBDAEgAUQBOAF4ATABEAD8AMAA7AC8AMwAQAPr/0/+//6j/qf+3/6//vf+9/8P/qf+Y/6f/oP+k/7v/sf/F/9//7f/p/8b/zP/Z/+z/4//4/xgAFgAIAPT/+/8LACgARwBdAGQAWgBFAEcAVgBJAF8AhwB/AGUANQACAPD/6P/0/woAHAAMAOj/tP+j/7X/0v/r/wkACAACAP7/AQAJAAoALAAwAEkAQwAnAB8AHAAqACcAIwAMAOX/r/+h/6f/wP/S/8b/sf+A/1v/TP9E/0//af9s/33/hP9q/23/dP+X/8j/7P8BAAEACAAaACkALABTAGkAkQCRAHQAggCGAJsAhgCFAHUAZABzAHwAcABbAGAARgBEAEwAUwBdAGMAZgBWAFgAQAA0ABsA9//z/93/1//h/9//6P/+//3/2v/E/8b/x//V//P/AAAWAA8ABwD+//3/AwALACgAPQBEAEMALwAeAAwA8v8PACUAMgA1ACEAFQAAAAoA///u/wAABwAMACAAFQAbABcAIQAhAB4AKAAYACkAHgAbACIAIgAgAPL/3f/T/8T/r/+3/7//uP+w/53/kv+C/33/dv9v/3r/h/+b/63/t//H/8f/vf/M/9H/3//v//v/BwAOACQANQA5AFIAbABdAEcAMAAoACwATABIADMAEgAAAPj/5f/x/+H/8f/p/9b/3P/e/9P/x//F/8r/1//R/9X/zf/M/9L/5P/t/+z/+P/i/9r/0//d/+b/4v/v////CAAVAC0AFgAuADkANgBVAFgAagBiAGQAegBqAFIAQwA3ACwAPAA/ACsAOQA0ADIALwAeACYAJQBRAGwAYwBzAIAAfABeAE4AQAA8ADYANwBIAEIAJQAVAPD/5v/p/+P/9P/o/9H/u/+q/5n/hv+L/4r/hv99/4L/fv93/2z/cP+Q/57/sv/G/9j/7v8FABIAJgA9AE4AYABlAGcAXABjAGMAbAB3AHYAcwBdADcAJAAXACUAPQBAAFEAMgD+/+j/zf/G/9j/4f/y/+7/5//m/+D/3f/2//j/4P8BABgAJQAGAAMAFwAaACgAKgApACMAJwAiAAoA9P/N/9D/AwAgACQABgDV/6r/jP+Q/5b/o/+t/6v/r/+k/5P/l/+i/7H/sv/E/9z/4P///wgAKABAAFgAYwCAAI8AmwC6AKYAnACHAH4ATABCADEAKABLAEMAMAAPAP3/7f/T/7r/pv+P/3T/fv+C/4P/fv+C/5D/jP+V/5L/if+j/7z/4f8NACoAPgBBAFMATQBYAF0AeQCPAIUAlgCGAHoAggCIAHYAbQBTADoAHAD//+j/0v+0/63/rv+w/8j/wf/H/6//sv/A/9f/9//8/w0AFQAOAAQAFAAOAAMA9//p/+j/7//z//7/5v/1//f/7f8HAP//9v/p//7/CQD//+v/4v/h/9//7//6//X/+v8IAAkAIgArADEANAA3ACkAKwAtACgAOABFAFcAXgAzABkABAD7/wgAAwAVABEAJwAgABIAGgD+/wAAAADv/9//3f/a/9b/xf/H/7X/t/+7/7z/xv/E/93/4P/i/93/zf/k//P/CAAVABgAHQAIAAoADAD4/wEAJwA1ADQAPwA4AD8ALwAsAFsAXwBSAD0AQgA6ABYAFQAdACIALgAzACQAGwAQAAgAGQA4ADQAMgAZAPj/5f/k/9T/z//t/+T/2P/n//L/+f/7/+7/8v/8/+b/9P/8/+//9f/1/wEAAQD2/+7/3P/l/8z/zP8AAAkADwAuABUABwAJAAYABgADABsALQAgAB4AJgAhABIAAAASABwADwACAO3/8//X/9r/AgAEAAAA9//n/9f/z//J/8f/0//i//f/5f/a/8D/r//V/+//5f/d//f/9//s/+v/9f8JAAAABgANABkAIgAPACIAKAAuAEoAVABZAFQAUgAyADwAPwAuAFQAWgBmAFgAUABZADQAPQA2ADQALQAjABIAAgD9/+3/yf/B/7v/pf/F/8j/w/+z/73/0P+x/67/tv/J/8D/tP+0/6v/q/+u/5v/nf+a/4X/hv+O/3r/hv+y/8b/1//S/+j//P/7/xEATQBmAHMAjgCAAHsAggB9AGcAZABlAHEAcgB6AH4AfwB4AGoAXABSAFUAaQBQAA==\" type=\"audio/wav\" />\n",
              "                    Your browser does not support the audio element.\n",
              "                </audio>\n",
              "              "
            ]
          },
          "metadata": {},
          "execution_count": 41
        }
      ]
    },
    {
      "cell_type": "code",
      "source": [
        "# Display our mel spec from our generated audio\n",
        "y, sr = librosa.load('test.wav')\n",
        "spec = librosa.feature.melspectrogram(\n",
        "    y=y, sr=sr,\n",
        "    n_fft=2048,\n",
        "    hop_length=512,\n",
        "    win_length=None,\n",
        "    window='hann',\n",
        "    center=True,\n",
        "    pad_mode='reflect',\n",
        "    power=2.0,\n",
        "    n_mels=80\n",
        ")\n",
        "\n",
        "plt.figure(figsize=(15, 10))\n",
        "plt.title('Mel Spec of test')\n",
        "plt.imshow(np.log(spec)[::-1], cmap='magma')"
      ],
      "metadata": {
        "colab": {
          "base_uri": "https://localhost:8080/",
          "height": 653
        },
        "id": "weqlcvz7tcEV",
        "outputId": "e583db1b-fe61-432f-8b25-9185c81d4e1e"
      },
      "execution_count": 51,
      "outputs": [
        {
          "output_type": "execute_result",
          "data": {
            "text/plain": [
              "<matplotlib.image.AxesImage at 0x7b27f3174820>"
            ]
          },
          "metadata": {},
          "execution_count": 51
        },
        {
          "output_type": "display_data",
          "data": {
            "text/plain": [
              "<Figure size 1500x1000 with 1 Axes>"
            ],
            "image/png": "[encoded data removed]"
          },
          "metadata": {}
        }
      ]
    },
    {
      "cell_type": "markdown",
      "source": [
        "# Text Classification\n",
        "- Lets do text classification next\n",
        "- We can use bert to classifiy some text"
      ],
      "metadata": {
        "id": "CbqavpInuqEI"
      }
    },
    {
      "cell_type": "code",
      "source": [
        "from nemo.collections.nlp.models.text_classification import TextClassificationModel\n",
        "import wget\n",
        "import os\n",
        "from omegaconf import OmegaConf"
      ],
      "metadata": {
        "id": "_SA-SuoOur68"
      },
      "execution_count": 52,
      "outputs": []
    },
    {
      "cell_type": "code",
      "source": [
        "def get_config():\n",
        "  MODEL_CONFIG = \"text_classification_config.yaml\"\n",
        "  CONFIG_DIR =  './configs/'\n",
        "  os.makedirs(CONFIG_DIR, exist_ok=True)\n",
        "  if not os.path.exists(CONFIG_DIR + MODEL_CONFIG):\n",
        "      print('Downloading config file...')\n",
        "      wget.download(f'https://raw.githubusercontent.com/NVIDIA/NeMo/main/examples/nlp/text_classification/conf/' + MODEL_CONFIG, CONFIG_DIR)\n",
        "      print('Config file downloaded!')\n",
        "  else:\n",
        "      print ('config file already exists')\n",
        "\n",
        "  return f'./configs/{MODEL_CONFIG}'"
      ],
      "metadata": {
        "id": "IlJHyIO7v63H"
      },
      "execution_count": 53,
      "outputs": []
    },
    {
      "cell_type": "code",
      "source": [
        "config_path = get_config()\n",
        "config = OmegaConf.load(config_path)\n",
        "config.model.language_model.pretrained_model_name = \"bert-base-uncased\"\n",
        "config.model.dataset.num_classes=2\n",
        "\n",
        "model = TextClassificationModel(cfg=config.model)"
      ],
      "metadata": {
        "colab": {
          "base_uri": "https://localhost:8080/",
          "height": 336,
          "referenced_widgets": [
            "f9eb2a9eb5ab41ce9b1d60904d890b8f",
            "e85173b497504a799819bd88c15f7416",
            "73d4d7c6d14b48b89477d947be15b7c7",
            "9e720f436a2f4e0b861171e6f7529c47",
            "e3675c0d48904a949b49762ca99e119f",
            "db130c41cc80419e84173db32d2d20d3",
            "fbee7d178daf42eea2dfe1742c62cfdb",
            "a7a0cbb6015a43129b29f351c04d28fb",
            "89bb213ea3df4b90b6b60110aa32038b",
            "5675154633484665889fc4a6652f6ab7",
            "ecbb088c7fb143888b6cafebcefdebf6",
            "babaffaceb2146c1b4b7e840b6fad2b4",
            "0aeb3c89964145dabcdbac7f343f5e46",
            "883b359f9bf74fafaa82a2874634c8b4",
            "7c31833801524295bb58c652ecede88a",
            "6c64df9c268640679c831f53981eaba0",
            "215919ce6d154499a985cdb22e60df81",
            "87247c0e657f434983e3b921d9c2f44c",
            "10607fd5cc7b445e822091167d42dbc2",
            "657ca71a49104c458753be993fda9dbb",
            "eefdbbb573a44c75a5bfc8e42bd5365d",
            "4306c186fd234b7295b575a4ccfc7001",
            "7a682231ad2040849855b8fccb320f49",
            "a36dab3199f34f5eaa8ed1b84985e9ee",
            "037b87145f4b4a40b50781cefa413abe",
            "d8c4aee3de614f37ab67d19435460f11",
            "5723a490bcb14df99c87e5be0990aa47",
            "2d762e2bf53b47bfb3abb31ef1a87520",
            "4c30ee1ed2724c4d9c9750120faf2a13",
            "0f34f671d08b4102b672a610ab070991",
            "804a96570cb248a489ba99ee95760c07",
            "6e9b178f3fae47428a79dc109c155cac",
            "cd52937a3ef24097b7d7d544bb7bfb77",
            "dec083f80f1e4ee3b60c2a97354c46cb",
            "c661204e03954488bfb9e17ded289dc4",
            "ba3c0b1729f44ae1967d5311c5f96371",
            "5a44510975dd4a8a9cdddec773f6704c",
            "b3d4fdec8278494a8a970d74e6a5e6cf",
            "56dddb39113a46b1befe540d7e058872",
            "f50bf2e14ceb4a209cb6a351d6c3363d",
            "7d88a325d77b4ade98ee9f3f49a7260c",
            "69a2c069f28f47a2a780767a531dc279",
            "0e94d82cdb0d4e71b4e91ac535bdd7c7",
            "e7a77ffb1ec2496ba8cf7034ada05326"
          ]
        },
        "id": "we-u3llUv9ur",
        "outputId": "a45bcde8-24e4-48c2-84b9-37b530b4e4d8"
      },
      "execution_count": 54,
      "outputs": [
        {
          "output_type": "stream",
          "name": "stdout",
          "text": [
            "Downloading config file...\n",
            "Config file downloaded!\n",
            "[NeMo I 2023-07-24 16:33:58 tokenizer_utils:130] Getting HuggingFace AutoTokenizer with pretrained_model_name: bert-base-uncased, vocab_file: None, merges_files: None, special_tokens_dict: {}, and use_fast: False\n"
          ]
        },
        {
          "output_type": "display_data",
          "data": {
            "text/plain": [
              "Downloading (…)okenizer_config.json:   0%|          | 0.00/28.0 [00:00<?, ?B/s]"
            ],
            "application/vnd.jupyter.widget-view+json": {
              "version_major": 2,
              "version_minor": 0,
              "model_id": "f9eb2a9eb5ab41ce9b1d60904d890b8f"
            }
          },
          "metadata": {}
        },
        {
          "output_type": "display_data",
          "data": {
            "text/plain": [
              "Downloading (…)lve/main/config.json:   0%|          | 0.00/570 [00:00<?, ?B/s]"
            ],
            "application/vnd.jupyter.widget-view+json": {
              "version_major": 2,
              "version_minor": 0,
              "model_id": "babaffaceb2146c1b4b7e840b6fad2b4"
            }
          },
          "metadata": {}
        },
        {
          "output_type": "display_data",
          "data": {
            "text/plain": [
              "Downloading (…)solve/main/vocab.txt:   0%|          | 0.00/232k [00:00<?, ?B/s]"
            ],
            "application/vnd.jupyter.widget-view+json": {
              "version_major": 2,
              "version_minor": 0,
              "model_id": "7a682231ad2040849855b8fccb320f49"
            }
          },
          "metadata": {}
        },
        {
          "output_type": "stream",
          "name": "stderr",
          "text": [
            "Using eos_token, but it is not set yet.\n",
            "Using bos_token, but it is not set yet.\n",
            "[NeMo W 2023-07-24 16:34:00 modelPT:244] You tried to register an artifact under config key=tokenizer.vocab_file but an artifact for it has already been registered.\n"
          ]
        },
        {
          "output_type": "stream",
          "name": "stdout",
          "text": [
            "[NeMo I 2023-07-24 16:34:00 text_classification_model:167] Dataloader config or file_path for the train is missing, so no data loader for test is created!\n",
            "[NeMo I 2023-07-24 16:34:00 text_classification_model:184] Dataloader config or file_path for the validation is missing, so no data loader for test is created!\n",
            "[NeMo I 2023-07-24 16:34:00 text_classification_model:193] Dataloader config or file_path for the test is missing, so no data loader for test is created!\n"
          ]
        },
        {
          "output_type": "stream",
          "name": "stderr",
          "text": [
            "[NeMo W 2023-07-24 16:34:00 nlp_overrides:253] Apex was not found. Please see the NeMo README for installation instructions: https://github.com/NVIDIA/apex\n",
            "    Megatron-based models require Apex to function correctly.\n"
          ]
        },
        {
          "output_type": "display_data",
          "data": {
            "text/plain": [
              "Downloading model.safetensors:   0%|          | 0.00/440M [00:00<?, ?B/s]"
            ],
            "application/vnd.jupyter.widget-view+json": {
              "version_major": 2,
              "version_minor": 0,
              "model_id": "dec083f80f1e4ee3b60c2a97354c46cb"
            }
          },
          "metadata": {}
        }
      ]
    },
    {
      "cell_type": "code",
      "source": [
        "queries = ['by the end of no such thing the audience , like beatrice , has a watchful affection for the monster .',\n",
        "      'director rob marshall went out gunning to make a great one .',\n",
        "      'uneasy mishmash of styles and genres .']\n",
        "\n",
        "labels = ['negative', 'positive']\n",
        "# max_seq_length=512 is the maximum length BERT supports.\n",
        "with torch.no_grad():\n",
        "  results = model.classifytext(queries=queries, batch_size=3, max_seq_length=512)\n",
        "for res, qu in zip(results, queries):\n",
        "  print('Query: {}, Label: {}'.format(qu, labels[res]))"
      ],
      "metadata": {
        "colab": {
          "base_uri": "https://localhost:8080/"
        },
        "id": "RFs8DhfVwBbB",
        "outputId": "eece670d-24e0-4b89-c6e1-26aff0f7480b"
      },
      "execution_count": 56,
      "outputs": [
        {
          "output_type": "stream",
          "name": "stderr",
          "text": [
            "[NeMo W 2023-07-24 16:36:34 nemo_logging:349] /usr/local/lib/python3.10/dist-packages/torch/utils/data/dataloader.py:560: UserWarning: This DataLoader will create 3 worker processes in total. Our suggested max number of worker in current system is 2, which is smaller than what this DataLoader is going to create. Please be aware that excessive worker creation might get DataLoader running slow or even freeze, lower the worker number to avoid potential slowness/freeze if necessary.\n",
            "      warnings.warn(_create_warning_msg(\n",
            "    \n",
            "[NeMo W 2023-07-24 16:36:35 nemo_logging:349] /usr/local/lib/python3.10/dist-packages/nemo/collections/nlp/data/text_classification/text_classification_dataset.py:203: UserWarning: Creating a tensor from a list of numpy.ndarrays is extremely slow. Please consider converting the list to a single numpy.ndarray with numpy.array() before converting to a tensor. (Triggered internally at ../torch/csrc/utils/tensor_new.cpp:245.)\n",
            "      torch.LongTensor(padded_input_ids),\n",
            "    \n"
          ]
        },
        {
          "output_type": "stream",
          "name": "stdout",
          "text": [
            "Query: by the end of no such thing the audience , like beatrice , has a watchful affection for the monster ., Label: positive\n",
            "Query: director rob marshall went out gunning to make a great one ., Label: positive\n",
            "Query: uneasy mishmash of styles and genres ., Label: positive\n"
          ]
        }
      ]
    },
    {
      "cell_type": "markdown",
      "source": [
        "# Token Classification\n",
        "- Lets but not least last test out named entity recoginition\n",
        "- We can use bert for the same purpose"
      ],
      "metadata": {
        "id": "r5jYUdt8wdHE"
      }
    },
    {
      "cell_type": "code",
      "source": [
        "from nemo.collections import nlp as nemo_nlp"
      ],
      "metadata": {
        "id": "szVmuW7Jw1NW"
      },
      "execution_count": 57,
      "outputs": []
    },
    {
      "cell_type": "code",
      "source": [
        "pretrained_ner_model = nemo_nlp.models.TokenClassificationModel.from_pretrained(model_name=\"ner_en_bert\")"
      ],
      "metadata": {
        "colab": {
          "base_uri": "https://localhost:8080/"
        },
        "id": "Tt_gh4aVxA4Y",
        "outputId": "da71939a-d5e2-496f-c480-39beea8374dd"
      },
      "execution_count": 58,
      "outputs": [
        {
          "output_type": "stream",
          "name": "stdout",
          "text": [
            "[NeMo I 2023-07-24 16:39:40 cloud:68] Downloading from: https://api.ngc.nvidia.com/v2/models/nvidia/nemo/ner_en_bert/versions/1.10/files/ner_en_bert.nemo to /root/.cache/torch/NeMo/NeMo_1.20.0rc0/ner_en_bert/8186f86c83b11d70b43b9ead695e7eda/ner_en_bert.nemo\n",
            "[NeMo I 2023-07-24 16:39:58 common:913] Instantiating model from pre-trained checkpoint\n",
            "[NeMo I 2023-07-24 16:40:05 tokenizer_utils:130] Getting HuggingFace AutoTokenizer with pretrained_model_name: bert-base-uncased, vocab_file: /tmp/tmphj2b3vxs/tokenizer.vocab_file, merges_files: None, special_tokens_dict: {}, and use_fast: False\n"
          ]
        },
        {
          "output_type": "stream",
          "name": "stderr",
          "text": [
            "Using eos_token, but it is not set yet.\n",
            "Using bos_token, but it is not set yet.\n",
            "[NeMo W 2023-07-24 16:40:06 modelPT:244] You tried to register an artifact under config key=tokenizer.vocab_file but an artifact for it has already been registered.\n",
            "[NeMo W 2023-07-24 16:40:06 modelPT:161] If you intend to do training or fine-tuning, please call the ModelPT.setup_training_data() method and provide a valid configuration file to setup the train data loader.\n",
            "    Train config : \n",
            "    text_file: text_train.txt\n",
            "    labels_file: labels_train.txt\n",
            "    shuffle: true\n",
            "    num_samples: -1\n",
            "    batch_size: 64\n",
            "    \n",
            "[NeMo W 2023-07-24 16:40:06 modelPT:168] If you intend to do validation, please call the ModelPT.setup_validation_data() or ModelPT.setup_multiple_validation_data() method and provide a valid configuration file to setup the validation data loader(s). \n",
            "    Validation config : \n",
            "    text_file: text_dev.txt\n",
            "    labels_file: labels_dev.txt\n",
            "    shuffle: false\n",
            "    num_samples: -1\n",
            "    batch_size: 64\n",
            "    \n",
            "[NeMo W 2023-07-24 16:40:06 modelPT:174] Please call the ModelPT.setup_test_data() or ModelPT.setup_multiple_test_data() method and provide a valid configuration file to setup the test data loader(s).\n",
            "    Test config : \n",
            "    text_file: text_dev.txt\n",
            "    labels_file: labels_dev.txt\n",
            "    shuffle: false\n",
            "    num_samples: -1\n",
            "    batch_size: 64\n",
            "    \n",
            "[NeMo W 2023-07-24 16:40:06 nlp_overrides:253] Apex was not found. Please see the NeMo README for installation instructions: https://github.com/NVIDIA/apex\n",
            "    Megatron-based models require Apex to function correctly.\n",
            "[NeMo W 2023-07-24 16:40:11 modelPT:244] You tried to register an artifact under config key=language_model.config_file but an artifact for it has already been registered.\n"
          ]
        },
        {
          "output_type": "stream",
          "name": "stdout",
          "text": [
            "[NeMo I 2023-07-24 16:40:11 save_restore_connector:249] Model TokenClassificationModel was successfully restored from /root/.cache/torch/NeMo/NeMo_1.20.0rc0/ner_en_bert/8186f86c83b11d70b43b9ead695e7eda/ner_en_bert.nemo.\n"
          ]
        }
      ]
    },
    {
      "cell_type": "code",
      "source": [
        "# define the list of queries for inference\n",
        "queries = [\n",
        "    'we bought four shirts from the nvidia gear store in santa clara.',\n",
        "    'Nvidia is a company.',\n",
        "    'The Adventures of Tom Sawyer by Mark Twain is an 1876 novel about a young boy growing '\n",
        "    + 'up along the Mississippi River.',\n",
        "]\n",
        "results = pretrained_ner_model.add_predictions(queries)\n",
        "\n",
        "for index, (query, result) in enumerate(zip(queries, results)):\n",
        "  if index == 0:\n",
        "    print(f'\\n=======Results=======\\nQuery : {query}')\n",
        "  else:\n",
        "    print(f'Query : {query}')\n",
        "\n",
        "  if index == len(queries) - 1:\n",
        "    print(f'Result: {result.strip()}')\n",
        "  else:\n",
        "    print(f'Result: {result.strip()}\\n')"
      ],
      "metadata": {
        "colab": {
          "base_uri": "https://localhost:8080/"
        },
        "id": "ujBliwsYxU8h",
        "outputId": "a809d7d1-6a8f-4b62-8c2d-591d076f058c"
      },
      "execution_count": 66,
      "outputs": [
        {
          "output_type": "stream",
          "name": "stdout",
          "text": [
            "[NeMo I 2023-07-24 16:46:02 token_classification_dataset:123] Setting Max Seq length to: 25\n",
            "[NeMo I 2023-07-24 16:46:02 data_preprocessing:404] Some stats of the lengths of the sequences:\n",
            "[NeMo I 2023-07-24 16:46:02 data_preprocessing:406] Min: 9 |                  Max: 25 |                  Mean: 17.0 |                  Median: 17.0\n",
            "[NeMo I 2023-07-24 16:46:02 data_preprocessing:412] 75 percentile: 21.00\n",
            "[NeMo I 2023-07-24 16:46:03 data_preprocessing:413] 99 percentile: 24.84\n"
          ]
        },
        {
          "output_type": "stream",
          "name": "stderr",
          "text": [
            "[NeMo W 2023-07-24 16:46:03 token_classification_dataset:152] 0 are longer than 25\n"
          ]
        },
        {
          "output_type": "stream",
          "name": "stdout",
          "text": [
            "[NeMo I 2023-07-24 16:46:03 token_classification_dataset:155] *** Example ***\n",
            "[NeMo I 2023-07-24 16:46:03 token_classification_dataset:156] i: 0\n",
            "[NeMo I 2023-07-24 16:46:03 token_classification_dataset:157] subtokens: [CLS] we bought four shirts from the n ##vid ##ia gear store in santa clara . [SEP]\n",
            "[NeMo I 2023-07-24 16:46:03 token_classification_dataset:158] loss_mask: 1 1 1 1 1 1 1 1 1 1 1 1 1 1 1 1 1 0 0 0 0 0 0 0 0\n",
            "[NeMo I 2023-07-24 16:46:03 token_classification_dataset:159] input_mask: 1 1 1 1 1 1 1 1 1 1 1 1 1 1 1 1 1 0 0 0 0 0 0 0 0\n",
            "[NeMo I 2023-07-24 16:46:03 token_classification_dataset:160] subtokens_mask: 0 1 1 1 1 1 1 1 0 0 1 1 1 1 1 0 0 0 0 0 0 0 0 0 0\n",
            "\n",
            "=======Results=======\n",
            "Query : we bought four shirts from the nvidia gear store in santa clara.\n",
            "Result: we bought four shirts from the nvidia[B-ORG] gear store in santa[B-LOC] clara[I-LOC].\n",
            "\n",
            "Query : Nvidia is a company.\n",
            "Result: Nvidia[B-ORG] is a company.\n",
            "\n",
            "Query : The Adventures of Tom Sawyer by Mark Twain is an 1876 novel about a young boy growing up along the Mississippi River.\n",
            "Result: The Adventures of Tom[B-ORG] Sawyer[I-ORG] by Mark[B-PER] Twain[I-PER] is an 187[B-TIME]6 novel about a young boy growing up along the Mississippi[B-LOC] River[I-LOC].\n"
          ]
        }
      ]
    },
    {
      "cell_type": "markdown",
      "source": [
        "# Export model to onnx\n",
        "- Finally lets export all of our models to onnx\n",
        "- Onnx is model format thats more suitble for inference"
      ],
      "metadata": {
        "id": "0uW-e_Uux5K1"
      }
    },
    {
      "cell_type": "code",
      "source": [
        "!pip install onnxruntime"
      ],
      "metadata": {
        "colab": {
          "base_uri": "https://localhost:8080/"
        },
        "id": "EaPzh90gy-mQ",
        "outputId": "9d429054-6058-4c78-92ed-1523d3719e03"
      },
      "execution_count": 67,
      "outputs": [
        {
          "output_type": "stream",
          "name": "stdout",
          "text": [
            "Collecting onnxruntime\n",
            "  Downloading onnxruntime-1.15.1-cp310-cp310-manylinux_2_17_x86_64.manylinux2014_x86_64.whl (5.9 MB)\n",
            "\u001b[2K     \u001b[90m━━━━━━━━━━━━━━━━━━━━━━━━━━━━━━━━━━━━━━━━\u001b[0m \u001b[32m5.9/5.9 MB\u001b[0m \u001b[31m15.1 MB/s\u001b[0m eta \u001b[36m0:00:00\u001b[0m\n",
            "\u001b[?25hCollecting coloredlogs (from onnxruntime)\n",
            "  Downloading coloredlogs-15.0.1-py2.py3-none-any.whl (46 kB)\n",
            "\u001b[2K     \u001b[90m━━━━━━━━━━━━━━━━━━━━━━━━━━━━━━━━━━━━━━━━\u001b[0m \u001b[32m46.0/46.0 kB\u001b[0m \u001b[31m4.3 MB/s\u001b[0m eta \u001b[36m0:00:00\u001b[0m\n",
            "\u001b[?25hRequirement already satisfied: flatbuffers in /usr/local/lib/python3.10/dist-packages (from onnxruntime) (23.5.26)\n",
            "Requirement already satisfied: numpy>=1.21.6 in /usr/local/lib/python3.10/dist-packages (from onnxruntime) (1.22.4)\n",
            "Requirement already satisfied: packaging in /usr/local/lib/python3.10/dist-packages (from onnxruntime) (23.1)\n",
            "Requirement already satisfied: protobuf in /usr/local/lib/python3.10/dist-packages (from onnxruntime) (3.20.3)\n",
            "Requirement already satisfied: sympy in /usr/local/lib/python3.10/dist-packages (from onnxruntime) (1.11.1)\n",
            "Collecting humanfriendly>=9.1 (from coloredlogs->onnxruntime)\n",
            "  Downloading humanfriendly-10.0-py2.py3-none-any.whl (86 kB)\n",
            "\u001b[2K     \u001b[90m━━━━━━━━━━━━━━━━━━━━━━━━━━━━━━━━━━━━━━━━\u001b[0m \u001b[32m86.8/86.8 kB\u001b[0m \u001b[31m7.8 MB/s\u001b[0m eta \u001b[36m0:00:00\u001b[0m\n",
            "\u001b[?25hRequirement already satisfied: mpmath>=0.19 in /usr/local/lib/python3.10/dist-packages (from sympy->onnxruntime) (1.3.0)\n",
            "Installing collected packages: humanfriendly, coloredlogs, onnxruntime\n",
            "Successfully installed coloredlogs-15.0.1 humanfriendly-10.0 onnxruntime-1.15.1\n"
          ]
        }
      ]
    },
    {
      "cell_type": "code",
      "source": [
        "import os\n",
        "import onnxruntime as ort"
      ],
      "metadata": {
        "id": "MAgWBz56y9aE"
      },
      "execution_count": 68,
      "outputs": []
    },
    {
      "cell_type": "code",
      "source": [
        "outdir = \"onnx/\"\n",
        "if not os.path.exists(outdir):\n",
        "  os.makedirs(outdir)\n",
        "quart_name = 'quartnet.onnx'\n",
        "bert_name = 'bert_ner.onnx'"
      ],
      "metadata": {
        "id": "NbHV5-lzzEqy"
      },
      "execution_count": 71,
      "outputs": []
    },
    {
      "cell_type": "code",
      "source": [
        "print('Exporting ONNX model')\n",
        "quartz_export_path = os.path.join(outdir, quart_name)\n",
        "quartznet.export(quartz_export_path)\n",
        "\n",
        "bert_export_path = os.path.join(outdir, bert_name)\n",
        "pretrained_ner_model.export(bert_export_path)"
      ],
      "metadata": {
        "colab": {
          "base_uri": "https://localhost:8080/"
        },
        "id": "oCpudTppy7CW",
        "outputId": "df5f63c1-12a8-4c04-a38c-e4f6f88de594"
      },
      "execution_count": 72,
      "outputs": [
        {
          "output_type": "stream",
          "name": "stderr",
          "text": [
            "[NeMo W 2023-07-24 16:48:51 conv_asr:73] Turned off 170 masked convolutions\n"
          ]
        },
        {
          "output_type": "stream",
          "name": "stdout",
          "text": [
            "Exporting ONNX model\n"
          ]
        },
        {
          "output_type": "stream",
          "name": "stderr",
          "text": [
            "[NeMo W 2023-07-24 16:49:08 nemo_logging:349] /usr/local/lib/python3.10/dist-packages/torch/onnx/utils.py:2033: UserWarning: No names were found for specified dynamic axes of provided input.Automatically generated names will be applied to each dynamic axes of input audio_signal\n",
            "      warnings.warn(\n",
            "    \n",
            "[NeMo W 2023-07-24 16:49:08 nemo_logging:349] /usr/local/lib/python3.10/dist-packages/torch/onnx/utils.py:2033: UserWarning: No names were found for specified dynamic axes of provided input.Automatically generated names will be applied to each dynamic axes of input length\n",
            "      warnings.warn(\n",
            "    \n",
            "[NeMo W 2023-07-24 16:49:08 nemo_logging:349] /usr/local/lib/python3.10/dist-packages/torch/onnx/utils.py:2033: UserWarning: No names were found for specified dynamic axes of provided input.Automatically generated names will be applied to each dynamic axes of input logprobs\n",
            "      warnings.warn(\n",
            "    \n",
            "[NeMo W 2023-07-24 16:49:09 nemo_logging:349] /usr/local/lib/python3.10/dist-packages/nemo/collections/asr/modules/conv_asr.py:213: TracerWarning: Converting a tensor to a Python boolean might cause the trace to be incorrect. We can't record the data flow of Python values, so this value will be treated as a constant in the future. This means that the trace might not generalize to other inputs!\n",
            "      if seq_length > self.max_audio_length:\n",
            "    \n"
          ]
        },
        {
          "output_type": "stream",
          "name": "stdout",
          "text": [
            "============= Diagnostic Run torch.onnx.export version 2.0.1+cu118 =============\n",
            "verbose: False, log level: Level.ERROR\n",
            "======================= 0 NONE 0 NOTE 0 WARNING 0 ERROR ========================\n",
            "\n",
            "[NeMo I 2023-07-24 16:49:35 exportable:130] Successfully exported EncDecCTCModel to onnx/quartnet.onnx\n"
          ]
        },
        {
          "output_type": "stream",
          "name": "stderr",
          "text": [
            "[NeMo W 2023-07-24 16:49:36 nemo_logging:349] /usr/local/lib/python3.10/dist-packages/torch/onnx/utils.py:2033: UserWarning: No names were found for specified dynamic axes of provided input.Automatically generated names will be applied to each dynamic axes of input input_ids\n",
            "      warnings.warn(\n",
            "    \n",
            "[NeMo W 2023-07-24 16:49:36 nemo_logging:349] /usr/local/lib/python3.10/dist-packages/torch/onnx/utils.py:2033: UserWarning: No names were found for specified dynamic axes of provided input.Automatically generated names will be applied to each dynamic axes of input attention_mask\n",
            "      warnings.warn(\n",
            "    \n",
            "[NeMo W 2023-07-24 16:49:36 nemo_logging:349] /usr/local/lib/python3.10/dist-packages/torch/onnx/utils.py:2033: UserWarning: No names were found for specified dynamic axes of provided input.Automatically generated names will be applied to each dynamic axes of input token_type_ids\n",
            "      warnings.warn(\n",
            "    \n",
            "[NeMo W 2023-07-24 16:49:36 nemo_logging:349] /usr/local/lib/python3.10/dist-packages/torch/onnx/utils.py:2033: UserWarning: No names were found for specified dynamic axes of provided input.Automatically generated names will be applied to each dynamic axes of input logits\n",
            "      warnings.warn(\n",
            "    \n"
          ]
        },
        {
          "output_type": "stream",
          "name": "stdout",
          "text": [
            "============= Diagnostic Run torch.onnx.export version 2.0.1+cu118 =============\n",
            "verbose: False, log level: Level.ERROR\n",
            "======================= 0 NONE 0 NOTE 0 WARNING 0 ERROR ========================\n",
            "\n",
            "[NeMo I 2023-07-24 16:49:49 exportable:130] Successfully exported TokenClassificationModel to onnx/bert_ner.onnx\n"
          ]
        },
        {
          "output_type": "execute_result",
          "data": {
            "text/plain": [
              "(['onnx/bert_ner.onnx'],\n",
              " ['nemo.collections.nlp.models.token_classification.token_classification_model.TokenClassificationModel exported to ExportFormat.ONNX'])"
            ]
          },
          "metadata": {},
          "execution_count": 72
        }
      ]
    },
    {
      "cell_type": "code",
      "source": [
        "quartz_sess = ort.InferenceSession(quartz_export_path)"
      ],
      "metadata": {
        "id": "06Ydg6-8zOsW"
      },
      "execution_count": 73,
      "outputs": []
    },
    {
      "cell_type": "code",
      "source": [
        "bert_sess = ort.InferenceSession(bert_export_path)"
      ],
      "metadata": {
        "id": "4sWHGOIqzgvy"
      },
      "execution_count": 74,
      "outputs": []
    },
    {
      "cell_type": "code",
      "source": [],
      "metadata": {
        "id": "A5g8tkgbzlqX"
      },
      "execution_count": null,
      "outputs": []
    }
  ],
  "metadata": {
    "colab": {
      "provenance": [],
      "authorship_tag": "ABX9TyMRf/A+KS52E/R0W+x5CvkI",
      "include_colab_link": true
    },
    "kernelspec": {
      "display_name": "Python 3",
      "name": "python3"
    },
    "language_info": {
      "name": "python"
    },
    "widgets": {
      "application/vnd.jupyter.widget-state+json": {
        "ca9e475d529d42aca4fad2a9a879d361": {
          "model_module": "@jupyter-widgets/controls",
          "model_name": "HBoxModel",
          "model_module_version": "1.5.0",
          "state": {
            "_dom_classes": [],
            "_model_module": "@jupyter-widgets/controls",
            "_model_module_version": "1.5.0",
            "_model_name": "HBoxModel",
            "_view_count": null,
            "_view_module": "@jupyter-widgets/controls",
            "_view_module_version": "1.5.0",
            "_view_name": "HBoxView",
            "box_style": "",
            "children": [
              "IPY_MODEL_d12e626e9c674654aaa37ae7ca9acadc",
              "IPY_MODEL_213e78491e704ea187347dc91c80e1c0",
              "IPY_MODEL_e64263378d434cf5a12ace890e165a6d"
            ],
            "layout": "IPY_MODEL_6bf9afc4eb39465bb7a05cf75f3a1e99"
          }
        },
        "d12e626e9c674654aaa37ae7ca9acadc": {
          "model_module": "@jupyter-widgets/controls",
          "model_name": "HTMLModel",
          "model_module_version": "1.5.0",
          "state": {
            "_dom_classes": [],
            "_model_module": "@jupyter-widgets/controls",
            "_model_module_version": "1.5.0",
            "_model_name": "HTMLModel",
            "_view_count": null,
            "_view_module": "@jupyter-widgets/controls",
            "_view_module_version": "1.5.0",
            "_view_name": "HTMLView",
            "description": "",
            "description_tooltip": null,
            "layout": "IPY_MODEL_35707c4d69d34362bc958ec7c5c54235",
            "placeholder": "​",
            "style": "IPY_MODEL_d9851a2c54a546a2809c2c81aa5a84da",
            "value": "Transcribing: 100%"
          }
        },
        "213e78491e704ea187347dc91c80e1c0": {
          "model_module": "@jupyter-widgets/controls",
          "model_name": "FloatProgressModel",
          "model_module_version": "1.5.0",
          "state": {
            "_dom_classes": [],
            "_model_module": "@jupyter-widgets/controls",
            "_model_module_version": "1.5.0",
            "_model_name": "FloatProgressModel",
            "_view_count": null,
            "_view_module": "@jupyter-widgets/controls",
            "_view_module_version": "1.5.0",
            "_view_name": "ProgressView",
            "bar_style": "success",
            "description": "",
            "description_tooltip": null,
            "layout": "IPY_MODEL_849fccca0b354ad4bdc117fd7d5db132",
            "max": 3,
            "min": 0,
            "orientation": "horizontal",
            "style": "IPY_MODEL_9859dee10a884ea18e0c24178dc1cfd3",
            "value": 3
          }
        },
        "e64263378d434cf5a12ace890e165a6d": {
          "model_module": "@jupyter-widgets/controls",
          "model_name": "HTMLModel",
          "model_module_version": "1.5.0",
          "state": {
            "_dom_classes": [],
            "_model_module": "@jupyter-widgets/controls",
            "_model_module_version": "1.5.0",
            "_model_name": "HTMLModel",
            "_view_count": null,
            "_view_module": "@jupyter-widgets/controls",
            "_view_module_version": "1.5.0",
            "_view_name": "HTMLView",
            "description": "",
            "description_tooltip": null,
            "layout": "IPY_MODEL_3eae495e262a40e5b805649bb4396085",
            "placeholder": "​",
            "style": "IPY_MODEL_6355821c49f24b458e35d612801df42b",
            "value": " 3/3 [00:08&lt;00:00,  2.73s/it]"
          }
        },
        "6bf9afc4eb39465bb7a05cf75f3a1e99": {
          "model_module": "@jupyter-widgets/base",
          "model_name": "LayoutModel",
          "model_module_version": "1.2.0",
          "state": {
            "_model_module": "@jupyter-widgets/base",
            "_model_module_version": "1.2.0",
            "_model_name": "LayoutModel",
            "_view_count": null,
            "_view_module": "@jupyter-widgets/base",
            "_view_module_version": "1.2.0",
            "_view_name": "LayoutView",
            "align_content": null,
            "align_items": null,
            "align_self": null,
            "border": null,
            "bottom": null,
            "display": null,
            "flex": null,
            "flex_flow": null,
            "grid_area": null,
            "grid_auto_columns": null,
            "grid_auto_flow": null,
            "grid_auto_rows": null,
            "grid_column": null,
            "grid_gap": null,
            "grid_row": null,
            "grid_template_areas": null,
            "grid_template_columns": null,
            "grid_template_rows": null,
            "height": null,
            "justify_content": null,
            "justify_items": null,
            "left": null,
            "margin": null,
            "max_height": null,
            "max_width": null,
            "min_height": null,
            "min_width": null,
            "object_fit": null,
            "object_position": null,
            "order": null,
            "overflow": null,
            "overflow_x": null,
            "overflow_y": null,
            "padding": null,
            "right": null,
            "top": null,
            "visibility": null,
            "width": null
          }
        },
        "35707c4d69d34362bc958ec7c5c54235": {
          "model_module": "@jupyter-widgets/base",
          "model_name": "LayoutModel",
          "model_module_version": "1.2.0",
          "state": {
            "_model_module": "@jupyter-widgets/base",
            "_model_module_version": "1.2.0",
            "_model_name": "LayoutModel",
            "_view_count": null,
            "_view_module": "@jupyter-widgets/base",
            "_view_module_version": "1.2.0",
            "_view_name": "LayoutView",
            "align_content": null,
            "align_items": null,
            "align_self": null,
            "border": null,
            "bottom": null,
            "display": null,
            "flex": null,
            "flex_flow": null,
            "grid_area": null,
            "grid_auto_columns": null,
            "grid_auto_flow": null,
            "grid_auto_rows": null,
            "grid_column": null,
            "grid_gap": null,
            "grid_row": null,
            "grid_template_areas": null,
            "grid_template_columns": null,
            "grid_template_rows": null,
            "height": null,
            "justify_content": null,
            "justify_items": null,
            "left": null,
            "margin": null,
            "max_height": null,
            "max_width": null,
            "min_height": null,
            "min_width": null,
            "object_fit": null,
            "object_position": null,
            "order": null,
            "overflow": null,
            "overflow_x": null,
            "overflow_y": null,
            "padding": null,
            "right": null,
            "top": null,
            "visibility": null,
            "width": null
          }
        },
        "d9851a2c54a546a2809c2c81aa5a84da": {
          "model_module": "@jupyter-widgets/controls",
          "model_name": "DescriptionStyleModel",
          "model_module_version": "1.5.0",
          "state": {
            "_model_module": "@jupyter-widgets/controls",
            "_model_module_version": "1.5.0",
            "_model_name": "DescriptionStyleModel",
            "_view_count": null,
            "_view_module": "@jupyter-widgets/base",
            "_view_module_version": "1.2.0",
            "_view_name": "StyleView",
            "description_width": ""
          }
        },
        "849fccca0b354ad4bdc117fd7d5db132": {
          "model_module": "@jupyter-widgets/base",
          "model_name": "LayoutModel",
          "model_module_version": "1.2.0",
          "state": {
            "_model_module": "@jupyter-widgets/base",
            "_model_module_version": "1.2.0",
            "_model_name": "LayoutModel",
            "_view_count": null,
            "_view_module": "@jupyter-widgets/base",
            "_view_module_version": "1.2.0",
            "_view_name": "LayoutView",
            "align_content": null,
            "align_items": null,
            "align_self": null,
            "border": null,
            "bottom": null,
            "display": null,
            "flex": null,
            "flex_flow": null,
            "grid_area": null,
            "grid_auto_columns": null,
            "grid_auto_flow": null,
            "grid_auto_rows": null,
            "grid_column": null,
            "grid_gap": null,
            "grid_row": null,
            "grid_template_areas": null,
            "grid_template_columns": null,
            "grid_template_rows": null,
            "height": null,
            "justify_content": null,
            "justify_items": null,
            "left": null,
            "margin": null,
            "max_height": null,
            "max_width": null,
            "min_height": null,
            "min_width": null,
            "object_fit": null,
            "object_position": null,
            "order": null,
            "overflow": null,
            "overflow_x": null,
            "overflow_y": null,
            "padding": null,
            "right": null,
            "top": null,
            "visibility": null,
            "width": null
          }
        },
        "9859dee10a884ea18e0c24178dc1cfd3": {
          "model_module": "@jupyter-widgets/controls",
          "model_name": "ProgressStyleModel",
          "model_module_version": "1.5.0",
          "state": {
            "_model_module": "@jupyter-widgets/controls",
            "_model_module_version": "1.5.0",
            "_model_name": "ProgressStyleModel",
            "_view_count": null,
            "_view_module": "@jupyter-widgets/base",
            "_view_module_version": "1.2.0",
            "_view_name": "StyleView",
            "bar_color": null,
            "description_width": ""
          }
        },
        "3eae495e262a40e5b805649bb4396085": {
          "model_module": "@jupyter-widgets/base",
          "model_name": "LayoutModel",
          "model_module_version": "1.2.0",
          "state": {
            "_model_module": "@jupyter-widgets/base",
            "_model_module_version": "1.2.0",
            "_model_name": "LayoutModel",
            "_view_count": null,
            "_view_module": "@jupyter-widgets/base",
            "_view_module_version": "1.2.0",
            "_view_name": "LayoutView",
            "align_content": null,
            "align_items": null,
            "align_self": null,
            "border": null,
            "bottom": null,
            "display": null,
            "flex": null,
            "flex_flow": null,
            "grid_area": null,
            "grid_auto_columns": null,
            "grid_auto_flow": null,
            "grid_auto_rows": null,
            "grid_column": null,
            "grid_gap": null,
            "grid_row": null,
            "grid_template_areas": null,
            "grid_template_columns": null,
            "grid_template_rows": null,
            "height": null,
            "justify_content": null,
            "justify_items": null,
            "left": null,
            "margin": null,
            "max_height": null,
            "max_width": null,
            "min_height": null,
            "min_width": null,
            "object_fit": null,
            "object_position": null,
            "order": null,
            "overflow": null,
            "overflow_x": null,
            "overflow_y": null,
            "padding": null,
            "right": null,
            "top": null,
            "visibility": null,
            "width": null
          }
        },
        "6355821c49f24b458e35d612801df42b": {
          "model_module": "@jupyter-widgets/controls",
          "model_name": "DescriptionStyleModel",
          "model_module_version": "1.5.0",
          "state": {
            "_model_module": "@jupyter-widgets/controls",
            "_model_module_version": "1.5.0",
            "_model_name": "DescriptionStyleModel",
            "_view_count": null,
            "_view_module": "@jupyter-widgets/base",
            "_view_module_version": "1.2.0",
            "_view_name": "StyleView",
            "description_width": ""
          }
        },
        "f9eb2a9eb5ab41ce9b1d60904d890b8f": {
          "model_module": "@jupyter-widgets/controls",
          "model_name": "HBoxModel",
          "model_module_version": "1.5.0",
          "state": {
            "_dom_classes": [],
            "_model_module": "@jupyter-widgets/controls",
            "_model_module_version": "1.5.0",
            "_model_name": "HBoxModel",
            "_view_count": null,
            "_view_module": "@jupyter-widgets/controls",
            "_view_module_version": "1.5.0",
            "_view_name": "HBoxView",
            "box_style": "",
            "children": [
              "IPY_MODEL_e85173b497504a799819bd88c15f7416",
              "IPY_MODEL_73d4d7c6d14b48b89477d947be15b7c7",
              "IPY_MODEL_9e720f436a2f4e0b861171e6f7529c47"
            ],
            "layout": "IPY_MODEL_e3675c0d48904a949b49762ca99e119f"
          }
        },
        "e85173b497504a799819bd88c15f7416": {
          "model_module": "@jupyter-widgets/controls",
          "model_name": "HTMLModel",
          "model_module_version": "1.5.0",
          "state": {
            "_dom_classes": [],
            "_model_module": "@jupyter-widgets/controls",
            "_model_module_version": "1.5.0",
            "_model_name": "HTMLModel",
            "_view_count": null,
            "_view_module": "@jupyter-widgets/controls",
            "_view_module_version": "1.5.0",
            "_view_name": "HTMLView",
            "description": "",
            "description_tooltip": null,
            "layout": "IPY_MODEL_db130c41cc80419e84173db32d2d20d3",
            "placeholder": "​",
            "style": "IPY_MODEL_fbee7d178daf42eea2dfe1742c62cfdb",
            "value": "Downloading (…)okenizer_config.json: 100%"
          }
        },
        "73d4d7c6d14b48b89477d947be15b7c7": {
          "model_module": "@jupyter-widgets/controls",
          "model_name": "FloatProgressModel",
          "model_module_version": "1.5.0",
          "state": {
            "_dom_classes": [],
            "_model_module": "@jupyter-widgets/controls",
            "_model_module_version": "1.5.0",
            "_model_name": "FloatProgressModel",
            "_view_count": null,
            "_view_module": "@jupyter-widgets/controls",
            "_view_module_version": "1.5.0",
            "_view_name": "ProgressView",
            "bar_style": "success",
            "description": "",
            "description_tooltip": null,
            "layout": "IPY_MODEL_a7a0cbb6015a43129b29f351c04d28fb",
            "max": 28,
            "min": 0,
            "orientation": "horizontal",
            "style": "IPY_MODEL_89bb213ea3df4b90b6b60110aa32038b",
            "value": 28
          }
        },
        "9e720f436a2f4e0b861171e6f7529c47": {
          "model_module": "@jupyter-widgets/controls",
          "model_name": "HTMLModel",
          "model_module_version": "1.5.0",
          "state": {
            "_dom_classes": [],
            "_model_module": "@jupyter-widgets/controls",
            "_model_module_version": "1.5.0",
            "_model_name": "HTMLModel",
            "_view_count": null,
            "_view_module": "@jupyter-widgets/controls",
            "_view_module_version": "1.5.0",
            "_view_name": "HTMLView",
            "description": "",
            "description_tooltip": null,
            "layout": "IPY_MODEL_5675154633484665889fc4a6652f6ab7",
            "placeholder": "​",
            "style": "IPY_MODEL_ecbb088c7fb143888b6cafebcefdebf6",
            "value": " 28.0/28.0 [00:00&lt;00:00, 977B/s]"
          }
        },
        "e3675c0d48904a949b49762ca99e119f": {
          "model_module": "@jupyter-widgets/base",
          "model_name": "LayoutModel",
          "model_module_version": "1.2.0",
          "state": {
            "_model_module": "@jupyter-widgets/base",
            "_model_module_version": "1.2.0",
            "_model_name": "LayoutModel",
            "_view_count": null,
            "_view_module": "@jupyter-widgets/base",
            "_view_module_version": "1.2.0",
            "_view_name": "LayoutView",
            "align_content": null,
            "align_items": null,
            "align_self": null,
            "border": null,
            "bottom": null,
            "display": null,
            "flex": null,
            "flex_flow": null,
            "grid_area": null,
            "grid_auto_columns": null,
            "grid_auto_flow": null,
            "grid_auto_rows": null,
            "grid_column": null,
            "grid_gap": null,
            "grid_row": null,
            "grid_template_areas": null,
            "grid_template_columns": null,
            "grid_template_rows": null,
            "height": null,
            "justify_content": null,
            "justify_items": null,
            "left": null,
            "margin": null,
            "max_height": null,
            "max_width": null,
            "min_height": null,
            "min_width": null,
            "object_fit": null,
            "object_position": null,
            "order": null,
            "overflow": null,
            "overflow_x": null,
            "overflow_y": null,
            "padding": null,
            "right": null,
            "top": null,
            "visibility": null,
            "width": null
          }
        },
        "db130c41cc80419e84173db32d2d20d3": {
          "model_module": "@jupyter-widgets/base",
          "model_name": "LayoutModel",
          "model_module_version": "1.2.0",
          "state": {
            "_model_module": "@jupyter-widgets/base",
            "_model_module_version": "1.2.0",
            "_model_name": "LayoutModel",
            "_view_count": null,
            "_view_module": "@jupyter-widgets/base",
            "_view_module_version": "1.2.0",
            "_view_name": "LayoutView",
            "align_content": null,
            "align_items": null,
            "align_self": null,
            "border": null,
            "bottom": null,
            "display": null,
            "flex": null,
            "flex_flow": null,
            "grid_area": null,
            "grid_auto_columns": null,
            "grid_auto_flow": null,
            "grid_auto_rows": null,
            "grid_column": null,
            "grid_gap": null,
            "grid_row": null,
            "grid_template_areas": null,
            "grid_template_columns": null,
            "grid_template_rows": null,
            "height": null,
            "justify_content": null,
            "justify_items": null,
            "left": null,
            "margin": null,
            "max_height": null,
            "max_width": null,
            "min_height": null,
            "min_width": null,
            "object_fit": null,
            "object_position": null,
            "order": null,
            "overflow": null,
            "overflow_x": null,
            "overflow_y": null,
            "padding": null,
            "right": null,
            "top": null,
            "visibility": null,
            "width": null
          }
        },
        "fbee7d178daf42eea2dfe1742c62cfdb": {
          "model_module": "@jupyter-widgets/controls",
          "model_name": "DescriptionStyleModel",
          "model_module_version": "1.5.0",
          "state": {
            "_model_module": "@jupyter-widgets/controls",
            "_model_module_version": "1.5.0",
            "_model_name": "DescriptionStyleModel",
            "_view_count": null,
            "_view_module": "@jupyter-widgets/base",
            "_view_module_version": "1.2.0",
            "_view_name": "StyleView",
            "description_width": ""
          }
        },
        "a7a0cbb6015a43129b29f351c04d28fb": {
          "model_module": "@jupyter-widgets/base",
          "model_name": "LayoutModel",
          "model_module_version": "1.2.0",
          "state": {
            "_model_module": "@jupyter-widgets/base",
            "_model_module_version": "1.2.0",
            "_model_name": "LayoutModel",
            "_view_count": null,
            "_view_module": "@jupyter-widgets/base",
            "_view_module_version": "1.2.0",
            "_view_name": "LayoutView",
            "align_content": null,
            "align_items": null,
            "align_self": null,
            "border": null,
            "bottom": null,
            "display": null,
            "flex": null,
            "flex_flow": null,
            "grid_area": null,
            "grid_auto_columns": null,
            "grid_auto_flow": null,
            "grid_auto_rows": null,
            "grid_column": null,
            "grid_gap": null,
            "grid_row": null,
            "grid_template_areas": null,
            "grid_template_columns": null,
            "grid_template_rows": null,
            "height": null,
            "justify_content": null,
            "justify_items": null,
            "left": null,
            "margin": null,
            "max_height": null,
            "max_width": null,
            "min_height": null,
            "min_width": null,
            "object_fit": null,
            "object_position": null,
            "order": null,
            "overflow": null,
            "overflow_x": null,
            "overflow_y": null,
            "padding": null,
            "right": null,
            "top": null,
            "visibility": null,
            "width": null
          }
        },
        "89bb213ea3df4b90b6b60110aa32038b": {
          "model_module": "@jupyter-widgets/controls",
          "model_name": "ProgressStyleModel",
          "model_module_version": "1.5.0",
          "state": {
            "_model_module": "@jupyter-widgets/controls",
            "_model_module_version": "1.5.0",
            "_model_name": "ProgressStyleModel",
            "_view_count": null,
            "_view_module": "@jupyter-widgets/base",
            "_view_module_version": "1.2.0",
            "_view_name": "StyleView",
            "bar_color": null,
            "description_width": ""
          }
        },
        "5675154633484665889fc4a6652f6ab7": {
          "model_module": "@jupyter-widgets/base",
          "model_name": "LayoutModel",
          "model_module_version": "1.2.0",
          "state": {
            "_model_module": "@jupyter-widgets/base",
            "_model_module_version": "1.2.0",
            "_model_name": "LayoutModel",
            "_view_count": null,
            "_view_module": "@jupyter-widgets/base",
            "_view_module_version": "1.2.0",
            "_view_name": "LayoutView",
            "align_content": null,
            "align_items": null,
            "align_self": null,
            "border": null,
            "bottom": null,
            "display": null,
            "flex": null,
            "flex_flow": null,
            "grid_area": null,
            "grid_auto_columns": null,
            "grid_auto_flow": null,
            "grid_auto_rows": null,
            "grid_column": null,
            "grid_gap": null,
            "grid_row": null,
            "grid_template_areas": null,
            "grid_template_columns": null,
            "grid_template_rows": null,
            "height": null,
            "justify_content": null,
            "justify_items": null,
            "left": null,
            "margin": null,
            "max_height": null,
            "max_width": null,
            "min_height": null,
            "min_width": null,
            "object_fit": null,
            "object_position": null,
            "order": null,
            "overflow": null,
            "overflow_x": null,
            "overflow_y": null,
            "padding": null,
            "right": null,
            "top": null,
            "visibility": null,
            "width": null
          }
        },
        "ecbb088c7fb143888b6cafebcefdebf6": {
          "model_module": "@jupyter-widgets/controls",
          "model_name": "DescriptionStyleModel",
          "model_module_version": "1.5.0",
          "state": {
            "_model_module": "@jupyter-widgets/controls",
            "_model_module_version": "1.5.0",
            "_model_name": "DescriptionStyleModel",
            "_view_count": null,
            "_view_module": "@jupyter-widgets/base",
            "_view_module_version": "1.2.0",
            "_view_name": "StyleView",
            "description_width": ""
          }
        },
        "babaffaceb2146c1b4b7e840b6fad2b4": {
          "model_module": "@jupyter-widgets/controls",
          "model_name": "HBoxModel",
          "model_module_version": "1.5.0",
          "state": {
            "_dom_classes": [],
            "_model_module": "@jupyter-widgets/controls",
            "_model_module_version": "1.5.0",
            "_model_name": "HBoxModel",
            "_view_count": null,
            "_view_module": "@jupyter-widgets/controls",
            "_view_module_version": "1.5.0",
            "_view_name": "HBoxView",
            "box_style": "",
            "children": [
              "IPY_MODEL_0aeb3c89964145dabcdbac7f343f5e46",
              "IPY_MODEL_883b359f9bf74fafaa82a2874634c8b4",
              "IPY_MODEL_7c31833801524295bb58c652ecede88a"
            ],
            "layout": "IPY_MODEL_6c64df9c268640679c831f53981eaba0"
          }
        },
        "0aeb3c89964145dabcdbac7f343f5e46": {
          "model_module": "@jupyter-widgets/controls",
          "model_name": "HTMLModel",
          "model_module_version": "1.5.0",
          "state": {
            "_dom_classes": [],
            "_model_module": "@jupyter-widgets/controls",
            "_model_module_version": "1.5.0",
            "_model_name": "HTMLModel",
            "_view_count": null,
            "_view_module": "@jupyter-widgets/controls",
            "_view_module_version": "1.5.0",
            "_view_name": "HTMLView",
            "description": "",
            "description_tooltip": null,
            "layout": "IPY_MODEL_215919ce6d154499a985cdb22e60df81",
            "placeholder": "​",
            "style": "IPY_MODEL_87247c0e657f434983e3b921d9c2f44c",
            "value": "Downloading (…)lve/main/config.json: 100%"
          }
        },
        "883b359f9bf74fafaa82a2874634c8b4": {
          "model_module": "@jupyter-widgets/controls",
          "model_name": "FloatProgressModel",
          "model_module_version": "1.5.0",
          "state": {
            "_dom_classes": [],
            "_model_module": "@jupyter-widgets/controls",
            "_model_module_version": "1.5.0",
            "_model_name": "FloatProgressModel",
            "_view_count": null,
            "_view_module": "@jupyter-widgets/controls",
            "_view_module_version": "1.5.0",
            "_view_name": "ProgressView",
            "bar_style": "success",
            "description": "",
            "description_tooltip": null,
            "layout": "IPY_MODEL_10607fd5cc7b445e822091167d42dbc2",
            "max": 570,
            "min": 0,
            "orientation": "horizontal",
            "style": "IPY_MODEL_657ca71a49104c458753be993fda9dbb",
            "value": 570
          }
        },
        "7c31833801524295bb58c652ecede88a": {
          "model_module": "@jupyter-widgets/controls",
          "model_name": "HTMLModel",
          "model_module_version": "1.5.0",
          "state": {
            "_dom_classes": [],
            "_model_module": "@jupyter-widgets/controls",
            "_model_module_version": "1.5.0",
            "_model_name": "HTMLModel",
            "_view_count": null,
            "_view_module": "@jupyter-widgets/controls",
            "_view_module_version": "1.5.0",
            "_view_name": "HTMLView",
            "description": "",
            "description_tooltip": null,
            "layout": "IPY_MODEL_eefdbbb573a44c75a5bfc8e42bd5365d",
            "placeholder": "​",
            "style": "IPY_MODEL_4306c186fd234b7295b575a4ccfc7001",
            "value": " 570/570 [00:00&lt;00:00, 21.8kB/s]"
          }
        },
        "6c64df9c268640679c831f53981eaba0": {
          "model_module": "@jupyter-widgets/base",
          "model_name": "LayoutModel",
          "model_module_version": "1.2.0",
          "state": {
            "_model_module": "@jupyter-widgets/base",
            "_model_module_version": "1.2.0",
            "_model_name": "LayoutModel",
            "_view_count": null,
            "_view_module": "@jupyter-widgets/base",
            "_view_module_version": "1.2.0",
            "_view_name": "LayoutView",
            "align_content": null,
            "align_items": null,
            "align_self": null,
            "border": null,
            "bottom": null,
            "display": null,
            "flex": null,
            "flex_flow": null,
            "grid_area": null,
            "grid_auto_columns": null,
            "grid_auto_flow": null,
            "grid_auto_rows": null,
            "grid_column": null,
            "grid_gap": null,
            "grid_row": null,
            "grid_template_areas": null,
            "grid_template_columns": null,
            "grid_template_rows": null,
            "height": null,
            "justify_content": null,
            "justify_items": null,
            "left": null,
            "margin": null,
            "max_height": null,
            "max_width": null,
            "min_height": null,
            "min_width": null,
            "object_fit": null,
            "object_position": null,
            "order": null,
            "overflow": null,
            "overflow_x": null,
            "overflow_y": null,
            "padding": null,
            "right": null,
            "top": null,
            "visibility": null,
            "width": null
          }
        },
        "215919ce6d154499a985cdb22e60df81": {
          "model_module": "@jupyter-widgets/base",
          "model_name": "LayoutModel",
          "model_module_version": "1.2.0",
          "state": {
            "_model_module": "@jupyter-widgets/base",
            "_model_module_version": "1.2.0",
            "_model_name": "LayoutModel",
            "_view_count": null,
            "_view_module": "@jupyter-widgets/base",
            "_view_module_version": "1.2.0",
            "_view_name": "LayoutView",
            "align_content": null,
            "align_items": null,
            "align_self": null,
            "border": null,
            "bottom": null,
            "display": null,
            "flex": null,
            "flex_flow": null,
            "grid_area": null,
            "grid_auto_columns": null,
            "grid_auto_flow": null,
            "grid_auto_rows": null,
            "grid_column": null,
            "grid_gap": null,
            "grid_row": null,
            "grid_template_areas": null,
            "grid_template_columns": null,
            "grid_template_rows": null,
            "height": null,
            "justify_content": null,
            "justify_items": null,
            "left": null,
            "margin": null,
            "max_height": null,
            "max_width": null,
            "min_height": null,
            "min_width": null,
            "object_fit": null,
            "object_position": null,
            "order": null,
            "overflow": null,
            "overflow_x": null,
            "overflow_y": null,
            "padding": null,
            "right": null,
            "top": null,
            "visibility": null,
            "width": null
          }
        },
        "87247c0e657f434983e3b921d9c2f44c": {
          "model_module": "@jupyter-widgets/controls",
          "model_name": "DescriptionStyleModel",
          "model_module_version": "1.5.0",
          "state": {
            "_model_module": "@jupyter-widgets/controls",
            "_model_module_version": "1.5.0",
            "_model_name": "DescriptionStyleModel",
            "_view_count": null,
            "_view_module": "@jupyter-widgets/base",
            "_view_module_version": "1.2.0",
            "_view_name": "StyleView",
            "description_width": ""
          }
        },
        "10607fd5cc7b445e822091167d42dbc2": {
          "model_module": "@jupyter-widgets/base",
          "model_name": "LayoutModel",
          "model_module_version": "1.2.0",
          "state": {
            "_model_module": "@jupyter-widgets/base",
            "_model_module_version": "1.2.0",
            "_model_name": "LayoutModel",
            "_view_count": null,
            "_view_module": "@jupyter-widgets/base",
            "_view_module_version": "1.2.0",
            "_view_name": "LayoutView",
            "align_content": null,
            "align_items": null,
            "align_self": null,
            "border": null,
            "bottom": null,
            "display": null,
            "flex": null,
            "flex_flow": null,
            "grid_area": null,
            "grid_auto_columns": null,
            "grid_auto_flow": null,
            "grid_auto_rows": null,
            "grid_column": null,
            "grid_gap": null,
            "grid_row": null,
            "grid_template_areas": null,
            "grid_template_columns": null,
            "grid_template_rows": null,
            "height": null,
            "justify_content": null,
            "justify_items": null,
            "left": null,
            "margin": null,
            "max_height": null,
            "max_width": null,
            "min_height": null,
            "min_width": null,
            "object_fit": null,
            "object_position": null,
            "order": null,
            "overflow": null,
            "overflow_x": null,
            "overflow_y": null,
            "padding": null,
            "right": null,
            "top": null,
            "visibility": null,
            "width": null
          }
        },
        "657ca71a49104c458753be993fda9dbb": {
          "model_module": "@jupyter-widgets/controls",
          "model_name": "ProgressStyleModel",
          "model_module_version": "1.5.0",
          "state": {
            "_model_module": "@jupyter-widgets/controls",
            "_model_module_version": "1.5.0",
            "_model_name": "ProgressStyleModel",
            "_view_count": null,
            "_view_module": "@jupyter-widgets/base",
            "_view_module_version": "1.2.0",
            "_view_name": "StyleView",
            "bar_color": null,
            "description_width": ""
          }
        },
        "eefdbbb573a44c75a5bfc8e42bd5365d": {
          "model_module": "@jupyter-widgets/base",
          "model_name": "LayoutModel",
          "model_module_version": "1.2.0",
          "state": {
            "_model_module": "@jupyter-widgets/base",
            "_model_module_version": "1.2.0",
            "_model_name": "LayoutModel",
            "_view_count": null,
            "_view_module": "@jupyter-widgets/base",
            "_view_module_version": "1.2.0",
            "_view_name": "LayoutView",
            "align_content": null,
            "align_items": null,
            "align_self": null,
            "border": null,
            "bottom": null,
            "display": null,
            "flex": null,
            "flex_flow": null,
            "grid_area": null,
            "grid_auto_columns": null,
            "grid_auto_flow": null,
            "grid_auto_rows": null,
            "grid_column": null,
            "grid_gap": null,
            "grid_row": null,
            "grid_template_areas": null,
            "grid_template_columns": null,
            "grid_template_rows": null,
            "height": null,
            "justify_content": null,
            "justify_items": null,
            "left": null,
            "margin": null,
            "max_height": null,
            "max_width": null,
            "min_height": null,
            "min_width": null,
            "object_fit": null,
            "object_position": null,
            "order": null,
            "overflow": null,
            "overflow_x": null,
            "overflow_y": null,
            "padding": null,
            "right": null,
            "top": null,
            "visibility": null,
            "width": null
          }
        },
        "4306c186fd234b7295b575a4ccfc7001": {
          "model_module": "@jupyter-widgets/controls",
          "model_name": "DescriptionStyleModel",
          "model_module_version": "1.5.0",
          "state": {
            "_model_module": "@jupyter-widgets/controls",
            "_model_module_version": "1.5.0",
            "_model_name": "DescriptionStyleModel",
            "_view_count": null,
            "_view_module": "@jupyter-widgets/base",
            "_view_module_version": "1.2.0",
            "_view_name": "StyleView",
            "description_width": ""
          }
        },
        "7a682231ad2040849855b8fccb320f49": {
          "model_module": "@jupyter-widgets/controls",
          "model_name": "HBoxModel",
          "model_module_version": "1.5.0",
          "state": {
            "_dom_classes": [],
            "_model_module": "@jupyter-widgets/controls",
            "_model_module_version": "1.5.0",
            "_model_name": "HBoxModel",
            "_view_count": null,
            "_view_module": "@jupyter-widgets/controls",
            "_view_module_version": "1.5.0",
            "_view_name": "HBoxView",
            "box_style": "",
            "children": [
              "IPY_MODEL_a36dab3199f34f5eaa8ed1b84985e9ee",
              "IPY_MODEL_037b87145f4b4a40b50781cefa413abe",
              "IPY_MODEL_d8c4aee3de614f37ab67d19435460f11"
            ],
            "layout": "IPY_MODEL_5723a490bcb14df99c87e5be0990aa47"
          }
        },
        "a36dab3199f34f5eaa8ed1b84985e9ee": {
          "model_module": "@jupyter-widgets/controls",
          "model_name": "HTMLModel",
          "model_module_version": "1.5.0",
          "state": {
            "_dom_classes": [],
            "_model_module": "@jupyter-widgets/controls",
            "_model_module_version": "1.5.0",
            "_model_name": "HTMLModel",
            "_view_count": null,
            "_view_module": "@jupyter-widgets/controls",
            "_view_module_version": "1.5.0",
            "_view_name": "HTMLView",
            "description": "",
            "description_tooltip": null,
            "layout": "IPY_MODEL_2d762e2bf53b47bfb3abb31ef1a87520",
            "placeholder": "​",
            "style": "IPY_MODEL_4c30ee1ed2724c4d9c9750120faf2a13",
            "value": "Downloading (…)solve/main/vocab.txt: 100%"
          }
        },
        "037b87145f4b4a40b50781cefa413abe": {
          "model_module": "@jupyter-widgets/controls",
          "model_name": "FloatProgressModel",
          "model_module_version": "1.5.0",
          "state": {
            "_dom_classes": [],
            "_model_module": "@jupyter-widgets/controls",
            "_model_module_version": "1.5.0",
            "_model_name": "FloatProgressModel",
            "_view_count": null,
            "_view_module": "@jupyter-widgets/controls",
            "_view_module_version": "1.5.0",
            "_view_name": "ProgressView",
            "bar_style": "success",
            "description": "",
            "description_tooltip": null,
            "layout": "IPY_MODEL_0f34f671d08b4102b672a610ab070991",
            "max": 231508,
            "min": 0,
            "orientation": "horizontal",
            "style": "IPY_MODEL_804a96570cb248a489ba99ee95760c07",
            "value": 231508
          }
        },
        "d8c4aee3de614f37ab67d19435460f11": {
          "model_module": "@jupyter-widgets/controls",
          "model_name": "HTMLModel",
          "model_module_version": "1.5.0",
          "state": {
            "_dom_classes": [],
            "_model_module": "@jupyter-widgets/controls",
            "_model_module_version": "1.5.0",
            "_model_name": "HTMLModel",
            "_view_count": null,
            "_view_module": "@jupyter-widgets/controls",
            "_view_module_version": "1.5.0",
            "_view_name": "HTMLView",
            "description": "",
            "description_tooltip": null,
            "layout": "IPY_MODEL_6e9b178f3fae47428a79dc109c155cac",
            "placeholder": "​",
            "style": "IPY_MODEL_cd52937a3ef24097b7d7d544bb7bfb77",
            "value": " 232k/232k [00:00&lt;00:00, 2.22MB/s]"
          }
        },
        "5723a490bcb14df99c87e5be0990aa47": {
          "model_module": "@jupyter-widgets/base",
          "model_name": "LayoutModel",
          "model_module_version": "1.2.0",
          "state": {
            "_model_module": "@jupyter-widgets/base",
            "_model_module_version": "1.2.0",
            "_model_name": "LayoutModel",
            "_view_count": null,
            "_view_module": "@jupyter-widgets/base",
            "_view_module_version": "1.2.0",
            "_view_name": "LayoutView",
            "align_content": null,
            "align_items": null,
            "align_self": null,
            "border": null,
            "bottom": null,
            "display": null,
            "flex": null,
            "flex_flow": null,
            "grid_area": null,
            "grid_auto_columns": null,
            "grid_auto_flow": null,
            "grid_auto_rows": null,
            "grid_column": null,
            "grid_gap": null,
            "grid_row": null,
            "grid_template_areas": null,
            "grid_template_columns": null,
            "grid_template_rows": null,
            "height": null,
            "justify_content": null,
            "justify_items": null,
            "left": null,
            "margin": null,
            "max_height": null,
            "max_width": null,
            "min_height": null,
            "min_width": null,
            "object_fit": null,
            "object_position": null,
            "order": null,
            "overflow": null,
            "overflow_x": null,
            "overflow_y": null,
            "padding": null,
            "right": null,
            "top": null,
            "visibility": null,
            "width": null
          }
        },
        "2d762e2bf53b47bfb3abb31ef1a87520": {
          "model_module": "@jupyter-widgets/base",
          "model_name": "LayoutModel",
          "model_module_version": "1.2.0",
          "state": {
            "_model_module": "@jupyter-widgets/base",
            "_model_module_version": "1.2.0",
            "_model_name": "LayoutModel",
            "_view_count": null,
            "_view_module": "@jupyter-widgets/base",
            "_view_module_version": "1.2.0",
            "_view_name": "LayoutView",
            "align_content": null,
            "align_items": null,
            "align_self": null,
            "border": null,
            "bottom": null,
            "display": null,
            "flex": null,
            "flex_flow": null,
            "grid_area": null,
            "grid_auto_columns": null,
            "grid_auto_flow": null,
            "grid_auto_rows": null,
            "grid_column": null,
            "grid_gap": null,
            "grid_row": null,
            "grid_template_areas": null,
            "grid_template_columns": null,
            "grid_template_rows": null,
            "height": null,
            "justify_content": null,
            "justify_items": null,
            "left": null,
            "margin": null,
            "max_height": null,
            "max_width": null,
            "min_height": null,
            "min_width": null,
            "object_fit": null,
            "object_position": null,
            "order": null,
            "overflow": null,
            "overflow_x": null,
            "overflow_y": null,
            "padding": null,
            "right": null,
            "top": null,
            "visibility": null,
            "width": null
          }
        },
        "4c30ee1ed2724c4d9c9750120faf2a13": {
          "model_module": "@jupyter-widgets/controls",
          "model_name": "DescriptionStyleModel",
          "model_module_version": "1.5.0",
          "state": {
            "_model_module": "@jupyter-widgets/controls",
            "_model_module_version": "1.5.0",
            "_model_name": "DescriptionStyleModel",
            "_view_count": null,
            "_view_module": "@jupyter-widgets/base",
            "_view_module_version": "1.2.0",
            "_view_name": "StyleView",
            "description_width": ""
          }
        },
        "0f34f671d08b4102b672a610ab070991": {
          "model_module": "@jupyter-widgets/base",
          "model_name": "LayoutModel",
          "model_module_version": "1.2.0",
          "state": {
            "_model_module": "@jupyter-widgets/base",
            "_model_module_version": "1.2.0",
            "_model_name": "LayoutModel",
            "_view_count": null,
            "_view_module": "@jupyter-widgets/base",
            "_view_module_version": "1.2.0",
            "_view_name": "LayoutView",
            "align_content": null,
            "align_items": null,
            "align_self": null,
            "border": null,
            "bottom": null,
            "display": null,
            "flex": null,
            "flex_flow": null,
            "grid_area": null,
            "grid_auto_columns": null,
            "grid_auto_flow": null,
            "grid_auto_rows": null,
            "grid_column": null,
            "grid_gap": null,
            "grid_row": null,
            "grid_template_areas": null,
            "grid_template_columns": null,
            "grid_template_rows": null,
            "height": null,
            "justify_content": null,
            "justify_items": null,
            "left": null,
            "margin": null,
            "max_height": null,
            "max_width": null,
            "min_height": null,
            "min_width": null,
            "object_fit": null,
            "object_position": null,
            "order": null,
            "overflow": null,
            "overflow_x": null,
            "overflow_y": null,
            "padding": null,
            "right": null,
            "top": null,
            "visibility": null,
            "width": null
          }
        },
        "804a96570cb248a489ba99ee95760c07": {
          "model_module": "@jupyter-widgets/controls",
          "model_name": "ProgressStyleModel",
          "model_module_version": "1.5.0",
          "state": {
            "_model_module": "@jupyter-widgets/controls",
            "_model_module_version": "1.5.0",
            "_model_name": "ProgressStyleModel",
            "_view_count": null,
            "_view_module": "@jupyter-widgets/base",
            "_view_module_version": "1.2.0",
            "_view_name": "StyleView",
            "bar_color": null,
            "description_width": ""
          }
        },
        "6e9b178f3fae47428a79dc109c155cac": {
          "model_module": "@jupyter-widgets/base",
          "model_name": "LayoutModel",
          "model_module_version": "1.2.0",
          "state": {
            "_model_module": "@jupyter-widgets/base",
            "_model_module_version": "1.2.0",
            "_model_name": "LayoutModel",
            "_view_count": null,
            "_view_module": "@jupyter-widgets/base",
            "_view_module_version": "1.2.0",
            "_view_name": "LayoutView",
            "align_content": null,
            "align_items": null,
            "align_self": null,
            "border": null,
            "bottom": null,
            "display": null,
            "flex": null,
            "flex_flow": null,
            "grid_area": null,
            "grid_auto_columns": null,
            "grid_auto_flow": null,
            "grid_auto_rows": null,
            "grid_column": null,
            "grid_gap": null,
            "grid_row": null,
            "grid_template_areas": null,
            "grid_template_columns": null,
            "grid_template_rows": null,
            "height": null,
            "justify_content": null,
            "justify_items": null,
            "left": null,
            "margin": null,
            "max_height": null,
            "max_width": null,
            "min_height": null,
            "min_width": null,
            "object_fit": null,
            "object_position": null,
            "order": null,
            "overflow": null,
            "overflow_x": null,
            "overflow_y": null,
            "padding": null,
            "right": null,
            "top": null,
            "visibility": null,
            "width": null
          }
        },
        "cd52937a3ef24097b7d7d544bb7bfb77": {
          "model_module": "@jupyter-widgets/controls",
          "model_name": "DescriptionStyleModel",
          "model_module_version": "1.5.0",
          "state": {
            "_model_module": "@jupyter-widgets/controls",
            "_model_module_version": "1.5.0",
            "_model_name": "DescriptionStyleModel",
            "_view_count": null,
            "_view_module": "@jupyter-widgets/base",
            "_view_module_version": "1.2.0",
            "_view_name": "StyleView",
            "description_width": ""
          }
        },
        "dec083f80f1e4ee3b60c2a97354c46cb": {
          "model_module": "@jupyter-widgets/controls",
          "model_name": "HBoxModel",
          "model_module_version": "1.5.0",
          "state": {
            "_dom_classes": [],
            "_model_module": "@jupyter-widgets/controls",
            "_model_module_version": "1.5.0",
            "_model_name": "HBoxModel",
            "_view_count": null,
            "_view_module": "@jupyter-widgets/controls",
            "_view_module_version": "1.5.0",
            "_view_name": "HBoxView",
            "box_style": "",
            "children": [
              "IPY_MODEL_c661204e03954488bfb9e17ded289dc4",
              "IPY_MODEL_ba3c0b1729f44ae1967d5311c5f96371",
              "IPY_MODEL_5a44510975dd4a8a9cdddec773f6704c"
            ],
            "layout": "IPY_MODEL_b3d4fdec8278494a8a970d74e6a5e6cf"
          }
        },
        "c661204e03954488bfb9e17ded289dc4": {
          "model_module": "@jupyter-widgets/controls",
          "model_name": "HTMLModel",
          "model_module_version": "1.5.0",
          "state": {
            "_dom_classes": [],
            "_model_module": "@jupyter-widgets/controls",
            "_model_module_version": "1.5.0",
            "_model_name": "HTMLModel",
            "_view_count": null,
            "_view_module": "@jupyter-widgets/controls",
            "_view_module_version": "1.5.0",
            "_view_name": "HTMLView",
            "description": "",
            "description_tooltip": null,
            "layout": "IPY_MODEL_56dddb39113a46b1befe540d7e058872",
            "placeholder": "​",
            "style": "IPY_MODEL_f50bf2e14ceb4a209cb6a351d6c3363d",
            "value": "Downloading model.safetensors: 100%"
          }
        },
        "ba3c0b1729f44ae1967d5311c5f96371": {
          "model_module": "@jupyter-widgets/controls",
          "model_name": "FloatProgressModel",
          "model_module_version": "1.5.0",
          "state": {
            "_dom_classes": [],
            "_model_module": "@jupyter-widgets/controls",
            "_model_module_version": "1.5.0",
            "_model_name": "FloatProgressModel",
            "_view_count": null,
            "_view_module": "@jupyter-widgets/controls",
            "_view_module_version": "1.5.0",
            "_view_name": "ProgressView",
            "bar_style": "success",
            "description": "",
            "description_tooltip": null,
            "layout": "IPY_MODEL_7d88a325d77b4ade98ee9f3f49a7260c",
            "max": 440449768,
            "min": 0,
            "orientation": "horizontal",
            "style": "IPY_MODEL_69a2c069f28f47a2a780767a531dc279",
            "value": 440449768
          }
        },
        "5a44510975dd4a8a9cdddec773f6704c": {
          "model_module": "@jupyter-widgets/controls",
          "model_name": "HTMLModel",
          "model_module_version": "1.5.0",
          "state": {
            "_dom_classes": [],
            "_model_module": "@jupyter-widgets/controls",
            "_model_module_version": "1.5.0",
            "_model_name": "HTMLModel",
            "_view_count": null,
            "_view_module": "@jupyter-widgets/controls",
            "_view_module_version": "1.5.0",
            "_view_name": "HTMLView",
            "description": "",
            "description_tooltip": null,
            "layout": "IPY_MODEL_0e94d82cdb0d4e71b4e91ac535bdd7c7",
            "placeholder": "​",
            "style": "IPY_MODEL_e7a77ffb1ec2496ba8cf7034ada05326",
            "value": " 440M/440M [00:05&lt;00:00, 76.9MB/s]"
          }
        },
        "b3d4fdec8278494a8a970d74e6a5e6cf": {
          "model_module": "@jupyter-widgets/base",
          "model_name": "LayoutModel",
          "model_module_version": "1.2.0",
          "state": {
            "_model_module": "@jupyter-widgets/base",
            "_model_module_version": "1.2.0",
            "_model_name": "LayoutModel",
            "_view_count": null,
            "_view_module": "@jupyter-widgets/base",
            "_view_module_version": "1.2.0",
            "_view_name": "LayoutView",
            "align_content": null,
            "align_items": null,
            "align_self": null,
            "border": null,
            "bottom": null,
            "display": null,
            "flex": null,
            "flex_flow": null,
            "grid_area": null,
            "grid_auto_columns": null,
            "grid_auto_flow": null,
            "grid_auto_rows": null,
            "grid_column": null,
            "grid_gap": null,
            "grid_row": null,
            "grid_template_areas": null,
            "grid_template_columns": null,
            "grid_template_rows": null,
            "height": null,
            "justify_content": null,
            "justify_items": null,
            "left": null,
            "margin": null,
            "max_height": null,
            "max_width": null,
            "min_height": null,
            "min_width": null,
            "object_fit": null,
            "object_position": null,
            "order": null,
            "overflow": null,
            "overflow_x": null,
            "overflow_y": null,
            "padding": null,
            "right": null,
            "top": null,
            "visibility": null,
            "width": null
          }
        },
        "56dddb39113a46b1befe540d7e058872": {
          "model_module": "@jupyter-widgets/base",
          "model_name": "LayoutModel",
          "model_module_version": "1.2.0",
          "state": {
            "_model_module": "@jupyter-widgets/base",
            "_model_module_version": "1.2.0",
            "_model_name": "LayoutModel",
            "_view_count": null,
            "_view_module": "@jupyter-widgets/base",
            "_view_module_version": "1.2.0",
            "_view_name": "LayoutView",
            "align_content": null,
            "align_items": null,
            "align_self": null,
            "border": null,
            "bottom": null,
            "display": null,
            "flex": null,
            "flex_flow": null,
            "grid_area": null,
            "grid_auto_columns": null,
            "grid_auto_flow": null,
            "grid_auto_rows": null,
            "grid_column": null,
            "grid_gap": null,
            "grid_row": null,
            "grid_template_areas": null,
            "grid_template_columns": null,
            "grid_template_rows": null,
            "height": null,
            "justify_content": null,
            "justify_items": null,
            "left": null,
            "margin": null,
            "max_height": null,
            "max_width": null,
            "min_height": null,
            "min_width": null,
            "object_fit": null,
            "object_position": null,
            "order": null,
            "overflow": null,
            "overflow_x": null,
            "overflow_y": null,
            "padding": null,
            "right": null,
            "top": null,
            "visibility": null,
            "width": null
          }
        },
        "f50bf2e14ceb4a209cb6a351d6c3363d": {
          "model_module": "@jupyter-widgets/controls",
          "model_name": "DescriptionStyleModel",
          "model_module_version": "1.5.0",
          "state": {
            "_model_module": "@jupyter-widgets/controls",
            "_model_module_version": "1.5.0",
            "_model_name": "DescriptionStyleModel",
            "_view_count": null,
            "_view_module": "@jupyter-widgets/base",
            "_view_module_version": "1.2.0",
            "_view_name": "StyleView",
            "description_width": ""
          }
        },
        "7d88a325d77b4ade98ee9f3f49a7260c": {
          "model_module": "@jupyter-widgets/base",
          "model_name": "LayoutModel",
          "model_module_version": "1.2.0",
          "state": {
            "_model_module": "@jupyter-widgets/base",
            "_model_module_version": "1.2.0",
            "_model_name": "LayoutModel",
            "_view_count": null,
            "_view_module": "@jupyter-widgets/base",
            "_view_module_version": "1.2.0",
            "_view_name": "LayoutView",
            "align_content": null,
            "align_items": null,
            "align_self": null,
            "border": null,
            "bottom": null,
            "display": null,
            "flex": null,
            "flex_flow": null,
            "grid_area": null,
            "grid_auto_columns": null,
            "grid_auto_flow": null,
            "grid_auto_rows": null,
            "grid_column": null,
            "grid_gap": null,
            "grid_row": null,
            "grid_template_areas": null,
            "grid_template_columns": null,
            "grid_template_rows": null,
            "height": null,
            "justify_content": null,
            "justify_items": null,
            "left": null,
            "margin": null,
            "max_height": null,
            "max_width": null,
            "min_height": null,
            "min_width": null,
            "object_fit": null,
            "object_position": null,
            "order": null,
            "overflow": null,
            "overflow_x": null,
            "overflow_y": null,
            "padding": null,
            "right": null,
            "top": null,
            "visibility": null,
            "width": null
          }
        },
        "69a2c069f28f47a2a780767a531dc279": {
          "model_module": "@jupyter-widgets/controls",
          "model_name": "ProgressStyleModel",
          "model_module_version": "1.5.0",
          "state": {
            "_model_module": "@jupyter-widgets/controls",
            "_model_module_version": "1.5.0",
            "_model_name": "ProgressStyleModel",
            "_view_count": null,
            "_view_module": "@jupyter-widgets/base",
            "_view_module_version": "1.2.0",
            "_view_name": "StyleView",
            "bar_color": null,
            "description_width": ""
          }
        },
        "0e94d82cdb0d4e71b4e91ac535bdd7c7": {
          "model_module": "@jupyter-widgets/base",
          "model_name": "LayoutModel",
          "model_module_version": "1.2.0",
          "state": {
            "_model_module": "@jupyter-widgets/base",
            "_model_module_version": "1.2.0",
            "_model_name": "LayoutModel",
            "_view_count": null,
            "_view_module": "@jupyter-widgets/base",
            "_view_module_version": "1.2.0",
            "_view_name": "LayoutView",
            "align_content": null,
            "align_items": null,
            "align_self": null,
            "border": null,
            "bottom": null,
            "display": null,
            "flex": null,
            "flex_flow": null,
            "grid_area": null,
            "grid_auto_columns": null,
            "grid_auto_flow": null,
            "grid_auto_rows": null,
            "grid_column": null,
            "grid_gap": null,
            "grid_row": null,
            "grid_template_areas": null,
            "grid_template_columns": null,
            "grid_template_rows": null,
            "height": null,
            "justify_content": null,
            "justify_items": null,
            "left": null,
            "margin": null,
            "max_height": null,
            "max_width": null,
            "min_height": null,
            "min_width": null,
            "object_fit": null,
            "object_position": null,
            "order": null,
            "overflow": null,
            "overflow_x": null,
            "overflow_y": null,
            "padding": null,
            "right": null,
            "top": null,
            "visibility": null,
            "width": null
          }
        },
        "e7a77ffb1ec2496ba8cf7034ada05326": {
          "model_module": "@jupyter-widgets/controls",
          "model_name": "DescriptionStyleModel",
          "model_module_version": "1.5.0",
          "state": {
            "_model_module": "@jupyter-widgets/controls",
            "_model_module_version": "1.5.0",
            "_model_name": "DescriptionStyleModel",
            "_view_count": null,
            "_view_module": "@jupyter-widgets/base",
            "_view_module_version": "1.2.0",
            "_view_name": "StyleView",
            "description_width": ""
          }
        }
      }
    }
  },
  "nbformat": 4,
  "nbformat_minor": 0
}